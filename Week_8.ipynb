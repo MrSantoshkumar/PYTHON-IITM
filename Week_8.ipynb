{
  "nbformat": 4,
  "nbformat_minor": 0,
  "metadata": {
    "colab": {
      "provenance": [],
      "authorship_tag": "ABX9TyNAsOH+Z4oIpNBTLyDDOKn9",
      "include_colab_link": true
    },
    "kernelspec": {
      "name": "python3",
      "display_name": "Python 3"
    },
    "language_info": {
      "name": "python"
    }
  },
  "cells": [
    {
      "cell_type": "markdown",
      "metadata": {
        "id": "view-in-github",
        "colab_type": "text"
      },
      "source": [
        "<a href=\"https://colab.research.google.com/github/MrSantoshkumar/PYTHON-IITM/blob/main/Week_8.ipynb\" target=\"_parent\"><img src=\"https://colab.research.google.com/assets/colab-badge.svg\" alt=\"Open In Colab\"/></a>"
      ]
    },
    {
      "cell_type": "markdown",
      "source": [
        "# L8.1  |  Introduction to the week and introduction to recurtion"
      ],
      "metadata": {
        "id": "Fi9JZ_Wa9TMq"
      }
    },
    {
      "cell_type": "code",
      "execution_count": null,
      "metadata": {
        "id": "ilU-KQE88vNz"
      },
      "outputs": [],
      "source": []
    },
    {
      "cell_type": "markdown",
      "source": [
        "# L8.2 | Recurtion: a simple question"
      ],
      "metadata": {
        "id": "Hw4Dw-YM-sZZ"
      }
    },
    {
      "cell_type": "code",
      "source": [],
      "metadata": {
        "id": "nvbPuRQs-82B"
      },
      "execution_count": null,
      "outputs": []
    },
    {
      "cell_type": "markdown",
      "source": [
        "# L8.3 | Recurtion: find 0 in a list"
      ],
      "metadata": {
        "id": "EEFkv8foA4bB"
      }
    },
    {
      "cell_type": "code",
      "source": [
        " '''this is a piece of code to check if a given list has 0 in it or not . If it has ' zero ' in it ,\n",
        "return true(1), otherwise we return false(0)'''\n",
        "\n",
        "\n",
        "def check0(L):\n",
        "    # if the list is empty , return False\n",
        "    if(len(L)==0):\n",
        "       return 0\n",
        "    if(L[0]==0):\n",
        "      # if the first element is zero then return l.true\n",
        "      return 1\n",
        "    else:\n",
        "      return check0(L[1:len(L)])\n",
        "      # the above code simply outsources. L[1:len(L)]\n",
        "\n",
        "ans = check0([1,2,0,4,5,10,8,7,3])\n",
        "print(ans)\n",
        "\n",
        "# '''please note ,this is not an efficient code, we will see this later '''"
      ],
      "metadata": {
        "colab": {
          "base_uri": "https://localhost:8080/"
        },
        "id": "_Qstf7dLBHv5",
        "outputId": "87934fac-3e99-4ec8-b78b-cfb52b967a0c"
      },
      "execution_count": null,
      "outputs": [
        {
          "output_type": "stream",
          "name": "stdout",
          "text": [
            "1\n"
          ]
        }
      ]
    },
    {
      "cell_type": "markdown",
      "source": [
        "# L8.4| Sorting Recursively"
      ],
      "metadata": {
        "id": "zYKzrl4RJub6"
      }
    },
    {
      "cell_type": "code",
      "source": [
        "def mini(L):\n",
        "    '''find the minimum element in the list L '''\n",
        "    mini=L[0]\n",
        "    for x in L:\n",
        "        if(x<mini):\n",
        "           mini=x\n",
        "    return mini\n",
        "\n",
        "def Sort(L):\n",
        "    '''recursively sort the list L'''\n",
        "    if (L==[]) or (len(L)==1) :\n",
        "       return L\n",
        "      #if the list is empty , there is nothing to sort\n",
        "\n",
        "    m=mini(L)\n",
        "    #m now contains the minimum most element in L\n",
        "    L.remove(m)\n",
        "    #we remove that element from L\n",
        "    return  [m]+Sort(L)\n",
        "    #we recursively sort the smaller list.\n",
        "L=[5,6,59,19,2,1,3]\n",
        "print(Sort(L))\n"
      ],
      "metadata": {
        "colab": {
          "base_uri": "https://localhost:8080/"
        },
        "id": "clekZ466J-CS",
        "outputId": "4a8b8b38-add3-4268-93ae-91a00a6d443d"
      },
      "execution_count": null,
      "outputs": [
        {
          "output_type": "stream",
          "name": "stdout",
          "text": [
            "[1, 2, 3, 5, 6, 19, 59]\n"
          ]
        }
      ]
    },
    {
      "cell_type": "markdown",
      "source": [
        "# L8.5 |  Introduction to Binary Search"
      ],
      "metadata": {
        "id": "4k_W2ug8eMWL"
      }
    },
    {
      "cell_type": "code",
      "source": [],
      "metadata": {
        "id": "86gmLnbQeeS6"
      },
      "execution_count": null,
      "outputs": []
    },
    {
      "cell_type": "markdown",
      "source": [
        "# L8.6 | Warm up for Binary Search"
      ],
      "metadata": {
        "id": "V_JtrAoVM02y"
      }
    },
    {
      "cell_type": "code",
      "source": [
        "'''Check if a given element k is present in a list L or not'''\n",
        "\n",
        "def obvious_search(L,K):\n",
        "    for x in L:\n",
        "       if x==K:\n",
        "          return 1\n",
        "    return 0\n",
        "    #code verified .working fine.\n",
        "\n",
        "L=list(range(100))\n",
        "print(L)\n",
        "print(obvious_search(L,20))"
      ],
      "metadata": {
        "colab": {
          "base_uri": "https://localhost:8080/"
        },
        "id": "bKoMlyG9PL8Q",
        "outputId": "27af7605-e381-4f66-d701-28078ae5ab99"
      },
      "execution_count": null,
      "outputs": [
        {
          "output_type": "stream",
          "name": "stdout",
          "text": [
            "[0, 1, 2, 3, 4, 5, 6, 7, 8, 9, 10, 11, 12, 13, 14, 15, 16, 17, 18, 19, 20, 21, 22, 23, 24, 25, 26, 27, 28, 29, 30, 31, 32, 33, 34, 35, 36, 37, 38, 39, 40, 41, 42, 43, 44, 45, 46, 47, 48, 49, 50, 51, 52, 53, 54, 55, 56, 57, 58, 59, 60, 61, 62, 63, 64, 65, 66, 67, 68, 69, 70, 71, 72, 73, 74, 75, 76, 77, 78, 79, 80, 81, 82, 83, 84, 85, 86, 87, 88, 89, 90, 91, 92, 93, 94, 95, 96, 97, 98, 99]\n",
            "1\n"
          ]
        }
      ]
    },
    {
      "cell_type": "code",
      "source": [
        "s=0\n",
        "for i in range(100):\n",
        "   s=s+i\n",
        "print(s)"
      ],
      "metadata": {
        "colab": {
          "base_uri": "https://localhost:8080/"
        },
        "id": "UJjDoET0VYI6",
        "outputId": "176361ed-8776-4fe4-b1ea-27686871ca95"
      },
      "execution_count": null,
      "outputs": [
        {
          "output_type": "stream",
          "name": "stdout",
          "text": [
            "4950\n"
          ]
        }
      ]
    },
    {
      "cell_type": "code",
      "source": [
        "def sum(n):\n",
        "     ans=0\n",
        "     for i in range(n):\n",
        "         ans=ans+i\n",
        "     return ans\n"
      ],
      "metadata": {
        "id": "P9MjuTNDVxuy"
      },
      "execution_count": null,
      "outputs": []
    },
    {
      "cell_type": "code",
      "source": [
        "print(sum(100))"
      ],
      "metadata": {
        "colab": {
          "base_uri": "https://localhost:8080/"
        },
        "id": "XjWEe9w-XLyT",
        "outputId": "7b391cd7-2669-4665-f8e1-30419145f890"
      },
      "execution_count": null,
      "outputs": [
        {
          "output_type": "stream",
          "name": "stdout",
          "text": [
            "4950\n"
          ]
        }
      ]
    },
    {
      "cell_type": "code",
      "source": [
        "import time\n",
        "time.time()"
      ],
      "metadata": {
        "colab": {
          "base_uri": "https://localhost:8080/"
        },
        "id": "MAdDinpNYO70",
        "outputId": "2a7a0c8d-e134-495c-be7e-bd2697e830ae"
      },
      "execution_count": null,
      "outputs": [
        {
          "output_type": "execute_result",
          "data": {
            "text/plain": [
              "1714671417.5902925"
            ]
          },
          "metadata": {},
          "execution_count": 14
        }
      ]
    },
    {
      "cell_type": "code",
      "source": [
        "time.time()"
      ],
      "metadata": {
        "colab": {
          "base_uri": "https://localhost:8080/"
        },
        "id": "deJWQCbtYYOb",
        "outputId": "f35d4817-acd7-4490-ce48-f4a7c5de0baf"
      },
      "execution_count": null,
      "outputs": [
        {
          "output_type": "execute_result",
          "data": {
            "text/plain": [
              "1714671434.5653603"
            ]
          },
          "metadata": {},
          "execution_count": 15
        }
      ]
    },
    {
      "cell_type": "code",
      "source": [
        "time.time?"
      ],
      "metadata": {
        "id": "BVb2HtmNYhrU"
      },
      "execution_count": null,
      "outputs": []
    },
    {
      "cell_type": "code",
      "source": [
        "time.time()"
      ],
      "metadata": {
        "colab": {
          "base_uri": "https://localhost:8080/"
        },
        "id": "bdKxQYirYquT",
        "outputId": "da4b25d9-adfb-4ae3-b0e4-8fa0fa79b811"
      },
      "execution_count": null,
      "outputs": [
        {
          "output_type": "execute_result",
          "data": {
            "text/plain": [
              "1714671553.9791303"
            ]
          },
          "metadata": {},
          "execution_count": 17
        }
      ]
    },
    {
      "cell_type": "code",
      "source": [
        "a=time.time()\n"
      ],
      "metadata": {
        "id": "aGnsD8rYY5aU"
      },
      "execution_count": null,
      "outputs": []
    },
    {
      "cell_type": "code",
      "source": [
        "b=time.time()"
      ],
      "metadata": {
        "id": "OhriPDITZCcs"
      },
      "execution_count": null,
      "outputs": []
    },
    {
      "cell_type": "code",
      "source": [
        "a-b"
      ],
      "metadata": {
        "colab": {
          "base_uri": "https://localhost:8080/"
        },
        "id": "EttGjYCmZGdj",
        "outputId": "c3f11ed1-bd34-4e54-e1e9-3f86dd58241b"
      },
      "execution_count": null,
      "outputs": [
        {
          "output_type": "execute_result",
          "data": {
            "text/plain": [
              "-16.867213487625122"
            ]
          },
          "metadata": {},
          "execution_count": 20
        }
      ]
    },
    {
      "cell_type": "code",
      "source": [
        "b-a"
      ],
      "metadata": {
        "colab": {
          "base_uri": "https://localhost:8080/"
        },
        "id": "RM99HtCaZLEj",
        "outputId": "0a33e0bc-0749-457c-aa19-80b4c496c49a"
      },
      "execution_count": null,
      "outputs": [
        {
          "output_type": "execute_result",
          "data": {
            "text/plain": [
              "16.867213487625122"
            ]
          },
          "metadata": {},
          "execution_count": 21
        }
      ]
    },
    {
      "cell_type": "code",
      "source": [
        "a=time.time();print(sum(100));b=time.time()"
      ],
      "metadata": {
        "colab": {
          "base_uri": "https://localhost:8080/"
        },
        "id": "r3hutZnUZWHE",
        "outputId": "41664870-86a5-434b-ac69-3bbf051bfbf1"
      },
      "execution_count": null,
      "outputs": [
        {
          "output_type": "stream",
          "name": "stdout",
          "text": [
            "4950\n"
          ]
        }
      ]
    },
    {
      "cell_type": "code",
      "source": [
        "b-a"
      ],
      "metadata": {
        "colab": {
          "base_uri": "https://localhost:8080/"
        },
        "id": "gOhO2I4lZoUT",
        "outputId": "807c9a44-9321-414e-92fc-24ab6d601345"
      },
      "execution_count": null,
      "outputs": [
        {
          "output_type": "execute_result",
          "data": {
            "text/plain": [
              "0.0011878013610839844"
            ]
          },
          "metadata": {},
          "execution_count": 23
        }
      ]
    },
    {
      "cell_type": "code",
      "source": [
        "a=time.time();print(sum(100));b=time.time();print(b-a)"
      ],
      "metadata": {
        "id": "4s00rZmaZxx7"
      },
      "execution_count": null,
      "outputs": []
    },
    {
      "cell_type": "code",
      "source": [
        "a=time.time();print(sum(1000000));b=time.time();print(b-a)"
      ],
      "metadata": {
        "colab": {
          "base_uri": "https://localhost:8080/"
        },
        "outputId": "61fb0009-44f6-4e7b-de9c-58640c2d0479",
        "id": "DcoWi9JiaHxM"
      },
      "execution_count": null,
      "outputs": [
        {
          "output_type": "stream",
          "name": "stdout",
          "text": [
            "499999500000\n",
            "0.07332110404968262\n"
          ]
        }
      ]
    },
    {
      "cell_type": "code",
      "source": [
        "int(10/3)"
      ],
      "metadata": {
        "colab": {
          "base_uri": "https://localhost:8080/"
        },
        "id": "yUlUIUGSaogN",
        "outputId": "1cd2ebcb-8cb7-4054-b4a4-d9adabfe0367"
      },
      "execution_count": null,
      "outputs": [
        {
          "output_type": "execute_result",
          "data": {
            "text/plain": [
              "3"
            ]
          },
          "metadata": {},
          "execution_count": 32
        }
      ]
    },
    {
      "cell_type": "code",
      "source": [
        "10//3"
      ],
      "metadata": {
        "colab": {
          "base_uri": "https://localhost:8080/"
        },
        "id": "akJV1knvaxvc",
        "outputId": "61e43d81-9d5c-454f-eeb6-a946df120a57"
      },
      "execution_count": null,
      "outputs": [
        {
          "output_type": "execute_result",
          "data": {
            "text/plain": [
              "3"
            ]
          },
          "metadata": {},
          "execution_count": 33
        }
      ]
    },
    {
      "cell_type": "code",
      "source": [
        "l=[0,1,2,3,4,5,6,7,8,9]\n",
        "len(l)\n",
        "begin=0\n",
        "end=9\n",
        "(begin+end)//2"
      ],
      "metadata": {
        "colab": {
          "base_uri": "https://localhost:8080/"
        },
        "id": "NA1tzDoYa1gk",
        "outputId": "b44b1f1f-f629-486f-81b1-26c77aa83233"
      },
      "execution_count": null,
      "outputs": [
        {
          "output_type": "execute_result",
          "data": {
            "text/plain": [
              "4"
            ]
          },
          "metadata": {},
          "execution_count": 38
        }
      ]
    },
    {
      "cell_type": "code",
      "source": [
        "l=[0,1,2,3,4,5,6,7,8,9,10]\n",
        "len(l)\n",
        "begin=0\n",
        "end=10\n",
        "(begin+end)//2  # gives us the mid point of the list starting from begin and ending in end"
      ],
      "metadata": {
        "colab": {
          "base_uri": "https://localhost:8080/"
        },
        "outputId": "45670be5-3fa3-4a61-dded-d5e491ee2cb5",
        "id": "gdtMKNOObpNM"
      },
      "execution_count": null,
      "outputs": [
        {
          "output_type": "execute_result",
          "data": {
            "text/plain": [
              "5"
            ]
          },
          "metadata": {},
          "execution_count": 40
        }
      ]
    },
    {
      "cell_type": "code",
      "source": [],
      "metadata": {
        "id": "OEzS1tZHcokd"
      },
      "execution_count": null,
      "outputs": []
    },
    {
      "cell_type": "code",
      "source": [
        "l=[0,1,2,3,4,5,6,7,8,9]\n",
        "len(l)\n",
        "begin=3\n",
        "end=8\n",
        "(begin+end)//2"
      ],
      "metadata": {
        "colab": {
          "base_uri": "https://localhost:8080/"
        },
        "outputId": "f949f15f-acdc-4996-b94c-a210214136c8",
        "id": "MtAnfQA6cpXU"
      },
      "execution_count": null,
      "outputs": [
        {
          "output_type": "execute_result",
          "data": {
            "text/plain": [
              "5"
            ]
          },
          "metadata": {},
          "execution_count": 41
        }
      ]
    },
    {
      "cell_type": "code",
      "source": [],
      "metadata": {
        "id": "Da9CKHjKeEnl"
      },
      "execution_count": null,
      "outputs": []
    },
    {
      "cell_type": "code",
      "source": [
        "import time\n",
        "a=time.time();print(obvious_search(L,90));b=time.time();print(b-a)"
      ],
      "metadata": {
        "colab": {
          "base_uri": "https://localhost:8080/"
        },
        "id": "IDhT-tvbeFQ-",
        "outputId": "acc10244-41ab-4c64-d8d9-82603a742cc0"
      },
      "execution_count": null,
      "outputs": [
        {
          "output_type": "stream",
          "name": "stdout",
          "text": [
            "1\n",
            "0.00018858909606933594\n"
          ]
        }
      ]
    },
    {
      "cell_type": "code",
      "source": [
        "L=list(range(100000000))"
      ],
      "metadata": {
        "id": "RCZEp6Ede7nl"
      },
      "execution_count": null,
      "outputs": []
    },
    {
      "cell_type": "code",
      "source": [
        "import time\n",
        "a=time.time();print(obvious_search(L,99999999));b=time.time();print(b-a)"
      ],
      "metadata": {
        "colab": {
          "base_uri": "https://localhost:8080/"
        },
        "outputId": "2de450a8-1901-4ad4-d843-ebd8e73d36ae",
        "id": "QIj6-uMee5bE"
      },
      "execution_count": null,
      "outputs": [
        {
          "output_type": "stream",
          "name": "stdout",
          "text": [
            "1\n",
            "4.303697347640991\n"
          ]
        }
      ]
    },
    {
      "cell_type": "code",
      "source": [
        "import time\n",
        "a=time.time();print(obvious_search(L,9));b=time.time();print(b-a)"
      ],
      "metadata": {
        "colab": {
          "base_uri": "https://localhost:8080/"
        },
        "outputId": "86004187-133e-4c42-9f24-e8982c9798aa",
        "id": "6izeBhUEfuNe"
      },
      "execution_count": null,
      "outputs": [
        {
          "output_type": "stream",
          "name": "stdout",
          "text": [
            "1\n",
            "0.002125263214111328\n"
          ]
        }
      ]
    },
    {
      "cell_type": "code",
      "source": [
        "''' A question: Can we write a piece of code that searches\n",
        "  for a given element in the list L faster than the abvious\n",
        "  algorithm.Given above '''"
      ],
      "metadata": {
        "id": "hmtB_PxngRaG"
      },
      "execution_count": null,
      "outputs": []
    },
    {
      "cell_type": "markdown",
      "source": [
        "# L8.7 |  Binary Search Implimentation"
      ],
      "metadata": {
        "id": "traRnVCxhFem"
      }
    },
    {
      "cell_type": "code",
      "source": [],
      "metadata": {
        "id": "pxXQgtUxhfj_"
      },
      "execution_count": null,
      "outputs": []
    },
    {
      "cell_type": "code",
      "source": [
        "'''Check if a given element k is present in a list L or not'''\n",
        "\n",
        "def obvious_search(L,k):\n",
        "    for x in L:\n",
        "       if x==k:\n",
        "          return 1\n",
        "    return 0\n",
        "    #code verified .working fine."
      ],
      "metadata": {
        "id": "GWNzD3WAwdXF"
      },
      "execution_count": null,
      "outputs": []
    },
    {
      "cell_type": "code",
      "source": [
        "def binary_search(L,k):\n",
        "    '''This function is an alternative for the obvious search.\n",
        "    it does exactly what is expected from the obvious_search,\n",
        "    but in a more efficient way.This method is  popularly called binary search '''\n",
        "    #We want to shrink my list\n",
        "    #we wil do that using a while loop.\n",
        "\n",
        "    begin=0 # first element in L.L[0]\n",
        "    end=len(L)-1 #the last element in L is in len(L).L[len(L)-1]\n",
        "\n",
        "    #Using a while loop to look at the list and keep halving it.\n",
        "    while(end-begin>0):\n",
        "        #we will handle the case when the number of element is less or equal to 1\n",
        "        #equal to 1\n",
        "\n",
        "        #Compute the mid which is the mid point of begin to end\n",
        "        mid=(begin+end)//2\n",
        "        #if mid is indeed k, then we return True and stop the code.\n",
        "        if(L[mid]==k):\n",
        "          return 1\n",
        "\n",
        "        #if the middle element is greater than k , then cut the right side and\n",
        "        #retain the side.\n",
        "        if(L[mid]>k):\n",
        "            end=mid-1\n",
        "\n",
        "         #if the middle element is less than k,then cut the left side and retain the right side.\n",
        "        if(L[mid]<k):\n",
        "            begin=mid+1\n",
        "     #This is outside the while loop.If we are here, it means that we\n",
        "     #have not found the element. Also , if we are here , it means that the\n",
        "     #while condition is violated . Which means end-begin is less than or\n",
        "     #equal to 1\n",
        "\n",
        "     # if it is equal to 1 , then there is exactly 2 elements\n",
        "    if(L[begin]==k) or (L[end]==k):\n",
        "        return 1\n",
        "    else:\n",
        "        return 0\n",
        "\n",
        "\n",
        "\n",
        "\n"
      ],
      "metadata": {
        "id": "yu1rqGxZwqST"
      },
      "execution_count": null,
      "outputs": []
    },
    {
      "cell_type": "code",
      "source": [
        "L=[12,15,100,121,101,1025,2006,2021]\n",
        "binary_search(L,15)"
      ],
      "metadata": {
        "colab": {
          "base_uri": "https://localhost:8080/"
        },
        "id": "-Qf1-CnHECdy",
        "outputId": "19fb6bba-3250-4265-c357-20a3e72b52ea"
      },
      "execution_count": null,
      "outputs": [
        {
          "output_type": "execute_result",
          "data": {
            "text/plain": [
              "1"
            ]
          },
          "metadata": {},
          "execution_count": 5
        }
      ]
    },
    {
      "cell_type": "code",
      "source": [
        "binary_search(L,121)"
      ],
      "metadata": {
        "colab": {
          "base_uri": "https://localhost:8080/"
        },
        "id": "VvTLJ25nEi7q",
        "outputId": "8227466f-3b4e-4c67-9bb6-952c7c6c38c8"
      },
      "execution_count": null,
      "outputs": [
        {
          "output_type": "execute_result",
          "data": {
            "text/plain": [
              "1"
            ]
          },
          "metadata": {},
          "execution_count": 6
        }
      ]
    },
    {
      "cell_type": "code",
      "source": [
        "binary_search(L,3455)"
      ],
      "metadata": {
        "colab": {
          "base_uri": "https://localhost:8080/"
        },
        "id": "FaQAw433Eo0i",
        "outputId": "1885b67c-b6a6-4b61-d297-1f717ab4b533"
      },
      "execution_count": null,
      "outputs": [
        {
          "output_type": "execute_result",
          "data": {
            "text/plain": [
              "0"
            ]
          },
          "metadata": {},
          "execution_count": 7
        }
      ]
    },
    {
      "cell_type": "code",
      "source": [
        "L=list(range(100000000))\n",
        "binary_search(L,126)"
      ],
      "metadata": {
        "colab": {
          "base_uri": "https://localhost:8080/"
        },
        "id": "uUnEHHu5E2sq",
        "outputId": "a5fb8a9f-1166-4f16-bb40-3b43d5302198"
      },
      "execution_count": null,
      "outputs": [
        {
          "output_type": "execute_result",
          "data": {
            "text/plain": [
              "1"
            ]
          },
          "metadata": {},
          "execution_count": 14
        }
      ]
    },
    {
      "cell_type": "code",
      "source": [
        "import time\n",
        "len(L)\n",
        "obvious_search(L,-1)"
      ],
      "metadata": {
        "colab": {
          "base_uri": "https://localhost:8080/"
        },
        "id": "3MfjFD3aFlBi",
        "outputId": "b1d812b2-3745-434d-9352-f2c5f7698c91"
      },
      "execution_count": null,
      "outputs": [
        {
          "output_type": "execute_result",
          "data": {
            "text/plain": [
              "0"
            ]
          },
          "metadata": {},
          "execution_count": 15
        }
      ]
    },
    {
      "cell_type": "code",
      "source": [
        "import time\n",
        "len(L)\n",
        "obvious_search(L,10)"
      ],
      "metadata": {
        "colab": {
          "base_uri": "https://localhost:8080/"
        },
        "outputId": "f29f78e0-a2b6-4c67-bd8f-754a3591e022",
        "id": "SB7QYBuSGpmz"
      },
      "execution_count": null,
      "outputs": [
        {
          "output_type": "execute_result",
          "data": {
            "text/plain": [
              "1"
            ]
          },
          "metadata": {},
          "execution_count": 16
        }
      ]
    },
    {
      "cell_type": "code",
      "source": [
        "a=time.time();print(obvious_search(L,-1));b=time.time();print(b-a)"
      ],
      "metadata": {
        "colab": {
          "base_uri": "https://localhost:8080/"
        },
        "id": "-l7PUznrGuvx",
        "outputId": "bf66e026-923c-475b-9299-3bda9513b4bb"
      },
      "execution_count": null,
      "outputs": [
        {
          "output_type": "stream",
          "name": "stdout",
          "text": [
            "0\n",
            "5.476548433303833\n"
          ]
        }
      ]
    },
    {
      "cell_type": "code",
      "source": [
        "a=time.time();print(binary_search(L,-1));b=time.time();print(b-a)"
      ],
      "metadata": {
        "colab": {
          "base_uri": "https://localhost:8080/"
        },
        "outputId": "2a4091d4-aa51-41a0-d4f9-6dcc0e63a043",
        "id": "DZrQwXXQHyar"
      },
      "execution_count": null,
      "outputs": [
        {
          "output_type": "stream",
          "name": "stdout",
          "text": [
            "0\n",
            "0.0011401176452636719\n"
          ]
        }
      ]
    },
    {
      "cell_type": "code",
      "source": [
        "len(L)"
      ],
      "metadata": {
        "colab": {
          "base_uri": "https://localhost:8080/"
        },
        "id": "sW41Bgi2IVX5",
        "outputId": "6f491f5c-4a79-43a0-9179-f086f57120ce"
      },
      "execution_count": null,
      "outputs": [
        {
          "output_type": "execute_result",
          "data": {
            "text/plain": [
              "100000000"
            ]
          },
          "metadata": {},
          "execution_count": 22
        }
      ]
    },
    {
      "cell_type": "code",
      "source": [
        "L[len(L)-1]"
      ],
      "metadata": {
        "colab": {
          "base_uri": "https://localhost:8080/"
        },
        "id": "78lWdGg4Ianj",
        "outputId": "9bbf29ca-f4a7-4f62-c93c-74760bb43c7f"
      },
      "execution_count": null,
      "outputs": [
        {
          "output_type": "execute_result",
          "data": {
            "text/plain": [
              "99999999"
            ]
          },
          "metadata": {},
          "execution_count": 23
        }
      ]
    },
    {
      "cell_type": "code",
      "source": [
        "k=L[len(L)-1]"
      ],
      "metadata": {
        "id": "rUhidSQDItZ5"
      },
      "execution_count": null,
      "outputs": []
    },
    {
      "cell_type": "code",
      "source": [],
      "metadata": {
        "id": "Dl_HCbPVI7_p"
      },
      "execution_count": null,
      "outputs": []
    },
    {
      "cell_type": "code",
      "source": [
        "a=time.time();print(obvious_search(L,k));b=time.time();print(b-a)"
      ],
      "metadata": {
        "colab": {
          "base_uri": "https://localhost:8080/"
        },
        "outputId": "7d57914f-36c7-4e01-ddb0-b42b83173943",
        "id": "dkY7OrrcI8nq"
      },
      "execution_count": null,
      "outputs": [
        {
          "output_type": "stream",
          "name": "stdout",
          "text": [
            "1\n",
            "4.4552202224731445\n"
          ]
        }
      ]
    },
    {
      "cell_type": "code",
      "source": [
        "a=time.time();print(obvious_search(L,10));b=time.time();print(b-a)"
      ],
      "metadata": {
        "colab": {
          "base_uri": "https://localhost:8080/"
        },
        "outputId": "c77d18d6-a5c1-4d06-c89a-edfe38954879",
        "id": "1t22z3pQJGMC"
      },
      "execution_count": null,
      "outputs": [
        {
          "output_type": "stream",
          "name": "stdout",
          "text": [
            "1\n",
            "0.001744985580444336\n"
          ]
        }
      ]
    },
    {
      "cell_type": "code",
      "source": [
        "a=time.time();print(obvious_search(L,k));b=time.time();print(b-a)"
      ],
      "metadata": {
        "colab": {
          "base_uri": "https://localhost:8080/"
        },
        "outputId": "e8abf4df-1cec-4677-9744-ba727e56d334",
        "id": "NTg4U0fHJoNj"
      },
      "execution_count": null,
      "outputs": [
        {
          "output_type": "stream",
          "name": "stdout",
          "text": [
            "1\n",
            "4.4490296840667725\n"
          ]
        }
      ]
    },
    {
      "cell_type": "code",
      "source": [
        "a=time.time();print(binary_search(L,k));b=time.time();print(b-a)"
      ],
      "metadata": {
        "colab": {
          "base_uri": "https://localhost:8080/"
        },
        "outputId": "aec2c88a-8e2f-451b-8ac2-e28e7052a64b",
        "id": "IbgRL4VVJT-T"
      },
      "execution_count": null,
      "outputs": [
        {
          "output_type": "stream",
          "name": "stdout",
          "text": [
            "1\n",
            "0.0012845993041992188\n"
          ]
        }
      ]
    },
    {
      "cell_type": "code",
      "source": [
        "import time\n",
        "L=list(range(1000*1000))\n",
        "k=-1\n",
        "a=time.time();print(obvious_search(L,k));b=time.time();print(b-a)"
      ],
      "metadata": {
        "colab": {
          "base_uri": "https://localhost:8080/"
        },
        "outputId": "cc72787f-b3a5-41e8-eba5-b115eb9b4a59",
        "id": "WA_JWVcPKWJ8"
      },
      "execution_count": null,
      "outputs": [
        {
          "output_type": "stream",
          "name": "stdout",
          "text": [
            "0\n",
            "0.04346203804016113\n"
          ]
        }
      ]
    },
    {
      "cell_type": "code",
      "source": [
        "import time\n",
        "L=list(range(1000*1000))\n",
        "k=-1\n",
        "a=time.time();print(binary_search(L,k));b=time.time();print(b-a)"
      ],
      "metadata": {
        "colab": {
          "base_uri": "https://localhost:8080/"
        },
        "id": "hHRHE2BiK5rK",
        "outputId": "20341fb1-a7aa-4be1-bce4-9943c4c32cdf"
      },
      "execution_count": null,
      "outputs": [
        {
          "output_type": "stream",
          "name": "stdout",
          "text": [
            "0\n",
            "0.0002307891845703125\n"
          ]
        }
      ]
    },
    {
      "cell_type": "markdown",
      "source": [
        "# L8.8 | Binary Search Recursion Way"
      ],
      "metadata": {
        "id": "SdPAWp5bMdBS"
      }
    },
    {
      "cell_type": "code",
      "source": [
        "'''Code for binary search using recursion'''\n",
        "def rbinarysearch(L,k,begin,end):\n",
        "      ''' This will recursively compute binary search'''\n",
        "      # if begin and end are the same , then we need to just check L[begin]\n",
        "      if(begin==end):\n",
        "         if(L[begin]==k):\n",
        "            return 1\n",
        "         else:\n",
        "            return 0\n",
        "      # if begin and end are consecutive,then check them individually.\n",
        "      if(end-begin==1):\n",
        "         if(L[begin]==k) or (L[end]==k):\n",
        "            return 1\n",
        "         else:\n",
        "            return 0\n",
        "      # if end-begin >1\n",
        "      if(end-begin>1):\n",
        "       # compute the middle element\n",
        "       mid=(begin+end)//2\n",
        "       if(L[mid]>k):\n",
        "          #discard the right and retain the left\n",
        "          end=mid-1\n",
        "       if(L[mid]<k):\n",
        "          #discard the left and retain the right\n",
        "          begin=mid+1\n",
        "       if(L[mid]==k):\n",
        "          return 1\n",
        "      if(end-begin<0):\n",
        "         return 0\n",
        "      return rbinarysearch(L,k,begin,end)\n",
        "\n",
        "\n"
      ],
      "metadata": {
        "id": "FguB1LODM7-x"
      },
      "execution_count": null,
      "outputs": []
    },
    {
      "cell_type": "code",
      "source": [
        "rbinarysearch([1,7,10,16,100,108,1008],7,0,6)"
      ],
      "metadata": {
        "colab": {
          "base_uri": "https://localhost:8080/"
        },
        "id": "XHwjXrz0uiEO",
        "outputId": "481ad993-ce92-451a-b2b6-50e75be000e5"
      },
      "execution_count": null,
      "outputs": [
        {
          "output_type": "execute_result",
          "data": {
            "text/plain": [
              "1"
            ]
          },
          "metadata": {},
          "execution_count": 23
        }
      ]
    },
    {
      "cell_type": "code",
      "source": [
        "rbinarysearch([1,7,10,16,100,108,1008],-1,0,6)"
      ],
      "metadata": {
        "colab": {
          "base_uri": "https://localhost:8080/"
        },
        "outputId": "b39b1cce-20f7-4281-bce5-053adff6ddd6",
        "id": "7YH3G8ouviFw"
      },
      "execution_count": null,
      "outputs": [
        {
          "output_type": "execute_result",
          "data": {
            "text/plain": [
              "0"
            ]
          },
          "metadata": {},
          "execution_count": 24
        }
      ]
    },
    {
      "cell_type": "code",
      "source": [
        "L=list(range(1000*1000*100))\n",
        "rbinarysearch(L,1000000,0,len(L)-1)"
      ],
      "metadata": {
        "colab": {
          "base_uri": "https://localhost:8080/"
        },
        "id": "FieF--tZvqSm",
        "outputId": "4dede93a-0cf5-4c26-a966-28dc31017f41"
      },
      "execution_count": null,
      "outputs": [
        {
          "output_type": "execute_result",
          "data": {
            "text/plain": [
              "1"
            ]
          },
          "metadata": {},
          "execution_count": 26
        }
      ]
    },
    {
      "cell_type": "code",
      "source": [
        "L=list(range(1000*1000*100))\n",
        "rbinarysearch(L,-1,0,len(L)-1)"
      ],
      "metadata": {
        "colab": {
          "base_uri": "https://localhost:8080/"
        },
        "outputId": "7d9a8c97-d848-453a-9e87-aa310f7617f2",
        "id": "OdboLxOSw8A3"
      },
      "execution_count": null,
      "outputs": [
        {
          "output_type": "execute_result",
          "data": {
            "text/plain": [
              "0"
            ]
          },
          "metadata": {},
          "execution_count": 27
        }
      ]
    },
    {
      "cell_type": "code",
      "source": [
        "def sum(n):\n",
        "    if(n==0):\n",
        "        return 0\n",
        "    else:\n",
        "        return n+sum(n-1)"
      ],
      "metadata": {
        "id": "9QVbVYYsyFUG"
      },
      "execution_count": null,
      "outputs": []
    },
    {
      "cell_type": "code",
      "source": [
        "sum(5)"
      ],
      "metadata": {
        "colab": {
          "base_uri": "https://localhost:8080/"
        },
        "id": "gTQ8c8Yly2wP",
        "outputId": "596efff1-8dbb-4bae-c526-da860caad209"
      },
      "execution_count": null,
      "outputs": [
        {
          "output_type": "execute_result",
          "data": {
            "text/plain": [
              "15"
            ]
          },
          "metadata": {},
          "execution_count": 37
        }
      ]
    },
    {
      "cell_type": "code",
      "source": [
        "sum(10)"
      ],
      "metadata": {
        "colab": {
          "base_uri": "https://localhost:8080/"
        },
        "id": "IEcd0Krzy9pe",
        "outputId": "16dac2c7-bd56-4489-cf58-4dfb4afcc909"
      },
      "execution_count": null,
      "outputs": [
        {
          "output_type": "execute_result",
          "data": {
            "text/plain": [
              "55"
            ]
          },
          "metadata": {},
          "execution_count": 39
        }
      ]
    },
    {
      "cell_type": "code",
      "source": [
        "sum(100)"
      ],
      "metadata": {
        "colab": {
          "base_uri": "https://localhost:8080/"
        },
        "id": "vzi9XLvnyexX",
        "outputId": "93de7dd4-2120-4122-9dc1-944dc4933f7c"
      },
      "execution_count": null,
      "outputs": [
        {
          "output_type": "execute_result",
          "data": {
            "text/plain": [
              "5050"
            ]
          },
          "metadata": {},
          "execution_count": 36
        }
      ]
    },
    {
      "cell_type": "code",
      "source": [
        "sum(900)"
      ],
      "metadata": {
        "colab": {
          "base_uri": "https://localhost:8080/"
        },
        "id": "590j0LuAzOeG",
        "outputId": "77770fde-c2c1-48ba-f7ef-72dbd5fb8b97"
      },
      "execution_count": null,
      "outputs": [
        {
          "output_type": "execute_result",
          "data": {
            "text/plain": [
              "405450"
            ]
          },
          "metadata": {},
          "execution_count": 42
        }
      ]
    }
  ]
}