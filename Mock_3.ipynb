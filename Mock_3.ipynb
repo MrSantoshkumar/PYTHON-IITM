{
  "nbformat": 4,
  "nbformat_minor": 0,
  "metadata": {
    "colab": {
      "provenance": [],
      "authorship_tag": "ABX9TyNLJjbywcbJH6EN8wC7CBZj",
      "include_colab_link": true
    },
    "kernelspec": {
      "name": "python3",
      "display_name": "Python 3"
    },
    "language_info": {
      "name": "python"
    }
  },
  "cells": [
    {
      "cell_type": "markdown",
      "metadata": {
        "id": "view-in-github",
        "colab_type": "text"
      },
      "source": [
        "<a href=\"https://colab.research.google.com/github/MrSantoshkumar/PYTHON-IITM/blob/main/Mock_3.ipynb\" target=\"_parent\"><img src=\"https://colab.research.google.com/assets/colab-badge.svg\" alt=\"Open In Colab\"/></a>"
      ]
    },
    {
      "cell_type": "markdown",
      "source": [
        "Q.1  Accept two strings as input and form a new string by removing all characters from the second string which are present in the first string. Print this new string as output. You can assume that all input strings will be in lower case."
      ],
      "metadata": {
        "id": "VwBvM8X6Ju-8"
      }
    },
    {
      "cell_type": "code",
      "source": [],
      "metadata": {
        "id": "_xcBtYAtJ0G8"
      },
      "execution_count": null,
      "outputs": []
    },
    {
      "cell_type": "markdown",
      "source": [
        "Q.2   Accept a string as input and print PALINDROME if it is a palindrome, and NOT PALINDROME otherwise."
      ],
      "metadata": {
        "id": "AdgfPx32J_9M"
      }
    },
    {
      "cell_type": "code",
      "source": [],
      "metadata": {
        "id": "Rx3tLMcHKN4c"
      },
      "execution_count": null,
      "outputs": []
    },
    {
      "cell_type": "markdown",
      "source": [
        "Q.3  Two integers are co-prime if the only common divisor between the two integers is one.\n",
        "\n",
        "Accept two positive integers as input in two different lines. Print Coprime if the two integers are co-prime, else print Not Coprime. Assume that both the integers are greater than two."
      ],
      "metadata": {
        "id": "rOviVkTbKOqW"
      }
    },
    {
      "cell_type": "code",
      "source": [],
      "metadata": {
        "id": "ZwRqoJWHKch2"
      },
      "execution_count": null,
      "outputs": []
    },
    {
      "cell_type": "markdown",
      "source": [
        "Q.4    Accept a string as input, print Integer if the string is an integer, print Float if it a float, else print None.\n",
        "\n"
      ],
      "metadata": {
        "id": "Y2Fx0KGBKeDs"
      }
    },
    {
      "cell_type": "code",
      "source": [],
      "metadata": {
        "id": "qa8Hs5e4KoD7"
      },
      "execution_count": null,
      "outputs": []
    },
    {
      "cell_type": "markdown",
      "source": [
        "Q.5   Multiple Select Questions (MSQ) could have more than one correct answers. The marks scored by a student in a MSQ will be determined by the following conditions:\n",
        "\n",
        "(1) If the question has\n",
        "\n",
        "c correct options, each individual correct option carries\n",
        "\n",
        "\n",
        "c\n",
        "n\n",
        "​\n",
        "  marks.\n",
        "\n",
        "(2) If a student selects any of the wrong options, the marks awarded for the question will be 0.\n",
        "\n",
        "Calculate the marks obtained by the student and print this as float value.\n",
        "\n",
        "The input contains four lines.\n",
        "\n",
        "(1) First line is the number of marks for the question.\n",
        "\n",
        "(2) Second line contains the number of options for the question.\n",
        "\n",
        "(3) Third line is a comma-separated sequence of correct options for this question.\n",
        "\n",
        "(4) Fourth line is a comma-separated sequence of options given by the student.\n",
        "\n",
        "Write a program to print the number of marks scored by a student.\n",
        "\n",
        "Note: Options are numbered using positive integers in the range\n",
        "[\n",
        "1\n",
        ",\n",
        "9\n",
        "]\n",
        "[1,9], endpoints inclusive. A question will have at most nine options. The number of marks and the correct options will always be integers."
      ],
      "metadata": {
        "id": "x23P7La-Koej"
      }
    },
    {
      "cell_type": "code",
      "source": [],
      "metadata": {
        "id": "UKn57KQEK0KG"
      },
      "execution_count": null,
      "outputs": []
    },
    {
      "cell_type": "markdown",
      "source": [
        "Q.6   Consider two non-empty strings a and b of lengths\n",
        "\n",
        "1\n",
        "n\n",
        "1\n",
        "​\n",
        "  and\n",
        "\n",
        "2\n",
        "n\n",
        "2\n",
        "​\n",
        "  respectively, which contain only numbers as their characters. Both the strings are in ascending order, that is\n",
        "\n",
        "[\n",
        "\n",
        "]\n",
        "≤\n",
        "\n",
        "[\n",
        "\n",
        "]\n",
        "a[i]≤a[j] for\n",
        "0\n",
        "≤\n",
        "\n",
        "<\n",
        "\n",
        "<\n",
        "\n",
        "1\n",
        "0≤i<j<n\n",
        "1\n",
        "​\n",
        " . The same holds true for b. You need to merge both the strings into one string of length\n",
        "\n",
        "1\n",
        "+\n",
        "\n",
        "2\n",
        "n\n",
        "1\n",
        "​\n",
        " +n\n",
        "2\n",
        "​\n",
        "  such that all the characters of this combined string are also in ascending order.\n",
        "\n",
        "Accept a and b as input and print this merged string as output."
      ],
      "metadata": {
        "id": "9ayGsVkBK8oc"
      }
    },
    {
      "cell_type": "code",
      "source": [],
      "metadata": {
        "id": "KhveIBU-LMFU"
      },
      "execution_count": null,
      "outputs": []
    }
  ]
}