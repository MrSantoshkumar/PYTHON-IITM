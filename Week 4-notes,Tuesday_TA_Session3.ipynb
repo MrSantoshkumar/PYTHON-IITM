{
  "nbformat": 4,
  "nbformat_minor": 0,
  "metadata": {
    "colab": {
      "provenance": [],
      "collapsed_sections": [
        "qwvBdbXzCWmI"
      ],
      "include_colab_link": true
    },
    "kernelspec": {
      "name": "python3",
      "display_name": "Python 3"
    },
    "language_info": {
      "name": "python"
    }
  },
  "cells": [
    {
      "cell_type": "markdown",
      "metadata": {
        "id": "view-in-github",
        "colab_type": "text"
      },
      "source": [
        "<a href=\"https://colab.research.google.com/github/MrSantoshkumar/PYTHON-IITM/blob/main/Week%204-notes%2CTuesday_TA_Session3.ipynb\" target=\"_parent\"><img src=\"https://colab.research.google.com/assets/colab-badge.svg\" alt=\"Open In Colab\"/></a>"
      ]
    },
    {
      "cell_type": "markdown",
      "source": [
        "\n",
        "\n",
        "\n",
        "\n",
        "\n",
        "\n",
        "\n",
        "\n",
        "\n",
        "\n",
        "\n",
        "\n",
        "\n",
        "\n",
        "\n",
        "\n",
        "\n",
        "\n",
        "\n",
        "\n",
        "\n",
        "\n",
        "\n",
        "\n",
        "\n",
        "\n",
        "\n",
        "\n",
        "\n",
        "\n",
        "#Loop Controlers"
      ],
      "metadata": {
        "id": "qwvBdbXzCWmI"
      }
    },
    {
      "cell_type": "markdown",
      "source": [
        "Break Keyword:"
      ],
      "metadata": {
        "id": "lL8_2DyrNaw9"
      }
    },
    {
      "cell_type": "code",
      "execution_count": null,
      "metadata": {
        "id": "JusDL-tdCNHg",
        "colab": {
          "base_uri": "https://localhost:8080/"
        },
        "outputId": "b562ac57-38ff-4488-a2d8-d6491a8cb282"
      },
      "outputs": [
        {
          "output_type": "stream",
          "name": "stdout",
          "text": [
            "0\n",
            "1\n",
            "2\n",
            "3\n",
            "4\n",
            "5\n",
            "6\n"
          ]
        }
      ],
      "source": [
        "'''break - whenever program encounters the break statement it terminates the loop.'''\n",
        "\n",
        "#eg.\n",
        "\n",
        "for i in range(10):\n",
        "  if i == 7:\n",
        "    break\n",
        "  print(i)\n",
        "\n"
      ]
    },
    {
      "cell_type": "code",
      "source": [
        "#eg. to check whether a charecter is present in the string/list/any_iterable_object or not. (without using the inbuilt 'in' operator)\n",
        "\n",
        "l = [10, 2, 3, 4, 5, 6, 6, 50, 3, 4 ,5, 4]\n",
        "a = 50\n",
        "\n",
        "found = False\n",
        "\n",
        "for i in range(len(l)):\n",
        "  if l[i] == a:\n",
        "    found = True\n",
        "    break\n",
        "\n",
        "\n",
        "print(found)"
      ],
      "metadata": {
        "id": "SKkwitxIC63q",
        "colab": {
          "base_uri": "https://localhost:8080/"
        },
        "outputId": "780ce6c3-f1c4-4c94-d8cf-cfe3022da654"
      },
      "execution_count": null,
      "outputs": [
        {
          "output_type": "stream",
          "name": "stdout",
          "text": [
            "True\n"
          ]
        }
      ]
    },
    {
      "cell_type": "code",
      "source": [
        "l = [10, 2, 3, 4, 5, 6, 6, 50, 3, 4 ,5, 4]\n",
        "\n",
        "for i in l:\n",
        "  print(i)"
      ],
      "metadata": {
        "colab": {
          "base_uri": "https://localhost:8080/"
        },
        "id": "IvOK8GLU7liF",
        "outputId": "e12f3a5b-6482-45c4-e0a1-7fab6e001c48"
      },
      "execution_count": null,
      "outputs": [
        {
          "output_type": "stream",
          "name": "stdout",
          "text": [
            "10\n",
            "2\n",
            "3\n",
            "4\n",
            "5\n",
            "6\n",
            "6\n",
            "50\n",
            "3\n",
            "4\n",
            "5\n",
            "4\n"
          ]
        }
      ]
    },
    {
      "cell_type": "code",
      "source": [
        "l = [10, 2, 3, 4, 5, 6, 6, 50, 3, 4 ,5, 4]\n",
        "\n",
        "for i in range(len(l)):\n",
        "  print(l[i])"
      ],
      "metadata": {
        "colab": {
          "base_uri": "https://localhost:8080/"
        },
        "id": "nuD_IpfB7_ww",
        "outputId": "d89a7a99-bc69-4c88-e646-c2232b02b730"
      },
      "execution_count": null,
      "outputs": [
        {
          "output_type": "stream",
          "name": "stdout",
          "text": [
            "0\n",
            "1\n",
            "2\n",
            "3\n",
            "4\n",
            "5\n",
            "6\n",
            "7\n",
            "8\n",
            "9\n",
            "10\n",
            "11\n"
          ]
        }
      ]
    },
    {
      "cell_type": "markdown",
      "source": [
        "Continue Keyword:"
      ],
      "metadata": {
        "id": "THnwwtRvNaLf"
      }
    },
    {
      "cell_type": "code",
      "source": [
        "'''continue - whenever our programs encounters the continue statement, the code following the continue statement (if any) is skipped\n",
        "              and the next iteration is forced'''\n",
        "\n",
        "#eg.\n",
        "\n",
        "for i in range(10):\n",
        "  if i == 7:\n",
        "    continue\n",
        "  print(i)"
      ],
      "metadata": {
        "id": "PxmbbuKXNxib",
        "colab": {
          "base_uri": "https://localhost:8080/"
        },
        "outputId": "059ddbd6-5e7d-4155-d853-7893fe30680f"
      },
      "execution_count": null,
      "outputs": [
        {
          "output_type": "stream",
          "name": "stdout",
          "text": [
            "0\n",
            "1\n",
            "2\n",
            "3\n",
            "4\n",
            "5\n",
            "6\n",
            "8\n",
            "9\n"
          ]
        }
      ]
    },
    {
      "cell_type": "code",
      "source": [
        "#eg. Iterate though a list of variables, print each element on seperate line but skip if the element is of 'int' data type.\n",
        "\n",
        "l = ['apple', '5', 4, 4.0, 'cloud', -10, [4]]\n",
        "\n",
        "for i in l:\n",
        "  if type(i) is int:\n",
        "    continue\n",
        "  print(i)\n",
        "\n",
        "\n"
      ],
      "metadata": {
        "id": "PLaFBLrtN0Jg",
        "colab": {
          "base_uri": "https://localhost:8080/"
        },
        "outputId": "2faf966f-3551-4252-934d-fa6b7b1f6f33"
      },
      "execution_count": null,
      "outputs": [
        {
          "output_type": "stream",
          "name": "stdout",
          "text": [
            "apple\n",
            "5\n",
            "4.0\n",
            "cloud\n",
            "[4]\n"
          ]
        }
      ]
    },
    {
      "cell_type": "code",
      "source": [
        "l = ['apple', '5', 4, 4.0, 'cloud', -10, [4]]\n",
        "\n",
        "for i in l:\n",
        "  if isinstance(i, int):\n",
        "    continue\n",
        "  print(i)\n"
      ],
      "metadata": {
        "colab": {
          "base_uri": "https://localhost:8080/"
        },
        "id": "pkDDxT_5CQec",
        "outputId": "949c0f6e-8f8b-490d-e8d2-e792b4982c22"
      },
      "execution_count": null,
      "outputs": [
        {
          "output_type": "stream",
          "name": "stdout",
          "text": [
            "apple\n",
            "5\n",
            "4.0\n",
            "cloud\n",
            "[4]\n"
          ]
        }
      ]
    },
    {
      "cell_type": "markdown",
      "source": [
        "for-else"
      ],
      "metadata": {
        "id": "YOEO_N_hVnHX"
      }
    },
    {
      "cell_type": "code",
      "source": [
        "#for-else - if the 'for' loop never breaks then else block is executed.\n",
        "\n",
        "for i in range(10):\n",
        "  if i == 7:\n",
        "    break\n",
        "  print(i)\n",
        "else:\n",
        "  print('The loop never broke')\n"
      ],
      "metadata": {
        "id": "fR1GHEaCVqIe",
        "colab": {
          "base_uri": "https://localhost:8080/"
        },
        "outputId": "df05ad9e-5ab4-4036-d3c4-7c60461260c0"
      },
      "execution_count": null,
      "outputs": [
        {
          "output_type": "stream",
          "name": "stdout",
          "text": [
            "0\n",
            "1\n",
            "2\n",
            "3\n",
            "4\n",
            "5\n",
            "6\n",
            "8\n",
            "9\n",
            "The loop never broke\n"
          ]
        }
      ]
    },
    {
      "cell_type": "code",
      "source": [
        "l = [10, 2, 3, 4, 5, 6, 6, 50, 3, 4 ,5, 4]\n",
        "a = -1\n",
        "\n",
        "for i in range(len(l)):\n",
        "  if l[i] == a:\n",
        "    print(True)\n",
        "    break\n",
        "else:\n",
        "  print(False)\n",
        "\n",
        "\n"
      ],
      "metadata": {
        "id": "QfIFX4gxWyth",
        "colab": {
          "base_uri": "https://localhost:8080/"
        },
        "outputId": "33dc0996-1a90-4f48-e693-efc98cee6333"
      },
      "execution_count": null,
      "outputs": [
        {
          "output_type": "stream",
          "name": "stdout",
          "text": [
            "False\n"
          ]
        }
      ]
    },
    {
      "cell_type": "markdown",
      "source": [
        "Check whether a positive integer is a prime or not."
      ],
      "metadata": {
        "id": "xlHHUVxtXAZ7"
      }
    },
    {
      "cell_type": "code",
      "source": [
        "#using basic approach: maintaining a 'flag' variable.\n",
        "\n",
        "n = int(input())\n",
        "prime = True\n",
        "\n",
        "for i in range(2, n):\n",
        "  if n%i == 0:\n",
        "    prime = False\n",
        "    break\n",
        "\n",
        "print(prime)\n"
      ],
      "metadata": {
        "id": "QRyf3JtwW0Tw",
        "colab": {
          "base_uri": "https://localhost:8080/"
        },
        "outputId": "fc24d0d0-91a3-42ec-98bb-1bd658e35469"
      },
      "execution_count": null,
      "outputs": [
        {
          "output_type": "stream",
          "name": "stdout",
          "text": [
            "2\n",
            "True\n"
          ]
        }
      ]
    },
    {
      "cell_type": "code",
      "source": [
        "#using for-else: no need to maintain a 'flag' variable in that case.\n",
        "\n",
        "n = int(input())\n",
        "\n",
        "for i in range(2, n):\n",
        "  if n%i == 0:\n",
        "    print(False)\n",
        "    break\n",
        "else:\n",
        "  print(True)"
      ],
      "metadata": {
        "id": "-A468gHTXLnx",
        "colab": {
          "base_uri": "https://localhost:8080/"
        },
        "outputId": "f0b21e1d-0578-4a73-c9a4-2ba470fe793c"
      },
      "execution_count": null,
      "outputs": [
        {
          "output_type": "stream",
          "name": "stdout",
          "text": [
            "2\n",
            "True\n"
          ]
        }
      ]
    },
    {
      "cell_type": "markdown",
      "source": [
        "#Collections in Python"
      ],
      "metadata": {
        "id": "50VO5bB9XbZR"
      }
    },
    {
      "cell_type": "markdown",
      "source": [
        "In Python, collections are datatypes or containers which can store multiple values or items, allowing for efficient data management and manipulation.\n",
        "\n",
        "- In Python, we have 4 built-in collection types.\n",
        " - Lists\n",
        " - Tuples\n",
        " - Sets\n",
        " - Dictionaries"
      ],
      "metadata": {
        "id": "DOgEpfGXalkj"
      }
    },
    {
      "cell_type": "markdown",
      "source": [
        "##1.Lists and List Methods:"
      ],
      "metadata": {
        "id": "hFEz6fV2h8dq"
      }
    },
    {
      "cell_type": "code",
      "source": [
        "#Lists: data structures that is used to store the sequence of objects.\n",
        "\n",
        "l = [1, 3.0, 'anand'] #can store multiple data types as elements in list.\n",
        "\n",
        "print(l)                  #printing a list\n",
        "print(type(l))                 #printing datatype of list"
      ],
      "metadata": {
        "id": "IJb1TlsOehOQ",
        "colab": {
          "base_uri": "https://localhost:8080/"
        },
        "outputId": "972d5cae-76de-4ae2-c6f2-2fde48c27a5f"
      },
      "execution_count": null,
      "outputs": [
        {
          "output_type": "stream",
          "name": "stdout",
          "text": [
            "[1, 3.0, 'anand']\n",
            "<class 'list'>\n"
          ]
        }
      ]
    },
    {
      "cell_type": "code",
      "source": [
        "print(isinstance('anand', int))"
      ],
      "metadata": {
        "colab": {
          "base_uri": "https://localhost:8080/"
        },
        "id": "_gRqeNlvBhLq",
        "outputId": "c2d9140d-a64e-4149-bc5a-6c77007a0977"
      },
      "execution_count": null,
      "outputs": [
        {
          "output_type": "stream",
          "name": "stdout",
          "text": [
            "False\n"
          ]
        }
      ]
    },
    {
      "cell_type": "code",
      "source": [
        "#using 'isinstance' => parameters: (object 'or' var_name, datatype)  returns True if object or var_name'] belongs to given 'datatype' else False.\n",
        "\n",
        "print(isinstance([1, 'hello', True], list))                    #check whether [1, 'hello', True] is list or not.\n",
        "print(isinstance('student', str))                     #check whether 'student' is a string or not.\n",
        "print(isinstance('5', int))                   #check whether '5' is an integer datatype or not."
      ],
      "metadata": {
        "id": "NZ8Sw0phgppC",
        "colab": {
          "base_uri": "https://localhost:8080/"
        },
        "outputId": "6d1b29fd-2357-4f31-9d4f-6d22d0bd1433"
      },
      "execution_count": null,
      "outputs": [
        {
          "output_type": "stream",
          "name": "stdout",
          "text": [
            "True\n",
            "True\n",
            "False\n"
          ]
        }
      ]
    },
    {
      "cell_type": "code",
      "source": [
        "#using 'is type' istead of 'isinstance'.\n",
        "\n",
        "print(type([1, 'hello', True]) is list)                    #check whether [1, 'hello', True] is list or not.\n",
        "print(type('student') is str)                    #check whether 'student' is a string or not.\n",
        "print(type('5') is int)                   #check whether '5' is an integer datatype or not."
      ],
      "metadata": {
        "id": "lJa-VQ_eiC9y",
        "colab": {
          "base_uri": "https://localhost:8080/"
        },
        "outputId": "6e7056bb-cdfd-4a5e-e703-c1a054b4e568"
      },
      "execution_count": null,
      "outputs": [
        {
          "output_type": "stream",
          "name": "stdout",
          "text": [
            "True\n",
            "True\n",
            "False\n"
          ]
        }
      ]
    },
    {
      "cell_type": "code",
      "source": [
        "#intialising a list\n",
        "\n",
        "list1 = []\n",
        "list2 = list()\n",
        "\n",
        "print(list1, list2)"
      ],
      "metadata": {
        "id": "3bfbBBe8ipl0",
        "colab": {
          "base_uri": "https://localhost:8080/"
        },
        "outputId": "179f4728-53b5-41ae-b6c1-f758075fec01"
      },
      "execution_count": null,
      "outputs": [
        {
          "output_type": "stream",
          "name": "stdout",
          "text": [
            "[] []\n"
          ]
        }
      ]
    },
    {
      "cell_type": "code",
      "source": [
        "#populating/growing a list\n",
        "\n",
        "l = []\n",
        "\n",
        "l = l + [5]\n",
        "l = l+[4]\n",
        "l = [10] + l             #by CONCATENATING another LIST in prefix or suffix.\n",
        "print(l)\n",
        "\n",
        "\n",
        "l.append(10)\n",
        "l.append('anand')            #append -> adds element to the end of the list.\n",
        "print(l)\n",
        "\n",
        "\n",
        "l.insert(2, 'khushi')\n",
        "l.insert(3, 89)           #insert -> insert element to a GIVEN INDEX. parameters: (index, element)\n",
        "print(l)\n",
        "\n",
        "\n",
        "s = 'apple'\n",
        "l.extend(s)\n",
        "l.extend([5, 7, 8])            #extend -> adds elements of an ITERABLE (string, list, tuple, etc.) to the end of the list.\n",
        "print(l)"
      ],
      "metadata": {
        "id": "OOnKxGkPi9JR",
        "colab": {
          "base_uri": "https://localhost:8080/"
        },
        "outputId": "1bb92dd5-66aa-4ec0-c904-99b53391c764"
      },
      "execution_count": null,
      "outputs": [
        {
          "output_type": "stream",
          "name": "stdout",
          "text": [
            "[10, 5, 4]\n",
            "[10, 5, 4, 10, 'anand']\n",
            "[10, 5, 'khushi', 89, 4, 10, 'anand']\n",
            "[10, 5, 'khushi', 89, 4, 10, 'anand', 'a', 'p', 'p', 'l', 'e', 5, 7, 8]\n"
          ]
        }
      ]
    },
    {
      "cell_type": "code",
      "source": [
        "#slicing a list: Similar to slicing a string.\n",
        "\n",
        "l = [1, 2, 3, 4, 5, 6, 7, 8, 9]\n",
        "#print a list of elements at even indexes of list l.\n",
        "l = l[::2]\n",
        "print(l)\n",
        "\n"
      ],
      "metadata": {
        "id": "lakL_Wg7zepL",
        "colab": {
          "base_uri": "https://localhost:8080/"
        },
        "outputId": "35b349d3-bda3-42fe-8c33-0cbbddbdb284"
      },
      "execution_count": null,
      "outputs": [
        {
          "output_type": "stream",
          "name": "stdout",
          "text": [
            "[1, 3, 5, 7, 9]\n"
          ]
        }
      ]
    },
    {
      "cell_type": "code",
      "source": [
        "#deletion or removal of elements from a list.\n",
        "\n",
        "l = [1, 'subhash', 10, 40, 60, 10]\n",
        "\n",
        "l.remove('subhash')\n",
        "l.remove(10)            #remove -> removes the first occurence of the element from the list. (throws error if element not present)\n",
        "print(l)\n",
        "\n",
        "l = [1, 'subhash', 10, 40, 60, 10]\n",
        "\n",
        "del l[3]           #del -> deletes the element using its index. (syntax: del l[index])\n",
        "print(l)\n",
        "\n",
        "l = [1, 'subhash', 10, 40, 60, 10]\n",
        "l.pop(2)            #pop -> deletes the element from the given index. (syntax: l.pop(index)) (if index is not specified then default value is index = -1)\n",
        "print(l)\n",
        "\n",
        "l = [1, 'subhash', 10, 40, 60, 10]\n",
        "l.clear()           #clear -> removes all the elements from the list.\n",
        "print(l)"
      ],
      "metadata": {
        "id": "m9dVXiFtm_Dw",
        "colab": {
          "base_uri": "https://localhost:8080/"
        },
        "outputId": "793b0dc1-a53a-4004-afa2-0b3d8ffbebe1"
      },
      "execution_count": null,
      "outputs": [
        {
          "output_type": "stream",
          "name": "stdout",
          "text": [
            "[1, 40, 60, 10]\n",
            "[1, 'subhash', 10, 60, 10]\n",
            "[1, 'subhash', 40, 60, 10]\n",
            "[]\n"
          ]
        }
      ]
    },
    {
      "cell_type": "code",
      "source": [
        "#more on pop\n",
        "\n",
        "l = [1, 'subhash', 10, 40, 60, 10]      #pop removes the element from given index and returns the value of element that it removed.\n",
        "\n",
        "s = l.pop(1)              #pop the second element of the list and store it in variable 's'.\n",
        "#default value of parameter of pop method is -1.\n",
        "print('list is:', l)\n",
        "print('The popped value got stored in \\'s\\' and is equal to', s)"
      ],
      "metadata": {
        "id": "W3Cwn7v-pVZw",
        "colab": {
          "base_uri": "https://localhost:8080/"
        },
        "outputId": "c9251934-4aaf-4a8a-a993-349bfccc5111"
      },
      "execution_count": null,
      "outputs": [
        {
          "output_type": "stream",
          "name": "stdout",
          "text": [
            "list is: [1, 10, 40, 60, 10]\n",
            "The popped value got stored in 's' and is equal to subhash\n"
          ]
        }
      ]
    },
    {
      "cell_type": "code",
      "source": [
        "#more on del : deleting multiple elemets at a time\n",
        "\n",
        "l = [23, 234, 53, 35, 23, 76, 87, 98, 12, 11]\n",
        "\n",
        "print(l[3:10:2])\n",
        "del l[3:10:2]          #delete elements at index: 3, 5, 7 and 9\n",
        "print(l)\n",
        "\n",
        "l = [1, 2, 3, 4, 5, 6, 7, 8, 9, 10]\n",
        "\n",
        "del l[1::2]          #delete elements at odd indexes.\n",
        "print(l)"
      ],
      "metadata": {
        "id": "54ggZ34jz7-N",
        "colab": {
          "base_uri": "https://localhost:8080/"
        },
        "outputId": "0a3a0ee5-3399-4dd4-d2bc-595b275b16d4"
      },
      "execution_count": null,
      "outputs": [
        {
          "output_type": "stream",
          "name": "stdout",
          "text": [
            "[35, 76, 98, 11]\n",
            "[23, 234, 53, 23, 87, 12]\n",
            "[1, 3, 5, 7, 9]\n"
          ]
        }
      ]
    },
    {
      "cell_type": "code",
      "source": [
        "#few more important list methods.\n",
        "\n",
        "l = [1, 8, 7, 8, 3, 5, 8, -4, 3, 2]\n",
        "\n",
        "print(len(l))               #print length of list.\n",
        "\n",
        "a = sum(l)\n",
        "print(a)   #print sum of elements of list.\n",
        "\n",
        "mini = min(l)\n",
        "print(mini) #print minimum element of list.\n",
        "\n",
        "maxi = max(l)\n",
        "print(maxi)    #print maximum element of list.\n",
        "\n",
        "print(l.count(8))    #count the occurence of 8 in list l.\n",
        "\n",
        "print(l.index(3))  #find the index of FIRST OCCURENCE of 3 in l. (throws error if the element is not present in the list)\n",
        "\n",
        "print(11 in l) #check whether 11 is present in list or not."
      ],
      "metadata": {
        "id": "ujY8QGP8qlzs",
        "colab": {
          "base_uri": "https://localhost:8080/"
        },
        "outputId": "232aa20e-beaf-4d48-84f6-9ca6d233bb8b"
      },
      "execution_count": null,
      "outputs": [
        {
          "output_type": "stream",
          "name": "stdout",
          "text": [
            "10\n",
            "41\n",
            "-4\n",
            "8\n",
            "3\n",
            "4\n",
            "False\n"
          ]
        }
      ]
    },
    {
      "cell_type": "markdown",
      "source": [
        "Replicating a list"
      ],
      "metadata": {
        "id": "Ef-n6Ym26iky"
      }
    },
    {
      "cell_type": "code",
      "source": [
        "a = 'apple'\n",
        "print(a*5)    #replicating a string"
      ],
      "metadata": {
        "colab": {
          "base_uri": "https://localhost:8080/"
        },
        "id": "QvgXDbvcLj_r",
        "outputId": "3413b7d7-ee17-41e5-bd7a-15f53aa12283"
      },
      "execution_count": null,
      "outputs": [
        {
          "output_type": "stream",
          "name": "stdout",
          "text": [
            "appleappleappleappleapple\n"
          ]
        }
      ]
    },
    {
      "cell_type": "code",
      "source": [
        "l = [5, 10]\n",
        "\n",
        "replicated_list = l*3  #replicate list 3 times\n",
        "print(replicated_list)"
      ],
      "metadata": {
        "id": "nUItyAAt6kfc",
        "colab": {
          "base_uri": "https://localhost:8080/"
        },
        "outputId": "1273e38b-4700-4c9a-9c98-b0de2da12956"
      },
      "execution_count": null,
      "outputs": [
        {
          "output_type": "stream",
          "name": "stdout",
          "text": [
            "[5, 10, 5, 10, 5, 10]\n"
          ]
        }
      ]
    },
    {
      "cell_type": "code",
      "source": [
        "l = [5, 10]\n",
        "for i in range(3):    #this is not replicating\n",
        "  print(l)"
      ],
      "metadata": {
        "colab": {
          "base_uri": "https://localhost:8080/"
        },
        "id": "IpfmzjELMyMx",
        "outputId": "593dbf45-5841-4438-c0d2-d55bbb75ba55"
      },
      "execution_count": null,
      "outputs": [
        {
          "output_type": "stream",
          "name": "stdout",
          "text": [
            "[5, 10]\n",
            "[5, 10]\n",
            "[5, 10]\n"
          ]
        }
      ]
    },
    {
      "cell_type": "markdown",
      "source": [
        "List Comparisions"
      ],
      "metadata": {
        "id": "F_jek5Q-6-Kq"
      }
    },
    {
      "cell_type": "code",
      "source": [
        "#similar to string comparisions\n",
        "\n",
        "print([1, 2, 3] == [1, 2, 3])\n",
        "print([1, 3, 2] == [1, 2, 3])"
      ],
      "metadata": {
        "id": "HOhXv7J569nV",
        "colab": {
          "base_uri": "https://localhost:8080/"
        },
        "outputId": "c71c8ef2-0394-4ce3-bc7e-883570771f15"
      },
      "execution_count": null,
      "outputs": [
        {
          "output_type": "stream",
          "name": "stdout",
          "text": [
            "True\n",
            "False\n"
          ]
        }
      ]
    },
    {
      "cell_type": "code",
      "source": [
        "print([4, 21] < [1, 33])"
      ],
      "metadata": {
        "colab": {
          "base_uri": "https://localhost:8080/"
        },
        "id": "4vgcEH3SMWUz",
        "outputId": "edcda583-76e3-486b-97bc-20afc36dc5ba"
      },
      "execution_count": null,
      "outputs": [
        {
          "output_type": "stream",
          "name": "stdout",
          "text": [
            "False\n"
          ]
        }
      ]
    },
    {
      "cell_type": "code",
      "source": [
        "print(['apple', 'cat', 'dog'] < ['apple', 'cat'])"
      ],
      "metadata": {
        "colab": {
          "base_uri": "https://localhost:8080/"
        },
        "id": "XX3SDG03NcZj",
        "outputId": "2c1eaa3a-8f24-4b0d-b338-669f78268de8"
      },
      "execution_count": null,
      "outputs": [
        {
          "output_type": "stream",
          "name": "stdout",
          "text": [
            "False\n"
          ]
        }
      ]
    },
    {
      "cell_type": "markdown",
      "source": [
        "Modifying elements in a list:"
      ],
      "metadata": {
        "id": "Y50hQH0Vwvkr"
      }
    },
    {
      "cell_type": "code",
      "source": [
        "l = [1, 2, 'anand', 4, 5, 6]\n",
        "#instead of 'anand' at index = 2, if wish to modify it as 3.\n",
        "\n",
        "l[2] = 3\n",
        "print(l)"
      ],
      "metadata": {
        "id": "oKJktQXzxIpK",
        "colab": {
          "base_uri": "https://localhost:8080/"
        },
        "outputId": "4eb81bf3-0c6d-4b9e-ccce-cc15c7581f0c"
      },
      "execution_count": null,
      "outputs": [
        {
          "output_type": "stream",
          "name": "stdout",
          "text": [
            "[1, 2, 3, 4, 5, 6]\n"
          ]
        }
      ]
    },
    {
      "cell_type": "code",
      "source": [
        "l = [0, 1, 1, 0, 0, 0, 1] #list of 0s and 1s\n",
        "'''modify such that 1 becomes 0 and 0 becomes 1'''\n",
        "\n",
        "for i in range(len(l)):\n",
        "  if l[i] == 0:\n",
        "    l[i] = 1\n",
        "  elif l[i] == 1:\n",
        "    l[i] = 0\n",
        "\n",
        "print(l)"
      ],
      "metadata": {
        "id": "lpGszPVlzCSh",
        "colab": {
          "base_uri": "https://localhost:8080/"
        },
        "outputId": "ffda665f-772c-4291-b89a-d103fa19b245"
      },
      "execution_count": null,
      "outputs": [
        {
          "output_type": "stream",
          "name": "stdout",
          "text": [
            "[1, 0, 0, 1, 1, 1, 0]\n"
          ]
        }
      ]
    },
    {
      "cell_type": "code",
      "source": [
        "s = 'apple'\n",
        "s[0] = 'b'\n",
        "print(s)"
      ],
      "metadata": {
        "colab": {
          "base_uri": "https://localhost:8080/",
          "height": 176
        },
        "id": "KpsTQHZzO4_r",
        "outputId": "7c2b4e7d-c0f0-400f-b180-3993b64ecea0"
      },
      "execution_count": null,
      "outputs": [
        {
          "output_type": "error",
          "ename": "TypeError",
          "evalue": "'str' object does not support item assignment",
          "traceback": [
            "\u001b[0;31m---------------------------------------------------------------------------\u001b[0m",
            "\u001b[0;31mTypeError\u001b[0m                                 Traceback (most recent call last)",
            "\u001b[0;32m<ipython-input-106-f52423413534>\u001b[0m in \u001b[0;36m<cell line: 2>\u001b[0;34m()\u001b[0m\n\u001b[1;32m      1\u001b[0m \u001b[0ms\u001b[0m \u001b[0;34m=\u001b[0m \u001b[0;34m'apple'\u001b[0m\u001b[0;34m\u001b[0m\u001b[0;34m\u001b[0m\u001b[0m\n\u001b[0;32m----> 2\u001b[0;31m \u001b[0ms\u001b[0m\u001b[0;34m[\u001b[0m\u001b[0;36m0\u001b[0m\u001b[0;34m]\u001b[0m \u001b[0;34m=\u001b[0m \u001b[0;34m'b'\u001b[0m\u001b[0;34m\u001b[0m\u001b[0;34m\u001b[0m\u001b[0m\n\u001b[0m\u001b[1;32m      3\u001b[0m \u001b[0mprint\u001b[0m\u001b[0;34m(\u001b[0m\u001b[0ms\u001b[0m\u001b[0;34m)\u001b[0m\u001b[0;34m\u001b[0m\u001b[0;34m\u001b[0m\u001b[0m\n",
            "\u001b[0;31mTypeError\u001b[0m: 'str' object does not support item assignment"
          ]
        }
      ]
    },
    {
      "cell_type": "markdown",
      "source": [
        "Mutability"
      ],
      "metadata": {
        "id": "IKjORppNz4Wh"
      }
    },
    {
      "cell_type": "code",
      "source": [
        "#Lists are mutable in nature, means they can be updated in place.\n",
        "#The above examples that we saw of updating/modifying elements in-place is possible cuz of mutable nature of lists.\n",
        "\n",
        "#Strings are non-mutable, means they can't be updated in place.\n",
        "\n"
      ],
      "metadata": {
        "id": "DVFUT3ln0gVu"
      },
      "execution_count": null,
      "outputs": []
    },
    {
      "cell_type": "code",
      "source": [
        "'''Guess the output of the following piece of code.'''\n",
        "\n",
        "list1 = [1, 2, 3]\n",
        "list2 = list1\n",
        "list1[0] = 100\n",
        "print(list1, list2) #It seems like the output should be [100, 2, 3], [1, 2, 3]"
      ],
      "metadata": {
        "id": "CEH46iqM2VY3",
        "colab": {
          "base_uri": "https://localhost:8080/"
        },
        "outputId": "95be90e5-2201-4c09-8c7a-f086994c55b1"
      },
      "execution_count": null,
      "outputs": [
        {
          "output_type": "stream",
          "name": "stdout",
          "text": [
            "[100, 2, 3] [100, 2, 3]\n"
          ]
        }
      ]
    },
    {
      "cell_type": "code",
      "source": [
        "#using 'is' to check that whether list1 and list2 are same objects or not.\n",
        "\n",
        "list1 = [1, 2, 3]\n",
        "list2 = list1\n",
        "list1[0] = 100\n",
        "\n",
        "print(list1 is list2)     #True if both are same objects."
      ],
      "metadata": {
        "id": "WdSd5vno2wKo",
        "colab": {
          "base_uri": "https://localhost:8080/"
        },
        "outputId": "7182d2ec-4f37-43ee-a4e8-061686fe4cae"
      },
      "execution_count": null,
      "outputs": [
        {
          "output_type": "stream",
          "name": "stdout",
          "text": [
            "True\n"
          ]
        }
      ]
    },
    {
      "cell_type": "code",
      "source": [
        "'''Here one should understand that there is a difference between being equal and being same'''\n",
        "\n",
        "list1 = [1, 2, 3]\n",
        "list2 = list1\n",
        "list3 = [1, 2, 3]\n",
        "\n",
        "list1[0] = 100\n",
        "print(list1, list2, list3)\n",
        "#here list2 and list1 are referring to same objects.\n",
        "\n",
        "#list1 and list3 are EQUAL but are different objects.\n",
        "print(list1 == list3)\n",
        "print(list1 is list3)"
      ],
      "metadata": {
        "id": "A6mB-w0q9EHM",
        "colab": {
          "base_uri": "https://localhost:8080/"
        },
        "outputId": "aa26c9a7-55bd-453d-97d8-e36ddaa8e61e"
      },
      "execution_count": null,
      "outputs": [
        {
          "output_type": "stream",
          "name": "stdout",
          "text": [
            "[100, 2, 3] [100, 2, 3] [1, 2, 3]\n",
            "False\n",
            "False\n"
          ]
        }
      ]
    },
    {
      "cell_type": "code",
      "source": [
        "#making any change in list1 will not affect list3\n",
        "\n",
        "list1 = [1, 2, 3]\n",
        "list2 = list1\n",
        "list3 = [1, 2, 3]\n",
        "\n",
        "print(id(list1), id(list2), id(list3))\n",
        "\n",
        "print(list1, list2, list3)"
      ],
      "metadata": {
        "id": "syc1EcKO-9Op",
        "colab": {
          "base_uri": "https://localhost:8080/"
        },
        "outputId": "a16933a7-5f6d-4b49-99b9-2b2b85f63fad"
      },
      "execution_count": null,
      "outputs": [
        {
          "output_type": "stream",
          "name": "stdout",
          "text": [
            "134997627510464 134997627510464 134997627515520\n",
            "[1, 2, 3] [1, 2, 3] [1, 2, 3]\n"
          ]
        }
      ]
    },
    {
      "cell_type": "markdown",
      "source": [
        "ID of an object."
      ],
      "metadata": {
        "id": "LYQihLcf9py_"
      }
    },
    {
      "cell_type": "code",
      "source": [
        "#In python every object has a unique ID associated with it. (ID is object's memory address)\n",
        "\n",
        "#No two objects have same id.\n",
        "\n",
        "list1 = [1, 2, 3]\n",
        "list2 = list1\n",
        "list3 = [1, 2, 3]\n",
        "\n",
        "print(id(list1), id(list2)) #both are having same id as they both are referring to the same object."
      ],
      "metadata": {
        "id": "v9V6LD8G9pNM",
        "colab": {
          "base_uri": "https://localhost:8080/"
        },
        "outputId": "6e855e49-0579-4b24-bfc2-68cbf04df6dd"
      },
      "execution_count": null,
      "outputs": [
        {
          "output_type": "stream",
          "name": "stdout",
          "text": [
            "134997627509696 134997627509696\n"
          ]
        }
      ]
    },
    {
      "cell_type": "markdown",
      "source": [
        "Alias - alternate variable names referring towards the same object (i.e. having the same id). It is like giving different nicknames to the same object.\n",
        "\n",
        "![image.png](data:image/png;base64,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)"
      ],
      "metadata": {
        "id": "WPTjjRr_EjfU"
      }
    },
    {
      "cell_type": "markdown",
      "source": [
        "Thus making any change in list1 will get reflected in list2 as well."
      ],
      "metadata": {
        "id": "YSXIhpr9GM9x"
      }
    },
    {
      "cell_type": "code",
      "source": [
        "s1 = 'apple'\n",
        "s2 = s1\n",
        "\n",
        "s1 = 'ball'\n",
        "\n",
        "print(s1, s2)\n",
        "print(id(s1), id(s2))\n",
        "\n",
        "s3 = 'apple'\n",
        "print(id(s3))"
      ],
      "metadata": {
        "colab": {
          "base_uri": "https://localhost:8080/"
        },
        "id": "ZJqTRHrfRq-_",
        "outputId": "3a50f063-d9da-498e-9532-0f074377d9c4"
      },
      "execution_count": null,
      "outputs": [
        {
          "output_type": "stream",
          "name": "stdout",
          "text": [
            "ball apple\n",
            "134997626134896 134997627732976\n",
            "134997627732976\n"
          ]
        }
      ]
    },
    {
      "cell_type": "code",
      "source": [
        "#making Copy of a list.\n",
        "\n",
        "l = [1, 2, 3]\n",
        "\n",
        "#ways to copy a list.\n",
        "copy_list1 = list(l)\n",
        "copy_list2 = l.copy()\n",
        "copy_list3 = l[:]\n",
        "\n",
        "#copied list is equal to original list but is a different object.\n",
        "print(copy_list1 == l)\n",
        "print(copy_list1 is l)\n",
        "\n",
        "l[0] = 100 #modifyin original list will not make any changes in copied lists.\n",
        "print(l)\n",
        "print(copy_list1, copy_list2, copy_list3)"
      ],
      "metadata": {
        "id": "eh0gO5IwG44U",
        "colab": {
          "base_uri": "https://localhost:8080/"
        },
        "outputId": "23cd3b7e-bb8b-43c8-be13-c01831bc7639"
      },
      "execution_count": null,
      "outputs": [
        {
          "output_type": "stream",
          "name": "stdout",
          "text": [
            "True\n",
            "False\n",
            "[100, 2, 3]\n",
            "[1, 2, 3] [1, 2, 3] [1, 2, 3]\n"
          ]
        }
      ]
    },
    {
      "cell_type": "code",
      "source": [
        "list1 = [[1, 2, 3], 4, 5]\n",
        "copy_list1 = list(list1)\n",
        "\n",
        "list1[0][0] = 100\n",
        "\n",
        "print(list1)\n",
        "print(copy_list1)                #what would be the output in that case?\n",
        "print(copy_list1[0] is list1[0])\n",
        "print(list1 == copy_list1)"
      ],
      "metadata": {
        "id": "vA5lmMkJkYg6",
        "colab": {
          "base_uri": "https://localhost:8080/"
        },
        "outputId": "15996325-4f4c-4097-8f32-853f8f1ea089"
      },
      "execution_count": null,
      "outputs": [
        {
          "output_type": "stream",
          "name": "stdout",
          "text": [
            "[[100, 2, 3], 4, 5]\n",
            "[[100, 2, 3], 4, 5]\n",
            "True\n",
            "True\n"
          ]
        }
      ]
    },
    {
      "cell_type": "code",
      "source": [
        "list1 = [[1, 2, 3], 4, 5]\n",
        "copy_list1 = list(list1)\n",
        "\n",
        "list1[2] = 6\n",
        "print(list1, copy_list1)"
      ],
      "metadata": {
        "colab": {
          "base_uri": "https://localhost:8080/"
        },
        "id": "rU43aYezTy8i",
        "outputId": "88fe30c6-7305-4346-c195-2c1e57259d7b"
      },
      "execution_count": null,
      "outputs": [
        {
          "output_type": "stream",
          "name": "stdout",
          "text": [
            "[[1, 2, 3], 4, 6] [[1, 2, 3], 4, 5]\n"
          ]
        }
      ]
    },
    {
      "cell_type": "markdown",
      "source": [
        "Shallow Copy and Deep  Copy"
      ],
      "metadata": {
        "id": "gzZLdp8DlbQj"
      }
    },
    {
      "cell_type": "code",
      "source": [
        "\n",
        "'''In the previous example there was a list inside a list (mutable object inside a mutable object)\n",
        "so copy() just did the Shallow Copy => means only new-outer-list object is created\n",
        "but the inner list was same.'''\n",
        "\n",
        "#Thus on changing the inner list of list1, the inner list of copy_list1 would also change.\n",
        "\n",
        "print(copy_list1 is list1)\n",
        "print(list1 == copy_list1)\n",
        "print(list1[0])\n",
        "print(list1[0] is copy_list1[0])\n",
        "print(list1[0] == copy_list1[0])"
      ],
      "metadata": {
        "id": "mw4njdunlDlq"
      },
      "execution_count": null,
      "outputs": []
    },
    {
      "cell_type": "code",
      "source": [
        "#In such cases we can make a deepcopy\n",
        "\n",
        "from copy import deepcopy\n",
        "\n",
        "list1 = [[1, 2, 3], 4, 5]\n",
        "copy_list1 = deepcopy(list1)\n",
        "\n",
        "list1[0][0] = 100\n",
        "\n",
        "print(list1)\n",
        "print(copy_list1)\n",
        "print(list1[0] is copy_list1)\n"
      ],
      "metadata": {
        "id": "A9g1j5zdmdpi",
        "colab": {
          "base_uri": "https://localhost:8080/"
        },
        "outputId": "d447d0f3-2001-4fa2-9457-dd8497cbbf2d"
      },
      "execution_count": null,
      "outputs": [
        {
          "output_type": "stream",
          "name": "stdout",
          "text": [
            "[[100, 2, 3], 4, 5]\n",
            "[[1, 2, 3], 4, 5]\n",
            "False\n"
          ]
        }
      ]
    },
    {
      "cell_type": "markdown",
      "source": [
        "Sorting a list (ascending order) : sort vs sorted"
      ],
      "metadata": {
        "id": "-xXO2uyUtDML"
      }
    },
    {
      "cell_type": "markdown",
      "source": [
        "*In Python the sorting is possible both alphabetically and numerically by 'sort' method.*"
      ],
      "metadata": {
        "id": "ym6KuEChskXz"
      }
    },
    {
      "cell_type": "code",
      "source": [
        "#sort => modifies the original list by sorting elements but returns None\n",
        "l = [1, 8, 7, 8, 3, 5, 8, -4, 3, 2]\n",
        "print(id(l))\n",
        "l.sort()\n",
        "print(l)\n",
        "print(id(l))\n",
        "print(l.sort()) #do not do this"
      ],
      "metadata": {
        "id": "euYA6sVMso_7",
        "colab": {
          "base_uri": "https://localhost:8080/"
        },
        "outputId": "1d3ef011-a819-488f-85b9-04f0c011f501"
      },
      "execution_count": null,
      "outputs": [
        {
          "output_type": "stream",
          "name": "stdout",
          "text": [
            "134997627661312\n",
            "[-4, 1, 2, 3, 3, 5, 7, 8, 8, 8]\n",
            "134997627661312\n",
            "None\n"
          ]
        }
      ]
    },
    {
      "cell_type": "code",
      "source": [
        "#sorted => returns a new sorted list without modifying the original list.\n",
        "l = [1, 8, 7, 8, 3, 5, 8, -4, 3, 2]\n",
        "print(id(l))\n",
        "a = sorted(l)\n",
        "print(id(l))\n",
        "print(a)\n",
        "print(sorted(l))"
      ],
      "metadata": {
        "id": "ktSatABStTQ-",
        "colab": {
          "base_uri": "https://localhost:8080/"
        },
        "outputId": "7398a92b-261f-4d39-931a-e5b76030a27e"
      },
      "execution_count": null,
      "outputs": [
        {
          "output_type": "stream",
          "name": "stdout",
          "text": [
            "134997626054592\n",
            "134997626054592\n",
            "[-4, 1, 2, 3, 3, 5, 7, 8, 8, 8]\n",
            "[-4, 1, 2, 3, 3, 5, 7, 8, 8, 8]\n"
          ]
        }
      ]
    },
    {
      "cell_type": "markdown",
      "source": [
        "Reverse Sorting a List (descending order)"
      ],
      "metadata": {
        "id": "BhcSJbEAnfmh"
      }
    },
    {
      "cell_type": "code",
      "source": [
        "l = [1, 8, 7, 8, 3, 5, 8, -4, 3, 2]\n",
        "#syntax: l.sort(reverse = True/False(default))\n",
        "l.sort(reverse = True)\n",
        "print(l)"
      ],
      "metadata": {
        "id": "7oZpQnRDtpSG",
        "colab": {
          "base_uri": "https://localhost:8080/"
        },
        "outputId": "8d3ec31c-950c-4579-9d02-9865e457a217"
      },
      "execution_count": null,
      "outputs": [
        {
          "output_type": "stream",
          "name": "stdout",
          "text": [
            "[8, 8, 8, 7, 5, 3, 3, 2, 1, -4]\n"
          ]
        }
      ]
    },
    {
      "cell_type": "code",
      "source": [
        "l = [1, 8, 7, 8, 3, 5, 8, -4, 3, 2]\n",
        "#syntax: sorted(iterable, reverse = True/False(default))\n",
        "\n",
        "a = sorted(l, reverse = True)\n",
        "print(a)\n"
      ],
      "metadata": {
        "id": "xlmQrn4So5Lr",
        "colab": {
          "base_uri": "https://localhost:8080/"
        },
        "outputId": "910af03a-bdf2-4caa-fc54-10c16ff74463"
      },
      "execution_count": null,
      "outputs": [
        {
          "output_type": "stream",
          "name": "stdout",
          "text": [
            "[8, 8, 8, 7, 5, 3, 3, 2, 1, -4]\n"
          ]
        }
      ]
    },
    {
      "cell_type": "markdown",
      "source": [
        "Reversing a list: reverse vs reversed"
      ],
      "metadata": {
        "id": "q4b1B79cpH0v"
      }
    },
    {
      "cell_type": "code",
      "source": [
        "#reverse => reverses the original list without creating any new list and returns None.\n",
        "l = [1, 8, 7, 8, 3, 5, 8, -4, 3, 2]\n",
        "\n",
        "l.reverse()\n",
        "print(l)"
      ],
      "metadata": {
        "id": "b33EBaRApNfD",
        "colab": {
          "base_uri": "https://localhost:8080/"
        },
        "outputId": "207c3a4d-386b-4277-db23-47e61cccdc8c"
      },
      "execution_count": null,
      "outputs": [
        {
          "output_type": "stream",
          "name": "stdout",
          "text": [
            "[2, 3, -4, 8, 5, 3, 8, 7, 8, 1]\n"
          ]
        }
      ]
    },
    {
      "cell_type": "code",
      "source": [
        "#reversed => returns a object of class list_reverseiterator which is reverse of original list.\n",
        "l = [1, 8, 7, 8, 3, 5, 8, -4, 3, 2]\n",
        "\n",
        "a = list(reversed(l))\n",
        "print(a)\n",
        "print(list(reversed(l)))"
      ],
      "metadata": {
        "id": "-G753u79pgV4",
        "colab": {
          "base_uri": "https://localhost:8080/"
        },
        "outputId": "409ad69f-9c43-478a-dfcc-ff1cb8be3363"
      },
      "execution_count": null,
      "outputs": [
        {
          "output_type": "stream",
          "name": "stdout",
          "text": [
            "[2, 3, -4, 8, 5, 3, 8, 7, 8, 1]\n",
            "[2, 3, -4, 8, 5, 3, 8, 7, 8, 1]\n"
          ]
        }
      ]
    },
    {
      "cell_type": "markdown",
      "source": [
        "List of Strings to Strings: Join Method"
      ],
      "metadata": {
        "id": "99vzJBfxp2l7"
      }
    },
    {
      "cell_type": "code",
      "source": [
        "s = 'I@like@apples'\n",
        "l = s.split('@')\n",
        "print(l)"
      ],
      "metadata": {
        "colab": {
          "base_uri": "https://localhost:8080/"
        },
        "id": "PF0WbshTXzMy",
        "outputId": "f55ca9ed-3d06-4e33-c329-2efbf144f117"
      },
      "execution_count": null,
      "outputs": [
        {
          "output_type": "stream",
          "name": "stdout",
          "text": [
            "['I', 'like', 'apples']\n"
          ]
        }
      ]
    },
    {
      "cell_type": "code",
      "source": [
        "l = ['I', 'like', 'apples']\n",
        "\n",
        "s = ' '.join(l)\n",
        "print(s)"
      ],
      "metadata": {
        "colab": {
          "base_uri": "https://localhost:8080/"
        },
        "id": "wNKxMhXDYGhj",
        "outputId": "3f5a14bf-b2c2-467b-9c17-55f3683b4a9e"
      },
      "execution_count": null,
      "outputs": [
        {
          "output_type": "stream",
          "name": "stdout",
          "text": [
            "I like apples\n"
          ]
        }
      ]
    },
    {
      "cell_type": "code",
      "source": [
        "#Using split() we can split the string. The splitted substrings are stored as a seperate element in a list.\n",
        "#Using join() we can join the elements of a 'list of strings' into a 'single string'.\n",
        "\n",
        "l = ['apple', 'ball', 'cat', 'dog']\n",
        "s = '-'.join(l)                #store each element of l: (list of strings) in a single string 's' with a '-' in between.\n",
        "print(s)               #your output should look like: apple-ball-cat-dog\n"
      ],
      "metadata": {
        "id": "2KNPQsYhp7wb",
        "colab": {
          "base_uri": "https://localhost:8080/"
        },
        "outputId": "1f498959-e5f1-4a67-8d4e-eb7fee0f28b0"
      },
      "execution_count": null,
      "outputs": [
        {
          "output_type": "stream",
          "name": "stdout",
          "text": [
            "apple-ball-cat-dog\n"
          ]
        }
      ]
    },
    {
      "cell_type": "markdown",
      "source": [
        "Initializing a list using range"
      ],
      "metadata": {
        "id": "GYHEdIbgto3U"
      }
    },
    {
      "cell_type": "code",
      "source": [
        "l = list(range(1, 6))\n",
        "print(l)"
      ],
      "metadata": {
        "id": "9R6V614qY0tE"
      },
      "execution_count": null,
      "outputs": []
    },
    {
      "cell_type": "code",
      "source": [
        "#print a list of first 10 even numbers\n",
        "\n",
        "print(list(range(2, 21, 2)))"
      ],
      "metadata": {
        "id": "INzw6JYWtoCe",
        "colab": {
          "base_uri": "https://localhost:8080/"
        },
        "outputId": "22e53947-eab8-496f-8c58-3fa1fa8893f6"
      },
      "execution_count": null,
      "outputs": [
        {
          "output_type": "stream",
          "name": "stdout",
          "text": [
            "[2, 4, 6, 8, 10, 12, 14, 16, 18, 20]\n"
          ]
        }
      ]
    },
    {
      "cell_type": "markdown",
      "source": [
        "##1.1 List Comprehensions"
      ],
      "metadata": {
        "id": "B1dEUDvOtJLR"
      }
    },
    {
      "cell_type": "markdown",
      "source": [
        "syntax: [$f(x)$ for $x$ in *iterable*]\n",
        "- f(x) is expression in variable x.\n",
        "- x is a local variable that refers to each value of iterable.\n",
        "- iterable: any iterable object (string, list, tuple, etc..)"
      ],
      "metadata": {
        "id": "LnvBEFuLuUVj"
      }
    },
    {
      "cell_type": "code",
      "source": [
        "#given a list of integers, print a new list with elements double the elements of given list.\n",
        "\n",
        "l = [1, -1, 3, 2, 6]\n",
        "\n",
        "new_list = [2*x for x in l]\n",
        "\n",
        "print(new_list)      #the output should be [2, -2, 6, 4, 12]"
      ],
      "metadata": {
        "id": "umX7gA1BtNLT",
        "colab": {
          "base_uri": "https://localhost:8080/"
        },
        "outputId": "749dad81-c248-4369-ee58-8891fe18d0ac"
      },
      "execution_count": null,
      "outputs": [
        {
          "output_type": "stream",
          "name": "stdout",
          "text": [
            "[2, -2, 6, 4, 12]\n"
          ]
        }
      ]
    },
    {
      "cell_type": "code",
      "source": [
        "l = [1, -1, 3, 2, 6]\n",
        "\n",
        "m = []\n",
        "for i in l:\n",
        "  m.append(2*i)\n",
        "\n",
        "print(m)"
      ],
      "metadata": {
        "colab": {
          "base_uri": "https://localhost:8080/"
        },
        "id": "koOp2ELDZVzq",
        "outputId": "3ef34af9-8bc0-4d6e-9289-638980de771b"
      },
      "execution_count": null,
      "outputs": [
        {
          "output_type": "stream",
          "name": "stdout",
          "text": [
            "[2, -2, 6, 4, 12]\n"
          ]
        }
      ]
    },
    {
      "cell_type": "markdown",
      "source": [
        "Using filter:\n",
        "- syntax: [$f(x)$ for $x$ in *iterable* if *condition*]"
      ],
      "metadata": {
        "id": "mNvH9-9AvbK6"
      }
    },
    {
      "cell_type": "code",
      "source": [
        "#list of all the factors of a given number.\n",
        "\n",
        "n = 24\n",
        "\n",
        "fact_list = [i for i in range(1, n+1) if n%i == 0]\n",
        "\n",
        "print(fact_list)       #the ouotput should be [1, 2, 3, 4, 6, 8, 12, 24]"
      ],
      "metadata": {
        "id": "KUDxPHoVvdr7",
        "colab": {
          "base_uri": "https://localhost:8080/"
        },
        "outputId": "e3a47006-53f2-4eaf-8d9b-208ff9087bd2"
      },
      "execution_count": null,
      "outputs": [
        {
          "output_type": "stream",
          "name": "stdout",
          "text": [
            "[1, 2, 3, 4, 6, 8, 12, 24]\n"
          ]
        }
      ]
    },
    {
      "cell_type": "code",
      "source": [
        "n = 24\n",
        "l = []\n",
        "\n",
        "for i in range(1, n+1):\n",
        "  if n%i == 0:\n",
        "    l.append(i)\n",
        "\n",
        "print(l)"
      ],
      "metadata": {
        "colab": {
          "base_uri": "https://localhost:8080/"
        },
        "id": "EB2-8TSjaL0D",
        "outputId": "26a5312e-009e-4f3a-df6f-73b87abba1c4"
      },
      "execution_count": null,
      "outputs": [
        {
          "output_type": "stream",
          "name": "stdout",
          "text": [
            "[1, 2, 3, 4, 6, 8, 12, 24]\n"
          ]
        }
      ]
    },
    {
      "cell_type": "code",
      "source": [
        "l = [15, 24, 32, 41, 56, 96, 7]\n",
        "\n",
        "m = []\n",
        "\n",
        "for i in l:\n",
        "  if i % 2 == 0:\n",
        "    m.append(i**2)\n",
        "\n",
        "print(m)"
      ],
      "metadata": {
        "colab": {
          "base_uri": "https://localhost:8080/"
        },
        "id": "WmuUZZeea0n5",
        "outputId": "75f30f17-50c9-40b2-8491-aec288be0f7f"
      },
      "execution_count": null,
      "outputs": [
        {
          "output_type": "stream",
          "name": "stdout",
          "text": [
            "[576, 1024, 3136, 9216]\n"
          ]
        }
      ]
    },
    {
      "cell_type": "code",
      "source": [
        "l = [15, 24, 32, 41, 56, 96, 7]\n",
        "\n",
        "print([x**2 for x in l if x%2 == 0])"
      ],
      "metadata": {
        "colab": {
          "base_uri": "https://localhost:8080/"
        },
        "id": "FN7C2dG_bS0c",
        "outputId": "98fcbc36-fffa-488a-ca45-0db58e74f4a5"
      },
      "execution_count": null,
      "outputs": [
        {
          "output_type": "stream",
          "name": "stdout",
          "text": [
            "[576, 1024, 3136, 9216]\n"
          ]
        }
      ]
    },
    {
      "cell_type": "markdown",
      "source": [
        "- syntax: [$f(x)$ if *condition* else $g(x)$ for x in *iterable*]"
      ],
      "metadata": {
        "id": "4EGCSIwjxMHb"
      }
    },
    {
      "cell_type": "code",
      "source": [
        "'''\n",
        "given a list l, create a new_list such that:\n",
        "if i is even:\n",
        "  new_list[i] = square of l[i]\n",
        "and if i is odd:\n",
        "  new_list[i] = double of l[i]\n",
        "'''\n",
        "\n",
        "l = [1, 8, 7, 8, 3, 5, 8, -4, 3, 2]\n",
        "\n",
        "new_list = [l[i]**2 if i%2 == 0 else 2*l[i] for i in range(len(l))]\n",
        "\n",
        "print(new_list) #output: [1, 16, 49, 16, 9, 10, 64, -8, 9, 4]"
      ],
      "metadata": {
        "id": "bLkWt2EixgrH",
        "colab": {
          "base_uri": "https://localhost:8080/"
        },
        "outputId": "350fd392-9e7e-49c5-8023-35994a8f3e6f"
      },
      "execution_count": null,
      "outputs": [
        {
          "output_type": "stream",
          "name": "stdout",
          "text": [
            "[1, 16, 49, 16, 9, 10, 64, -8, 9, 4]\n"
          ]
        }
      ]
    },
    {
      "cell_type": "code",
      "source": [
        "l = [1, 8, 7, 8, 3, 5, 8, -4, 3, 2]\n",
        "\n",
        "for i in range(len(l)):\n",
        "  if i % 2 == 0:\n",
        "    l[i] = l[i]**2\n",
        "  else:\n",
        "    l[i] = 2*l[i]\n",
        "\n",
        "print(l)\n",
        "\n"
      ],
      "metadata": {
        "colab": {
          "base_uri": "https://localhost:8080/"
        },
        "id": "msu7B6cFbzYe",
        "outputId": "1f8e5efa-3691-4dc3-d298-40911fe0e2ed"
      },
      "execution_count": null,
      "outputs": [
        {
          "output_type": "stream",
          "name": "stdout",
          "text": [
            "[1, 16, 49, 16, 9, 10, 64, -8, 9, 4]\n"
          ]
        }
      ]
    },
    {
      "cell_type": "markdown",
      "source": [
        "Multiple for in list comprehension\n",
        "- syntax: [y for x in range(a) for y in range(b)]\n",
        "- This corresponds to:\n",
        "```\n",
        "  new_list = []\n",
        "  for x in range(a):\n",
        "    for y in range(b):\n",
        "      new_list.append(y)\n",
        "```"
      ],
      "metadata": {
        "id": "DywPR92-zMQx"
      }
    },
    {
      "cell_type": "code",
      "source": [
        "new_list = [y for x in range(3) for y in range(3)]\n",
        "print(new_list)"
      ],
      "metadata": {
        "id": "IhZIY1e30_Aa",
        "colab": {
          "base_uri": "https://localhost:8080/"
        },
        "outputId": "a75c0b40-ef47-4d21-81f2-2eeaa70c7dd0"
      },
      "execution_count": null,
      "outputs": [
        {
          "output_type": "stream",
          "name": "stdout",
          "text": [
            "[0, 1, 2, 0, 1, 2, 0, 1, 2]\n"
          ]
        }
      ]
    },
    {
      "cell_type": "code",
      "source": [
        "new_list = []\n",
        "for x in range(3):\n",
        "  for y in range(3):\n",
        "    new_list.append(y)\n",
        "print(new_list)"
      ],
      "metadata": {
        "id": "oTgbl12a2ir2",
        "colab": {
          "base_uri": "https://localhost:8080/"
        },
        "outputId": "5c40573c-a1d5-43d4-b451-3de45648e467"
      },
      "execution_count": null,
      "outputs": [
        {
          "output_type": "stream",
          "name": "stdout",
          "text": [
            "[0, 1, 2, 0, 1, 2, 0, 1, 2]\n"
          ]
        }
      ]
    },
    {
      "cell_type": "code",
      "source": [
        "for x in range(3):\n",
        "  for y in range(3):\n",
        "    print(f'{x}, {y}')"
      ],
      "metadata": {
        "colab": {
          "base_uri": "https://localhost:8080/"
        },
        "id": "BIdjbCgbd2df",
        "outputId": "bd1dbc79-703c-4ecf-825c-e511417cd505"
      },
      "execution_count": null,
      "outputs": [
        {
          "output_type": "stream",
          "name": "stdout",
          "text": [
            "0, 0\n",
            "0, 1\n",
            "0, 2\n",
            "1, 0\n",
            "1, 1\n",
            "1, 2\n",
            "2, 0\n",
            "2, 1\n",
            "2, 2\n"
          ]
        }
      ]
    },
    {
      "cell_type": "code",
      "source": [
        "#create a matrix of order 3*3: [[0, 1, 2], [0, 1, 2], [0, 1, 2]]\n",
        "\n",
        "#in python a matrix is denoted by a list of lists.\n",
        "\n",
        "new_list = [[i for i in range(3)] for y in range(3)]\n",
        "\n",
        "print(new_list)"
      ],
      "metadata": {
        "id": "RgW1W3lT23cY",
        "colab": {
          "base_uri": "https://localhost:8080/"
        },
        "outputId": "53670538-42ae-4a31-ce48-e206f8fb9cff"
      },
      "execution_count": null,
      "outputs": [
        {
          "output_type": "stream",
          "name": "stdout",
          "text": [
            "[[0, 1, 2], [0, 1, 2], [0, 1, 2]]\n"
          ]
        }
      ]
    },
    {
      "cell_type": "code",
      "source": [
        "l = []\n",
        "\n",
        "for i in range(3):\n",
        "  m = []\n",
        "  for j in range(3):\n",
        "    m.append(j)\n",
        "  l.append(m)\n",
        "\n",
        "print(l)\n"
      ],
      "metadata": {
        "id": "-zAWeqgs4vcO",
        "colab": {
          "base_uri": "https://localhost:8080/"
        },
        "outputId": "e655e78b-d012-406f-d0aa-b8f3b1c435a5"
      },
      "execution_count": null,
      "outputs": [
        {
          "output_type": "stream",
          "name": "stdout",
          "text": [
            "[[0, 1, 2], [0, 1, 2], [0, 1, 2]]\n"
          ]
        }
      ]
    },
    {
      "cell_type": "code",
      "source": [
        "m = []\n",
        "for j in range(3):\n",
        "  m.append(j)\n",
        "\n",
        "print(m)\n",
        "\n",
        "\n"
      ],
      "metadata": {
        "colab": {
          "base_uri": "https://localhost:8080/"
        },
        "id": "eRGcFe8Ye0Wj",
        "outputId": "f71c5ac5-5e3c-4350-9f64-aeebb31b32d7"
      },
      "execution_count": null,
      "outputs": [
        {
          "output_type": "stream",
          "name": "stdout",
          "text": [
            "[0, 1, 2]\n"
          ]
        }
      ]
    }
  ]
}