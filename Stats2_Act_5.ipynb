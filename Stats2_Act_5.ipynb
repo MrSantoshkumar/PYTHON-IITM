{
  "nbformat": 4,
  "nbformat_minor": 0,
  "metadata": {
    "colab": {
      "provenance": [],
      "include_colab_link": true
    },
    "kernelspec": {
      "name": "python3",
      "display_name": "Python 3"
    },
    "language_info": {
      "name": "python"
    }
  },
  "cells": [
    {
      "cell_type": "markdown",
      "metadata": {
        "id": "view-in-github",
        "colab_type": "text"
      },
      "source": [
        "<a href=\"https://colab.research.google.com/github/MrSantoshkumar/PYTHON-IITM/blob/main/Stats2_Act_5.ipynb\" target=\"_parent\"><img src=\"https://colab.research.google.com/assets/colab-badge.svg\" alt=\"Open In Colab\"/></a>"
      ]
    },
    {
      "cell_type": "markdown",
      "source": [
        "# Extra Activity 5"
      ],
      "metadata": {
        "id": "a7Xf1BlVtRVl"
      }
    },
    {
      "cell_type": "code",
      "source": [],
      "metadata": {
        "id": "mbUXmhM86-fX"
      },
      "execution_count": null,
      "outputs": []
    },
    {
      "cell_type": "markdown",
      "source": [
        "Fitting distribution to data"
      ],
      "metadata": {
        "id": "FXWG6aMvtpAk"
      }
    },
    {
      "cell_type": "markdown",
      "source": [
        "We need to create a Google Colab notebook with:\n",
        "\n",
        "\n",
        "\n",
        "1.   Histogram for the data.\n",
        "2.   Fit one of the known distributions to the data.\n",
        "3.   Calculate method of moments estimate and ML estimate for the unknown     parameter(s) of the selected distribution.\n",
        "4.   Use the bootstrap method to form approximate confidence intervals for the parameters, if applicable.\n",
        "\n",
        "\n",
        "\n",
        "\n",
        "\n",
        "\n"
      ],
      "metadata": {
        "id": "6wie5cGunwb4"
      }
    },
    {
      "cell_type": "markdown",
      "source": [
        "# IMPORTING ALL NECESSARY PACKAGES"
      ],
      "metadata": {
        "id": "6s1lYN_pudEF"
      }
    },
    {
      "cell_type": "code",
      "execution_count": null,
      "metadata": {
        "id": "V0DGZmubnnH-"
      },
      "outputs": [],
      "source": [
        "import numpy as np\n",
        "import scipy.stats as st\n",
        "import pandas as pd\n",
        "import matplotlib.pyplot as plt"
      ]
    },
    {
      "cell_type": "markdown",
      "source": [
        "# For generating a Gamma Distribution Data"
      ],
      "metadata": {
        "id": "DZqxNafdoDOU"
      }
    },
    {
      "cell_type": "code",
      "source": [
        "# # Set the shape and scale parameters of the gamma distribution\n",
        "\n",
        "# shape = 2\n",
        "# scale = 3\n",
        "\n",
        "# # Generate a scores dataset of size n with the gamma distribution\n",
        "# n = 1000\n",
        "# scores = np.random.gamma(shape, scale, n)"
      ],
      "metadata": {
        "id": "uNkQFjYRoKpq"
      },
      "execution_count": null,
      "outputs": []
    },
    {
      "cell_type": "markdown",
      "source": [
        "# Changing Data to DataFrame"
      ],
      "metadata": {
        "id": "KM55-WXlu-nG"
      }
    },
    {
      "cell_type": "code",
      "source": [
        "# df = pd.DataFrame(scores)\n",
        "# df"
      ],
      "metadata": {
        "id": "aFbTZ_5Dov0g"
      },
      "execution_count": null,
      "outputs": []
    },
    {
      "cell_type": "markdown",
      "source": [
        "# Extracting as .xlsx File"
      ],
      "metadata": {
        "id": "JkeU64qcvjn2"
      }
    },
    {
      "cell_type": "code",
      "source": [
        "\n",
        "# df.to_excel('/content/drive/MyDrive/stats2 course/Week 9/Extra Activity 6 - Week 9.xlsx')"
      ],
      "metadata": {
        "id": "RrwbwVejo0CR"
      },
      "execution_count": null,
      "outputs": []
    },
    {
      "cell_type": "markdown",
      "source": [
        "#Importing data set\n",
        "We will use the pandas module in python to read the excel file.\n",
        "\n",
        "#Mount the Google Drive\n",
        "Give Authorization of drive then go to files here right in the side bar, navigate to the file and click on three dot, click on copy path then paste the path down here"
      ],
      "metadata": {
        "id": "LQ4fGLewvzNh"
      }
    },
    {
      "cell_type": "code",
      "source": [
        "from google.colab import drive\n",
        "drive.mount('/content/gdrive')"
      ],
      "metadata": {
        "colab": {
          "base_uri": "https://localhost:8080/"
        },
        "id": "Xixtw7ljo9a9",
        "outputId": "16077bfb-7ecf-4dcb-9fac-e6a30c48d8df"
      },
      "execution_count": null,
      "outputs": [
        {
          "output_type": "stream",
          "name": "stdout",
          "text": [
            "Drive already mounted at /content/gdrive; to attempt to forcibly remount, call drive.mount(\"/content/gdrive\", force_remount=True).\n"
          ]
        }
      ]
    },
    {
      "cell_type": "code",
      "source": [
        "df = pd.read_excel(r'/content/gdrive/MyDrive/stats2course/week9/extraactivity5.xlsx',index_col=None)\n",
        "df"
      ],
      "metadata": {
        "colab": {
          "base_uri": "https://localhost:8080/",
          "height": 424
        },
        "id": "il0HlpP1wBLP",
        "outputId": "a8b5fcaa-9ffa-40e1-add9-068fa915e7e6"
      },
      "execution_count": null,
      "outputs": [
        {
          "output_type": "execute_result",
          "data": {
            "text/plain": [
              "          Data\n",
              "0     3.515175\n",
              "1     2.594937\n",
              "2     4.156913\n",
              "3     4.795458\n",
              "4    11.129027\n",
              "..         ...\n",
              "995   3.738553\n",
              "996   4.664038\n",
              "997   5.459091\n",
              "998   7.492643\n",
              "999   4.244500\n",
              "\n",
              "[1000 rows x 1 columns]"
            ],
            "text/html": [
              "\n",
              "  <div id=\"df-5a09e0eb-3255-4f8a-b84a-641fdae4ea66\" class=\"colab-df-container\">\n",
              "    <div>\n",
              "<style scoped>\n",
              "    .dataframe tbody tr th:only-of-type {\n",
              "        vertical-align: middle;\n",
              "    }\n",
              "\n",
              "    .dataframe tbody tr th {\n",
              "        vertical-align: top;\n",
              "    }\n",
              "\n",
              "    .dataframe thead th {\n",
              "        text-align: right;\n",
              "    }\n",
              "</style>\n",
              "<table border=\"1\" class=\"dataframe\">\n",
              "  <thead>\n",
              "    <tr style=\"text-align: right;\">\n",
              "      <th></th>\n",
              "      <th>Data</th>\n",
              "    </tr>\n",
              "  </thead>\n",
              "  <tbody>\n",
              "    <tr>\n",
              "      <th>0</th>\n",
              "      <td>3.515175</td>\n",
              "    </tr>\n",
              "    <tr>\n",
              "      <th>1</th>\n",
              "      <td>2.594937</td>\n",
              "    </tr>\n",
              "    <tr>\n",
              "      <th>2</th>\n",
              "      <td>4.156913</td>\n",
              "    </tr>\n",
              "    <tr>\n",
              "      <th>3</th>\n",
              "      <td>4.795458</td>\n",
              "    </tr>\n",
              "    <tr>\n",
              "      <th>4</th>\n",
              "      <td>11.129027</td>\n",
              "    </tr>\n",
              "    <tr>\n",
              "      <th>...</th>\n",
              "      <td>...</td>\n",
              "    </tr>\n",
              "    <tr>\n",
              "      <th>995</th>\n",
              "      <td>3.738553</td>\n",
              "    </tr>\n",
              "    <tr>\n",
              "      <th>996</th>\n",
              "      <td>4.664038</td>\n",
              "    </tr>\n",
              "    <tr>\n",
              "      <th>997</th>\n",
              "      <td>5.459091</td>\n",
              "    </tr>\n",
              "    <tr>\n",
              "      <th>998</th>\n",
              "      <td>7.492643</td>\n",
              "    </tr>\n",
              "    <tr>\n",
              "      <th>999</th>\n",
              "      <td>4.244500</td>\n",
              "    </tr>\n",
              "  </tbody>\n",
              "</table>\n",
              "<p>1000 rows × 1 columns</p>\n",
              "</div>\n",
              "    <div class=\"colab-df-buttons\">\n",
              "\n",
              "  <div class=\"colab-df-container\">\n",
              "    <button class=\"colab-df-convert\" onclick=\"convertToInteractive('df-5a09e0eb-3255-4f8a-b84a-641fdae4ea66')\"\n",
              "            title=\"Convert this dataframe to an interactive table.\"\n",
              "            style=\"display:none;\">\n",
              "\n",
              "  <svg xmlns=\"http://www.w3.org/2000/svg\" height=\"24px\" viewBox=\"0 -960 960 960\">\n",
              "    <path d=\"M120-120v-720h720v720H120Zm60-500h600v-160H180v160Zm220 220h160v-160H400v160Zm0 220h160v-160H400v160ZM180-400h160v-160H180v160Zm440 0h160v-160H620v160ZM180-180h160v-160H180v160Zm440 0h160v-160H620v160Z\"/>\n",
              "  </svg>\n",
              "    </button>\n",
              "\n",
              "  <style>\n",
              "    .colab-df-container {\n",
              "      display:flex;\n",
              "      gap: 12px;\n",
              "    }\n",
              "\n",
              "    .colab-df-convert {\n",
              "      background-color: #E8F0FE;\n",
              "      border: none;\n",
              "      border-radius: 50%;\n",
              "      cursor: pointer;\n",
              "      display: none;\n",
              "      fill: #1967D2;\n",
              "      height: 32px;\n",
              "      padding: 0 0 0 0;\n",
              "      width: 32px;\n",
              "    }\n",
              "\n",
              "    .colab-df-convert:hover {\n",
              "      background-color: #E2EBFA;\n",
              "      box-shadow: 0px 1px 2px rgba(60, 64, 67, 0.3), 0px 1px 3px 1px rgba(60, 64, 67, 0.15);\n",
              "      fill: #174EA6;\n",
              "    }\n",
              "\n",
              "    .colab-df-buttons div {\n",
              "      margin-bottom: 4px;\n",
              "    }\n",
              "\n",
              "    [theme=dark] .colab-df-convert {\n",
              "      background-color: #3B4455;\n",
              "      fill: #D2E3FC;\n",
              "    }\n",
              "\n",
              "    [theme=dark] .colab-df-convert:hover {\n",
              "      background-color: #434B5C;\n",
              "      box-shadow: 0px 1px 3px 1px rgba(0, 0, 0, 0.15);\n",
              "      filter: drop-shadow(0px 1px 2px rgba(0, 0, 0, 0.3));\n",
              "      fill: #FFFFFF;\n",
              "    }\n",
              "  </style>\n",
              "\n",
              "    <script>\n",
              "      const buttonEl =\n",
              "        document.querySelector('#df-5a09e0eb-3255-4f8a-b84a-641fdae4ea66 button.colab-df-convert');\n",
              "      buttonEl.style.display =\n",
              "        google.colab.kernel.accessAllowed ? 'block' : 'none';\n",
              "\n",
              "      async function convertToInteractive(key) {\n",
              "        const element = document.querySelector('#df-5a09e0eb-3255-4f8a-b84a-641fdae4ea66');\n",
              "        const dataTable =\n",
              "          await google.colab.kernel.invokeFunction('convertToInteractive',\n",
              "                                                    [key], {});\n",
              "        if (!dataTable) return;\n",
              "\n",
              "        const docLinkHtml = 'Like what you see? Visit the ' +\n",
              "          '<a target=\"_blank\" href=https://colab.research.google.com/notebooks/data_table.ipynb>data table notebook</a>'\n",
              "          + ' to learn more about interactive tables.';\n",
              "        element.innerHTML = '';\n",
              "        dataTable['output_type'] = 'display_data';\n",
              "        await google.colab.output.renderOutput(dataTable, element);\n",
              "        const docLink = document.createElement('div');\n",
              "        docLink.innerHTML = docLinkHtml;\n",
              "        element.appendChild(docLink);\n",
              "      }\n",
              "    </script>\n",
              "  </div>\n",
              "\n",
              "\n",
              "<div id=\"df-0a96fdca-cd63-4756-8ff3-a7a55311c258\">\n",
              "  <button class=\"colab-df-quickchart\" onclick=\"quickchart('df-0a96fdca-cd63-4756-8ff3-a7a55311c258')\"\n",
              "            title=\"Suggest charts\"\n",
              "            style=\"display:none;\">\n",
              "\n",
              "<svg xmlns=\"http://www.w3.org/2000/svg\" height=\"24px\"viewBox=\"0 0 24 24\"\n",
              "     width=\"24px\">\n",
              "    <g>\n",
              "        <path d=\"M19 3H5c-1.1 0-2 .9-2 2v14c0 1.1.9 2 2 2h14c1.1 0 2-.9 2-2V5c0-1.1-.9-2-2-2zM9 17H7v-7h2v7zm4 0h-2V7h2v10zm4 0h-2v-4h2v4z\"/>\n",
              "    </g>\n",
              "</svg>\n",
              "  </button>\n",
              "\n",
              "<style>\n",
              "  .colab-df-quickchart {\n",
              "      --bg-color: #E8F0FE;\n",
              "      --fill-color: #1967D2;\n",
              "      --hover-bg-color: #E2EBFA;\n",
              "      --hover-fill-color: #174EA6;\n",
              "      --disabled-fill-color: #AAA;\n",
              "      --disabled-bg-color: #DDD;\n",
              "  }\n",
              "\n",
              "  [theme=dark] .colab-df-quickchart {\n",
              "      --bg-color: #3B4455;\n",
              "      --fill-color: #D2E3FC;\n",
              "      --hover-bg-color: #434B5C;\n",
              "      --hover-fill-color: #FFFFFF;\n",
              "      --disabled-bg-color: #3B4455;\n",
              "      --disabled-fill-color: #666;\n",
              "  }\n",
              "\n",
              "  .colab-df-quickchart {\n",
              "    background-color: var(--bg-color);\n",
              "    border: none;\n",
              "    border-radius: 50%;\n",
              "    cursor: pointer;\n",
              "    display: none;\n",
              "    fill: var(--fill-color);\n",
              "    height: 32px;\n",
              "    padding: 0;\n",
              "    width: 32px;\n",
              "  }\n",
              "\n",
              "  .colab-df-quickchart:hover {\n",
              "    background-color: var(--hover-bg-color);\n",
              "    box-shadow: 0 1px 2px rgba(60, 64, 67, 0.3), 0 1px 3px 1px rgba(60, 64, 67, 0.15);\n",
              "    fill: var(--button-hover-fill-color);\n",
              "  }\n",
              "\n",
              "  .colab-df-quickchart-complete:disabled,\n",
              "  .colab-df-quickchart-complete:disabled:hover {\n",
              "    background-color: var(--disabled-bg-color);\n",
              "    fill: var(--disabled-fill-color);\n",
              "    box-shadow: none;\n",
              "  }\n",
              "\n",
              "  .colab-df-spinner {\n",
              "    border: 2px solid var(--fill-color);\n",
              "    border-color: transparent;\n",
              "    border-bottom-color: var(--fill-color);\n",
              "    animation:\n",
              "      spin 1s steps(1) infinite;\n",
              "  }\n",
              "\n",
              "  @keyframes spin {\n",
              "    0% {\n",
              "      border-color: transparent;\n",
              "      border-bottom-color: var(--fill-color);\n",
              "      border-left-color: var(--fill-color);\n",
              "    }\n",
              "    20% {\n",
              "      border-color: transparent;\n",
              "      border-left-color: var(--fill-color);\n",
              "      border-top-color: var(--fill-color);\n",
              "    }\n",
              "    30% {\n",
              "      border-color: transparent;\n",
              "      border-left-color: var(--fill-color);\n",
              "      border-top-color: var(--fill-color);\n",
              "      border-right-color: var(--fill-color);\n",
              "    }\n",
              "    40% {\n",
              "      border-color: transparent;\n",
              "      border-right-color: var(--fill-color);\n",
              "      border-top-color: var(--fill-color);\n",
              "    }\n",
              "    60% {\n",
              "      border-color: transparent;\n",
              "      border-right-color: var(--fill-color);\n",
              "    }\n",
              "    80% {\n",
              "      border-color: transparent;\n",
              "      border-right-color: var(--fill-color);\n",
              "      border-bottom-color: var(--fill-color);\n",
              "    }\n",
              "    90% {\n",
              "      border-color: transparent;\n",
              "      border-bottom-color: var(--fill-color);\n",
              "    }\n",
              "  }\n",
              "</style>\n",
              "\n",
              "  <script>\n",
              "    async function quickchart(key) {\n",
              "      const quickchartButtonEl =\n",
              "        document.querySelector('#' + key + ' button');\n",
              "      quickchartButtonEl.disabled = true;  // To prevent multiple clicks.\n",
              "      quickchartButtonEl.classList.add('colab-df-spinner');\n",
              "      try {\n",
              "        const charts = await google.colab.kernel.invokeFunction(\n",
              "            'suggestCharts', [key], {});\n",
              "      } catch (error) {\n",
              "        console.error('Error during call to suggestCharts:', error);\n",
              "      }\n",
              "      quickchartButtonEl.classList.remove('colab-df-spinner');\n",
              "      quickchartButtonEl.classList.add('colab-df-quickchart-complete');\n",
              "    }\n",
              "    (() => {\n",
              "      let quickchartButtonEl =\n",
              "        document.querySelector('#df-0a96fdca-cd63-4756-8ff3-a7a55311c258 button');\n",
              "      quickchartButtonEl.style.display =\n",
              "        google.colab.kernel.accessAllowed ? 'block' : 'none';\n",
              "    })();\n",
              "  </script>\n",
              "</div>\n",
              "\n",
              "  <div id=\"id_cdff4f76-d222-46fb-a29a-8761948ac029\">\n",
              "    <style>\n",
              "      .colab-df-generate {\n",
              "        background-color: #E8F0FE;\n",
              "        border: none;\n",
              "        border-radius: 50%;\n",
              "        cursor: pointer;\n",
              "        display: none;\n",
              "        fill: #1967D2;\n",
              "        height: 32px;\n",
              "        padding: 0 0 0 0;\n",
              "        width: 32px;\n",
              "      }\n",
              "\n",
              "      .colab-df-generate:hover {\n",
              "        background-color: #E2EBFA;\n",
              "        box-shadow: 0px 1px 2px rgba(60, 64, 67, 0.3), 0px 1px 3px 1px rgba(60, 64, 67, 0.15);\n",
              "        fill: #174EA6;\n",
              "      }\n",
              "\n",
              "      [theme=dark] .colab-df-generate {\n",
              "        background-color: #3B4455;\n",
              "        fill: #D2E3FC;\n",
              "      }\n",
              "\n",
              "      [theme=dark] .colab-df-generate:hover {\n",
              "        background-color: #434B5C;\n",
              "        box-shadow: 0px 1px 3px 1px rgba(0, 0, 0, 0.15);\n",
              "        filter: drop-shadow(0px 1px 2px rgba(0, 0, 0, 0.3));\n",
              "        fill: #FFFFFF;\n",
              "      }\n",
              "    </style>\n",
              "    <button class=\"colab-df-generate\" onclick=\"generateWithVariable('df')\"\n",
              "            title=\"Generate code using this dataframe.\"\n",
              "            style=\"display:none;\">\n",
              "\n",
              "  <svg xmlns=\"http://www.w3.org/2000/svg\" height=\"24px\"viewBox=\"0 0 24 24\"\n",
              "       width=\"24px\">\n",
              "    <path d=\"M7,19H8.4L18.45,9,17,7.55,7,17.6ZM5,21V16.75L18.45,3.32a2,2,0,0,1,2.83,0l1.4,1.43a1.91,1.91,0,0,1,.58,1.4,1.91,1.91,0,0,1-.58,1.4L9.25,21ZM18.45,9,17,7.55Zm-12,3A5.31,5.31,0,0,0,4.9,8.1,5.31,5.31,0,0,0,1,6.5,5.31,5.31,0,0,0,4.9,4.9,5.31,5.31,0,0,0,6.5,1,5.31,5.31,0,0,0,8.1,4.9,5.31,5.31,0,0,0,12,6.5,5.46,5.46,0,0,0,6.5,12Z\"/>\n",
              "  </svg>\n",
              "    </button>\n",
              "    <script>\n",
              "      (() => {\n",
              "      const buttonEl =\n",
              "        document.querySelector('#id_cdff4f76-d222-46fb-a29a-8761948ac029 button.colab-df-generate');\n",
              "      buttonEl.style.display =\n",
              "        google.colab.kernel.accessAllowed ? 'block' : 'none';\n",
              "\n",
              "      buttonEl.onclick = () => {\n",
              "        google.colab.notebook.generateWithVariable('df');\n",
              "      }\n",
              "      })();\n",
              "    </script>\n",
              "  </div>\n",
              "\n",
              "    </div>\n",
              "  </div>\n"
            ],
            "application/vnd.google.colaboratory.intrinsic+json": {
              "type": "dataframe",
              "variable_name": "df",
              "summary": "{\n  \"name\": \"df\",\n  \"rows\": 1000,\n  \"fields\": [\n    {\n      \"column\": \"Data\",\n      \"properties\": {\n        \"dtype\": \"number\",\n        \"std\": 4.323931944374983,\n        \"min\": 0.0183331029615369,\n        \"max\": 31.18690371235091,\n        \"num_unique_values\": 1000,\n        \"samples\": [\n          22.03602113356895,\n          4.528469251619686,\n          5.510099182194793\n        ],\n        \"semantic_type\": \"\",\n        \"description\": \"\"\n      }\n    }\n  ]\n}"
            }
          },
          "metadata": {},
          "execution_count": 50
        }
      ]
    },
    {
      "cell_type": "markdown",
      "source": [
        "# Histogram for the data.\n",
        "\n",
        "We see that there are 1000 samples of data. To get a sense of the distribution, we should plot a histogram."
      ],
      "metadata": {
        "id": "rP7wOxnPw51F"
      }
    },
    {
      "cell_type": "code",
      "source": [
        "plt.hist(df[df.columns[0]], bins=10)"
      ],
      "metadata": {
        "colab": {
          "base_uri": "https://localhost:8080/",
          "height": 520
        },
        "id": "VICrf1WbwUHL",
        "outputId": "c4edf43c-39b0-4dbe-a938-3bf05d36f021"
      },
      "execution_count": null,
      "outputs": [
        {
          "output_type": "execute_result",
          "data": {
            "text/plain": [
              "(array([292., 337., 193., 100.,  39.,  19.,  13.,   6.,   0.,   1.]),\n",
              " array([1.83331030e-02, 3.13519016e+00, 6.25204722e+00, 9.36890429e+00,\n",
              "        1.24857613e+01, 1.56026184e+01, 1.87194755e+01, 2.18363325e+01,\n",
              "        2.49531896e+01, 2.80700467e+01, 3.11869037e+01]),\n",
              " <BarContainer object of 10 artists>)"
            ]
          },
          "metadata": {},
          "execution_count": 51
        },
        {
          "output_type": "display_data",
          "data": {
            "text/plain": [
              "<Figure size 640x480 with 1 Axes>"
            ],
            "image/png": "[encoded data removed]"
          },
          "metadata": {}
        }
      ]
    },
    {
      "cell_type": "markdown",
      "source": [
        "\n",
        "\n",
        "```\n",
        "# This is formatted as code\n",
        "```\n",
        "\n",
        "From the histogram, the distribution could be modelled as Gamma$(\\alpha,\\beta)$. The next step is to estimate $\\alpha$ and $\\beta$ from the given samples.\n"
      ],
      "metadata": {
        "id": "p3GVxU3hx4Qn"
      }
    },
    {
      "cell_type": "markdown",
      "source": [
        "# Estimator identified by using Methods of moments\n",
        "\n",
        "Suppose $m_1$ and $m_2$ are the first and second moments of the samples. The method of moments estimates are obtained by solving\n",
        "$$m_1=\\frac{\\alpha}{\\beta},$$\n",
        "$$m_2=\\frac{\\alpha^2}{\\beta^2}+\\frac{\\alpha}{\\beta^2}.$$\n",
        "The solution results in\n",
        "$$\\hat{\\alpha}_{MM}=\\frac{m_1^2}{m_2-m_1^2}=\\frac{m_1^2}{s^2},\\hat{\\beta}_{MM}=\\frac{m_1}{m_2-m_1^2}=\\frac{m_1}{s^2}.$$\n",
        "We now compute the values of $m_1$ (sample mean) and $s^2=m_2-m_1^2$ (sample variance) from the data. After that, we can compute the estimates."
      ],
      "metadata": {
        "id": "InsJ4PF3yJTC"
      }
    },
    {
      "cell_type": "code",
      "source": [
        "x = np.array(df)\n",
        "m1 = np.average(x)\n",
        "ss= np.var(x)\n",
        "print(m1)\n",
        "print(ss)"
      ],
      "metadata": {
        "colab": {
          "base_uri": "https://localhost:8080/"
        },
        "id": "Di74yLAkyNaD",
        "outputId": "3a953729-140c-48e4-eeaf-59f6c342d9a9"
      },
      "execution_count": null,
      "outputs": [
        {
          "output_type": "stream",
          "name": "stdout",
          "text": [
            "5.963113070706504\n",
            "18.677691072126844\n"
          ]
        }
      ]
    },
    {
      "cell_type": "markdown",
      "source": [
        "# Identifying Estimator using method of moments"
      ],
      "metadata": {
        "id": "o7QZNLNZyU4n"
      }
    },
    {
      "cell_type": "code",
      "source": [
        "alphaMM = m1*m1/ss\n",
        "betaMM = m1/ss\n",
        "print(alphaMM)\n",
        "print(betaMM)"
      ],
      "metadata": {
        "colab": {
          "base_uri": "https://localhost:8080/"
        },
        "id": "jjQoODKdyYqe",
        "outputId": "bfde3661-4dfc-475d-e637-b96911c9fe22"
      },
      "execution_count": null,
      "outputs": [
        {
          "output_type": "stream",
          "name": "stdout",
          "text": [
            "1.9038069189984543\n",
            "0.31926393084022026\n"
          ]
        }
      ]
    },
    {
      "cell_type": "markdown",
      "source": [
        "# Plotting the estimate to check if it gives reasonable fit\n",
        "\n",
        "We can plot the density of the Gamma on top of the density histogram to check if the estimate gives a reasonable fit."
      ],
      "metadata": {
        "id": "BYTwU_mMyeYv"
      }
    },
    {
      "cell_type": "code",
      "source": [
        "fig, ax = plt.subplots(1,1)\n",
        "ax.hist(x,density=True, bins=10)\n",
        "xx = np.linspace(0,100,50)\n",
        "ax.plot(xx, st.gamma.pdf(xx,alphaMM,scale=1/betaMM),label='gamma fit MM')\n",
        "ax.legend (loc='best')\n",
        "plt.show()"
      ],
      "metadata": {
        "colab": {
          "base_uri": "https://localhost:8080/",
          "height": 430
        },
        "id": "12or9y55yqUi",
        "outputId": "2d12ab8a-abbc-475b-bf2d-e5f5143ea0f9"
      },
      "execution_count": null,
      "outputs": [
        {
          "output_type": "display_data",
          "data": {
            "text/plain": [
              "<Figure size 640x480 with 1 Axes>"
            ],
            "image/png": "[encoded data removed]"
          },
          "metadata": {}
        }
      ]
    },
    {
      "cell_type": "markdown",
      "source": [
        "# Bootstrap\n",
        "\n",
        "How do we find the bias and variance of the estimator?\n",
        "Theoretical derivations of the sampling distributions may be too cumbersome and difficult in most cases.\n",
        "\n",
        "Bootstrap is a Monte Carlo simulation method for computing metrics such as bias, variance and confidence intervals for estimators.\n",
        "\n",
        "In the above example, we have found $\\hat{\\alpha}_{MM}=1.9038...$ and $\\hat{\\beta}_{MM}=0.3192...$.\n",
        "\n",
        "Using these values, we simulate $n=1000$ *iid* samples from Gamma$(1.9038...,0.3192...)$ and, using the simulated samples, we compute new estimates of $\\alpha$ and $\\beta$ and call them $\\hat{\\alpha}_{MM}(1)$ and $\\hat{\\beta}_{MM}(1)$.\n",
        "\n",
        "Now, repeat the simulation $N$ times to get estimates $\\hat{\\alpha}_{MM}(i)$ and $\\hat{\\beta}_{MM}(i)$, $i=1,2,\\ldots,N$.\n",
        "\n",
        "The sample variance of $\\{\\hat{\\alpha}_{MM}(1), \\hat{\\alpha}_{MM}(2),\\ldots,\\hat{\\alpha}_{MM}(N)\\}$ is taken to be the bootstrap estimate for the variance of the estimator."
      ],
      "metadata": {
        "id": "1BVb4cItyyOD"
      }
    },
    {
      "cell_type": "code",
      "source": [
        "N = 1000\n",
        "n = 1000\n",
        "alpha_hat = np.zeros(N)\n",
        "beta_hat = np.zeros(N)\n",
        "for i in np.arange(N):\n",
        "  xi = st.gamma.rvs(alphaMM, scale=1/betaMM, size=n)\n",
        "  mli = np.average(xi); ssi = np.var(xi)\n",
        "  alpha_hat[i] =mli * mli/ssi; beta_hat[i]= mli/ssi"
      ],
      "metadata": {
        "id": "NM92LqWmy25q"
      },
      "execution_count": null,
      "outputs": []
    },
    {
      "cell_type": "markdown",
      "source": [
        "# Histogram of estimates\n",
        "\n",
        "We can see the histograms of the estimates to get an idea of the spread of the values."
      ],
      "metadata": {
        "id": "EKJisqFGy6nO"
      }
    },
    {
      "cell_type": "code",
      "source": [
        "ax1 = plt.subplot(121)\n",
        "ax1.hist(alpha_hat, density= True)\n",
        "ax2 = plt.subplot(122)\n",
        "ax2.hist(beta_hat, density= True)"
      ],
      "metadata": {
        "colab": {
          "base_uri": "https://localhost:8080/",
          "height": 537
        },
        "id": "GpdINNC8zFmW",
        "outputId": "f144cde3-eb42-49bf-85f4-626b8fa47acd"
      },
      "execution_count": null,
      "outputs": [
        {
          "output_type": "execute_result",
          "data": {
            "text/plain": [
              "(array([ 0.84094835,  1.83479641, 10.4736295 , 17.81281513, 19.49471184,\n",
              "        14.83127097,  7.18628593,  3.05799401,  0.7644985 ,  0.1528997 ]),\n",
              " array([0.26273883, 0.2758193 , 0.28889977, 0.30198024, 0.31506071,\n",
              "        0.32814118, 0.34122165, 0.35430212, 0.36738259, 0.38046306,\n",
              "        0.39354353]),\n",
              " <BarContainer object of 10 artists>)"
            ]
          },
          "metadata": {},
          "execution_count": 56
        },
        {
          "output_type": "display_data",
          "data": {
            "text/plain": [
              "<Figure size 640x480 with 2 Axes>"
            ],
            "image/png": "[encoded data removed]"
          },
          "metadata": {}
        }
      ]
    },
    {
      "cell_type": "markdown",
      "source": [
        "Notice how the histograms look roughly normal.\n",
        "\n",
        "The sample standard deviations of the estimates is a bootstrap estimate for the standard error of the estimator."
      ],
      "metadata": {
        "id": "5AFXz_3qzKWz"
      }
    },
    {
      "cell_type": "code",
      "source": [
        "print(np.sqrt(np.var(alpha_hat)))\n",
        "print(np.sqrt(np.var(beta_hat)))"
      ],
      "metadata": {
        "colab": {
          "base_uri": "https://localhost:8080/"
        },
        "id": "Q36U45XKzX3N",
        "outputId": "c15ce6b1-53a0-4b6c-9dee-3befc607a019"
      },
      "execution_count": null,
      "outputs": [
        {
          "output_type": "stream",
          "name": "stdout",
          "text": [
            "0.10573603647826563\n",
            "0.019533107430371253\n"
          ]
        }
      ]
    },
    {
      "cell_type": "markdown",
      "source": [
        "# Confidence intervals\n",
        "\n",
        "Suppose a parameter $\\theta$ is estimated as $\\hat{\\theta}$, and suppose the distribution of $\\hat{\\theta}-\\theta$ is known. Then, to obtain $(100(1-\\alpha))$% confidence intervals (typical values are $\\alpha=0.1$ for 90% confidence intervals and $\\alpha=0.05$ for 95% confidence intervals), we use the CDF of $\\hat{\\theta}-\\theta$ to obtain $\\delta_1$ and $\\delta_2$ such that\n",
        "$$P(\\hat{\\theta}-\\theta\\le\\delta_1)=1-\\frac{\\alpha}{2},$$\n",
        "$$P(\\hat{\\theta}-\\theta\\le\\delta_2)=\\frac{\\alpha}{2}.$$\n",
        "Actually, the inverse of the CDF of $\\hat{\\theta}-\\theta$ is used to find the above $\\delta_1$ and $\\delta_2$. From the above, we see that\n",
        "$$P(\\hat{\\theta}-\\theta \\le \\delta_1)-P(\\hat{\\theta}-\\theta \\le \\delta_2)= P(\\delta_2< \\hat{\\theta}-\\theta \\le \\delta_1)=1-\\frac{\\alpha}{2}-\\frac{\\alpha}{2}=1-\\alpha.$$\n",
        "The above is rewritten as\n",
        "$$P(\\hat{\\theta}-\\delta_1\\le\\theta<\\hat{\\theta}-\\delta_2)=1-\\alpha,$$\n",
        "and $[\\hat{\\theta}-\\delta_1,\\hat{\\theta}-\\delta_2]$ is interpreted as the $100(1-\\alpha)$% confidence interval.\n",
        "\n",
        "## Bootstrap confidence intervals\n",
        "The CDF of $\\hat{\\theta}-\\theta$ might be difficult to determine in many cases, and the bootstrap method is used often to estimate $\\delta_1$ and $\\delta_2$. We consider the list of numbers $\\{\\hat{\\alpha}_{MM}(1)-1.0123...,\\ldots,\\hat{\\alpha}_{MM}(N)-1.0123...\\}$ and pick the $100(\\alpha/2)$-th percentile and $100(1-\\alpha/2)$-th percentile."
      ],
      "metadata": {
        "id": "KEsDaZUJzf87"
      }
    },
    {
      "cell_type": "code",
      "source": [
        "del1 = np.percentile(alpha_hat - alphaMM, 97.5)\n",
        "del2 = np.percentile(alpha_hat - alphaMM, 2.5)\n",
        "print([del1, del2])"
      ],
      "metadata": {
        "colab": {
          "base_uri": "https://localhost:8080/"
        },
        "id": "9yw5scMnzk0P",
        "outputId": "899e6b42-0905-466f-9704-081a23fa0d06"
      },
      "execution_count": null,
      "outputs": [
        {
          "output_type": "stream",
          "name": "stdout",
          "text": [
            "[0.22538751864973824, -0.18799969755709872]\n"
          ]
        }
      ]
    },
    {
      "cell_type": "markdown",
      "source": [
        "# **Maximum Likelihood**\n",
        "\n",
        "We now turn to the maximum likelihood estimator for $\\alpha$ and $\\beta$. The likelihood $L(x_1,\\ldots,x_n)$ can be written as\n",
        "$$L = \\frac{\\beta^\\alpha}{\\Gamma(\\alpha)}x_1^{\\alpha-1}e^{-\\beta x_1}\\,\\frac{\\beta^\\alpha}{\\Gamma(\\alpha)}x_2^{\\alpha-1}e^{-\\beta x_2}\\cdots \\frac{\\beta^\\alpha}{\\Gamma(\\alpha)}x_n^{\\alpha-1}e^{-\\beta x_n}= \\frac{\\beta^{n\\alpha}}{\\Gamma(\\alpha)^n}(x_1\\cdots x_n)^{\\alpha-1}e^{-\\beta(x_1+\\cdots+x_n)},$$\n",
        "$$\\log L = n\\alpha\\log\\beta-n\\log\\Gamma(\\alpha)+(\\alpha-1)\\log(x_1\\cdots x_n)-\\beta(x_1+\\cdots+x_n).$$\n",
        "Differentiating $\\log L$ with respect to $\\beta$ and equating to zero, we get\n",
        "$$n\\alpha\\frac{1}{\\beta}-(x_1+\\cdots+x_n)=0,\\text{or }\\alpha=\\beta \\frac{x_1+\\cdots+x_n}{n}.$$\n",
        "Differentiating $\\log L$ with respect to $\\alpha$ and equating to zero, we get\n",
        "$$n\\log\\beta-n\\frac{\\Gamma'(\\alpha)}{\\Gamma(\\alpha)}+\\log(x_1\\cdots x_n)=0.$$\n",
        "So, we get two equations in the two variables $\\alpha$ and $\\beta$. However, the equations do not have a closed form solution, and we need to solve them numerically or approximately. From the first equation, we have $\\log\\beta=\\log\\alpha-\\log\\frac{x_1+\\cdots+x_n}{n}$. Using this in the second equation, we get\n",
        "$$\\log\\alpha - \\frac{\\Gamma'(\\alpha)}{\\Gamma(\\alpha)}=\\log\\frac{x_1+\\cdots+x_n}{n}-\\frac{1}{n}\\log(x_1\\cdots x_n).$$\n",
        "We will now solve the above equation to find the ML estimate of $\\alpha$. This will be a numerical solution."
      ],
      "metadata": {
        "id": "k5LUxvCezrTM"
      }
    },
    {
      "cell_type": "markdown",
      "source": [
        "Estimators for the unknown parameter(s) by maximum likelihood"
      ],
      "metadata": {
        "id": "kYRjoRXAzwT7"
      }
    },
    {
      "cell_type": "code",
      "source": [
        "lm1 = np.average(np.log(x))\n",
        "from scipy.special import digamma\n",
        "fML = lambda a: (np.log(a) - digamma(a) - np.log(m1)+lm1)"
      ],
      "metadata": {
        "id": "CTtiCMOwz0j8"
      },
      "execution_count": null,
      "outputs": []
    },
    {
      "cell_type": "code",
      "source": [
        "fig, ax = plt.subplots(1,1)\n",
        "\n",
        "xx = np.linspace(0.1, 10, 100)\n",
        "yy = fML(xx)\n",
        "\n",
        "ax.plot(xx, yy)\n",
        "# ax.plot(xx, fML(xx))\n",
        "ax.grid(True)\n",
        "plt.show()"
      ],
      "metadata": {
        "colab": {
          "base_uri": "https://localhost:8080/",
          "height": 430
        },
        "id": "FIoZILM80OdL",
        "outputId": "7dfd5a2b-cdb8-4e5a-dc05-6a9cdd5cc72e"
      },
      "execution_count": null,
      "outputs": [
        {
          "output_type": "display_data",
          "data": {
            "text/plain": [
              "<Figure size 640x480 with 1 Axes>"
            ],
            "image/png": "[encoded data removed]"
          },
          "metadata": {}
        }
      ]
    },
    {
      "cell_type": "markdown",
      "source": [
        "#For solving numerically, we will use scipy.optimize"
      ],
      "metadata": {
        "id": "uuYcRm7s0S6s"
      }
    },
    {
      "cell_type": "code",
      "source": [
        "import scipy.optimize as sopt\n",
        "sol = sopt.root_scalar(fML, bracket = [0.1,10])\n",
        "sol.root"
      ],
      "metadata": {
        "colab": {
          "base_uri": "https://localhost:8080/"
        },
        "id": "E7s4aV0Y0YrR",
        "outputId": "76806149-285b-43ce-ef91-af76859af7f9"
      },
      "execution_count": null,
      "outputs": [
        {
          "output_type": "execute_result",
          "data": {
            "text/plain": [
              "1.9458855585449453"
            ]
          },
          "metadata": {},
          "execution_count": 61
        }
      ]
    },
    {
      "cell_type": "code",
      "source": [
        "alphaML =  sol.root\n",
        "betaML = alphaML/m1\n",
        "print([alphaML, betaML])"
      ],
      "metadata": {
        "colab": {
          "base_uri": "https://localhost:8080/"
        },
        "id": "BRFoWzxZ0dPY",
        "outputId": "07f934ac-38e6-4107-d716-3ed1a9fe9677"
      },
      "execution_count": null,
      "outputs": [
        {
          "output_type": "stream",
          "name": "stdout",
          "text": [
            "[1.9458855585449453, 0.32632041946412377]\n"
          ]
        }
      ]
    },
    {
      "cell_type": "code",
      "source": [
        "fig,ax = plt.subplots(1,1)\n",
        "ax.hist(x, density=True, bins=50)\n",
        "xx = np.linspace(0,100,50)\n",
        "ax.plot(xx, st.gamma.pdf(xx,alphaMM,scale=1/betaMM), lw='4', alpha=0.5, label='gamma fit MM')\n",
        "ax.plot(xx, st.gamma.pdf(xx, alphaML, scale=1/betaML), lw='1', label='gamma fit ML')\n",
        "ax.legend(loc ='best')\n",
        "plt.show()\n"
      ],
      "metadata": {
        "colab": {
          "base_uri": "https://localhost:8080/",
          "height": 430
        },
        "id": "dE8sJLPV0gij",
        "outputId": "5d3b4ed4-6713-415d-9bc2-78c628a5cd6a"
      },
      "execution_count": null,
      "outputs": [
        {
          "output_type": "display_data",
          "data": {
            "text/plain": [
              "<Figure size 640x480 with 1 Axes>"
            ],
            "image/png": "[encoded data removed]"
          },
          "metadata": {}
        }
      ]
    }
  ]
}