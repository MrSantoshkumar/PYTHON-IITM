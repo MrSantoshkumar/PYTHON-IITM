{
  "nbformat": 4,
  "nbformat_minor": 0,
  "metadata": {
    "colab": {
      "provenance": [],
      "authorship_tag": "ABX9TyPYAFm39rVTBxVZNw06SdTT",
      "include_colab_link": true
    },
    "kernelspec": {
      "name": "python3",
      "display_name": "Python 3"
    },
    "language_info": {
      "name": "python"
    }
  },
  "cells": [
    {
      "cell_type": "markdown",
      "metadata": {
        "id": "view-in-github",
        "colab_type": "text"
      },
      "source": [
        "<a href=\"https://colab.research.google.com/github/MrSantoshkumar/PYTHON-IITM/blob/main/Week_6.ipynb\" target=\"_parent\"><img src=\"https://colab.research.google.com/assets/colab-badge.svg\" alt=\"Open In Colab\"/></a>"
      ]
    },
    {
      "cell_type": "markdown",
      "source": [
        "L6.1|List and Sets"
      ],
      "metadata": {
        "id": "EDz6226eJyJQ"
      }
    },
    {
      "cell_type": "code",
      "execution_count": null,
      "metadata": {
        "id": "qwzf7qS_1kod"
      },
      "outputs": [],
      "source": [
        "l=list(range(10))"
      ]
    },
    {
      "cell_type": "code",
      "source": [
        "l"
      ],
      "metadata": {
        "colab": {
          "base_uri": "https://localhost:8080/"
        },
        "id": "OEE_lWgF2gDP",
        "outputId": "cf85d18c-6dd1-44c6-89b5-35d357bc01a4"
      },
      "execution_count": null,
      "outputs": [
        {
          "output_type": "execute_result",
          "data": {
            "text/plain": [
              "[0, 1, 2, 3, 4, 5, 6, 7, 8, 9]"
            ]
          },
          "metadata": {},
          "execution_count": 2
        }
      ]
    },
    {
      "cell_type": "code",
      "source": [
        "l[5]"
      ],
      "metadata": {
        "colab": {
          "base_uri": "https://localhost:8080/"
        },
        "id": "e5Ye05Qo2i-9",
        "outputId": "f0c4d8e6-1900-42bd-9822-fdedcf1d0df4"
      },
      "execution_count": null,
      "outputs": [
        {
          "output_type": "execute_result",
          "data": {
            "text/plain": [
              "5"
            ]
          },
          "metadata": {},
          "execution_count": 3
        }
      ]
    },
    {
      "cell_type": "code",
      "source": [
        "l[0]"
      ],
      "metadata": {
        "colab": {
          "base_uri": "https://localhost:8080/"
        },
        "id": "u7OcE_TA2oTd",
        "outputId": "93cec05b-d6e4-4873-d63e-ecfc63abf5bd"
      },
      "execution_count": null,
      "outputs": [
        {
          "output_type": "execute_result",
          "data": {
            "text/plain": [
              "0"
            ]
          },
          "metadata": {},
          "execution_count": 4
        }
      ]
    },
    {
      "cell_type": "code",
      "source": [
        "l[9]"
      ],
      "metadata": {
        "colab": {
          "base_uri": "https://localhost:8080/"
        },
        "id": "teAnd9IP2q2F",
        "outputId": "c6b66a48-e36a-45e9-e941-4415ab1f9db1"
      },
      "execution_count": null,
      "outputs": [
        {
          "output_type": "execute_result",
          "data": {
            "text/plain": [
              "9"
            ]
          },
          "metadata": {},
          "execution_count": 5
        }
      ]
    },
    {
      "cell_type": "code",
      "source": [
        "l.append('santosh')\n",
        "l.append('India')\n",
        "l.append(2.72)\n",
        "print(l)"
      ],
      "metadata": {
        "colab": {
          "base_uri": "https://localhost:8080/"
        },
        "id": "GhBSF5ik2uSl",
        "outputId": "f529318e-b529-4fbd-8693-1bb91156c6a0"
      },
      "execution_count": null,
      "outputs": [
        {
          "output_type": "stream",
          "name": "stdout",
          "text": [
            "[0, 1, 2, 3, 4, 5, 6, 7, 8, 9, 'santosh', 'India', 2.72, 'santosh', 'India', 2.72]\n"
          ]
        }
      ]
    },
    {
      "cell_type": "code",
      "source": [
        "5 in l"
      ],
      "metadata": {
        "colab": {
          "base_uri": "https://localhost:8080/"
        },
        "id": "BL0YLyFj3DU-",
        "outputId": "57fdde8f-6348-4a62-b2ea-e7ff9db4bf21"
      },
      "execution_count": null,
      "outputs": [
        {
          "output_type": "execute_result",
          "data": {
            "text/plain": [
              "True"
            ]
          },
          "metadata": {},
          "execution_count": 8
        }
      ]
    },
    {
      "cell_type": "code",
      "source": [
        "-1 in l"
      ],
      "metadata": {
        "colab": {
          "base_uri": "https://localhost:8080/"
        },
        "id": "GO5j9SfN3MtF",
        "outputId": "d87e6919-222b-4150-f381-4c28bd254371"
      },
      "execution_count": null,
      "outputs": [
        {
          "output_type": "execute_result",
          "data": {
            "text/plain": [
              "False"
            ]
          },
          "metadata": {},
          "execution_count": 9
        }
      ]
    },
    {
      "cell_type": "code",
      "source": [
        "'santosh' in l"
      ],
      "metadata": {
        "colab": {
          "base_uri": "https://localhost:8080/"
        },
        "id": "7wn3CzUM3TaH",
        "outputId": "cb265242-ec2d-4d77-ba84-8c6551321459"
      },
      "execution_count": null,
      "outputs": [
        {
          "output_type": "execute_result",
          "data": {
            "text/plain": [
              "True"
            ]
          },
          "metadata": {},
          "execution_count": 12
        }
      ]
    },
    {
      "cell_type": "code",
      "source": [
        "'India' in l"
      ],
      "metadata": {
        "colab": {
          "base_uri": "https://localhost:8080/"
        },
        "id": "_inpQtuA3ijt",
        "outputId": "98773731-e4c4-48ec-c659-307e8e26abdc"
      },
      "execution_count": null,
      "outputs": [
        {
          "output_type": "execute_result",
          "data": {
            "text/plain": [
              "True"
            ]
          },
          "metadata": {},
          "execution_count": 13
        }
      ]
    },
    {
      "cell_type": "code",
      "source": [
        "'india' in l"
      ],
      "metadata": {
        "colab": {
          "base_uri": "https://localhost:8080/"
        },
        "id": "pqkFl-bq3wYu",
        "outputId": "23aa32c2-0986-416d-97a7-c6ca9d063854"
      },
      "execution_count": null,
      "outputs": [
        {
          "output_type": "execute_result",
          "data": {
            "text/plain": [
              "False"
            ]
          },
          "metadata": {},
          "execution_count": 14
        }
      ]
    },
    {
      "cell_type": "code",
      "source": [
        "l=list(range(100))"
      ],
      "metadata": {
        "id": "JY6h5xz6302-"
      },
      "execution_count": null,
      "outputs": []
    },
    {
      "cell_type": "code",
      "source": [
        "l"
      ],
      "metadata": {
        "colab": {
          "base_uri": "https://localhost:8080/"
        },
        "id": "ot-f1OaN40Hm",
        "outputId": "0032cc7d-76c4-425e-bed4-9d4a0a0b40bb"
      },
      "execution_count": null,
      "outputs": [
        {
          "output_type": "execute_result",
          "data": {
            "text/plain": [
              "[0,\n",
              " 1,\n",
              " 2,\n",
              " 3,\n",
              " 4,\n",
              " 5,\n",
              " 6,\n",
              " 7,\n",
              " 8,\n",
              " 9,\n",
              " 10,\n",
              " 11,\n",
              " 12,\n",
              " 13,\n",
              " 14,\n",
              " 15,\n",
              " 16,\n",
              " 17,\n",
              " 18,\n",
              " 19,\n",
              " 20,\n",
              " 21,\n",
              " 22,\n",
              " 23,\n",
              " 24,\n",
              " 25,\n",
              " 26,\n",
              " 27,\n",
              " 28,\n",
              " 29,\n",
              " 30,\n",
              " 31,\n",
              " 32,\n",
              " 33,\n",
              " 34,\n",
              " 35,\n",
              " 36,\n",
              " 37,\n",
              " 38,\n",
              " 39,\n",
              " 40,\n",
              " 41,\n",
              " 42,\n",
              " 43,\n",
              " 44,\n",
              " 45,\n",
              " 46,\n",
              " 47,\n",
              " 48,\n",
              " 49,\n",
              " 50,\n",
              " 51,\n",
              " 52,\n",
              " 53,\n",
              " 54,\n",
              " 55,\n",
              " 56,\n",
              " 57,\n",
              " 58,\n",
              " 59,\n",
              " 60,\n",
              " 61,\n",
              " 62,\n",
              " 63,\n",
              " 64,\n",
              " 65,\n",
              " 66,\n",
              " 67,\n",
              " 68,\n",
              " 69,\n",
              " 70,\n",
              " 71,\n",
              " 72,\n",
              " 73,\n",
              " 74,\n",
              " 75,\n",
              " 76,\n",
              " 77,\n",
              " 78,\n",
              " 79,\n",
              " 80,\n",
              " 81,\n",
              " 82,\n",
              " 83,\n",
              " 84,\n",
              " 85,\n",
              " 86,\n",
              " 87,\n",
              " 88,\n",
              " 89,\n",
              " 90,\n",
              " 91,\n",
              " 92,\n",
              " 93,\n",
              " 94,\n",
              " 95,\n",
              " 96,\n",
              " 97,\n",
              " 98,\n",
              " 99]"
            ]
          },
          "metadata": {},
          "execution_count": 4
        }
      ]
    },
    {
      "cell_type": "code",
      "source": [
        "l[0]"
      ],
      "metadata": {
        "colab": {
          "base_uri": "https://localhost:8080/"
        },
        "id": "HriRuwes43gF",
        "outputId": "fbfcbe03-738b-4fe3-f858-d700d83e27bb"
      },
      "execution_count": null,
      "outputs": [
        {
          "output_type": "execute_result",
          "data": {
            "text/plain": [
              "0"
            ]
          },
          "metadata": {},
          "execution_count": 5
        }
      ]
    },
    {
      "cell_type": "code",
      "source": [
        "l[4]"
      ],
      "metadata": {
        "id": "vDzTLoxP5VA-",
        "outputId": "4bf424f3-90e0-4d9d-dc20-19babc891062",
        "colab": {
          "base_uri": "https://localhost:8080/"
        }
      },
      "execution_count": null,
      "outputs": [
        {
          "output_type": "execute_result",
          "data": {
            "text/plain": [
              "4"
            ]
          },
          "metadata": {},
          "execution_count": 7
        }
      ]
    },
    {
      "cell_type": "code",
      "source": [
        "x=[1,2,3,45,6,7,8,]\n",
        "print(x)"
      ],
      "metadata": {
        "colab": {
          "base_uri": "https://localhost:8080/"
        },
        "id": "03y_kCwY-QdG",
        "outputId": "c3ffc7f5-6a3b-40e0-83f1-fa456c768cbf"
      },
      "execution_count": null,
      "outputs": [
        {
          "output_type": "stream",
          "name": "stdout",
          "text": [
            "[1, 2, 3, 45, 6, 7, 8]\n"
          ]
        }
      ]
    },
    {
      "cell_type": "code",
      "source": [
        "y={1,2,3,4,5,6,7,8,9}\n",
        "print(y)"
      ],
      "metadata": {
        "colab": {
          "base_uri": "https://localhost:8080/"
        },
        "id": "o_Hx7cfr-YTG",
        "outputId": "a5369af8-828d-48ea-a5bb-6098f7b09cc0"
      },
      "execution_count": null,
      "outputs": [
        {
          "output_type": "stream",
          "name": "stdout",
          "text": [
            "{1, 2, 3, 4, 5, 6, 7, 8, 9}\n"
          ]
        }
      ]
    },
    {
      "cell_type": "code",
      "source": [
        "z=(1,2,3,4,5,6,7,8,9)\n",
        "print(z)"
      ],
      "metadata": {
        "colab": {
          "base_uri": "https://localhost:8080/"
        },
        "id": "QClovU-8-ioG",
        "outputId": "fb30807a-bf45-4568-ca61-1c0c6654b4fb"
      },
      "execution_count": null,
      "outputs": [
        {
          "output_type": "stream",
          "name": "stdout",
          "text": [
            "(1, 2, 3, 4, 5, 6, 7, 8, 9)\n"
          ]
        }
      ]
    },
    {
      "cell_type": "code",
      "source": [
        "a=(1,2,3,4,5,6,7,7,8,8)\n",
        "print(a)"
      ],
      "metadata": {
        "colab": {
          "base_uri": "https://localhost:8080/"
        },
        "id": "RABlRxS1-wA1",
        "outputId": "a90b63ef-fc26-4154-df17-e0d0ceb4fa9c"
      },
      "execution_count": null,
      "outputs": [
        {
          "output_type": "stream",
          "name": "stdout",
          "text": [
            "(1, 2, 3, 4, 5, 6, 7, 7, 8, 8)\n"
          ]
        }
      ]
    },
    {
      "cell_type": "code",
      "source": [
        "type(x)"
      ],
      "metadata": {
        "colab": {
          "base_uri": "https://localhost:8080/"
        },
        "id": "2p96-3HR_kpu",
        "outputId": "020c5aac-46a9-4b78-abc8-4dcfca773734"
      },
      "execution_count": null,
      "outputs": [
        {
          "output_type": "execute_result",
          "data": {
            "text/plain": [
              "list"
            ]
          },
          "metadata": {},
          "execution_count": 13
        }
      ]
    },
    {
      "cell_type": "code",
      "source": [
        "type(y)"
      ],
      "metadata": {
        "colab": {
          "base_uri": "https://localhost:8080/"
        },
        "id": "wWPLRHag_sw1",
        "outputId": "c7ea9c50-d0ca-4b8a-dab6-a0f27203873e"
      },
      "execution_count": null,
      "outputs": [
        {
          "output_type": "execute_result",
          "data": {
            "text/plain": [
              "set"
            ]
          },
          "metadata": {},
          "execution_count": 14
        }
      ]
    },
    {
      "cell_type": "code",
      "source": [
        "5 in y"
      ],
      "metadata": {
        "colab": {
          "base_uri": "https://localhost:8080/"
        },
        "id": "K2BXGC1gAnZn",
        "outputId": "f126592c-c805-4829-a6be-172fbc5919b5"
      },
      "execution_count": null,
      "outputs": [
        {
          "output_type": "execute_result",
          "data": {
            "text/plain": [
              "True"
            ]
          },
          "metadata": {},
          "execution_count": 15
        }
      ]
    },
    {
      "cell_type": "code",
      "source": [
        "s=set(range(30))\n",
        "print(s)"
      ],
      "metadata": {
        "colab": {
          "base_uri": "https://localhost:8080/"
        },
        "id": "jTfeaUgOBcle",
        "outputId": "ae465c2d-b4e4-4302-ab60-0949960f2f26"
      },
      "execution_count": null,
      "outputs": [
        {
          "output_type": "stream",
          "name": "stdout",
          "text": [
            "{0, 1, 2, 3, 4, 5, 6, 7, 8, 9, 10, 11, 12, 13, 14, 15, 16, 17, 18, 19, 20, 21, 22, 23, 24, 25, 26, 27, 28, 29}\n"
          ]
        }
      ]
    },
    {
      "cell_type": "code",
      "source": [
        "l=list(range(30))\n",
        "print(l)"
      ],
      "metadata": {
        "colab": {
          "base_uri": "https://localhost:8080/"
        },
        "id": "frtKN3NJB1x-",
        "outputId": "54e445f0-7679-4b9c-a320-3c98377518f3"
      },
      "execution_count": null,
      "outputs": [
        {
          "output_type": "stream",
          "name": "stdout",
          "text": [
            "[0, 1, 2, 3, 4, 5, 6, 7, 8, 9, 10, 11, 12, 13, 14, 15, 16, 17, 18, 19, 20, 21, 22, 23, 24, 25, 26, 27, 28, 29]\n"
          ]
        }
      ]
    },
    {
      "cell_type": "code",
      "source": [
        "t=tuple(range(30))\n",
        "print(t)"
      ],
      "metadata": {
        "colab": {
          "base_uri": "https://localhost:8080/"
        },
        "id": "u8qfGVQTCE02",
        "outputId": "81109565-b1e8-42e4-b44b-ea71b628cb5e"
      },
      "execution_count": null,
      "outputs": [
        {
          "output_type": "stream",
          "name": "stdout",
          "text": [
            "(0, 1, 2, 3, 4, 5, 6, 7, 8, 9, 10, 11, 12, 13, 14, 15, 16, 17, 18, 19, 20, 21, 22, 23, 24, 25, 26, 27, 28, 29)\n"
          ]
        }
      ]
    },
    {
      "cell_type": "code",
      "source": [
        "import random\n",
        "import math\n",
        "import numpy\n",
        "import sys\n"
      ],
      "metadata": {
        "id": "mof6E5qhEFg2"
      },
      "execution_count": null,
      "outputs": []
    },
    {
      "cell_type": "code",
      "source": [
        "l=[]\n",
        "l1=[0]\n",
        "l2=[1,3,4]"
      ],
      "metadata": {
        "id": "ukuSe11AEeTW"
      },
      "execution_count": null,
      "outputs": []
    },
    {
      "cell_type": "code",
      "source": [
        "sys.getsizeof(l)"
      ],
      "metadata": {
        "colab": {
          "base_uri": "https://localhost:8080/"
        },
        "id": "QwP3jzuXEy3u",
        "outputId": "6ce6b423-5855-4b20-baa0-78fa99fe1f48"
      },
      "execution_count": null,
      "outputs": [
        {
          "output_type": "execute_result",
          "data": {
            "text/plain": [
              "56"
            ]
          },
          "metadata": {},
          "execution_count": 25
        }
      ]
    },
    {
      "cell_type": "code",
      "source": [
        "sys.getsizeof(l1)"
      ],
      "metadata": {
        "colab": {
          "base_uri": "https://localhost:8080/"
        },
        "id": "8BFikjV-FKpG",
        "outputId": "5580667a-3206-42af-cd8b-0c5ae3528de6"
      },
      "execution_count": null,
      "outputs": [
        {
          "output_type": "execute_result",
          "data": {
            "text/plain": [
              "64"
            ]
          },
          "metadata": {},
          "execution_count": 26
        }
      ]
    },
    {
      "cell_type": "code",
      "source": [
        "sys.getsizeof(l2)"
      ],
      "metadata": {
        "colab": {
          "base_uri": "https://localhost:8080/"
        },
        "id": "bYv21TSHFRQG",
        "outputId": "68f7fcea-b872-4cb0-ad62-d11101c461b1"
      },
      "execution_count": null,
      "outputs": [
        {
          "output_type": "execute_result",
          "data": {
            "text/plain": [
              "88"
            ]
          },
          "metadata": {},
          "execution_count": 27
        }
      ]
    },
    {
      "cell_type": "code",
      "source": [
        "x=list(range(100))"
      ],
      "metadata": {
        "id": "gjcQkHFZF1JG"
      },
      "execution_count": null,
      "outputs": []
    },
    {
      "cell_type": "code",
      "source": [
        "s=set(range(100))"
      ],
      "metadata": {
        "id": "Jp5W26zTF-wu"
      },
      "execution_count": null,
      "outputs": []
    },
    {
      "cell_type": "code",
      "source": [
        "sys.getsizeof(x)"
      ],
      "metadata": {
        "colab": {
          "base_uri": "https://localhost:8080/"
        },
        "id": "hNhmctmpGL2O",
        "outputId": "a27ae353-9d71-4953-c1fe-d8909b3c7853"
      },
      "execution_count": null,
      "outputs": [
        {
          "output_type": "execute_result",
          "data": {
            "text/plain": [
              "856"
            ]
          },
          "metadata": {},
          "execution_count": 33
        }
      ]
    },
    {
      "cell_type": "code",
      "source": [
        "sys.getsizeof(s)"
      ],
      "metadata": {
        "colab": {
          "base_uri": "https://localhost:8080/"
        },
        "id": "1EIsH-s_GU4G",
        "outputId": "77657c23-4a2e-400b-fb4f-bb76d7f301d7"
      },
      "execution_count": null,
      "outputs": [
        {
          "output_type": "execute_result",
          "data": {
            "text/plain": [
              "8408"
            ]
          },
          "metadata": {},
          "execution_count": 32
        }
      ]
    },
    {
      "cell_type": "code",
      "source": [
        "s={'Ram','is','my','best','friend'}"
      ],
      "metadata": {
        "id": "K2TEivrkIAk_"
      },
      "execution_count": null,
      "outputs": []
    },
    {
      "cell_type": "code",
      "source": [
        "\"Ram\" in s"
      ],
      "metadata": {
        "colab": {
          "base_uri": "https://localhost:8080/"
        },
        "id": "l0l6BKDVIQxP",
        "outputId": "8ceee759-08d7-4b68-a4c9-1876d3f1d9a9"
      },
      "execution_count": null,
      "outputs": [
        {
          "output_type": "execute_result",
          "data": {
            "text/plain": [
              "True"
            ]
          },
          "metadata": {},
          "execution_count": 35
        }
      ]
    },
    {
      "cell_type": "code",
      "source": [
        "s.add('g')"
      ],
      "metadata": {
        "id": "sNNBPQfFIif4"
      },
      "execution_count": null,
      "outputs": []
    },
    {
      "cell_type": "code",
      "source": [
        "s"
      ],
      "metadata": {
        "colab": {
          "base_uri": "https://localhost:8080/"
        },
        "id": "pksQyJdQInFP",
        "outputId": "c01396d3-c4ba-4289-c932-5e7b0cc229f0"
      },
      "execution_count": null,
      "outputs": [
        {
          "output_type": "execute_result",
          "data": {
            "text/plain": [
              "{'Ram', 'best', 'friend', 'g', 'is', 'my'}"
            ]
          },
          "metadata": {},
          "execution_count": 37
        }
      ]
    },
    {
      "cell_type": "code",
      "source": [
        "'g' in s"
      ],
      "metadata": {
        "colab": {
          "base_uri": "https://localhost:8080/"
        },
        "id": "L2d1V7JQIwcm",
        "outputId": "06383e30-7b1b-434e-e30b-7bf891d70436"
      },
      "execution_count": null,
      "outputs": [
        {
          "output_type": "execute_result",
          "data": {
            "text/plain": [
              "True"
            ]
          },
          "metadata": {},
          "execution_count": 39
        }
      ]
    },
    {
      "cell_type": "code",
      "source": [
        "s[0]"
      ],
      "metadata": {
        "colab": {
          "base_uri": "https://localhost:8080/",
          "height": 141
        },
        "id": "9zLyw8DOI4-W",
        "outputId": "5829f984-bfe7-4d3a-cb74-c9614d7e8f3d"
      },
      "execution_count": null,
      "outputs": [
        {
          "output_type": "error",
          "ename": "TypeError",
          "evalue": "'set' object is not subscriptable",
          "traceback": [
            "\u001b[0;31m---------------------------------------------------------------------------\u001b[0m",
            "\u001b[0;31mTypeError\u001b[0m                                 Traceback (most recent call last)",
            "\u001b[0;32m<ipython-input-40-c9c96910e542>\u001b[0m in \u001b[0;36m<cell line: 1>\u001b[0;34m()\u001b[0m\n\u001b[0;32m----> 1\u001b[0;31m \u001b[0ms\u001b[0m\u001b[0;34m[\u001b[0m\u001b[0;36m0\u001b[0m\u001b[0;34m]\u001b[0m\u001b[0;34m\u001b[0m\u001b[0;34m\u001b[0m\u001b[0m\n\u001b[0m",
            "\u001b[0;31mTypeError\u001b[0m: 'set' object is not subscriptable"
          ]
        }
      ]
    },
    {
      "cell_type": "code",
      "source": [
        "print(s)"
      ],
      "metadata": {
        "colab": {
          "base_uri": "https://localhost:8080/"
        },
        "id": "42eeJhFzI_bO",
        "outputId": "723c7d6e-2afe-42f8-b18c-14a95fe9c066"
      },
      "execution_count": null,
      "outputs": [
        {
          "output_type": "stream",
          "name": "stdout",
          "text": [
            "{'is', 'g', 'my', 'Ram', 'best', 'friend'}\n"
          ]
        }
      ]
    },
    {
      "cell_type": "markdown",
      "source": [
        "L6.2|Dictionaries"
      ],
      "metadata": {
        "id": "byW5OTbrJ8sf"
      }
    },
    {
      "cell_type": "code",
      "source": [
        "d={}\n",
        "d['santosh kumar']=9929862236\n",
        "d['vinod']=7891423503\n",
        "d['Mohan']=1234567890\n",
        "print(d)"
      ],
      "metadata": {
        "colab": {
          "base_uri": "https://localhost:8080/"
        },
        "id": "evUL9vL6KJC3",
        "outputId": "16cc07dd-4e09-49f7-dd88-0781359a347e"
      },
      "execution_count": null,
      "outputs": [
        {
          "output_type": "stream",
          "name": "stdout",
          "text": [
            "{'santosh kumar': 9929862236, 'vinod': 7891423503, 'Mohan': 1234567890}\n"
          ]
        }
      ]
    },
    {
      "cell_type": "code",
      "source": [
        "d['santosh kumar']"
      ],
      "metadata": {
        "colab": {
          "base_uri": "https://localhost:8080/"
        },
        "id": "PdzLgHrGVfQv",
        "outputId": "9d0ac171-64f1-4833-a3fb-657f23f7e9d4"
      },
      "execution_count": null,
      "outputs": [
        {
          "output_type": "execute_result",
          "data": {
            "text/plain": [
              "9929862236"
            ]
          },
          "metadata": {},
          "execution_count": 44
        }
      ]
    },
    {
      "cell_type": "code",
      "source": [
        "para=('It was Monday morning. Swaminathan was reluctant to open his eyes. He considered Monday specially unpleasant in the calendar. After the delicious freedom of Saturday and Sunday, it was difficult to get into the Monday mood of work and discipline. He shuddered at the very thought of school: that dismal yelloly building; the fire-eyed Vedanayagam, his class-teacher; and the Head Master with his thin long cane.\",\"')\n"
      ],
      "metadata": {
        "id": "qxiEHoWga2JQ"
      },
      "execution_count": null,
      "outputs": []
    },
    {
      "cell_type": "code",
      "source": [
        "print(para)"
      ],
      "metadata": {
        "colab": {
          "base_uri": "https://localhost:8080/"
        },
        "id": "-0oBrmeyg20w",
        "outputId": "acc98444-a4f4-40b2-9763-ae304b60282a"
      },
      "execution_count": null,
      "outputs": [
        {
          "output_type": "stream",
          "name": "stdout",
          "text": [
            "It was Monday morning. Swaminathan was reluctant to open his eyes. He considered Monday specially unpleasant in the calendar. After the delicious freedom of Saturday and Sunday, it was difficult to get into the Monday mood of work and discipline. He shuddered at the very thought of school: that dismal yelloly building; the fire-eyed Vedanayagam, his class-teacher; and the Head Master with his thin long cane.\",\"\n"
          ]
        }
      ]
    },
    {
      "cell_type": "code",
      "source": [
        "malgudi=['It', 'was', 'Monday', 'morning', 'Swaminathan', 'was', 'reluctant', 'to', 'open', 'his', 'eyes', 'he', 'considered', 'Monday', 'specially', 'unpleasant', 'in', 'the', 'calendar', 'After', 'Afte', 'the', 'delicious', 'freedom', 'of', 'Saturday', 'and', 'Sunday', 'was', 'difficult', 'to', 'get', 'into', 'the', 'Monday', 'mood', 'of', 'work', 'and', 'discipline', 'He', 'shuddered', 'at', 'it' 'the' ,'very', 'thought', 'of', 'school:', 'the', 'dismal', 'yellow', 'building;', 'the', 'fire', 'eyed', 'Vedanayagam', 'his', 'class', 'teacher', 'and', 'headmaster', 'with', 'his', 'thin', 'long', 'cane']"
      ],
      "metadata": {
        "id": "Cwq_rBQxkM5Q"
      },
      "execution_count": null,
      "outputs": []
    },
    {
      "cell_type": "code",
      "source": [
        "print(malgudi)"
      ],
      "metadata": {
        "colab": {
          "base_uri": "https://localhost:8080/"
        },
        "id": "pqeM7aL1lSYR",
        "outputId": "e96ff4fb-05f3-4759-946f-f789e462a064"
      },
      "execution_count": null,
      "outputs": [
        {
          "output_type": "stream",
          "name": "stdout",
          "text": [
            "['It', 'was', 'Monday', 'morning', 'Swaminathan', 'was', 'reluctant', 'to', 'open', 'his', 'eyes', 'he', 'considered', 'Monday', 'specially', 'unpleasant', 'in', 'the', 'calendar', 'After', 'Afte', 'the', 'delicious', 'freedom', 'of', 'Saturday', 'and', 'Sunday', 'was', 'difficult', 'to', 'get', 'into', 'the', 'Monday', 'mood', 'of', 'work', 'and', 'discipline', 'He', 'shuddered', 'at', 'itthe', 'very', 'thought', 'of', 'school:', 'the', 'dismal', 'yellow', 'building;', 'the', 'fire', 'eyed', 'Vedanayagam', 'his', 'class', 'teacher', 'and', 'headmaster', 'with', 'his', 'thin', 'long', 'cane']\n"
          ]
        }
      ]
    },
    {
      "cell_type": "code",
      "source": [
        "malgudi[0]"
      ],
      "metadata": {
        "colab": {
          "base_uri": "https://localhost:8080/",
          "height": 35
        },
        "id": "2HX0BoxZlhx5",
        "outputId": "2d62a8b0-c114-4985-c43d-2c2e8b06b9f7"
      },
      "execution_count": null,
      "outputs": [
        {
          "output_type": "execute_result",
          "data": {
            "text/plain": [
              "'It'"
            ],
            "application/vnd.google.colaboratory.intrinsic+json": {
              "type": "string"
            }
          },
          "metadata": {},
          "execution_count": 88
        }
      ]
    },
    {
      "cell_type": "code",
      "source": [
        "malgudi[1]"
      ],
      "metadata": {
        "colab": {
          "base_uri": "https://localhost:8080/",
          "height": 35
        },
        "id": "b2lF0MLulmSY",
        "outputId": "57e2fc63-1f0f-4630-aac6-60031d3c09ff"
      },
      "execution_count": null,
      "outputs": [
        {
          "output_type": "execute_result",
          "data": {
            "text/plain": [
              "'was'"
            ],
            "application/vnd.google.colaboratory.intrinsic+json": {
              "type": "string"
            }
          },
          "metadata": {},
          "execution_count": 89
        }
      ]
    },
    {
      "cell_type": "code",
      "source": [
        "l=[1,2,3,5,79]\n",
        "for i in range(len(l)):\n",
        "    print(i)"
      ],
      "metadata": {
        "colab": {
          "base_uri": "https://localhost:8080/"
        },
        "id": "zm43DJsulp_5",
        "outputId": "ac19f6c9-f227-4987-95b3-5ecb92dd4288"
      },
      "execution_count": null,
      "outputs": [
        {
          "output_type": "stream",
          "name": "stdout",
          "text": [
            "0\n",
            "1\n",
            "2\n",
            "3\n",
            "4\n"
          ]
        }
      ]
    },
    {
      "cell_type": "code",
      "source": [
        "for i in range(len(l)):\n",
        "    print(l[i])"
      ],
      "metadata": {
        "colab": {
          "base_uri": "https://localhost:8080/"
        },
        "id": "r22PtRKWmzyA",
        "outputId": "54922656-dab3-400b-faa1-aab780b67750"
      },
      "execution_count": null,
      "outputs": [
        {
          "output_type": "stream",
          "name": "stdout",
          "text": [
            "1\n",
            "2\n",
            "3\n",
            "5\n",
            "79\n"
          ]
        }
      ]
    },
    {
      "cell_type": "code",
      "source": [
        "len(malgudi)"
      ],
      "metadata": {
        "colab": {
          "base_uri": "https://localhost:8080/"
        },
        "id": "u6G5sinHm-nR",
        "outputId": "e7002db6-ab84-4f53-8997-cb72f2e3d130"
      },
      "execution_count": null,
      "outputs": [
        {
          "output_type": "execute_result",
          "data": {
            "text/plain": [
              "66"
            ]
          },
          "metadata": {},
          "execution_count": 92
        }
      ]
    },
    {
      "cell_type": "code",
      "source": [
        "s=set(malgudi)\n",
        "print(s)"
      ],
      "metadata": {
        "colab": {
          "base_uri": "https://localhost:8080/"
        },
        "id": "vPRf134inRu7",
        "outputId": "81d83cb8-50f2-4b89-da44-1a30f1f12237"
      },
      "execution_count": null,
      "outputs": [
        {
          "output_type": "stream",
          "name": "stdout",
          "text": [
            "{'teacher', 'get', 'He', 'reluctant', 'difficult', 'long', 'morning', 'Monday', 'It', 'of', 'specially', 'work', 'with', 'in', 'into', 'eyed', 'calendar', 'headmaster', 'very', 'thought', 'fire', 'Swaminathan', 'Vedanayagam', 'thin', 'building;', 'was', 'considered', 'After', 'discipline', 'at', 'freedom', 'his', 'mood', 'and', 'shuddered', 'class', 'open', 'itthe', 'cane', 'unpleasant', 'delicious', 'Saturday', 'dismal', 'to', 'Sunday', 'eyes', 'school:', 'he', 'yellow', 'the', 'Afte'}\n"
          ]
        }
      ]
    },
    {
      "cell_type": "code",
      "source": [
        "for x in malgudi:\n",
        "      print(x)"
      ],
      "metadata": {
        "colab": {
          "base_uri": "https://localhost:8080/"
        },
        "id": "cGtrNcsxndpR",
        "outputId": "37705963-8b8f-4039-d8c5-d9100e1d0250"
      },
      "execution_count": null,
      "outputs": [
        {
          "output_type": "stream",
          "name": "stdout",
          "text": [
            "It\n",
            "was\n",
            "Monday\n",
            "morning\n",
            "Swaminathan\n",
            "was\n",
            "reluctant\n",
            "to\n",
            "open\n",
            "his\n",
            "eyes\n",
            "he\n",
            "considered\n",
            "Monday\n",
            "specially\n",
            "unpleasant\n",
            "in\n",
            "the\n",
            "calendar\n",
            "After\n",
            "Afte\n",
            "the\n",
            "delicious\n",
            "freedom\n",
            "of\n",
            "Saturday\n",
            "and\n",
            "Sunday\n",
            "was\n",
            "difficult\n",
            "to\n",
            "get\n",
            "into\n",
            "the\n",
            "Monday\n",
            "mood\n",
            "of\n",
            "work\n",
            "and\n",
            "discipline\n",
            "He\n",
            "shuddered\n",
            "at\n",
            "itthe\n",
            "very\n",
            "thought\n",
            "of\n",
            "school:\n",
            "the\n",
            "dismal\n",
            "yellow\n",
            "building;\n",
            "the\n",
            "fire\n",
            "eyed\n",
            "Vedanayagam\n",
            "his\n",
            "class\n",
            "teacher\n",
            "and\n",
            "headmaster\n",
            "with\n",
            "his\n",
            "thin\n",
            "long\n",
            "cane\n"
          ]
        }
      ]
    },
    {
      "cell_type": "code",
      "source": [
        "s=malgudi\n",
        "d={}\n",
        "for x in s:\n",
        "    d[x]=0\n",
        "\n",
        "\n"
      ],
      "metadata": {
        "id": "GmtU-nRssPuj"
      },
      "execution_count": null,
      "outputs": []
    },
    {
      "cell_type": "code",
      "source": [
        "print(d)"
      ],
      "metadata": {
        "colab": {
          "base_uri": "https://localhost:8080/"
        },
        "id": "dqcXpa7ItWL6",
        "outputId": "2e7134db-dd67-49b5-81bf-6989ec754a63"
      },
      "execution_count": null,
      "outputs": [
        {
          "output_type": "stream",
          "name": "stdout",
          "text": [
            "{'It': 0, 'was': 0, 'Monday': 0, 'morning': 0, 'Swaminathan': 0, 'reluctant': 0, 'to': 0, 'open': 0, 'his': 0, 'eyes': 0, 'he': 0, 'considered': 0, 'specially': 0, 'unpleasant': 0, 'in': 0, 'the': 0, 'calendar': 0, 'After': 0, 'Afte': 0, 'delicious': 0, 'freedom': 0, 'of': 0, 'Saturday': 0, 'and': 0, 'Sunday': 0, 'difficult': 0, 'get': 0, 'into': 0, 'mood': 0, 'work': 0, 'discipline': 0, 'He': 0, 'shuddered': 0, 'at': 0, 'itthe': 0, 'very': 0, 'thought': 0, 'school:': 0, 'dismal': 0, 'yellow': 0, 'building;': 0, 'fire': 0, 'eyed': 0, 'Vedanayagam': 0, 'class': 0, 'teacher': 0, 'headmaster': 0, 'with': 0, 'thin': 0, 'long': 0, 'cane': 0}\n"
          ]
        }
      ]
    },
    {
      "cell_type": "code",
      "source": [
        "for x in malgudi:\n",
        "  d[x]=d[x]+1\n",
        "print(d)"
      ],
      "metadata": {
        "colab": {
          "base_uri": "https://localhost:8080/"
        },
        "id": "z21VmomRt428",
        "outputId": "68b5cc06-30ba-4187-b2f4-f0cb614abde4"
      },
      "execution_count": null,
      "outputs": [
        {
          "output_type": "stream",
          "name": "stdout",
          "text": [
            "{'It': 1, 'was': 3, 'Monday': 3, 'morning': 1, 'Swaminathan': 1, 'reluctant': 1, 'to': 2, 'open': 1, 'his': 3, 'eyes': 1, 'he': 1, 'considered': 1, 'specially': 1, 'unpleasant': 1, 'in': 1, 'the': 5, 'calendar': 1, 'After': 1, 'Afte': 1, 'delicious': 1, 'freedom': 1, 'of': 3, 'Saturday': 1, 'and': 3, 'Sunday': 1, 'difficult': 1, 'get': 1, 'into': 1, 'mood': 1, 'work': 1, 'discipline': 1, 'He': 1, 'shuddered': 1, 'at': 1, 'itthe': 1, 'very': 1, 'thought': 1, 'school:': 1, 'dismal': 1, 'yellow': 1, 'building;': 1, 'fire': 1, 'eyed': 1, 'Vedanayagam': 1, 'class': 1, 'teacher': 1, 'headmaster': 1, 'with': 1, 'thin': 1, 'long': 1, 'cane': 1}\n"
          ]
        }
      ]
    },
    {
      "cell_type": "code",
      "source": [
        "max=0\n",
        "d={}\n",
        "for x in malgudi:\n",
        "     d[x]=0\n"
      ],
      "metadata": {
        "id": "EQxbS88KwTiy"
      },
      "execution_count": null,
      "outputs": []
    },
    {
      "cell_type": "code",
      "source": [
        "print(d)"
      ],
      "metadata": {
        "colab": {
          "base_uri": "https://localhost:8080/"
        },
        "id": "5m_YkTIYw236",
        "outputId": "566dfa66-cf50-4802-9f8b-d9cbdf4692e0"
      },
      "execution_count": null,
      "outputs": [
        {
          "output_type": "stream",
          "name": "stdout",
          "text": [
            "{'It': 0, 'was': 0, 'Monday': 0, 'morning': 0, 'Swaminathan': 0, 'reluctant': 0, 'to': 0, 'open': 0, 'his': 0, 'eyes': 0, 'he': 0, 'considered': 0, 'specially': 0, 'unpleasant': 0, 'in': 0, 'the': 0, 'calendar': 0, 'After': 0, 'Afte': 0, 'delicious': 0, 'freedom': 0, 'of': 0, 'Saturday': 0, 'and': 0, 'Sunday': 0, 'difficult': 0, 'get': 0, 'into': 0, 'mood': 0, 'work': 0, 'discipline': 0, 'He': 0, 'shuddered': 0, 'at': 0, 'itthe': 0, 'very': 0, 'thought': 0, 'school:': 0, 'dismal': 0, 'yellow': 0, 'building;': 0, 'fire': 0, 'eyed': 0, 'Vedanayagam': 0, 'class': 0, 'teacher': 0, 'headmaster': 0, 'with': 0, 'thin': 0, 'long': 0, 'cane': 0}\n"
          ]
        }
      ]
    },
    {
      "cell_type": "code",
      "source": [
        "for x in malgudi:\n",
        "    d[x]=d[x]+1\n",
        "    if(d[x])>max:\n",
        "       max=d[x]\n"
      ],
      "metadata": {
        "id": "adcGF9G1xILC"
      },
      "execution_count": null,
      "outputs": []
    },
    {
      "cell_type": "code",
      "source": [
        "print(d)"
      ],
      "metadata": {
        "colab": {
          "base_uri": "https://localhost:8080/"
        },
        "id": "U724rsJUyGOS",
        "outputId": "41e651a7-fce2-49fb-dab2-cdb56ce69535"
      },
      "execution_count": null,
      "outputs": [
        {
          "output_type": "stream",
          "name": "stdout",
          "text": [
            "{'It': 2, 'was': 6, 'Monday': 6, 'morning': 2, 'Swaminathan': 2, 'reluctant': 2, 'to': 4, 'open': 2, 'his': 6, 'eyes': 2, 'he': 2, 'considered': 2, 'specially': 2, 'unpleasant': 2, 'in': 2, 'the': 10, 'calendar': 2, 'After': 2, 'Afte': 2, 'delicious': 2, 'freedom': 2, 'of': 6, 'Saturday': 2, 'and': 6, 'Sunday': 2, 'difficult': 2, 'get': 2, 'into': 2, 'mood': 2, 'work': 2, 'discipline': 2, 'He': 2, 'shuddered': 2, 'at': 2, 'itthe': 2, 'very': 2, 'thought': 2, 'school:': 2, 'dismal': 2, 'yellow': 2, 'building;': 2, 'fire': 2, 'eyed': 2, 'Vedanayagam': 2, 'class': 2, 'teacher': 2, 'headmaster': 2, 'with': 2, 'thin': 2, 'long': 2, 'cane': 2}\n"
          ]
        }
      ]
    },
    {
      "cell_type": "code",
      "source": [
        "print(max)"
      ],
      "metadata": {
        "colab": {
          "base_uri": "https://localhost:8080/"
        },
        "id": "Gecf9RHPyX1y",
        "outputId": "a899733d-8e81-4398-8bbf-08c62220c37e"
      },
      "execution_count": null,
      "outputs": [
        {
          "output_type": "stream",
          "name": "stdout",
          "text": [
            "10\n"
          ]
        }
      ]
    },
    {
      "cell_type": "code",
      "source": [
        "d={}\n",
        "\n",
        "for x in s:\n",
        "    d[x]=0\n",
        "\n",
        "max=0\n",
        "\n",
        "answer_word=''\n",
        "for x in malgudi:\n",
        "    d[x]=d[x]+1\n",
        "    if(d[x])>max:\n",
        "       max=d[x]\n",
        "       answer_word=x"
      ],
      "metadata": {
        "id": "IxR-XN-LyuVB"
      },
      "execution_count": null,
      "outputs": []
    },
    {
      "cell_type": "code",
      "source": [
        "print(d)"
      ],
      "metadata": {
        "colab": {
          "base_uri": "https://localhost:8080/"
        },
        "id": "ihhamSHTz2ES",
        "outputId": "3d73e28c-6540-4b4f-ec30-271af2a09051"
      },
      "execution_count": null,
      "outputs": [
        {
          "output_type": "stream",
          "name": "stdout",
          "text": [
            "{'It': 1, 'was': 3, 'Monday': 3, 'morning': 1, 'Swaminathan': 1, 'reluctant': 1, 'to': 2, 'open': 1, 'his': 3, 'eyes': 1, 'he': 1, 'considered': 1, 'specially': 1, 'unpleasant': 1, 'in': 1, 'the': 5, 'calendar': 1, 'After': 1, 'Afte': 1, 'delicious': 1, 'freedom': 1, 'of': 3, 'Saturday': 1, 'and': 3, 'Sunday': 1, 'difficult': 1, 'get': 1, 'into': 1, 'mood': 1, 'work': 1, 'discipline': 1, 'He': 1, 'shuddered': 1, 'at': 1, 'itthe': 1, 'very': 1, 'thought': 1, 'school:': 1, 'dismal': 1, 'yellow': 1, 'building;': 1, 'fire': 1, 'eyed': 1, 'Vedanayagam': 1, 'class': 1, 'teacher': 1, 'headmaster': 1, 'with': 1, 'thin': 1, 'long': 1, 'cane': 1}\n"
          ]
        }
      ]
    },
    {
      "cell_type": "code",
      "source": [
        "print(max)\n",
        "print(answer_word)"
      ],
      "metadata": {
        "colab": {
          "base_uri": "https://localhost:8080/"
        },
        "id": "n6JVA4vdz7wr",
        "outputId": "a726658c-3453-4912-ba32-c631590f6d55"
      },
      "execution_count": null,
      "outputs": [
        {
          "output_type": "stream",
          "name": "stdout",
          "text": [
            "5\n",
            "the\n"
          ]
        }
      ]
    },
    {
      "cell_type": "code",
      "source": [
        "for x in s :\n",
        "  print(x,end='')"
      ],
      "metadata": {
        "colab": {
          "base_uri": "https://localhost:8080/"
        },
        "id": "M9maLK__1cd5",
        "outputId": "2fd564cc-9258-4978-95fa-624c339c9088"
      },
      "execution_count": null,
      "outputs": [
        {
          "output_type": "stream",
          "name": "stdout",
          "text": [
            "ItwasMondaymorningSwaminathanwasreluctanttoopenhiseyesheconsideredMondayspeciallyunpleasantinthecalendarAfterAftethedeliciousfreedomofSaturdayandSundaywasdifficulttogetintotheMondaymoodofworkanddisciplineHeshudderedatittheverythoughtofschool:thedismalyellowbuilding;thefireeyedVedanayagamhisclassteacherandheadmasterwithhisthinlongcane"
          ]
        }
      ]
    },
    {
      "cell_type": "code",
      "source": [
        "d={}\n",
        "max=0\n",
        "ans=''\n",
        "for x in s:\n",
        "    d[x]=0\n",
        "print(d)"
      ],
      "metadata": {
        "colab": {
          "base_uri": "https://localhost:8080/"
        },
        "id": "CWalNkZN1635",
        "outputId": "7783e2f6-ff60-4f75-e74a-c26f2d3d29c1"
      },
      "execution_count": null,
      "outputs": [
        {
          "output_type": "stream",
          "name": "stdout",
          "text": [
            "{'It': 0, 'was': 0, 'Monday': 0, 'morning': 0, 'Swaminathan': 0, 'reluctant': 0, 'to': 0, 'open': 0, 'his': 0, 'eyes': 0, 'he': 0, 'considered': 0, 'specially': 0, 'unpleasant': 0, 'in': 0, 'the': 0, 'calendar': 0, 'After': 0, 'Afte': 0, 'delicious': 0, 'freedom': 0, 'of': 0, 'Saturday': 0, 'and': 0, 'Sunday': 0, 'difficult': 0, 'get': 0, 'into': 0, 'mood': 0, 'work': 0, 'discipline': 0, 'He': 0, 'shuddered': 0, 'at': 0, 'itthe': 0, 'very': 0, 'thought': 0, 'school:': 0, 'dismal': 0, 'yellow': 0, 'building;': 0, 'fire': 0, 'eyed': 0, 'Vedanayagam': 0, 'class': 0, 'teacher': 0, 'headmaster': 0, 'with': 0, 'thin': 0, 'long': 0, 'cane': 0}\n"
          ]
        }
      ]
    },
    {
      "cell_type": "code",
      "source": [
        "d={}\n",
        "d['santosh']=[93,99,95]\n",
        "d['ram']=[74,63,82]\n",
        "d['kanha']=[34,92,67]\n",
        "print(d)"
      ],
      "metadata": {
        "colab": {
          "base_uri": "https://localhost:8080/"
        },
        "id": "Ma-fYpMb5Qyq",
        "outputId": "ed875a9f-1cee-4158-de4e-5a21eab8e1fa"
      },
      "execution_count": null,
      "outputs": [
        {
          "output_type": "stream",
          "name": "stdout",
          "text": [
            "{'santosh': [93, 99, 95], 'ram': [74, 63, 82], 'kanha': [34, 92, 67]}\n"
          ]
        }
      ]
    },
    {
      "cell_type": "code",
      "source": [
        "d['santosh'][0]\n"
      ],
      "metadata": {
        "colab": {
          "base_uri": "https://localhost:8080/"
        },
        "id": "N5GghgV652Ly",
        "outputId": "03c8a42b-4d9b-4d63-a46b-44537142d4ea"
      },
      "execution_count": null,
      "outputs": [
        {
          "output_type": "execute_result",
          "data": {
            "text/plain": [
              "93"
            ]
          },
          "metadata": {},
          "execution_count": 138
        }
      ]
    },
    {
      "cell_type": "code",
      "source": [
        "d['santosh'][1]"
      ],
      "metadata": {
        "colab": {
          "base_uri": "https://localhost:8080/"
        },
        "id": "FKdIo40S6PNj",
        "outputId": "0eec6bbb-fac8-41f7-d442-6bbe57264815"
      },
      "execution_count": null,
      "outputs": [
        {
          "output_type": "execute_result",
          "data": {
            "text/plain": [
              "99"
            ]
          },
          "metadata": {},
          "execution_count": 139
        }
      ]
    },
    {
      "cell_type": "code",
      "source": [
        "d['santosh'][2]"
      ],
      "metadata": {
        "colab": {
          "base_uri": "https://localhost:8080/"
        },
        "id": "3Ue9GwOu6U9y",
        "outputId": "c7ae721d-fe52-49d7-8da4-710820050c7f"
      },
      "execution_count": null,
      "outputs": [
        {
          "output_type": "execute_result",
          "data": {
            "text/plain": [
              "95"
            ]
          },
          "metadata": {},
          "execution_count": 140
        }
      ]
    },
    {
      "cell_type": "code",
      "source": [
        "d['ram']=[99,78,55,'ram@gmail.com']"
      ],
      "metadata": {
        "id": "2HB0r3eV6dFC"
      },
      "execution_count": null,
      "outputs": []
    },
    {
      "cell_type": "markdown",
      "source": [
        "# L6.3|Tuples"
      ],
      "metadata": {
        "id": "v2HuYe4a7hJ2"
      }
    },
    {
      "cell_type": "code",
      "source": [
        "l=[5,7,19,10,4]\n",
        "l.append(100)"
      ],
      "metadata": {
        "id": "fepJBZxM70zS"
      },
      "execution_count": null,
      "outputs": []
    },
    {
      "cell_type": "code",
      "source": [
        "l"
      ],
      "metadata": {
        "colab": {
          "base_uri": "https://localhost:8080/"
        },
        "id": "Y66rly8kfYga",
        "outputId": "718429a5-1af2-4254-9f0a-28879fab3879"
      },
      "execution_count": null,
      "outputs": [
        {
          "output_type": "execute_result",
          "data": {
            "text/plain": [
              "[5, 7, 19, 10, 4, 100]"
            ]
          },
          "metadata": {},
          "execution_count": 17
        }
      ]
    },
    {
      "cell_type": "code",
      "source": [
        "l.remove(7)"
      ],
      "metadata": {
        "colab": {
          "base_uri": "https://localhost:8080/",
          "height": 141
        },
        "id": "RbtaF9cffu-D",
        "outputId": "b52f683a-bcd7-40a8-b85e-3eddc6d4ece8"
      },
      "execution_count": null,
      "outputs": [
        {
          "output_type": "error",
          "ename": "ValueError",
          "evalue": "list.remove(x): x not in list",
          "traceback": [
            "\u001b[0;31m---------------------------------------------------------------------------\u001b[0m",
            "\u001b[0;31mValueError\u001b[0m                                Traceback (most recent call last)",
            "\u001b[0;32m<ipython-input-20-6ead95561137>\u001b[0m in \u001b[0;36m<cell line: 1>\u001b[0;34m()\u001b[0m\n\u001b[0;32m----> 1\u001b[0;31m \u001b[0ml\u001b[0m\u001b[0;34m.\u001b[0m\u001b[0mremove\u001b[0m\u001b[0;34m(\u001b[0m\u001b[0;36m7\u001b[0m\u001b[0;34m)\u001b[0m\u001b[0;34m\u001b[0m\u001b[0;34m\u001b[0m\u001b[0m\n\u001b[0m",
            "\u001b[0;31mValueError\u001b[0m: list.remove(x): x not in list"
          ]
        }
      ]
    },
    {
      "cell_type": "code",
      "source": [
        "l"
      ],
      "metadata": {
        "colab": {
          "base_uri": "https://localhost:8080/"
        },
        "id": "9FZaeuhKf2u6",
        "outputId": "9eda7602-699f-491c-89c2-8af36cfec11c"
      },
      "execution_count": null,
      "outputs": [
        {
          "output_type": "execute_result",
          "data": {
            "text/plain": [
              "[5, 19, 10, 4, 100]"
            ]
          },
          "metadata": {},
          "execution_count": 21
        }
      ]
    },
    {
      "cell_type": "code",
      "source": [
        "t=(2,7,18,64,101,108,65)\n",
        "print(t)"
      ],
      "metadata": {
        "colab": {
          "base_uri": "https://localhost:8080/"
        },
        "id": "Yg_5_LgLgBUz",
        "outputId": "153c7453-26f6-4f17-8ebf-b46ba5a9eccb"
      },
      "execution_count": null,
      "outputs": [
        {
          "output_type": "stream",
          "name": "stdout",
          "text": [
            "(2, 7, 18, 64, 101, 108, 65)\n"
          ]
        }
      ]
    },
    {
      "cell_type": "code",
      "source": [
        "t"
      ],
      "metadata": {
        "colab": {
          "base_uri": "https://localhost:8080/"
        },
        "id": "_KQbd9asgRIq",
        "outputId": "1f125884-92e8-4409-f72b-9d03d8e227e3"
      },
      "execution_count": null,
      "outputs": [
        {
          "output_type": "execute_result",
          "data": {
            "text/plain": [
              "(2, 7, 18, 64, 101, 108, 65)"
            ]
          },
          "metadata": {},
          "execution_count": 23
        }
      ]
    },
    {
      "cell_type": "code",
      "source": [
        "t.append(101)"
      ],
      "metadata": {
        "colab": {
          "base_uri": "https://localhost:8080/",
          "height": 141
        },
        "id": "9KEFKlXdgh4M",
        "outputId": "1e8bb668-0f9c-4e8f-9b7d-18ca23323042"
      },
      "execution_count": null,
      "outputs": [
        {
          "output_type": "error",
          "ename": "AttributeError",
          "evalue": "'tuple' object has no attribute 'append'",
          "traceback": [
            "\u001b[0;31m---------------------------------------------------------------------------\u001b[0m",
            "\u001b[0;31mAttributeError\u001b[0m                            Traceback (most recent call last)",
            "\u001b[0;32m<ipython-input-24-6785d4779651>\u001b[0m in \u001b[0;36m<cell line: 1>\u001b[0;34m()\u001b[0m\n\u001b[0;32m----> 1\u001b[0;31m \u001b[0mt\u001b[0m\u001b[0;34m.\u001b[0m\u001b[0mappend\u001b[0m\u001b[0;34m(\u001b[0m\u001b[0;36m101\u001b[0m\u001b[0;34m)\u001b[0m\u001b[0;34m\u001b[0m\u001b[0;34m\u001b[0m\u001b[0m\n\u001b[0m",
            "\u001b[0;31mAttributeError\u001b[0m: 'tuple' object has no attribute 'append'"
          ]
        }
      ]
    },
    {
      "cell_type": "code",
      "source": [
        "t.remove(7)"
      ],
      "metadata": {
        "colab": {
          "base_uri": "https://localhost:8080/",
          "height": 141
        },
        "id": "cAUzl1T_gvpa",
        "outputId": "dca8a3a1-5449-4078-b060-0d15c06f8f8d"
      },
      "execution_count": null,
      "outputs": [
        {
          "output_type": "error",
          "ename": "AttributeError",
          "evalue": "'tuple' object has no attribute 'remove'",
          "traceback": [
            "\u001b[0;31m---------------------------------------------------------------------------\u001b[0m",
            "\u001b[0;31mAttributeError\u001b[0m                            Traceback (most recent call last)",
            "\u001b[0;32m<ipython-input-26-c6327e1d4323>\u001b[0m in \u001b[0;36m<cell line: 1>\u001b[0;34m()\u001b[0m\n\u001b[0;32m----> 1\u001b[0;31m \u001b[0mt\u001b[0m\u001b[0;34m.\u001b[0m\u001b[0mremove\u001b[0m\u001b[0;34m(\u001b[0m\u001b[0;36m7\u001b[0m\u001b[0;34m)\u001b[0m\u001b[0;34m\u001b[0m\u001b[0;34m\u001b[0m\u001b[0m\n\u001b[0m",
            "\u001b[0;31mAttributeError\u001b[0m: 'tuple' object has no attribute 'remove'"
          ]
        }
      ]
    },
    {
      "cell_type": "code",
      "source": [
        "t.add(7)"
      ],
      "metadata": {
        "colab": {
          "base_uri": "https://localhost:8080/",
          "height": 141
        },
        "id": "sZrcftAkg2_S",
        "outputId": "cf4d30a4-0bc0-4c79-8ae1-139243e8ede2"
      },
      "execution_count": null,
      "outputs": [
        {
          "output_type": "error",
          "ename": "AttributeError",
          "evalue": "'tuple' object has no attribute 'add'",
          "traceback": [
            "\u001b[0;31m---------------------------------------------------------------------------\u001b[0m",
            "\u001b[0;31mAttributeError\u001b[0m                            Traceback (most recent call last)",
            "\u001b[0;32m<ipython-input-27-cda4bec9448c>\u001b[0m in \u001b[0;36m<cell line: 1>\u001b[0;34m()\u001b[0m\n\u001b[0;32m----> 1\u001b[0;31m \u001b[0mt\u001b[0m\u001b[0;34m.\u001b[0m\u001b[0madd\u001b[0m\u001b[0;34m(\u001b[0m\u001b[0;36m7\u001b[0m\u001b[0;34m)\u001b[0m\u001b[0;34m\u001b[0m\u001b[0;34m\u001b[0m\u001b[0m\n\u001b[0m",
            "\u001b[0;31mAttributeError\u001b[0m: 'tuple' object has no attribute 'add'"
          ]
        }
      ]
    },
    {
      "cell_type": "code",
      "source": [
        "t[0]"
      ],
      "metadata": {
        "colab": {
          "base_uri": "https://localhost:8080/"
        },
        "id": "HtwMZrGgg7zq",
        "outputId": "26e0e34d-07c6-43f0-fac4-162bbb22e924"
      },
      "execution_count": null,
      "outputs": [
        {
          "output_type": "execute_result",
          "data": {
            "text/plain": [
              "2"
            ]
          },
          "metadata": {},
          "execution_count": 28
        }
      ]
    },
    {
      "cell_type": "code",
      "source": [
        "print(\"A tuple is unchangeable\")"
      ],
      "metadata": {
        "colab": {
          "base_uri": "https://localhost:8080/"
        },
        "id": "-rywTv53hCs9",
        "outputId": "0a9f2c98-3cdb-4d6e-dd4a-578fd1c7381b"
      },
      "execution_count": null,
      "outputs": [
        {
          "output_type": "stream",
          "name": "stdout",
          "text": [
            "A tuple is unchangeable\n"
          ]
        }
      ]
    },
    {
      "cell_type": "code",
      "source": [
        "print(\"A list can be changed\")"
      ],
      "metadata": {
        "colab": {
          "base_uri": "https://localhost:8080/"
        },
        "id": "_AQcnm0zhO_S",
        "outputId": "a0f95d94-426b-47d3-bcbd-0d8c7851cc5b"
      },
      "execution_count": null,
      "outputs": [
        {
          "output_type": "stream",
          "name": "stdout",
          "text": [
            "A list can be changed\n"
          ]
        }
      ]
    },
    {
      "cell_type": "code",
      "source": [
        "l=list(range(19))"
      ],
      "metadata": {
        "id": "if57eQvyhZHq"
      },
      "execution_count": null,
      "outputs": []
    },
    {
      "cell_type": "code",
      "source": [
        "print(l)"
      ],
      "metadata": {
        "colab": {
          "base_uri": "https://localhost:8080/"
        },
        "id": "JmYxxhmQhvLq",
        "outputId": "caa94045-cf75-479a-99ea-8d9c9f42cde4"
      },
      "execution_count": null,
      "outputs": [
        {
          "output_type": "stream",
          "name": "stdout",
          "text": [
            "[0, 1, 2, 3, 4, 5, 6, 7, 8, 9, 10, 11, 12, 13, 14, 15, 16, 17, 18]\n"
          ]
        }
      ]
    },
    {
      "cell_type": "code",
      "source": [
        "t=tuple(range(19))"
      ],
      "metadata": {
        "id": "CRjBeYbfhyMC"
      },
      "execution_count": null,
      "outputs": []
    },
    {
      "cell_type": "code",
      "source": [
        "t"
      ],
      "metadata": {
        "colab": {
          "base_uri": "https://localhost:8080/"
        },
        "id": "sj3k2CT5h7zq",
        "outputId": "fd1440ca-a3bb-4b4f-87f6-82047cfa6085"
      },
      "execution_count": null,
      "outputs": [
        {
          "output_type": "execute_result",
          "data": {
            "text/plain": [
              "(0, 1, 2, 3, 4, 5, 6, 7, 8, 9, 10, 11, 12, 13, 14, 15, 16, 17, 18)"
            ]
          },
          "metadata": {},
          "execution_count": 36
        }
      ]
    },
    {
      "cell_type": "code",
      "source": [
        "print(\"l is flaxible,t is't \")"
      ],
      "metadata": {
        "colab": {
          "base_uri": "https://localhost:8080/"
        },
        "id": "TYINGpA6iEBi",
        "outputId": "b0a63318-0c47-4d4a-9fd9-6d535c48a709"
      },
      "execution_count": null,
      "outputs": [
        {
          "output_type": "stream",
          "name": "stdout",
          "text": [
            "l is flaxible,t is't \n"
          ]
        }
      ]
    },
    {
      "cell_type": "code",
      "source": [
        "import string"
      ],
      "metadata": {
        "id": "CZ8PUsweiizS"
      },
      "execution_count": null,
      "outputs": []
    },
    {
      "cell_type": "code",
      "source": [
        "string.ascii_letters"
      ],
      "metadata": {
        "colab": {
          "base_uri": "https://localhost:8080/",
          "height": 35
        },
        "id": "qBHSe7ZMiwuS",
        "outputId": "e97e725d-ff77-4e5f-d61c-cebbb6baf882"
      },
      "execution_count": null,
      "outputs": [
        {
          "output_type": "execute_result",
          "data": {
            "text/plain": [
              "'abcdefghijklmnopqrstuvwxyzABCDEFGHIJKLMNOPQRSTUVWXYZ'"
            ],
            "application/vnd.google.colaboratory.intrinsic+json": {
              "type": "string"
            }
          },
          "metadata": {},
          "execution_count": 41
        }
      ]
    },
    {
      "cell_type": "code",
      "source": [
        "string.ascii_uppercase"
      ],
      "metadata": {
        "colab": {
          "base_uri": "https://localhost:8080/",
          "height": 35
        },
        "id": "eDHFG2gEjFar",
        "outputId": "491668bc-3b3f-43f5-cc83-1e0108d358d9"
      },
      "execution_count": null,
      "outputs": [
        {
          "output_type": "execute_result",
          "data": {
            "text/plain": [
              "'ABCDEFGHIJKLMNOPQRSTUVWXYZ'"
            ],
            "application/vnd.google.colaboratory.intrinsic+json": {
              "type": "string"
            }
          },
          "metadata": {},
          "execution_count": 42
        }
      ]
    },
    {
      "cell_type": "code",
      "source": [
        "string.ascii_lowercase"
      ],
      "metadata": {
        "colab": {
          "base_uri": "https://localhost:8080/",
          "height": 35
        },
        "id": "oBhEuQPdjQZr",
        "outputId": "40aef3ae-14d7-48e8-ce50-ebd75a586304"
      },
      "execution_count": null,
      "outputs": [
        {
          "output_type": "execute_result",
          "data": {
            "text/plain": [
              "'abcdefghijklmnopqrstuvwxyz'"
            ],
            "application/vnd.google.colaboratory.intrinsic+json": {
              "type": "string"
            }
          },
          "metadata": {},
          "execution_count": 43
        }
      ]
    },
    {
      "cell_type": "code",
      "source": [
        "s=string.ascii_letters"
      ],
      "metadata": {
        "id": "lhhltSwmjwZC"
      },
      "execution_count": null,
      "outputs": []
    },
    {
      "cell_type": "code",
      "source": [
        "print(s)"
      ],
      "metadata": {
        "colab": {
          "base_uri": "https://localhost:8080/"
        },
        "id": "OVk6dv4Nj8ZK",
        "outputId": "95f9589a-aaa2-4cf8-9d6f-cc00a26f8160"
      },
      "execution_count": null,
      "outputs": [
        {
          "output_type": "stream",
          "name": "stdout",
          "text": [
            "abcdefghijklmnopqrstuvwxyzABCDEFGHIJKLMNOPQRSTUVWXYZ\n"
          ]
        }
      ]
    },
    {
      "cell_type": "code",
      "source": [
        "s=set(s)\n",
        "print(s)"
      ],
      "metadata": {
        "colab": {
          "base_uri": "https://localhost:8080/"
        },
        "id": "HR-0M5quj_aK",
        "outputId": "b68a9fe5-2151-494c-c685-e40e163ec0b1"
      },
      "execution_count": null,
      "outputs": [
        {
          "output_type": "stream",
          "name": "stdout",
          "text": [
            "{'b', 'E', 'M', 'U', 'm', 'q', 'v', 'a', 'S', 'c', 'X', 'j', 'I', 's', 'T', 'K', 'p', 'G', 'J', 'e', 'P', 'd', 'H', 'o', 'w', 'y', 'A', 'r', 'u', 'B', 'Y', 'L', 'O', 'N', 'Q', 'g', 't', 'C', 'F', 'Z', 'h', 'V', 'R', 'l', 'n', 'x', 'f', 'D', 'W', 'k', 'z', 'i'}\n"
          ]
        }
      ]
    },
    {
      "cell_type": "code",
      "source": [
        "alpha=tuple(s)\n",
        "print(alpha)"
      ],
      "metadata": {
        "colab": {
          "base_uri": "https://localhost:8080/"
        },
        "id": "ZV4c-PXekVh7",
        "outputId": "f5c1bced-4a57-4fa2-9b48-5ee1adb1cdab"
      },
      "execution_count": null,
      "outputs": [
        {
          "output_type": "stream",
          "name": "stdout",
          "text": [
            "('b', 'E', 'M', 'U', 'm', 'q', 'v', 'a', 'S', 'c', 'X', 'j', 'I', 's', 'T', 'K', 'p', 'G', 'J', 'e', 'P', 'd', 'H', 'o', 'w', 'y', 'A', 'r', 'u', 'B', 'Y', 'L', 'O', 'N', 'Q', 'g', 't', 'C', 'F', 'Z', 'h', 'V', 'R', 'l', 'n', 'x', 'f', 'D', 'W', 'k', 'z', 'i')\n"
          ]
        }
      ]
    },
    {
      "cell_type": "code",
      "source": [
        "alpha=tuple(list(s))\n",
        "print(alpha)"
      ],
      "metadata": {
        "colab": {
          "base_uri": "https://localhost:8080/"
        },
        "id": "Q0C7dOx7knhS",
        "outputId": "30de3fd1-992f-4120-db8b-f11bb66e5994"
      },
      "execution_count": null,
      "outputs": [
        {
          "output_type": "stream",
          "name": "stdout",
          "text": [
            "('b', 'E', 'M', 'U', 'm', 'q', 'v', 'a', 'S', 'c', 'X', 'j', 'I', 's', 'T', 'K', 'p', 'G', 'J', 'e', 'P', 'd', 'H', 'o', 'w', 'y', 'A', 'r', 'u', 'B', 'Y', 'L', 'O', 'N', 'Q', 'g', 't', 'C', 'F', 'Z', 'h', 'V', 'R', 'l', 'n', 'x', 'f', 'D', 'W', 'k', 'z', 'i')\n"
          ]
        }
      ]
    },
    {
      "cell_type": "code",
      "source": [
        "print(list(s))"
      ],
      "metadata": {
        "colab": {
          "base_uri": "https://localhost:8080/"
        },
        "id": "sp9n5tFnkyLa",
        "outputId": "d00c15ba-7d16-4430-efcf-728220942ee9"
      },
      "execution_count": null,
      "outputs": [
        {
          "output_type": "stream",
          "name": "stdout",
          "text": [
            "['b', 'E', 'M', 'U', 'm', 'q', 'v', 'a', 'S', 'c', 'X', 'j', 'I', 's', 'T', 'K', 'p', 'G', 'J', 'e', 'P', 'd', 'H', 'o', 'w', 'y', 'A', 'r', 'u', 'B', 'Y', 'L', 'O', 'N', 'Q', 'g', 't', 'C', 'F', 'Z', 'h', 'V', 'R', 'l', 'n', 'x', 'f', 'D', 'W', 'k', 'z', 'i']\n"
          ]
        }
      ]
    },
    {
      "cell_type": "code",
      "source": [
        "print(alpha)"
      ],
      "metadata": {
        "colab": {
          "base_uri": "https://localhost:8080/"
        },
        "id": "PBsdneKDlFga",
        "outputId": "021156e9-c76c-485d-cc95-7000d26d498e"
      },
      "execution_count": null,
      "outputs": [
        {
          "output_type": "stream",
          "name": "stdout",
          "text": [
            "('b', 'E', 'M', 'U', 'm', 'q', 'v', 'a', 'S', 'c', 'X', 'j', 'I', 's', 'T', 'K', 'p', 'G', 'J', 'e', 'P', 'd', 'H', 'o', 'w', 'y', 'A', 'r', 'u', 'B', 'Y', 'L', 'O', 'N', 'Q', 'g', 't', 'C', 'F', 'Z', 'h', 'V', 'R', 'l', 'n', 'x', 'f', 'D', 'W', 'k', 'z', 'i')\n"
          ]
        }
      ]
    },
    {
      "cell_type": "code",
      "source": [
        "x=\"santoshkumarismybestfriend\"\n",
        "l=list(x)\n",
        "print(l)"
      ],
      "metadata": {
        "colab": {
          "base_uri": "https://localhost:8080/"
        },
        "id": "uuNWaUXRlgGD",
        "outputId": "5cb9331d-815b-4415-8679-37d91c0346fc"
      },
      "execution_count": null,
      "outputs": [
        {
          "output_type": "stream",
          "name": "stdout",
          "text": [
            "['s', 'a', 'n', 't', 'o', 's', 'h', 'k', 'u', 'm', 'a', 'r', 'i', 's', 'm', 'y', 'b', 'e', 's', 't', 'f', 'r', 'i', 'e', 'n', 'd']\n"
          ]
        }
      ]
    },
    {
      "cell_type": "code",
      "source": [
        "r=[]\n",
        "for p in l:\n",
        "    if p  in alpha:\n",
        "          r.append(p)\n",
        "print(r)"
      ],
      "metadata": {
        "colab": {
          "base_uri": "https://localhost:8080/"
        },
        "id": "j4QZaeaYmgzq",
        "outputId": "5534f3b7-0113-46d3-ff39-4b802100ab90"
      },
      "execution_count": null,
      "outputs": [
        {
          "output_type": "stream",
          "name": "stdout",
          "text": [
            "['s', 'a', 'n', 't', 'o', 's', 'h', 'k', 'u', 'm', 'a', 'r', 'i', 's', 'm', 'y', 'b', 'e', 's', 't', 'f', 'r', 'i', 'e', 'n', 'd']\n"
          ]
        }
      ]
    },
    {
      "cell_type": "code",
      "source": [
        "print(alpha)"
      ],
      "metadata": {
        "colab": {
          "base_uri": "https://localhost:8080/"
        },
        "id": "-8k3EjzAnVCy",
        "outputId": "4630816f-ffaf-4008-e07d-648e2f424cee"
      },
      "execution_count": null,
      "outputs": [
        {
          "output_type": "stream",
          "name": "stdout",
          "text": [
            "('b', 'E', 'M', 'U', 'm', 'q', 'v', 'a', 'S', 'c', 'X', 'j', 'I', 's', 'T', 'K', 'p', 'G', 'J', 'e', 'P', 'd', 'H', 'o', 'w', 'y', 'A', 'r', 'u', 'B', 'Y', 'L', 'O', 'N', 'Q', 'g', 't', 'C', 'F', 'Z', 'h', 'V', 'R', 'l', 'n', 'x', 'f', 'D', 'W', 'k', 'z', 'i')\n"
          ]
        }
      ]
    },
    {
      "cell_type": "code",
      "source": [
        "l=list(range(10))"
      ],
      "metadata": {
        "id": "1j-R8dNNnY6q"
      },
      "execution_count": null,
      "outputs": []
    },
    {
      "cell_type": "code",
      "source": [
        "l=list(tuple(10))"
      ],
      "metadata": {
        "colab": {
          "base_uri": "https://localhost:8080/",
          "height": 141
        },
        "id": "WWLe6NOQ42zj",
        "outputId": "d0313adf-0a4f-4069-ec9c-c8ddf9364476"
      },
      "execution_count": null,
      "outputs": [
        {
          "output_type": "error",
          "ename": "TypeError",
          "evalue": "'int' object is not iterable",
          "traceback": [
            "\u001b[0;31m---------------------------------------------------------------------------\u001b[0m",
            "\u001b[0;31mTypeError\u001b[0m                                 Traceback (most recent call last)",
            "\u001b[0;32m<ipython-input-66-05f1b82dab5e>\u001b[0m in \u001b[0;36m<cell line: 1>\u001b[0;34m()\u001b[0m\n\u001b[0;32m----> 1\u001b[0;31m \u001b[0ml\u001b[0m\u001b[0;34m=\u001b[0m\u001b[0mlist\u001b[0m\u001b[0;34m(\u001b[0m\u001b[0mtuple\u001b[0m\u001b[0;34m(\u001b[0m\u001b[0;36m10\u001b[0m\u001b[0;34m)\u001b[0m\u001b[0;34m)\u001b[0m\u001b[0;34m\u001b[0m\u001b[0;34m\u001b[0m\u001b[0m\n\u001b[0m",
            "\u001b[0;31mTypeError\u001b[0m: 'int' object is not iterable"
          ]
        }
      ]
    },
    {
      "cell_type": "code",
      "source": [
        "t=tuple(range(10))"
      ],
      "metadata": {
        "id": "wmFbgBLm5DTT"
      },
      "execution_count": null,
      "outputs": []
    },
    {
      "cell_type": "code",
      "source": [
        "print(l)"
      ],
      "metadata": {
        "colab": {
          "base_uri": "https://localhost:8080/"
        },
        "id": "dZQIbLpq5OMS",
        "outputId": "ae799783-6173-4048-ce5c-013f21dbb390"
      },
      "execution_count": null,
      "outputs": [
        {
          "output_type": "stream",
          "name": "stdout",
          "text": [
            "[0, 1, 2, 3, 4, 5, 6, 7, 8, 9]\n"
          ]
        }
      ]
    },
    {
      "cell_type": "code",
      "source": [
        "print(t)"
      ],
      "metadata": {
        "colab": {
          "base_uri": "https://localhost:8080/"
        },
        "id": "AmDISqJc5QuD",
        "outputId": "8fb4afa5-d67b-4358-efb1-d7ae3a98c8cb"
      },
      "execution_count": null,
      "outputs": [
        {
          "output_type": "stream",
          "name": "stdout",
          "text": [
            "(0, 1, 2, 3, 4, 5, 6, 7, 8, 9)\n"
          ]
        }
      ]
    },
    {
      "cell_type": "code",
      "source": [
        "l.__sizeof__()"
      ],
      "metadata": {
        "colab": {
          "base_uri": "https://localhost:8080/"
        },
        "id": "0hmQIF6_5YGD",
        "outputId": "99247aef-75cf-40fb-b0ff-075f3da524bf"
      },
      "execution_count": null,
      "outputs": [
        {
          "output_type": "execute_result",
          "data": {
            "text/plain": [
              "120"
            ]
          },
          "metadata": {},
          "execution_count": 76
        }
      ]
    },
    {
      "cell_type": "code",
      "source": [
        "t.__sizeof__()"
      ],
      "metadata": {
        "colab": {
          "base_uri": "https://localhost:8080/"
        },
        "id": "TiusZFj85zFT",
        "outputId": "2311af4a-d853-451b-f647-ff32476ff3fd"
      },
      "execution_count": null,
      "outputs": [
        {
          "output_type": "execute_result",
          "data": {
            "text/plain": [
              "104"
            ]
          },
          "metadata": {},
          "execution_count": 77
        }
      ]
    },
    {
      "cell_type": "markdown",
      "source": [
        "# L6.4|More on Lists"
      ],
      "metadata": {
        "id": "zoMZdvaWhCZA"
      }
    },
    {
      "cell_type": "code",
      "source": [
        "l1=[1,2,3]\n",
        "l2=[10,20,30]\n",
        "l12=l1+l2\n",
        "l21=l2+l1\n",
        "print(l12,l21)"
      ],
      "metadata": {
        "colab": {
          "base_uri": "https://localhost:8080/"
        },
        "id": "HOYg1voqhSJG",
        "outputId": "af41a60b-f3e3-47b2-80e2-9e940275566d"
      },
      "execution_count": null,
      "outputs": [
        {
          "output_type": "stream",
          "name": "stdout",
          "text": [
            "[1, 2, 3, 10, 20, 30] [10, 20, 30, 1, 2, 3]\n"
          ]
        }
      ]
    },
    {
      "cell_type": "code",
      "source": [
        "l1=[0,0,0,0,0,0,0,0,0,]\n",
        "print(l1)"
      ],
      "metadata": {
        "colab": {
          "base_uri": "https://localhost:8080/"
        },
        "id": "Zb0MzotWiKyw",
        "outputId": "229a54c0-f7aa-435e-a8a3-761366e50931"
      },
      "execution_count": null,
      "outputs": [
        {
          "output_type": "stream",
          "name": "stdout",
          "text": [
            "[0, 0, 0, 0, 0, 0, 0, 0, 0]\n"
          ]
        }
      ]
    },
    {
      "cell_type": "code",
      "source": [
        "l1=[0]*10\n",
        "print(l1)"
      ],
      "metadata": {
        "colab": {
          "base_uri": "https://localhost:8080/"
        },
        "id": "hkY9YJW7iVzM",
        "outputId": "09fd471e-1a88-4083-ecb8-dc9d578d2555"
      },
      "execution_count": null,
      "outputs": [
        {
          "output_type": "stream",
          "name": "stdout",
          "text": [
            "[0, 0, 0, 0, 0, 0, 0, 0, 0, 0]\n"
          ]
        }
      ]
    },
    {
      "cell_type": "code",
      "source": [
        "l2=[1,2,3]*5\n",
        "print(l2)"
      ],
      "metadata": {
        "colab": {
          "base_uri": "https://localhost:8080/"
        },
        "id": "Dvp0QPSrimT_",
        "outputId": "00a07c6d-af4b-49d7-e19d-50448c3b639c"
      },
      "execution_count": null,
      "outputs": [
        {
          "output_type": "stream",
          "name": "stdout",
          "text": [
            "[1, 2, 3, 1, 2, 3, 1, 2, 3, 1, 2, 3, 1, 2, 3]\n"
          ]
        }
      ]
    },
    {
      "cell_type": "code",
      "source": [
        "l3=[1,3,2]\n",
        "print(l2==l3)\n",
        "print(l2<l3)\n",
        "print([]<[1])\n"
      ],
      "metadata": {
        "colab": {
          "base_uri": "https://localhost:8080/"
        },
        "id": "g7chWP-PiyXc",
        "outputId": "fe8e7a78-94f9-497d-8704-9ed8f413d8e3"
      },
      "execution_count": null,
      "outputs": [
        {
          "output_type": "stream",
          "name": "stdout",
          "text": [
            "False\n",
            "True\n",
            "True\n"
          ]
        }
      ]
    },
    {
      "cell_type": "code",
      "source": [
        "s='abce'         #string is immutable entity in python\n",
        "print(s[3])\n",
        "s[3]='d'         #like this\n",
        "print(s)"
      ],
      "metadata": {
        "colab": {
          "base_uri": "https://localhost:8080/",
          "height": 211
        },
        "id": "idBU5aLsj_nZ",
        "outputId": "9d2d43f7-68ba-4cbc-92fa-8ccf54a15f44"
      },
      "execution_count": null,
      "outputs": [
        {
          "output_type": "stream",
          "name": "stdout",
          "text": [
            "e\n"
          ]
        },
        {
          "output_type": "error",
          "ename": "TypeError",
          "evalue": "'str' object does not support item assignment",
          "traceback": [
            "\u001b[0;31m---------------------------------------------------------------------------\u001b[0m",
            "\u001b[0;31mTypeError\u001b[0m                                 Traceback (most recent call last)",
            "\u001b[0;32m<ipython-input-9-88f2b6542492>\u001b[0m in \u001b[0;36m<cell line: 3>\u001b[0;34m()\u001b[0m\n\u001b[1;32m      1\u001b[0m \u001b[0ms\u001b[0m\u001b[0;34m=\u001b[0m\u001b[0;34m'abce'\u001b[0m\u001b[0;34m\u001b[0m\u001b[0;34m\u001b[0m\u001b[0m\n\u001b[1;32m      2\u001b[0m \u001b[0mprint\u001b[0m\u001b[0;34m(\u001b[0m\u001b[0ms\u001b[0m\u001b[0;34m[\u001b[0m\u001b[0;36m3\u001b[0m\u001b[0;34m]\u001b[0m\u001b[0;34m)\u001b[0m\u001b[0;34m\u001b[0m\u001b[0;34m\u001b[0m\u001b[0m\n\u001b[0;32m----> 3\u001b[0;31m \u001b[0ms\u001b[0m\u001b[0;34m[\u001b[0m\u001b[0;36m3\u001b[0m\u001b[0;34m]\u001b[0m\u001b[0;34m=\u001b[0m\u001b[0;34m'd'\u001b[0m\u001b[0;34m\u001b[0m\u001b[0;34m\u001b[0m\u001b[0m\n\u001b[0m\u001b[1;32m      4\u001b[0m \u001b[0mprint\u001b[0m\u001b[0;34m(\u001b[0m\u001b[0ms\u001b[0m\u001b[0;34m)\u001b[0m\u001b[0;34m\u001b[0m\u001b[0;34m\u001b[0m\u001b[0m\n",
            "\u001b[0;31mTypeError\u001b[0m: 'str' object does not support item assignment"
          ]
        }
      ]
    },
    {
      "cell_type": "code",
      "source": [],
      "metadata": {
        "id": "QhcjZ0mukjHb"
      },
      "execution_count": null,
      "outputs": []
    },
    {
      "cell_type": "code",
      "source": [
        "x=5\n",
        "y=x\n",
        "x=10\n",
        "print(x,y)"
      ],
      "metadata": {
        "colab": {
          "base_uri": "https://localhost:8080/"
        },
        "id": "an3aQG20lEX_",
        "outputId": "1fae3e93-7101-4def-fc8c-37b3fe2e8435"
      },
      "execution_count": null,
      "outputs": [
        {
          "output_type": "stream",
          "name": "stdout",
          "text": [
            "10 5\n"
          ]
        }
      ]
    },
    {
      "cell_type": "code",
      "source": [
        "l1=[1,2,3]\n",
        "l2=l1\n",
        "l1[0]=100\n",
        "print(l1,l2)"
      ],
      "metadata": {
        "colab": {
          "base_uri": "https://localhost:8080/"
        },
        "id": "rfU7uh2fleGJ",
        "outputId": "6fe5b9e2-be96-4b71-b75f-022c120ec7af"
      },
      "execution_count": null,
      "outputs": [
        {
          "output_type": "stream",
          "name": "stdout",
          "text": [
            "[100, 2, 3] [100, 2, 3]\n"
          ]
        }
      ]
    },
    {
      "cell_type": "code",
      "source": [
        "l1=[1,2,3]\n",
        "l2=list(l1)\n",
        "l3=l1[:]\n",
        "l4=l1.copy\n",
        "l5=l1"
      ],
      "metadata": {
        "id": "LyoKj7wsnwMd"
      },
      "execution_count": null,
      "outputs": []
    },
    {
      "cell_type": "code",
      "source": [
        "print(l1 is l2)\n",
        "print(l1 is l3)\n",
        "print(l1 is l4)\n",
        "print(l1 is l5 )"
      ],
      "metadata": {
        "colab": {
          "base_uri": "https://localhost:8080/"
        },
        "id": "jcngeItcoYte",
        "outputId": "1434ea2f-ce5a-4666-97fd-9ec67a6e2e54"
      },
      "execution_count": null,
      "outputs": [
        {
          "output_type": "stream",
          "name": "stdout",
          "text": [
            "False\n",
            "False\n",
            "False\n",
            "True\n"
          ]
        }
      ]
    },
    {
      "cell_type": "code",
      "source": [
        "def add(x):\n",
        "   x=x+1\n",
        "   return x\n",
        "\n",
        "x=5\n",
        "print(add(x))\n",
        "print(x)"
      ],
      "metadata": {
        "colab": {
          "base_uri": "https://localhost:8080/"
        },
        "id": "5HauzqkypN4J",
        "outputId": "d4ef0427-ab79-421b-e6a4-ceba2bb518f5"
      },
      "execution_count": null,
      "outputs": [
        {
          "output_type": "stream",
          "name": "stdout",
          "text": [
            "6\n",
            "5\n"
          ]
        }
      ]
    },
    {
      "cell_type": "code",
      "source": [
        "def add(x):\n",
        "   x.append(1)\n",
        "   return x\n",
        "\n",
        "x=[5]\n",
        "print(add(x))\n",
        "print(x)"
      ],
      "metadata": {
        "colab": {
          "base_uri": "https://localhost:8080/"
        },
        "outputId": "9d50b1dd-476f-4c05-ab8d-1cfc5752837d",
        "id": "EwA5tm1XqGdK"
      },
      "execution_count": null,
      "outputs": [
        {
          "output_type": "stream",
          "name": "stdout",
          "text": [
            "[5, 1]\n",
            "[5, 1]\n"
          ]
        }
      ]
    },
    {
      "cell_type": "code",
      "source": [
        "l=[1,2,3]\n",
        "print(l)"
      ],
      "metadata": {
        "colab": {
          "base_uri": "https://localhost:8080/"
        },
        "id": "MUXHX6JVrW48",
        "outputId": "5c43ce5b-9fc5-419d-caff-c8d5c0dda15a"
      },
      "execution_count": null,
      "outputs": [
        {
          "output_type": "stream",
          "name": "stdout",
          "text": [
            "[1, 2, 3]\n"
          ]
        }
      ]
    },
    {
      "cell_type": "code",
      "source": [
        "l=[1,2,3]\n",
        "print(l)\n",
        "\n",
        "l.append(4)\n",
        "print(l)\n",
        "\n",
        "l.remove(2)\n",
        "print(l)"
      ],
      "metadata": {
        "colab": {
          "base_uri": "https://localhost:8080/"
        },
        "outputId": "4ddf7e3f-bc9a-42d8-96e2-db491f51f45f",
        "id": "MONzSxo7s8GK"
      },
      "execution_count": null,
      "outputs": [
        {
          "output_type": "stream",
          "name": "stdout",
          "text": [
            "[1, 2, 3]\n",
            "[1, 2, 3, 4]\n",
            "[1, 3, 4]\n"
          ]
        }
      ]
    },
    {
      "cell_type": "code",
      "source": [
        "l=[1,2,3]\n",
        "print(l)\n",
        "\n",
        "l.append(4)\n",
        "print(l)\n",
        "\n",
        "l.remove(2)\n",
        "print(l)\n",
        "\n",
        "x=l.copy()\n",
        "print(x,l)\n",
        "\n",
        "l.insert(2,9)\n",
        "print(l)\n",
        "\n",
        "l.pop(0)\n",
        "print(l)"
      ],
      "metadata": {
        "colab": {
          "base_uri": "https://localhost:8080/"
        },
        "outputId": "6df11f74-00c2-4e9d-db36-947ce45b1b42",
        "id": "kji4P2CNtK3U"
      },
      "execution_count": null,
      "outputs": [
        {
          "output_type": "stream",
          "name": "stdout",
          "text": [
            "[1, 2, 3]\n",
            "[1, 2, 3, 4]\n",
            "[1, 3, 4]\n",
            "[1, 3, 4] [1, 3, 4]\n",
            "[1, 3, 9, 4]\n",
            "[3, 9, 4]\n"
          ]
        }
      ]
    },
    {
      "cell_type": "code",
      "source": [],
      "metadata": {
        "id": "Bs4Y5zdWtuFg"
      },
      "execution_count": null,
      "outputs": []
    },
    {
      "cell_type": "code",
      "source": [
        "l=[1,2,3]\n",
        "print(l)\n",
        "\n",
        "l.remove(2)\n",
        "print(l)\n",
        "\n",
        "l.pop(0)\n",
        "print(l)"
      ],
      "metadata": {
        "colab": {
          "base_uri": "https://localhost:8080/"
        },
        "outputId": "ee04f2c8-53ab-4b7d-a4c4-fbbaa8fe531a",
        "id": "24f0ZK8utu9w"
      },
      "execution_count": null,
      "outputs": [
        {
          "output_type": "stream",
          "name": "stdout",
          "text": [
            "[1, 2, 3]\n",
            "[1, 3]\n",
            "[3]\n"
          ]
        }
      ]
    },
    {
      "cell_type": "code",
      "source": [
        "l=[2,6,1,50,3,7,5]\n",
        "l.sort()\n",
        "print(l)"
      ],
      "metadata": {
        "colab": {
          "base_uri": "https://localhost:8080/"
        },
        "id": "60zvAC0FuFWz",
        "outputId": "967ff5ff-1d25-45ff-da5b-0a2c5f9dc618"
      },
      "execution_count": null,
      "outputs": [
        {
          "output_type": "stream",
          "name": "stdout",
          "text": [
            "[1, 2, 3, 5, 6, 7, 50]\n"
          ]
        }
      ]
    },
    {
      "cell_type": "code",
      "source": [
        "l=[2,6,1,50,3,7,5]\n",
        "l.reverse()\n",
        "print(l)"
      ],
      "metadata": {
        "colab": {
          "base_uri": "https://localhost:8080/"
        },
        "outputId": "3706e90a-aabe-4c23-f70b-ba65970c7df9",
        "id": "SnPOMD7ruhp2"
      },
      "execution_count": null,
      "outputs": [
        {
          "output_type": "stream",
          "name": "stdout",
          "text": [
            "[5, 7, 3, 50, 1, 6, 2]\n"
          ]
        }
      ]
    },
    {
      "cell_type": "markdown",
      "source": [
        "# L6.5|More on Tuples"
      ],
      "metadata": {
        "id": "_YdDDHuLu3q_"
      }
    },
    {
      "cell_type": "code",
      "source": [
        "t=1,2,3\n",
        "print(t,type(t))\n",
        "\n",
        "x,y,z = t\n",
        "print(x,y,z)"
      ],
      "metadata": {
        "id": "DsPdm9_nvPAb",
        "colab": {
          "base_uri": "https://localhost:8080/"
        },
        "outputId": "37b1d7eb-858e-43f5-d23f-7dd668ee6e4d"
      },
      "execution_count": null,
      "outputs": [
        {
          "output_type": "stream",
          "name": "stdout",
          "text": [
            "(1, 2, 3) <class 'tuple'>\n",
            "1 2 3\n"
          ]
        }
      ]
    },
    {
      "cell_type": "code",
      "source": [
        "x=5\n",
        "y=10\n",
        "x,y=y,x\n",
        "print(x,y)"
      ],
      "metadata": {
        "colab": {
          "base_uri": "https://localhost:8080/"
        },
        "id": "BRDQU1qVMIrZ",
        "outputId": "5793f535-b7b3-438a-b94a-6578fa94b916"
      },
      "execution_count": null,
      "outputs": [
        {
          "output_type": "stream",
          "name": "stdout",
          "text": [
            "10 5\n"
          ]
        }
      ]
    },
    {
      "cell_type": "code",
      "source": [
        "l=[10]\n",
        "print(l,type(l))\n",
        "\n",
        "t=(10)\n",
        "print(t,type(t))"
      ],
      "metadata": {
        "colab": {
          "base_uri": "https://localhost:8080/"
        },
        "id": "F9Dde1c_MicB",
        "outputId": "12260695-1a9c-42b2-e0a0-5908f0315b17"
      },
      "execution_count": null,
      "outputs": [
        {
          "output_type": "stream",
          "name": "stdout",
          "text": [
            "[10] <class 'list'>\n",
            "10 <class 'int'>\n"
          ]
        }
      ]
    },
    {
      "cell_type": "code",
      "source": [
        "l=[10]\n",
        "print(l,type(l))\n",
        "\n",
        "t=(10,)\n",
        "print(t,type(t))"
      ],
      "metadata": {
        "colab": {
          "base_uri": "https://localhost:8080/"
        },
        "outputId": "fef98d9b-49e4-4d13-a2cf-cb9f7b3b7f23",
        "id": "mxN8UbLFNNcj"
      },
      "execution_count": null,
      "outputs": [
        {
          "output_type": "stream",
          "name": "stdout",
          "text": [
            "[10] <class 'list'>\n",
            "(10,) <class 'tuple'>\n"
          ]
        }
      ]
    },
    {
      "cell_type": "code",
      "source": [
        "t=([1,2],['s','b'])\n",
        "print(t,type(t))"
      ],
      "metadata": {
        "colab": {
          "base_uri": "https://localhost:8080/"
        },
        "id": "z_Wp2HXYNTFB",
        "outputId": "572d6bea-4f5b-4dfc-c2f5-cfc750283bf3"
      },
      "execution_count": null,
      "outputs": [
        {
          "output_type": "stream",
          "name": "stdout",
          "text": [
            "([1, 2], ['s', 'b']) <class 'tuple'>\n"
          ]
        }
      ]
    },
    {
      "cell_type": "code",
      "source": [
        "t=([1,2],['a','b'])\n",
        "t[0]=[10,20]\n",
        "print(t)"
      ],
      "metadata": {
        "colab": {
          "base_uri": "https://localhost:8080/",
          "height": 176
        },
        "id": "50KYK0CCN8p5",
        "outputId": "428648db-81fc-40c6-d666-318cc9263e87"
      },
      "execution_count": null,
      "outputs": [
        {
          "output_type": "error",
          "ename": "TypeError",
          "evalue": "'tuple' object does not support item assignment",
          "traceback": [
            "\u001b[0;31m---------------------------------------------------------------------------\u001b[0m",
            "\u001b[0;31mTypeError\u001b[0m                                 Traceback (most recent call last)",
            "\u001b[0;32m<ipython-input-8-bde18871427f>\u001b[0m in \u001b[0;36m<cell line: 2>\u001b[0;34m()\u001b[0m\n\u001b[1;32m      1\u001b[0m \u001b[0mt\u001b[0m\u001b[0;34m=\u001b[0m\u001b[0;34m(\u001b[0m\u001b[0;34m[\u001b[0m\u001b[0;36m1\u001b[0m\u001b[0;34m,\u001b[0m\u001b[0;36m2\u001b[0m\u001b[0;34m]\u001b[0m\u001b[0;34m,\u001b[0m\u001b[0;34m[\u001b[0m\u001b[0;34m'a'\u001b[0m\u001b[0;34m,\u001b[0m\u001b[0;34m'b'\u001b[0m\u001b[0;34m]\u001b[0m\u001b[0;34m)\u001b[0m\u001b[0;34m\u001b[0m\u001b[0;34m\u001b[0m\u001b[0m\n\u001b[0;32m----> 2\u001b[0;31m \u001b[0mt\u001b[0m\u001b[0;34m[\u001b[0m\u001b[0;36m0\u001b[0m\u001b[0;34m]\u001b[0m\u001b[0;34m=\u001b[0m\u001b[0;34m[\u001b[0m\u001b[0;36m10\u001b[0m\u001b[0;34m,\u001b[0m\u001b[0;36m20\u001b[0m\u001b[0;34m]\u001b[0m\u001b[0;34m\u001b[0m\u001b[0;34m\u001b[0m\u001b[0m\n\u001b[0m\u001b[1;32m      3\u001b[0m \u001b[0mprint\u001b[0m\u001b[0;34m(\u001b[0m\u001b[0mt\u001b[0m\u001b[0;34m)\u001b[0m\u001b[0;34m\u001b[0m\u001b[0;34m\u001b[0m\u001b[0m\n",
            "\u001b[0;31mTypeError\u001b[0m: 'tuple' object does not support item assignment"
          ]
        }
      ]
    },
    {
      "cell_type": "code",
      "source": [
        "t=([1,2],['a','b'])\n",
        "t[0][0]=10\n",
        "print(t)"
      ],
      "metadata": {
        "colab": {
          "base_uri": "https://localhost:8080/"
        },
        "outputId": "50ac5039-1341-4ec8-d18f-d62c36090131",
        "id": "UgHY3gqrOZty"
      },
      "execution_count": null,
      "outputs": [
        {
          "output_type": "stream",
          "name": "stdout",
          "text": [
            "([10, 2], ['a', 'b'])\n"
          ]
        }
      ]
    },
    {
      "cell_type": "code",
      "source": [
        "t1=(1,2,3)\n",
        "t2=([1,2,3],)\n"
      ],
      "metadata": {
        "id": "dG9-9NewOxxy"
      },
      "execution_count": null,
      "outputs": []
    },
    {
      "cell_type": "markdown",
      "source": [
        "# L6.6|More on Dictionaries"
      ],
      "metadata": {
        "id": "QCjF0gYLPQQw"
      }
    },
    {
      "cell_type": "code",
      "source": [
        "d={'key':'value'}"
      ],
      "metadata": {
        "id": "EoA0GonoPdDK"
      },
      "execution_count": null,
      "outputs": []
    },
    {
      "cell_type": "code",
      "source": [
        "d={0:0,1:1,2:4,3:9,4:16}\n",
        "print(d)\n",
        "for key in d:\n",
        "   print(key,d[key])\n"
      ],
      "metadata": {
        "colab": {
          "base_uri": "https://localhost:8080/"
        },
        "id": "OzRxBNQr41Ri",
        "outputId": "829cf04f-b0c4-46a3-db74-c723a4c6ce01"
      },
      "execution_count": null,
      "outputs": [
        {
          "output_type": "stream",
          "name": "stdout",
          "text": [
            "{0: 0, 1: 1, 2: 4, 3: 9, 4: 16}\n",
            "0 0\n",
            "1 1\n",
            "2 4\n",
            "3 9\n",
            "4 16\n"
          ]
        }
      ]
    },
    {
      "cell_type": "code",
      "source": [
        "for value in d:\n",
        "  print(value)"
      ],
      "metadata": {
        "colab": {
          "base_uri": "https://localhost:8080/"
        },
        "id": "6eoJCM-a5ZRR",
        "outputId": "b2b535b2-04a8-4069-e3fe-b5ccd9fb05d1"
      },
      "execution_count": null,
      "outputs": [
        {
          "output_type": "stream",
          "name": "stdout",
          "text": [
            "0\n",
            "1\n",
            "2\n",
            "3\n",
            "4\n"
          ]
        }
      ]
    },
    {
      "cell_type": "code",
      "source": [],
      "metadata": {
        "id": "9JvcxgiM6QQp"
      },
      "execution_count": null,
      "outputs": []
    },
    {
      "cell_type": "code",
      "source": [
        "d={0:0,1:1,2:4,3:9,4:16}\n",
        "print(d)\n",
        "for key in d:\n",
        "   print(key,d[key])\n"
      ],
      "metadata": {
        "colab": {
          "base_uri": "https://localhost:8080/"
        },
        "outputId": "829cf04f-b0c4-46a3-db74-c723a4c6ce01",
        "id": "7KWzhQd36Qvc"
      },
      "execution_count": null,
      "outputs": [
        {
          "output_type": "stream",
          "name": "stdout",
          "text": [
            "{0: 0, 1: 1, 2: 4, 3: 9, 4: 16}\n",
            "0 0\n",
            "1 1\n",
            "2 4\n",
            "3 9\n",
            "4 16\n"
          ]
        }
      ]
    },
    {
      "cell_type": "code",
      "source": [
        "d={0:0,1:1,2:4,3:9,4:16}\n",
        "print(d.keys())\n",
        "print(d.values())\n",
        "print(d.items())\n",
        "\n"
      ],
      "metadata": {
        "colab": {
          "base_uri": "https://localhost:8080/"
        },
        "outputId": "1d88f4f8-2a51-4b56-d912-31788eb3ceeb",
        "id": "vDaWcB3V6Qw8"
      },
      "execution_count": null,
      "outputs": [
        {
          "output_type": "stream",
          "name": "stdout",
          "text": [
            "dict_keys([0, 1, 2, 3, 4])\n",
            "dict_values([0, 1, 4, 9, 16])\n",
            "dict_items([(0, 0), (1, 1), (2, 4), (3, 9), (4, 16)])\n"
          ]
        }
      ]
    },
    {
      "cell_type": "markdown",
      "source": [
        "# L6.7|More on Sets"
      ],
      "metadata": {
        "id": "WOD0D3w662pp"
      }
    },
    {
      "cell_type": "code",
      "source": [
        "st={1,2,3,4,5}\n",
        "print(st)"
      ],
      "metadata": {
        "colab": {
          "base_uri": "https://localhost:8080/"
        },
        "id": "KLpl4VnQ7O7p",
        "outputId": "94e3cce5-8b4f-49d9-d96a-8f8b0161881f"
      },
      "execution_count": null,
      "outputs": [
        {
          "output_type": "stream",
          "name": "stdout",
          "text": [
            "{1, 2, 3, 4, 5}\n"
          ]
        }
      ]
    },
    {
      "cell_type": "code",
      "source": [
        "st={1,2,3,4,5}       # every value in inside set has to be immutable and hashable , which means you can add values into a set,\n",
        "print(st[0])        # \"set\" object is not subscritable"
      ],
      "metadata": {
        "colab": {
          "base_uri": "https://localhost:8080/",
          "height": 159
        },
        "outputId": "83f6ab45-a5c7-4568-d9a3-240cb9835230",
        "id": "_H3NGSmV8FKi"
      },
      "execution_count": null,
      "outputs": [
        {
          "output_type": "error",
          "ename": "TypeError",
          "evalue": "'set' object is not subscriptable",
          "traceback": [
            "\u001b[0;31m---------------------------------------------------------------------------\u001b[0m",
            "\u001b[0;31mTypeError\u001b[0m                                 Traceback (most recent call last)",
            "\u001b[0;32m<ipython-input-9-e7d87ce881ae>\u001b[0m in \u001b[0;36m<cell line: 2>\u001b[0;34m()\u001b[0m\n\u001b[1;32m      1\u001b[0m \u001b[0mst\u001b[0m\u001b[0;34m=\u001b[0m\u001b[0;34m{\u001b[0m\u001b[0;36m1\u001b[0m\u001b[0;34m,\u001b[0m\u001b[0;36m2\u001b[0m\u001b[0;34m,\u001b[0m\u001b[0;36m3\u001b[0m\u001b[0;34m,\u001b[0m\u001b[0;36m4\u001b[0m\u001b[0;34m,\u001b[0m\u001b[0;36m5\u001b[0m\u001b[0;34m}\u001b[0m\u001b[0;34m\u001b[0m\u001b[0;34m\u001b[0m\u001b[0m\n\u001b[0;32m----> 2\u001b[0;31m \u001b[0mprint\u001b[0m\u001b[0;34m(\u001b[0m\u001b[0mst\u001b[0m\u001b[0;34m[\u001b[0m\u001b[0;36m0\u001b[0m\u001b[0;34m]\u001b[0m\u001b[0;34m)\u001b[0m\u001b[0;34m\u001b[0m\u001b[0;34m\u001b[0m\u001b[0m\n\u001b[0m",
            "\u001b[0;31mTypeError\u001b[0m: 'set' object is not subscriptable"
          ]
        }
      ]
    },
    {
      "cell_type": "code",
      "source": [
        "A={1,2,3}\n",
        "B={1,2,3,4,5}\n",
        "print(A.issubset(B))"
      ],
      "metadata": {
        "colab": {
          "base_uri": "https://localhost:8080/"
        },
        "id": "_mvR7qYl9tU6",
        "outputId": "56b7ab5b-69fe-4c04-dc5f-f52bb9023f1a"
      },
      "execution_count": null,
      "outputs": [
        {
          "output_type": "stream",
          "name": "stdout",
          "text": [
            "True\n"
          ]
        }
      ]
    },
    {
      "cell_type": "code",
      "source": [],
      "metadata": {
        "id": "1HiTqNfK-LbR"
      },
      "execution_count": null,
      "outputs": []
    },
    {
      "cell_type": "code",
      "source": [
        "A={1,2,3}\n",
        "B={1,2,3,4,5}\n",
        "print(A.issuperset(B))"
      ],
      "metadata": {
        "colab": {
          "base_uri": "https://localhost:8080/"
        },
        "outputId": "264ed3bc-134e-40b3-80e7-7ffd7f8ce835",
        "id": "pqBLFrHA-MN8"
      },
      "execution_count": null,
      "outputs": [
        {
          "output_type": "stream",
          "name": "stdout",
          "text": [
            "False\n"
          ]
        }
      ]
    },
    {
      "cell_type": "code",
      "source": [
        "A={1,2,3}\n",
        "B={3,4,5}\n",
        "c1=A.union(B)\n",
        "c2=A|B\n",
        "print(c1,c2)"
      ],
      "metadata": {
        "colab": {
          "base_uri": "https://localhost:8080/"
        },
        "id": "4yRJa6pP-W85",
        "outputId": "7ee1bd86-d722-4ba2-aff8-52100be675de"
      },
      "execution_count": null,
      "outputs": [
        {
          "output_type": "stream",
          "name": "stdout",
          "text": [
            "{1, 2, 3, 4, 5} {1, 2, 3, 4, 5}\n"
          ]
        }
      ]
    },
    {
      "cell_type": "code",
      "source": [
        "A={1,2,3}\n",
        "B={3,4,5}\n",
        "c1=A.intersection(B)\n",
        "c2=A & B\n",
        "print(c1,c2)"
      ],
      "metadata": {
        "colab": {
          "base_uri": "https://localhost:8080/"
        },
        "outputId": "d4f21011-0b9f-4421-ddfb-55c38d933cb0",
        "id": "_BUnslwm_AB7"
      },
      "execution_count": null,
      "outputs": [
        {
          "output_type": "stream",
          "name": "stdout",
          "text": [
            "{3} {3}\n"
          ]
        }
      ]
    },
    {
      "cell_type": "code",
      "source": [
        "A={1,2,3}\n",
        "B={3,4,5}\n",
        "c1=A.difference(B)\n",
        "c2=A-B\n",
        "print(c1,c2)"
      ],
      "metadata": {
        "colab": {
          "base_uri": "https://localhost:8080/"
        },
        "outputId": "2f7798f9-785e-456c-c911-a9fbbe1c816d",
        "id": "P121krow_OF7"
      },
      "execution_count": null,
      "outputs": [
        {
          "output_type": "stream",
          "name": "stdout",
          "text": [
            "{1, 2} {1, 2}\n"
          ]
        }
      ]
    }
  ]
}