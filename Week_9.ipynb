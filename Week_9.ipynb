{
  "nbformat": 4,
  "nbformat_minor": 0,
  "metadata": {
    "colab": {
      "provenance": [],
      "authorship_tag": "ABX9TyP60lyov8zruF8YB1ZE8dPv",
      "include_colab_link": true
    },
    "kernelspec": {
      "name": "python3",
      "display_name": "Python 3"
    },
    "language_info": {
      "name": "python"
    }
  },
  "cells": [
    {
      "cell_type": "markdown",
      "metadata": {
        "id": "view-in-github",
        "colab_type": "text"
      },
      "source": [
        "<a href=\"https://colab.research.google.com/github/MrSantoshkumar/PYTHON-IITM/blob/main/Week_9.ipynb\" target=\"_parent\"><img src=\"https://colab.research.google.com/assets/colab-badge.svg\" alt=\"Open In Colab\"/></a>"
      ]
    },
    {
      "cell_type": "code",
      "execution_count": null,
      "metadata": {
        "colab": {
          "base_uri": "https://localhost:8080/"
        },
        "id": "dQbe3F0aHPtf",
        "outputId": "f0626a90-4b0e-432f-ba00-0cf2f856e467"
      },
      "outputs": [
        {
          "output_type": "stream",
          "name": "stdout",
          "text": [
            "/content\n"
          ]
        }
      ],
      "source": [
        "!pwd"
      ]
    },
    {
      "cell_type": "code",
      "source": [
        "pod"
      ],
      "metadata": {
        "colab": {
          "base_uri": "https://localhost:8080/",
          "height": 141
        },
        "id": "terjMC7THpgE",
        "outputId": "d362937b-7d06-4c2b-fa60-0288cf1c5546"
      },
      "execution_count": null,
      "outputs": [
        {
          "output_type": "error",
          "ename": "NameError",
          "evalue": "name 'pod' is not defined",
          "traceback": [
            "\u001b[0;31m---------------------------------------------------------------------------\u001b[0m",
            "\u001b[0;31mNameError\u001b[0m                                 Traceback (most recent call last)",
            "\u001b[0;32m<ipython-input-2-a8137d34abbe>\u001b[0m in \u001b[0;36m<cell line: 1>\u001b[0;34m()\u001b[0m\n\u001b[0;32m----> 1\u001b[0;31m \u001b[0mpod\u001b[0m\u001b[0;34m\u001b[0m\u001b[0;34m\u001b[0m\u001b[0m\n\u001b[0m",
            "\u001b[0;31mNameError\u001b[0m: name 'pod' is not defined"
          ]
        }
      ]
    },
    {
      "cell_type": "code",
      "source": [
        "f=open('mytext.text','w')\n",
        "f.write('santosh kumar')\n",
        "f.write('young man ')\n",
        "f.write('IIT')\n",
        "f.write('python')\n",
        "f.close()\n"
      ],
      "metadata": {
        "id": "s8W1OqUsTOvu"
      },
      "execution_count": null,
      "outputs": []
    },
    {
      "cell_type": "code",
      "source": [
        "x=open('mytext.text','r')\n",
        "s=x.read()\n",
        "print(s)\n",
        "type()"
      ],
      "metadata": {
        "id": "bQYfRUVsYyi2"
      },
      "execution_count": null,
      "outputs": []
    },
    {
      "cell_type": "code",
      "source": [
        "f=open('directoty.txt', 'r')\n",
        "f.readline()\n",
        "f.readline()"
      ],
      "metadata": {
        "id": "RPy82USg4QMg"
      },
      "execution_count": null,
      "outputs": []
    },
    {
      "cell_type": "code",
      "source": [
        "c=f.readline()\n",
        "print(c)"
      ],
      "metadata": {
        "id": "3zXBNiee48VX"
      },
      "execution_count": null,
      "outputs": []
    },
    {
      "cell_type": "code",
      "source": [
        "f=open('directory.txt', 'r')\n",
        "\n",
        "flag=0\n",
        "\n",
        "s='0'\n",
        "\n",
        "while(s!=''):\n",
        "    s=f.readline()\n",
        "    n=int(s)\n",
        "    if(n==1234567890):\n",
        "       print('The number was found')\n",
        "       flag=1\n",
        "       break\n",
        "if(flag==0):\n",
        "    print(\"The number was not found\")"
      ],
      "metadata": {
        "id": "DuKZjjqW5Yao"
      },
      "execution_count": null,
      "outputs": []
    },
    {
      "cell_type": "markdown",
      "source": [
        "#  L9.5| Caesar Cipher"
      ],
      "metadata": {
        "id": "nHuRmHAED7Z_"
      }
    },
    {
      "cell_type": "code",
      "source": [
        "'''The program considers an input file and encrypts  it by using caesar ciphet.\n",
        "By that we mean , we shifts the letters by 3 units . for example,\n",
        "a becomes d, b becomes e ane so on .....w becomes z and x becomes a , y becomes b and\n",
        "z becomes  c'''\n",
        "\n",
        "import string\n",
        "\n",
        "def create_caesar_dictionary():\n",
        "    l=string.ascii_lowercase\n",
        "    l=list(l)\n",
        "    d={}\n",
        "    for i in range(len(l)):\n",
        "        d[l[i]]=l[(i+3)%26]\n",
        "    return d\n",
        "\n",
        "f=open('sherlock.txt','r')\n",
        "g=open('encrypted_santosh.txt', 'w')\n",
        "d=create_caesar_dictionary()\n",
        "\n",
        "c=f.read(l)\n",
        "while(c!=''):\n",
        "  g.write(d[c])\n",
        "  c=f.read(l)     #next char\n",
        "\n",
        "f.close()\n",
        "g.close()\n",
        "\n",
        "\n",
        "# Try writing a code which takes encrypted_sherlock.txt as an input file and decrypts it and gets back your sherlock.txt\n"
      ],
      "metadata": {
        "id": "PN-Nw9nZEED3",
        "colab": {
          "base_uri": "https://localhost:8080/",
          "height": 211
        },
        "outputId": "3fa559ab-03b4-4cb4-c133-ffc2133f2ef3"
      },
      "execution_count": null,
      "outputs": [
        {
          "output_type": "error",
          "ename": "FileNotFoundError",
          "evalue": "[Errno 2] No such file or directory: 'sherlock.txt'",
          "traceback": [
            "\u001b[0;31m---------------------------------------------------------------------------\u001b[0m",
            "\u001b[0;31mFileNotFoundError\u001b[0m                         Traceback (most recent call last)",
            "\u001b[0;32m<ipython-input-16-a9f619caa219>\u001b[0m in \u001b[0;36m<cell line: 16>\u001b[0;34m()\u001b[0m\n\u001b[1;32m     14\u001b[0m     \u001b[0;32mreturn\u001b[0m \u001b[0md\u001b[0m\u001b[0;34m\u001b[0m\u001b[0;34m\u001b[0m\u001b[0m\n\u001b[1;32m     15\u001b[0m \u001b[0;34m\u001b[0m\u001b[0m\n\u001b[0;32m---> 16\u001b[0;31m \u001b[0mf\u001b[0m\u001b[0;34m=\u001b[0m\u001b[0mopen\u001b[0m\u001b[0;34m(\u001b[0m\u001b[0;34m'sherlock.txt'\u001b[0m\u001b[0;34m,\u001b[0m\u001b[0;34m'r'\u001b[0m\u001b[0;34m)\u001b[0m\u001b[0;34m\u001b[0m\u001b[0;34m\u001b[0m\u001b[0m\n\u001b[0m\u001b[1;32m     17\u001b[0m \u001b[0mg\u001b[0m\u001b[0;34m=\u001b[0m\u001b[0mopen\u001b[0m\u001b[0;34m(\u001b[0m\u001b[0;34m'encrypted_santosh.txt'\u001b[0m\u001b[0;34m,\u001b[0m \u001b[0;34m'w'\u001b[0m\u001b[0;34m)\u001b[0m\u001b[0;34m\u001b[0m\u001b[0;34m\u001b[0m\u001b[0m\n\u001b[1;32m     18\u001b[0m \u001b[0md\u001b[0m\u001b[0;34m=\u001b[0m\u001b[0mcreate_caesar_dictionary\u001b[0m\u001b[0;34m(\u001b[0m\u001b[0;34m)\u001b[0m\u001b[0;34m\u001b[0m\u001b[0;34m\u001b[0m\u001b[0m\n",
            "\u001b[0;31mFileNotFoundError\u001b[0m: [Errno 2] No such file or directory: 'sherlock.txt'"
          ]
        }
      ]
    },
    {
      "cell_type": "markdown",
      "source": [
        "# L 9.6 |  File handling , Genetic Sequences"
      ],
      "metadata": {
        "id": "X1xtykf-Zl0z"
      }
    },
    {
      "cell_type": "code",
      "source": [
        "human.txt  test.text\n",
        "\n",
        "f=open('test.txt','r')\n",
        "s=f.read(2)\n",
        "print(s)\n",
        "\n",
        "s=f.read(2)\n",
        "print(s)\n",
        "\n",
        "f.seek(e)\n",
        "\n",
        "s=f.read(2)\n",
        "print(s)\n",
        "s=f.seek(1)\n"
      ],
      "metadata": {
        "id": "eXV8RHScZzlL"
      },
      "execution_count": null,
      "outputs": []
    },
    {
      "cell_type": "code",
      "source": [
        "ls\n",
        "human.txt test.txt\n",
        "\n",
        "f=open('human.txt', 'r')\n",
        "\n",
        "seq=f.read()\n",
        "print(seq)\n"
      ],
      "metadata": {
        "id": "v3jCKJX7fCEa"
      },
      "execution_count": null,
      "outputs": []
    },
    {
      "cell_type": "code",
      "source": [
        "seq[0]\n",
        "seq[1]\n",
        "seq[2]"
      ],
      "metadata": {
        "id": "s2x0hQaNgTRy"
      },
      "execution_count": null,
      "outputs": []
    },
    {
      "cell_type": "code",
      "source": [
        "diab='GTATGAC'\n",
        "diab in seq"
      ],
      "metadata": {
        "id": "sRIR3KSAgw5r"
      },
      "execution_count": null,
      "outputs": []
    },
    {
      "cell_type": "code",
      "source": [
        "bp='TAGAAACCTGGATA'\n",
        "Bp in seq"
      ],
      "metadata": {
        "id": "jQM7-L0khZF7"
      },
      "execution_count": null,
      "outputs": []
    },
    {
      "cell_type": "code",
      "source": [
        "#KMP , knuth.M.P algorithm ( *****)\n",
        "f=open('human.txt','r')\n",
        "seq=f.read()"
      ],
      "metadata": {
        "id": "jIs4yyXHiVzs"
      },
      "execution_count": null,
      "outputs": []
    },
    {
      "cell_type": "markdown",
      "source": [
        "# L9.7 |  Why pandas"
      ],
      "metadata": {
        "id": "XyS--7rRjWDi"
      }
    },
    {
      "cell_type": "code",
      "source": [
        "f=open('scores.txt','r')\n",
        "scores=f.readlines()[1:]\n",
        "max=0\n",
        "for record in scores:\n",
        "    fields=record.split(',')\n",
        "    if int(fields[8]) > max:\n",
        "        max=int(fields[8])\n",
        "print(max)"
      ],
      "metadata": {
        "id": "J7ANdUgdjh6b",
        "colab": {
          "base_uri": "https://localhost:8080/",
          "height": 211
        },
        "outputId": "dde3d888-6e10-44f9-f3a5-34565ad70c61"
      },
      "execution_count": null,
      "outputs": [
        {
          "output_type": "error",
          "ename": "FileNotFoundError",
          "evalue": "[Errno 2] No such file or directory: 'scores.txt'",
          "traceback": [
            "\u001b[0;31m---------------------------------------------------------------------------\u001b[0m",
            "\u001b[0;31mFileNotFoundError\u001b[0m                         Traceback (most recent call last)",
            "\u001b[0;32m<ipython-input-22-c284bea3c470>\u001b[0m in \u001b[0;36m<cell line: 1>\u001b[0;34m()\u001b[0m\n\u001b[0;32m----> 1\u001b[0;31m \u001b[0mf\u001b[0m\u001b[0;34m=\u001b[0m\u001b[0mopen\u001b[0m\u001b[0;34m(\u001b[0m\u001b[0;34m'scores.txt'\u001b[0m\u001b[0;34m,\u001b[0m\u001b[0;34m'r'\u001b[0m\u001b[0;34m)\u001b[0m\u001b[0;34m\u001b[0m\u001b[0;34m\u001b[0m\u001b[0m\n\u001b[0m\u001b[1;32m      2\u001b[0m \u001b[0mscores\u001b[0m\u001b[0;34m=\u001b[0m\u001b[0mf\u001b[0m\u001b[0;34m.\u001b[0m\u001b[0mreadlines\u001b[0m\u001b[0;34m(\u001b[0m\u001b[0;34m)\u001b[0m\u001b[0;34m[\u001b[0m\u001b[0;36m1\u001b[0m\u001b[0;34m:\u001b[0m\u001b[0;34m]\u001b[0m\u001b[0;34m\u001b[0m\u001b[0;34m\u001b[0m\u001b[0m\n\u001b[1;32m      3\u001b[0m \u001b[0mmax\u001b[0m\u001b[0;34m=\u001b[0m\u001b[0;36m0\u001b[0m\u001b[0;34m\u001b[0m\u001b[0;34m\u001b[0m\u001b[0m\n\u001b[1;32m      4\u001b[0m \u001b[0;32mfor\u001b[0m \u001b[0mrecord\u001b[0m \u001b[0;32min\u001b[0m \u001b[0mscores\u001b[0m\u001b[0;34m:\u001b[0m\u001b[0;34m\u001b[0m\u001b[0;34m\u001b[0m\u001b[0m\n\u001b[1;32m      5\u001b[0m     \u001b[0mfields\u001b[0m\u001b[0;34m=\u001b[0m\u001b[0mrecord\u001b[0m\u001b[0;34m.\u001b[0m\u001b[0msplit\u001b[0m\u001b[0;34m(\u001b[0m\u001b[0;34m','\u001b[0m\u001b[0;34m)\u001b[0m\u001b[0;34m\u001b[0m\u001b[0;34m\u001b[0m\u001b[0m\n",
            "\u001b[0;31mFileNotFoundError\u001b[0m: [Errno 2] No such file or directory: 'scores.txt'"
          ]
        }
      ]
    },
    {
      "cell_type": "code",
      "source": [
        "pip install --upgrade pandas"
      ],
      "metadata": {
        "id": "9MBih6uNhfYF",
        "colab": {
          "base_uri": "https://localhost:8080/"
        },
        "outputId": "54c257e7-3392-4fcf-86c5-93730fa70074"
      },
      "execution_count": null,
      "outputs": [
        {
          "output_type": "stream",
          "name": "stdout",
          "text": [
            "Requirement already satisfied: pandas in /usr/local/lib/python3.10/dist-packages (2.2.2)\n",
            "Requirement already satisfied: numpy>=1.22.4 in /usr/local/lib/python3.10/dist-packages (from pandas) (1.25.2)\n",
            "Requirement already satisfied: python-dateutil>=2.8.2 in /usr/local/lib/python3.10/dist-packages (from pandas) (2.8.2)\n",
            "Requirement already satisfied: pytz>=2020.1 in /usr/local/lib/python3.10/dist-packages (from pandas) (2023.4)\n",
            "Requirement already satisfied: tzdata>=2022.7 in /usr/local/lib/python3.10/dist-packages (from pandas) (2024.1)\n",
            "Requirement already satisfied: six>=1.5 in /usr/local/lib/python3.10/dist-packages (from python-dateutil>=2.8.2->pandas) (1.16.0)\n"
          ]
        }
      ]
    },
    {
      "cell_type": "code",
      "source": [
        "import pandas as pd\n",
        "scores = pd.read_csv('scores.txt',)\n",
        "print(scores['Total'].max())"
      ],
      "metadata": {
        "colab": {
          "base_uri": "https://localhost:8080/",
          "height": 339
        },
        "id": "j3_ERebvc-M0",
        "outputId": "6e12574a-aa4a-4e4f-b9c0-67d24bcb9828"
      },
      "execution_count": null,
      "outputs": [
        {
          "output_type": "error",
          "ename": "FileNotFoundError",
          "evalue": "[Errno 2] No such file or directory: 'scores.txt'",
          "traceback": [
            "\u001b[0;31m---------------------------------------------------------------------------\u001b[0m",
            "\u001b[0;31mFileNotFoundError\u001b[0m                         Traceback (most recent call last)",
            "\u001b[0;32m<ipython-input-24-ca58563a190d>\u001b[0m in \u001b[0;36m<cell line: 2>\u001b[0;34m()\u001b[0m\n\u001b[1;32m      1\u001b[0m \u001b[0;32mimport\u001b[0m \u001b[0mpandas\u001b[0m \u001b[0;32mas\u001b[0m \u001b[0mpd\u001b[0m\u001b[0;34m\u001b[0m\u001b[0;34m\u001b[0m\u001b[0m\n\u001b[0;32m----> 2\u001b[0;31m \u001b[0mscores\u001b[0m \u001b[0;34m=\u001b[0m \u001b[0mpd\u001b[0m\u001b[0;34m.\u001b[0m\u001b[0mread_csv\u001b[0m\u001b[0;34m(\u001b[0m\u001b[0;34m'scores.txt'\u001b[0m\u001b[0;34m,\u001b[0m\u001b[0;34m)\u001b[0m\u001b[0;34m\u001b[0m\u001b[0;34m\u001b[0m\u001b[0m\n\u001b[0m\u001b[1;32m      3\u001b[0m \u001b[0mprint\u001b[0m\u001b[0;34m(\u001b[0m\u001b[0mscores\u001b[0m\u001b[0;34m[\u001b[0m\u001b[0;34m'Total'\u001b[0m\u001b[0;34m]\u001b[0m\u001b[0;34m.\u001b[0m\u001b[0mmax\u001b[0m\u001b[0;34m(\u001b[0m\u001b[0;34m)\u001b[0m\u001b[0;34m)\u001b[0m\u001b[0;34m\u001b[0m\u001b[0;34m\u001b[0m\u001b[0m\n",
            "\u001b[0;32m/usr/local/lib/python3.10/dist-packages/pandas/io/parsers/readers.py\u001b[0m in \u001b[0;36mread_csv\u001b[0;34m(filepath_or_buffer, sep, delimiter, header, names, index_col, usecols, dtype, engine, converters, true_values, false_values, skipinitialspace, skiprows, skipfooter, nrows, na_values, keep_default_na, na_filter, verbose, skip_blank_lines, parse_dates, infer_datetime_format, keep_date_col, date_parser, date_format, dayfirst, cache_dates, iterator, chunksize, compression, thousands, decimal, lineterminator, quotechar, quoting, doublequote, escapechar, comment, encoding, encoding_errors, dialect, on_bad_lines, delim_whitespace, low_memory, memory_map, float_precision, storage_options, dtype_backend)\u001b[0m\n\u001b[1;32m    910\u001b[0m     \u001b[0mparse_dates\u001b[0m\u001b[0;34m:\u001b[0m \u001b[0mbool\u001b[0m \u001b[0;34m|\u001b[0m \u001b[0mSequence\u001b[0m\u001b[0;34m[\u001b[0m\u001b[0mHashable\u001b[0m\u001b[0;34m]\u001b[0m \u001b[0;34m|\u001b[0m \u001b[0;32mNone\u001b[0m \u001b[0;34m=\u001b[0m \u001b[0;32mNone\u001b[0m\u001b[0;34m,\u001b[0m\u001b[0;34m\u001b[0m\u001b[0;34m\u001b[0m\u001b[0m\n\u001b[1;32m    911\u001b[0m     \u001b[0minfer_datetime_format\u001b[0m\u001b[0;34m:\u001b[0m \u001b[0mbool\u001b[0m \u001b[0;34m|\u001b[0m \u001b[0mlib\u001b[0m\u001b[0;34m.\u001b[0m\u001b[0mNoDefault\u001b[0m \u001b[0;34m=\u001b[0m \u001b[0mlib\u001b[0m\u001b[0;34m.\u001b[0m\u001b[0mno_default\u001b[0m\u001b[0;34m,\u001b[0m\u001b[0;34m\u001b[0m\u001b[0;34m\u001b[0m\u001b[0m\n\u001b[0;32m--> 912\u001b[0;31m     \u001b[0mkeep_date_col\u001b[0m\u001b[0;34m:\u001b[0m \u001b[0mbool\u001b[0m \u001b[0;34m|\u001b[0m \u001b[0mlib\u001b[0m\u001b[0;34m.\u001b[0m\u001b[0mNoDefault\u001b[0m \u001b[0;34m=\u001b[0m \u001b[0mlib\u001b[0m\u001b[0;34m.\u001b[0m\u001b[0mno_default\u001b[0m\u001b[0;34m,\u001b[0m\u001b[0;34m\u001b[0m\u001b[0;34m\u001b[0m\u001b[0m\n\u001b[0m\u001b[1;32m    913\u001b[0m     \u001b[0mdate_parser\u001b[0m\u001b[0;34m:\u001b[0m \u001b[0mCallable\u001b[0m \u001b[0;34m|\u001b[0m \u001b[0mlib\u001b[0m\u001b[0;34m.\u001b[0m\u001b[0mNoDefault\u001b[0m \u001b[0;34m=\u001b[0m \u001b[0mlib\u001b[0m\u001b[0;34m.\u001b[0m\u001b[0mno_default\u001b[0m\u001b[0;34m,\u001b[0m\u001b[0;34m\u001b[0m\u001b[0;34m\u001b[0m\u001b[0m\n\u001b[1;32m    914\u001b[0m     \u001b[0mdate_format\u001b[0m\u001b[0;34m:\u001b[0m \u001b[0mstr\u001b[0m \u001b[0;34m|\u001b[0m \u001b[0mdict\u001b[0m\u001b[0;34m[\u001b[0m\u001b[0mHashable\u001b[0m\u001b[0;34m,\u001b[0m \u001b[0mstr\u001b[0m\u001b[0;34m]\u001b[0m \u001b[0;34m|\u001b[0m \u001b[0;32mNone\u001b[0m \u001b[0;34m=\u001b[0m \u001b[0;32mNone\u001b[0m\u001b[0;34m,\u001b[0m\u001b[0;34m\u001b[0m\u001b[0;34m\u001b[0m\u001b[0m\n",
            "\u001b[0;32m/usr/local/lib/python3.10/dist-packages/pandas/io/parsers/readers.py\u001b[0m in \u001b[0;36m_read\u001b[0;34m(filepath_or_buffer, kwds)\u001b[0m\n\u001b[1;32m    575\u001b[0m         \u001b[0;32mif\u001b[0m \u001b[0mlen\u001b[0m\u001b[0;34m(\u001b[0m\u001b[0mnames\u001b[0m\u001b[0;34m)\u001b[0m \u001b[0;34m!=\u001b[0m \u001b[0mlen\u001b[0m\u001b[0;34m(\u001b[0m\u001b[0mset\u001b[0m\u001b[0;34m(\u001b[0m\u001b[0mnames\u001b[0m\u001b[0;34m)\u001b[0m\u001b[0;34m)\u001b[0m\u001b[0;34m:\u001b[0m\u001b[0;34m\u001b[0m\u001b[0;34m\u001b[0m\u001b[0m\n\u001b[1;32m    576\u001b[0m             \u001b[0;32mraise\u001b[0m \u001b[0mValueError\u001b[0m\u001b[0;34m(\u001b[0m\u001b[0;34m\"Duplicate names are not allowed.\"\u001b[0m\u001b[0;34m)\u001b[0m\u001b[0;34m\u001b[0m\u001b[0;34m\u001b[0m\u001b[0m\n\u001b[0;32m--> 577\u001b[0;31m         if not (\n\u001b[0m\u001b[1;32m    578\u001b[0m             \u001b[0mis_list_like\u001b[0m\u001b[0;34m(\u001b[0m\u001b[0mnames\u001b[0m\u001b[0;34m,\u001b[0m \u001b[0mallow_sets\u001b[0m\u001b[0;34m=\u001b[0m\u001b[0;32mFalse\u001b[0m\u001b[0;34m)\u001b[0m \u001b[0;32mor\u001b[0m \u001b[0misinstance\u001b[0m\u001b[0;34m(\u001b[0m\u001b[0mnames\u001b[0m\u001b[0;34m,\u001b[0m \u001b[0mabc\u001b[0m\u001b[0;34m.\u001b[0m\u001b[0mKeysView\u001b[0m\u001b[0;34m)\u001b[0m\u001b[0;34m\u001b[0m\u001b[0;34m\u001b[0m\u001b[0m\n\u001b[1;32m    579\u001b[0m         ):\n",
            "\u001b[0;32m/usr/local/lib/python3.10/dist-packages/pandas/io/parsers/readers.py\u001b[0m in \u001b[0;36m__init__\u001b[0;34m(self, f, engine, **kwds)\u001b[0m\n\u001b[1;32m   1405\u001b[0m     \u001b[0;32mreturn\u001b[0m \u001b[0m_read\u001b[0m\u001b[0;34m(\u001b[0m\u001b[0mfilepath_or_buffer\u001b[0m\u001b[0;34m,\u001b[0m \u001b[0mkwds\u001b[0m\u001b[0;34m)\u001b[0m\u001b[0;34m\u001b[0m\u001b[0;34m\u001b[0m\u001b[0m\n\u001b[1;32m   1406\u001b[0m \u001b[0;34m\u001b[0m\u001b[0m\n\u001b[0;32m-> 1407\u001b[0;31m \u001b[0;34m\u001b[0m\u001b[0m\n\u001b[0m\u001b[1;32m   1408\u001b[0m \u001b[0;34m@\u001b[0m\u001b[0moverload\u001b[0m\u001b[0;34m\u001b[0m\u001b[0;34m\u001b[0m\u001b[0m\n\u001b[1;32m   1409\u001b[0m def read_fwf(\n",
            "\u001b[0;32m/usr/local/lib/python3.10/dist-packages/pandas/io/parsers/readers.py\u001b[0m in \u001b[0;36m_make_engine\u001b[0;34m(self, f, engine)\u001b[0m\n\u001b[1;32m   1659\u001b[0m                     \u001b[0;32melse\u001b[0m\u001b[0;34m:\u001b[0m\u001b[0;34m\u001b[0m\u001b[0;34m\u001b[0m\u001b[0m\n\u001b[1;32m   1660\u001b[0m                         raise ValueError(\n\u001b[0;32m-> 1661\u001b[0;31m                             \u001b[0;34mf\"The {repr(argname)} option is not supported with the \"\u001b[0m\u001b[0;34m\u001b[0m\u001b[0;34m\u001b[0m\u001b[0m\n\u001b[0m\u001b[1;32m   1662\u001b[0m                             \u001b[0;34mf\"{repr(engine)} engine\"\u001b[0m\u001b[0;34m\u001b[0m\u001b[0;34m\u001b[0m\u001b[0m\n\u001b[1;32m   1663\u001b[0m                         )\n",
            "\u001b[0;32m/usr/local/lib/python3.10/dist-packages/pandas/io/common.py\u001b[0m in \u001b[0;36mget_handle\u001b[0;34m(path_or_buf, mode, encoding, compression, memory_map, is_text, errors, storage_options)\u001b[0m\n\u001b[1;32m    857\u001b[0m                 \u001b[0;34m**\u001b[0m\u001b[0mopen_args\u001b[0m\u001b[0;34m,\u001b[0m\u001b[0;34m\u001b[0m\u001b[0;34m\u001b[0m\u001b[0m\n\u001b[1;32m    858\u001b[0m             )\n\u001b[0;32m--> 859\u001b[0;31m \u001b[0;34m\u001b[0m\u001b[0m\n\u001b[0m\u001b[1;32m    860\u001b[0m         \u001b[0;31m# Unrecognized Compression\u001b[0m\u001b[0;34m\u001b[0m\u001b[0;34m\u001b[0m\u001b[0m\n\u001b[1;32m    861\u001b[0m         \u001b[0;32melse\u001b[0m\u001b[0;34m:\u001b[0m\u001b[0;34m\u001b[0m\u001b[0;34m\u001b[0m\u001b[0m\n",
            "\u001b[0;31mFileNotFoundError\u001b[0m: [Errno 2] No such file or directory: 'scores.txt'"
          ]
        }
      ]
    },
    {
      "cell_type": "code",
      "source": [
        "print(scores)"
      ],
      "metadata": {
        "colab": {
          "base_uri": "https://localhost:8080/"
        },
        "id": "yEDjbZfni5D1",
        "outputId": "bb11b0ec-2e3c-4b3c-8d43-daadea0f79ca"
      },
      "execution_count": null,
      "outputs": [
        {
          "output_type": "stream",
          "name": "stdout",
          "text": [
            "    CardNO       Name Gender     DOB  Town/City  Mathametics  Physics  \\\n",
            "0      0.0  Bhuvanesh      M  07-Nov      Erode           68       64   \n",
            "1      NaN     Harish      M  03-Jun      Salem           62       45   \n",
            "2      2.0   Shashank      M  04-Jan    Chennai           57       54   \n",
            "3      NaN       Rida      F  05-May    Chennai           42       53   \n",
            "4      4.0     Ritika      F  17-Nov    Madurai           87       64   \n",
            "5      NaN    Akshaya      F  08-Feb    Chennai           71       92   \n",
            "6      6.0     Sameer      M  23-Mar      Ambur           81       82   \n",
            "7      7.0     Aditya      M  15-Mar    Vellore           84       92   \n",
            "8      8.0      Surya      M  28-Feb  Bengaluru           74       64   \n",
            "9      9.0   Clarence      M  06-Dec  Bengaluru           63       88   \n",
            "10    10.0      Kavya      F  12-Jan    Chennai           64       72   \n",
            "11    11.0      Rahul      M  30-Apr  Bengaluru           97       92   \n",
            "12    12.0   Srinidhi      F  14-Jan    Chennai           52       64   \n",
            "13    13.0       Gopi      M  06-May    Madurai           65       73   \n",
            "14    14.0     Sophia      F  23-Jul     Trichy           89       62   \n",
            "15    15.0   GOLItami      F  22-Sep       Then           76       58   \n",
            "16    16.0    Tauseef      M  30-Dec     Trichy           87       86   \n",
            "17    17.0     Arshad      M  14-Dec    Chennai           62       81   \n",
            "18    18.0    Abirami      F  09-Oct      Erode           72       92   \n",
            "19    19.0   Vetrivel      M  30-Aug     Trichy           56       78   \n",
            "20    20.0     Kalyan      M  17-Sep    Vellore           93       68   \n",
            "21    21.0     Monika      F  15-Mar  Bengaluru           78       69   \n",
            "22    22.0      Priya      F  17-Jul  Nagercoil           62       62   \n",
            "23    23.0    Deepika      F  13-May  Bengaluru           97       91   \n",
            "24    24.0  Siddharth      M  26-Dec    Madurai           44       72   \n",
            "25    25.0      Geeta      F  16-May    Chennai           87       75   \n",
            "26    26.0         JK      M  22-Jul    Chennai           74       71   \n",
            "27    27.0      Jagan      M  04-Mar    Madurai           81       76   \n",
            "28    28.0      Nisha      F  10-Sep    Madurai           74       83   \n",
            "29    29.0     Naveen      M  13-Oct    Vellore           72       66   \n",
            "\n",
            "    Chemistry  Total  \n",
            "0          78    210  \n",
            "1          91    198  \n",
            "2          77    188  \n",
            "3          78    173  \n",
            "4          89    240  \n",
            "5          84    247  \n",
            "6          87    250  \n",
            "7          76    252  \n",
            "8          51    189  \n",
            "9          73    224  \n",
            "10         68    204  \n",
            "11         92    281  \n",
            "12         71    187  \n",
            "13         89    227  \n",
            "14         93    244  \n",
            "15         90    224  \n",
            "16         43    216  \n",
            "17         67    210  \n",
            "18         97    261  \n",
            "19         62    196  \n",
            "20         91    252  \n",
            "21         74    221  \n",
            "22         57    181  \n",
            "23         88    276  \n",
            "24         58    174  \n",
            "25         92    254  \n",
            "26         82    227  \n",
            "27         52    209  \n",
            "28         83    240  \n",
            "29         81    219  \n"
          ]
        }
      ]
    },
    {
      "cell_type": "code",
      "source": [
        "print(scores.shape)"
      ],
      "metadata": {
        "colab": {
          "base_uri": "https://localhost:8080/"
        },
        "id": "Y0jPJYUzjiyt",
        "outputId": "d51b8361-a095-4624-c9c1-dc165157001a"
      },
      "execution_count": null,
      "outputs": [
        {
          "output_type": "stream",
          "name": "stdout",
          "text": [
            "(30, 9)\n"
          ]
        }
      ]
    },
    {
      "cell_type": "code",
      "source": [
        "print(scores.count())"
      ],
      "metadata": {
        "colab": {
          "base_uri": "https://localhost:8080/"
        },
        "id": "5x39eDmZj0GN",
        "outputId": "bb68fecd-7932-45cf-92b9-43c37da6ccd6"
      },
      "execution_count": null,
      "outputs": [
        {
          "output_type": "stream",
          "name": "stdout",
          "text": [
            "CardNO         27\n",
            "Name           30\n",
            "Gender         30\n",
            "DOB            30\n",
            "Town/City      30\n",
            "Mathametics    30\n",
            "Physics        30\n",
            "Chemistry      30\n",
            "Total          30\n",
            "dtype: int64\n"
          ]
        }
      ]
    },
    {
      "cell_type": "code",
      "source": [
        "print(scores['Total'].min())"
      ],
      "metadata": {
        "colab": {
          "base_uri": "https://localhost:8080/"
        },
        "id": "lgdEeGbCkIRs",
        "outputId": "2361750a-ccd6-454a-b7c1-61a5b6de95c0"
      },
      "execution_count": null,
      "outputs": [
        {
          "output_type": "stream",
          "name": "stdout",
          "text": [
            "173\n"
          ]
        }
      ]
    },
    {
      "cell_type": "code",
      "source": [
        "print(scores['Total'].mean())"
      ],
      "metadata": {
        "colab": {
          "base_uri": "https://localhost:8080/"
        },
        "id": "ulzYY0R_kXg1",
        "outputId": "0354d357-e263-49cd-ce91-00edffc8f0e2"
      },
      "execution_count": null,
      "outputs": [
        {
          "output_type": "stream",
          "name": "stdout",
          "text": [
            "222.46666666666667\n"
          ]
        }
      ]
    },
    {
      "cell_type": "code",
      "source": [
        "print(scores['Total'].sum())"
      ],
      "metadata": {
        "colab": {
          "base_uri": "https://localhost:8080/"
        },
        "id": "cL2QCYlQkpHW",
        "outputId": "8d216471-8ec1-41a2-9d80-4243edd6e6cb"
      },
      "execution_count": null,
      "outputs": [
        {
          "output_type": "stream",
          "name": "stdout",
          "text": [
            "6674\n"
          ]
        }
      ]
    },
    {
      "cell_type": "code",
      "source": [
        "print(scores['Total'].sort_values())"
      ],
      "metadata": {
        "colab": {
          "base_uri": "https://localhost:8080/"
        },
        "id": "9hW1dsUFk_6d",
        "outputId": "00be215c-807d-4bfb-fd81-92bcf6395d2e"
      },
      "execution_count": null,
      "outputs": [
        {
          "output_type": "stream",
          "name": "stdout",
          "text": [
            "3     173\n",
            "24    174\n",
            "22    181\n",
            "12    187\n",
            "2     188\n",
            "8     189\n",
            "19    196\n",
            "1     198\n",
            "10    204\n",
            "27    209\n",
            "0     210\n",
            "17    210\n",
            "16    216\n",
            "29    219\n",
            "21    221\n",
            "15    224\n",
            "9     224\n",
            "26    227\n",
            "13    227\n",
            "28    240\n",
            "4     240\n",
            "14    244\n",
            "5     247\n",
            "6     250\n",
            "7     252\n",
            "20    252\n",
            "25    254\n",
            "18    261\n",
            "23    276\n",
            "11    281\n",
            "Name: Total, dtype: int64\n"
          ]
        }
      ]
    },
    {
      "cell_type": "code",
      "source": [
        "print(scores['Total'].sort_values(ascending=False))"
      ],
      "metadata": {
        "colab": {
          "base_uri": "https://localhost:8080/"
        },
        "id": "lnlzlUFNlfwf",
        "outputId": "c7c0bce6-d4a8-4dfd-c79d-3f10ef57a603"
      },
      "execution_count": null,
      "outputs": [
        {
          "output_type": "stream",
          "name": "stdout",
          "text": [
            "11    281\n",
            "23    276\n",
            "18    261\n",
            "25    254\n",
            "7     252\n",
            "20    252\n",
            "6     250\n",
            "5     247\n",
            "14    244\n",
            "28    240\n",
            "4     240\n",
            "26    227\n",
            "13    227\n",
            "15    224\n",
            "9     224\n",
            "21    221\n",
            "29    219\n",
            "16    216\n",
            "17    210\n",
            "0     210\n",
            "27    209\n",
            "10    204\n",
            "1     198\n",
            "19    196\n",
            "8     189\n",
            "2     188\n",
            "12    187\n",
            "22    181\n",
            "24    174\n",
            "3     173\n",
            "Name: Total, dtype: int64\n"
          ]
        }
      ]
    },
    {
      "cell_type": "markdown",
      "source": [
        "# L 9.8 |  Pandas Series, DataFrame and more"
      ],
      "metadata": {
        "id": "8PkwjNPomACN"
      }
    },
    {
      "cell_type": "code",
      "source": [
        "print(scores,type(scores))"
      ],
      "metadata": {
        "colab": {
          "base_uri": "https://localhost:8080/"
        },
        "id": "MH-EtHbsmTYO",
        "outputId": "9625fd5a-f963-4046-a5d9-d5b789ae159a"
      },
      "execution_count": null,
      "outputs": [
        {
          "output_type": "stream",
          "name": "stdout",
          "text": [
            "    CardNO       Name Gender     DOB  Town/City  Mathametics  Physics  \\\n",
            "0      0.0  Bhuvanesh      M  07-Nov      Erode           68       64   \n",
            "1      NaN     Harish      M  03-Jun      Salem           62       45   \n",
            "2      2.0   Shashank      M  04-Jan    Chennai           57       54   \n",
            "3      NaN       Rida      F  05-May    Chennai           42       53   \n",
            "4      4.0     Ritika      F  17-Nov    Madurai           87       64   \n",
            "5      NaN    Akshaya      F  08-Feb    Chennai           71       92   \n",
            "6      6.0     Sameer      M  23-Mar      Ambur           81       82   \n",
            "7      7.0     Aditya      M  15-Mar    Vellore           84       92   \n",
            "8      8.0      Surya      M  28-Feb  Bengaluru           74       64   \n",
            "9      9.0   Clarence      M  06-Dec  Bengaluru           63       88   \n",
            "10    10.0      Kavya      F  12-Jan    Chennai           64       72   \n",
            "11    11.0      Rahul      M  30-Apr  Bengaluru           97       92   \n",
            "12    12.0   Srinidhi      F  14-Jan    Chennai           52       64   \n",
            "13    13.0       Gopi      M  06-May    Madurai           65       73   \n",
            "14    14.0     Sophia      F  23-Jul     Trichy           89       62   \n",
            "15    15.0   GOLItami      F  22-Sep       Then           76       58   \n",
            "16    16.0    Tauseef      M  30-Dec     Trichy           87       86   \n",
            "17    17.0     Arshad      M  14-Dec    Chennai           62       81   \n",
            "18    18.0    Abirami      F  09-Oct      Erode           72       92   \n",
            "19    19.0   Vetrivel      M  30-Aug     Trichy           56       78   \n",
            "20    20.0     Kalyan      M  17-Sep    Vellore           93       68   \n",
            "21    21.0     Monika      F  15-Mar  Bengaluru           78       69   \n",
            "22    22.0      Priya      F  17-Jul  Nagercoil           62       62   \n",
            "23    23.0    Deepika      F  13-May  Bengaluru           97       91   \n",
            "24    24.0  Siddharth      M  26-Dec    Madurai           44       72   \n",
            "25    25.0      Geeta      F  16-May    Chennai           87       75   \n",
            "26    26.0         JK      M  22-Jul    Chennai           74       71   \n",
            "27    27.0      Jagan      M  04-Mar    Madurai           81       76   \n",
            "28    28.0      Nisha      F  10-Sep    Madurai           74       83   \n",
            "29    29.0     Naveen      M  13-Oct    Vellore           72       66   \n",
            "\n",
            "    Chemistry  Total  \n",
            "0          78    210  \n",
            "1          91    198  \n",
            "2          77    188  \n",
            "3          78    173  \n",
            "4          89    240  \n",
            "5          84    247  \n",
            "6          87    250  \n",
            "7          76    252  \n",
            "8          51    189  \n",
            "9          73    224  \n",
            "10         68    204  \n",
            "11         92    281  \n",
            "12         71    187  \n",
            "13         89    227  \n",
            "14         93    244  \n",
            "15         90    224  \n",
            "16         43    216  \n",
            "17         67    210  \n",
            "18         97    261  \n",
            "19         62    196  \n",
            "20         91    252  \n",
            "21         74    221  \n",
            "22         57    181  \n",
            "23         88    276  \n",
            "24         58    174  \n",
            "25         92    254  \n",
            "26         82    227  \n",
            "27         52    209  \n",
            "28         83    240  \n",
            "29         81    219   <class 'pandas.core.frame.DataFrame'>\n"
          ]
        }
      ]
    },
    {
      "cell_type": "code",
      "source": [
        "print(scores['Name'],type(scores['Name']))"
      ],
      "metadata": {
        "colab": {
          "base_uri": "https://localhost:8080/"
        },
        "id": "WiLvMSOHzJ1P",
        "outputId": "eb8e841a-bdfd-4585-bdf8-d7b8cd8a2496"
      },
      "execution_count": null,
      "outputs": [
        {
          "output_type": "stream",
          "name": "stdout",
          "text": [
            "0     Bhuvanesh\n",
            "1        Harish\n",
            "2      Shashank\n",
            "3          Rida\n",
            "4        Ritika\n",
            "5       Akshaya\n",
            "6        Sameer\n",
            "7        Aditya\n",
            "8         Surya\n",
            "9      Clarence\n",
            "10        Kavya\n",
            "11        Rahul\n",
            "12     Srinidhi\n",
            "13         Gopi\n",
            "14       Sophia\n",
            "15     GOLItami\n",
            "16      Tauseef\n",
            "17       Arshad\n",
            "18      Abirami\n",
            "19     Vetrivel\n",
            "20       Kalyan\n",
            "21       Monika\n",
            "22        Priya\n",
            "23      Deepika\n",
            "24    Siddharth\n",
            "25        Geeta\n",
            "26           JK\n",
            "27        Jagan\n",
            "28        Nisha\n",
            "29       Naveen\n",
            "Name: Name, dtype: object <class 'pandas.core.series.Series'>\n"
          ]
        }
      ]
    },
    {
      "cell_type": "code",
      "source": [
        "print(scores.head())"
      ],
      "metadata": {
        "colab": {
          "base_uri": "https://localhost:8080/"
        },
        "id": "16_pLu4S0C-Y",
        "outputId": "c317f9dc-6617-4099-d4b9-57a344f4beac"
      },
      "execution_count": null,
      "outputs": [
        {
          "output_type": "stream",
          "name": "stdout",
          "text": [
            "   CardNO       Name Gender     DOB Town/City  Mathametics  Physics  \\\n",
            "0     0.0  Bhuvanesh      M  07-Nov     Erode           68       64   \n",
            "1     NaN     Harish      M  03-Jun     Salem           62       45   \n",
            "2     2.0   Shashank      M  04-Jan   Chennai           57       54   \n",
            "3     NaN       Rida      F  05-May   Chennai           42       53   \n",
            "4     4.0     Ritika      F  17-Nov   Madurai           87       64   \n",
            "\n",
            "   Chemistry  Total  \n",
            "0         78    210  \n",
            "1         91    198  \n",
            "2         77    188  \n",
            "3         78    173  \n",
            "4         89    240  \n"
          ]
        }
      ]
    },
    {
      "cell_type": "code",
      "source": [
        "print(scores.tail())"
      ],
      "metadata": {
        "colab": {
          "base_uri": "https://localhost:8080/"
        },
        "id": "HjtVZZ8K0Nff",
        "outputId": "784ac721-9db0-414f-f604-7b094b89722c"
      },
      "execution_count": null,
      "outputs": [
        {
          "output_type": "stream",
          "name": "stdout",
          "text": [
            "    CardNO    Name Gender     DOB Town/City  Mathametics  Physics  Chemistry  \\\n",
            "25    25.0   Geeta      F  16-May   Chennai           87       75         92   \n",
            "26    26.0      JK      M  22-Jul   Chennai           74       71         82   \n",
            "27    27.0   Jagan      M  04-Mar   Madurai           81       76         52   \n",
            "28    28.0   Nisha      F  10-Sep   Madurai           74       83         83   \n",
            "29    29.0  Naveen      M  13-Oct   Vellore           72       66         81   \n",
            "\n",
            "    Total  \n",
            "25    254  \n",
            "26    227  \n",
            "27    209  \n",
            "28    240  \n",
            "29    219  \n"
          ]
        }
      ]
    },
    {
      "cell_type": "code",
      "source": [
        "print(scores['Name'])"
      ],
      "metadata": {
        "colab": {
          "base_uri": "https://localhost:8080/"
        },
        "id": "AME1gwFk0j-4",
        "outputId": "fff010a0-f1c3-4b5d-98c0-b40eb67060e0"
      },
      "execution_count": null,
      "outputs": [
        {
          "output_type": "stream",
          "name": "stdout",
          "text": [
            "0     Bhuvanesh\n",
            "1        Harish\n",
            "2      Shashank\n",
            "3          Rida\n",
            "4        Ritika\n",
            "5       Akshaya\n",
            "6        Sameer\n",
            "7        Aditya\n",
            "8         Surya\n",
            "9      Clarence\n",
            "10        Kavya\n",
            "11        Rahul\n",
            "12     Srinidhi\n",
            "13         Gopi\n",
            "14       Sophia\n",
            "15     GOLItami\n",
            "16      Tauseef\n",
            "17       Arshad\n",
            "18      Abirami\n",
            "19     Vetrivel\n",
            "20       Kalyan\n",
            "21       Monika\n",
            "22        Priya\n",
            "23      Deepika\n",
            "24    Siddharth\n",
            "25        Geeta\n",
            "26           JK\n",
            "27        Jagan\n",
            "28        Nisha\n",
            "29       Naveen\n",
            "Name: Name, dtype: object\n"
          ]
        }
      ]
    },
    {
      "cell_type": "code",
      "source": [
        "print(scores[scores['Name']==\"Nisha\"])"
      ],
      "metadata": {
        "colab": {
          "base_uri": "https://localhost:8080/"
        },
        "id": "jLoHlFiI09wf",
        "outputId": "4d6c737d-7caa-4840-fe6c-a5f2b2dac0a3"
      },
      "execution_count": null,
      "outputs": [
        {
          "output_type": "stream",
          "name": "stdout",
          "text": [
            "    CardNO   Name Gender     DOB Town/City  Mathametics  Physics  Chemistry  \\\n",
            "28    28.0  Nisha      F  10-Sep   Madurai           74       83         83   \n",
            "\n",
            "    Total  \n",
            "28    240  \n"
          ]
        }
      ]
    },
    {
      "cell_type": "code",
      "source": [
        "print(scores[scores['Gender']=='M'])"
      ],
      "metadata": {
        "colab": {
          "base_uri": "https://localhost:8080/"
        },
        "id": "8dIiFE-Y2TmR",
        "outputId": "2b175f35-dd83-43ea-fa01-508cd1143deb"
      },
      "execution_count": null,
      "outputs": [
        {
          "output_type": "stream",
          "name": "stdout",
          "text": [
            "    CardNO       Name Gender     DOB  Town/City  Mathametics  Physics  \\\n",
            "0      0.0  Bhuvanesh      M  07-Nov      Erode           68       64   \n",
            "1      NaN     Harish      M  03-Jun      Salem           62       45   \n",
            "2      2.0   Shashank      M  04-Jan    Chennai           57       54   \n",
            "6      6.0     Sameer      M  23-Mar      Ambur           81       82   \n",
            "7      7.0     Aditya      M  15-Mar    Vellore           84       92   \n",
            "8      8.0      Surya      M  28-Feb  Bengaluru           74       64   \n",
            "9      9.0   Clarence      M  06-Dec  Bengaluru           63       88   \n",
            "11    11.0      Rahul      M  30-Apr  Bengaluru           97       92   \n",
            "13    13.0       Gopi      M  06-May    Madurai           65       73   \n",
            "16    16.0    Tauseef      M  30-Dec     Trichy           87       86   \n",
            "17    17.0     Arshad      M  14-Dec    Chennai           62       81   \n",
            "19    19.0   Vetrivel      M  30-Aug     Trichy           56       78   \n",
            "20    20.0     Kalyan      M  17-Sep    Vellore           93       68   \n",
            "24    24.0  Siddharth      M  26-Dec    Madurai           44       72   \n",
            "26    26.0         JK      M  22-Jul    Chennai           74       71   \n",
            "27    27.0      Jagan      M  04-Mar    Madurai           81       76   \n",
            "29    29.0     Naveen      M  13-Oct    Vellore           72       66   \n",
            "\n",
            "    Chemistry  Total  \n",
            "0          78    210  \n",
            "1          91    198  \n",
            "2          77    188  \n",
            "6          87    250  \n",
            "7          76    252  \n",
            "8          51    189  \n",
            "9          73    224  \n",
            "11         92    281  \n",
            "13         89    227  \n",
            "16         43    216  \n",
            "17         67    210  \n",
            "19         62    196  \n",
            "20         91    252  \n",
            "24         58    174  \n",
            "26         82    227  \n",
            "27         52    209  \n",
            "29         81    219  \n"
          ]
        }
      ]
    },
    {
      "cell_type": "code",
      "source": [
        "print(scores[scores['Gender']=='M']['Total'])"
      ],
      "metadata": {
        "colab": {
          "base_uri": "https://localhost:8080/"
        },
        "outputId": "cc1370f5-6fb8-439e-cded-4f8e35462832",
        "id": "g_VUEg2U29vh"
      },
      "execution_count": null,
      "outputs": [
        {
          "output_type": "stream",
          "name": "stdout",
          "text": [
            "0     210\n",
            "1     198\n",
            "2     188\n",
            "6     250\n",
            "7     252\n",
            "8     189\n",
            "9     224\n",
            "11    281\n",
            "13    227\n",
            "16    216\n",
            "17    210\n",
            "19    196\n",
            "20    252\n",
            "24    174\n",
            "26    227\n",
            "27    209\n",
            "29    219\n",
            "Name: Total, dtype: int64\n"
          ]
        }
      ]
    },
    {
      "cell_type": "code",
      "source": [
        "print(scores[scores['Gender']=='M']['Total'].max())"
      ],
      "metadata": {
        "colab": {
          "base_uri": "https://localhost:8080/"
        },
        "outputId": "82564aac-523f-4db1-f1f0-2aa5a3f34f6c",
        "id": "em62MES53T8x"
      },
      "execution_count": null,
      "outputs": [
        {
          "output_type": "stream",
          "name": "stdout",
          "text": [
            "281\n"
          ]
        }
      ]
    },
    {
      "cell_type": "code",
      "source": [
        "print(scores[scores['Gender']=='M']['Total'].min())"
      ],
      "metadata": {
        "colab": {
          "base_uri": "https://localhost:8080/"
        },
        "outputId": "f49e8895-ff4c-464c-ac5f-295406e6a25c",
        "id": "VtKo5jeH3mTx"
      },
      "execution_count": null,
      "outputs": [
        {
          "output_type": "stream",
          "name": "stdout",
          "text": [
            "174\n"
          ]
        }
      ]
    },
    {
      "cell_type": "code",
      "source": [
        "print(scores[scores['Gender']=='F']['Total'].max())"
      ],
      "metadata": {
        "colab": {
          "base_uri": "https://localhost:8080/"
        },
        "outputId": "6714ae40-9b4c-43df-c674-9133c3f4602c",
        "id": "5hUAhUq03sRS"
      },
      "execution_count": null,
      "outputs": [
        {
          "output_type": "stream",
          "name": "stdout",
          "text": [
            "276\n"
          ]
        }
      ]
    },
    {
      "cell_type": "code",
      "source": [
        "print(scores[scores['Gender']=='F']['Total'].min())"
      ],
      "metadata": {
        "colab": {
          "base_uri": "https://localhost:8080/"
        },
        "outputId": "e83f1a3c-2c33-479d-b5b9-f44457ff1248",
        "id": "RqPK_Hni30JR"
      },
      "execution_count": null,
      "outputs": [
        {
          "output_type": "stream",
          "name": "stdout",
          "text": [
            "173\n"
          ]
        }
      ]
    },
    {
      "cell_type": "code",
      "source": [
        "print(scores[scores['Physics']>85])"
      ],
      "metadata": {
        "colab": {
          "base_uri": "https://localhost:8080/"
        },
        "id": "xTU8GfP-4OpS",
        "outputId": "a00e8af1-02ad-4ae5-e85b-7b58949e6e43"
      },
      "execution_count": null,
      "outputs": [
        {
          "output_type": "stream",
          "name": "stdout",
          "text": [
            "    CardNO      Name Gender     DOB  Town/City  Mathametics  Physics  \\\n",
            "5      NaN   Akshaya      F  08-Feb    Chennai           71       92   \n",
            "7      7.0    Aditya      M  15-Mar    Vellore           84       92   \n",
            "9      9.0  Clarence      M  06-Dec  Bengaluru           63       88   \n",
            "11    11.0     Rahul      M  30-Apr  Bengaluru           97       92   \n",
            "16    16.0   Tauseef      M  30-Dec     Trichy           87       86   \n",
            "18    18.0   Abirami      F  09-Oct      Erode           72       92   \n",
            "23    23.0   Deepika      F  13-May  Bengaluru           97       91   \n",
            "\n",
            "    Chemistry  Total  \n",
            "5          84    247  \n",
            "7          76    252  \n",
            "9          73    224  \n",
            "11         92    281  \n",
            "16         43    216  \n",
            "18         97    261  \n",
            "23         88    276  \n"
          ]
        }
      ]
    },
    {
      "cell_type": "code",
      "source": [
        "print(scores[scores['Physics']>70])"
      ],
      "metadata": {
        "colab": {
          "base_uri": "https://localhost:8080/"
        },
        "outputId": "072f90b3-3320-4a2e-84fa-e8f8dd85e919",
        "id": "C0fqzjZT7mly"
      },
      "execution_count": null,
      "outputs": [
        {
          "output_type": "stream",
          "name": "stdout",
          "text": [
            "    CardNO       Name Gender     DOB  Town/City  Mathametics  Physics  \\\n",
            "5      NaN    Akshaya      F  08-Feb    Chennai           71       92   \n",
            "6      6.0     Sameer      M  23-Mar      Ambur           81       82   \n",
            "7      7.0     Aditya      M  15-Mar    Vellore           84       92   \n",
            "9      9.0   Clarence      M  06-Dec  Bengaluru           63       88   \n",
            "10    10.0      Kavya      F  12-Jan    Chennai           64       72   \n",
            "11    11.0      Rahul      M  30-Apr  Bengaluru           97       92   \n",
            "13    13.0       Gopi      M  06-May    Madurai           65       73   \n",
            "16    16.0    Tauseef      M  30-Dec     Trichy           87       86   \n",
            "17    17.0     Arshad      M  14-Dec    Chennai           62       81   \n",
            "18    18.0    Abirami      F  09-Oct      Erode           72       92   \n",
            "19    19.0   Vetrivel      M  30-Aug     Trichy           56       78   \n",
            "23    23.0    Deepika      F  13-May  Bengaluru           97       91   \n",
            "24    24.0  Siddharth      M  26-Dec    Madurai           44       72   \n",
            "25    25.0      Geeta      F  16-May    Chennai           87       75   \n",
            "26    26.0         JK      M  22-Jul    Chennai           74       71   \n",
            "27    27.0      Jagan      M  04-Mar    Madurai           81       76   \n",
            "28    28.0      Nisha      F  10-Sep    Madurai           74       83   \n",
            "\n",
            "    Chemistry  Total  \n",
            "5          84    247  \n",
            "6          87    250  \n",
            "7          76    252  \n",
            "9          73    224  \n",
            "10         68    204  \n",
            "11         92    281  \n",
            "13         89    227  \n",
            "16         43    216  \n",
            "17         67    210  \n",
            "18         97    261  \n",
            "19         62    196  \n",
            "23         88    276  \n",
            "24         58    174  \n",
            "25         92    254  \n",
            "26         82    227  \n",
            "27         52    209  \n",
            "28         83    240  \n"
          ]
        }
      ]
    },
    {
      "cell_type": "code",
      "source": [
        "print(scores[scores['Physics'].between(70,85)])"
      ],
      "metadata": {
        "colab": {
          "base_uri": "https://localhost:8080/"
        },
        "outputId": "2b3bbf0a-d278-4a97-87ff-b3ffed20685d",
        "id": "fhOv1LX471hy"
      },
      "execution_count": null,
      "outputs": [
        {
          "output_type": "stream",
          "name": "stdout",
          "text": [
            "    CardNO       Name Gender     DOB Town/City  Mathametics  Physics  \\\n",
            "6      6.0     Sameer      M  23-Mar     Ambur           81       82   \n",
            "10    10.0      Kavya      F  12-Jan   Chennai           64       72   \n",
            "13    13.0       Gopi      M  06-May   Madurai           65       73   \n",
            "17    17.0     Arshad      M  14-Dec   Chennai           62       81   \n",
            "19    19.0   Vetrivel      M  30-Aug    Trichy           56       78   \n",
            "24    24.0  Siddharth      M  26-Dec   Madurai           44       72   \n",
            "25    25.0      Geeta      F  16-May   Chennai           87       75   \n",
            "26    26.0         JK      M  22-Jul   Chennai           74       71   \n",
            "27    27.0      Jagan      M  04-Mar   Madurai           81       76   \n",
            "28    28.0      Nisha      F  10-Sep   Madurai           74       83   \n",
            "\n",
            "    Chemistry  Total  \n",
            "6          87    250  \n",
            "10         68    204  \n",
            "13         89    227  \n",
            "17         67    210  \n",
            "19         62    196  \n",
            "24         58    174  \n",
            "25         92    254  \n",
            "26         82    227  \n",
            "27         52    209  \n",
            "28         83    240  \n"
          ]
        }
      ]
    },
    {
      "cell_type": "code",
      "source": [
        "print(scores[scores['Physics'].between(60,70)])"
      ],
      "metadata": {
        "colab": {
          "base_uri": "https://localhost:8080/"
        },
        "outputId": "fbe7a317-6717-44e7-e6ad-826770b33817",
        "id": "p88xJHT18K6C"
      },
      "execution_count": null,
      "outputs": [
        {
          "output_type": "stream",
          "name": "stdout",
          "text": [
            "    CardNO       Name Gender     DOB  Town/City  Mathametics  Physics  \\\n",
            "0      0.0  Bhuvanesh      M  07-Nov      Erode           68       64   \n",
            "4      4.0     Ritika      F  17-Nov    Madurai           87       64   \n",
            "8      8.0      Surya      M  28-Feb  Bengaluru           74       64   \n",
            "12    12.0   Srinidhi      F  14-Jan    Chennai           52       64   \n",
            "14    14.0     Sophia      F  23-Jul     Trichy           89       62   \n",
            "20    20.0     Kalyan      M  17-Sep    Vellore           93       68   \n",
            "21    21.0     Monika      F  15-Mar  Bengaluru           78       69   \n",
            "22    22.0      Priya      F  17-Jul  Nagercoil           62       62   \n",
            "29    29.0     Naveen      M  13-Oct    Vellore           72       66   \n",
            "\n",
            "    Chemistry  Total  \n",
            "0          78    210  \n",
            "4          89    240  \n",
            "8          51    189  \n",
            "12         71    187  \n",
            "14         93    244  \n",
            "20         91    252  \n",
            "21         74    221  \n",
            "22         57    181  \n",
            "29         81    219  \n"
          ]
        }
      ]
    },
    {
      "cell_type": "code",
      "source": [
        "print(scores[scores['Physics']<60])"
      ],
      "metadata": {
        "colab": {
          "base_uri": "https://localhost:8080/"
        },
        "outputId": "0fd0be1b-276b-414e-d38a-74abf9593dd1",
        "id": "TMbzVve98XBi"
      },
      "execution_count": null,
      "outputs": [
        {
          "output_type": "stream",
          "name": "stdout",
          "text": [
            "    CardNO      Name Gender     DOB Town/City  Mathametics  Physics  \\\n",
            "1      NaN    Harish      M  03-Jun     Salem           62       45   \n",
            "2      2.0  Shashank      M  04-Jan   Chennai           57       54   \n",
            "3      NaN      Rida      F  05-May   Chennai           42       53   \n",
            "15    15.0  GOLItami      F  22-Sep      Then           76       58   \n",
            "\n",
            "    Chemistry  Total  \n",
            "1          91    198  \n",
            "2          77    188  \n",
            "3          78    173  \n",
            "15         90    224  \n"
          ]
        }
      ]
    },
    {
      "cell_type": "code",
      "source": [
        "print(scores[scores['Physics']>85].shape)"
      ],
      "metadata": {
        "colab": {
          "base_uri": "https://localhost:8080/"
        },
        "id": "3pKjJRMO89rs",
        "outputId": "0da1302f-f230-450a-8c88-e7adba088be3"
      },
      "execution_count": null,
      "outputs": [
        {
          "output_type": "stream",
          "name": "stdout",
          "text": [
            "(7, 9)\n"
          ]
        }
      ]
    },
    {
      "cell_type": "code",
      "source": [
        "print(scores[scores['Physics']>85].shape[0])"
      ],
      "metadata": {
        "colab": {
          "base_uri": "https://localhost:8080/"
        },
        "outputId": "30ce0fab-72fd-4419-f55b-629c1259efc1",
        "id": "NjqdbdNQ9mka"
      },
      "execution_count": null,
      "outputs": [
        {
          "output_type": "stream",
          "name": "stdout",
          "text": [
            "7\n"
          ]
        }
      ]
    },
    {
      "cell_type": "code",
      "source": [
        "print(scores[scores['Physics'].between(70,85)].shape[0])"
      ],
      "metadata": {
        "colab": {
          "base_uri": "https://localhost:8080/"
        },
        "outputId": "eaf9f4f5-c70e-4bf1-9363-2107e3302010",
        "id": "iF10iffe99hK"
      },
      "execution_count": null,
      "outputs": [
        {
          "output_type": "stream",
          "name": "stdout",
          "text": [
            "10\n"
          ]
        }
      ]
    },
    {
      "cell_type": "code",
      "source": [
        "print(scores[scores['Physics'].between(60,70)].shape[0])"
      ],
      "metadata": {
        "colab": {
          "base_uri": "https://localhost:8080/"
        },
        "outputId": "197b312c-ca7a-430f-f75c-48e51f8d0020",
        "id": "dOk_7aEk-Fmz"
      },
      "execution_count": null,
      "outputs": [
        {
          "output_type": "stream",
          "name": "stdout",
          "text": [
            "9\n"
          ]
        }
      ]
    },
    {
      "cell_type": "code",
      "source": [
        "print(scores[scores['Physics']<60].shape[0])"
      ],
      "metadata": {
        "colab": {
          "base_uri": "https://localhost:8080/"
        },
        "outputId": "22731eac-253b-476f-d91e-8ad53fbecf79",
        "id": "DESCA73T-bvK"
      },
      "execution_count": null,
      "outputs": [
        {
          "output_type": "stream",
          "name": "stdout",
          "text": [
            "4\n"
          ]
        }
      ]
    },
    {
      "cell_type": "code",
      "source": [
        "import pandas as pd\n",
        "scores=pd.read_csv('scores.txt')\n",
        "print(scores[(scores['Gender']=='F') & (scores['Physics'] > 85)].shape[0])"
      ],
      "metadata": {
        "colab": {
          "base_uri": "https://localhost:8080/"
        },
        "id": "xF4gMa7b-6mS",
        "outputId": "8949053d-e2f2-48fe-cf3a-3e75f7df0b0d"
      },
      "execution_count": null,
      "outputs": [
        {
          "output_type": "stream",
          "name": "stdout",
          "text": [
            "3\n"
          ]
        }
      ]
    },
    {
      "cell_type": "code",
      "source": [
        "import pandas as pd\n",
        "scores=pd.read_csv('scores.txt')\n",
        "print(scores[(scores['Gender']=='M') & (scores['Physics'] > 85)].shape[0])"
      ],
      "metadata": {
        "colab": {
          "base_uri": "https://localhost:8080/"
        },
        "outputId": "dcf66927-df09-4841-d4d9-ead8e8ed812e",
        "id": "nleEuHqPBYHM"
      },
      "execution_count": null,
      "outputs": [
        {
          "output_type": "stream",
          "name": "stdout",
          "text": [
            "4\n"
          ]
        }
      ]
    },
    {
      "cell_type": "code",
      "source": [
        "import pandas as pd\n",
        "scores=pd.read_csv('scores.txt')\n",
        "subject = ['Mathametics','Physics','Chemistry']\n",
        "for sub in subject:\n",
        "  print('Above 85 in ',sub)\n",
        "  print(scores[(scores['Gender']=='F') & (scores[sub] > 85)].shape[0])\n",
        "  print(scores[(scores['Gender']=='M') & (scores[sub] > 85)].shape[0])\n",
        "\n",
        "\n",
        "\n",
        "\n"
      ],
      "metadata": {
        "colab": {
          "base_uri": "https://localhost:8080/",
          "height": 373
        },
        "outputId": "45d838e2-7737-428d-931f-e1f0a37db2f4",
        "id": "5aDfRQrSB4dU"
      },
      "execution_count": null,
      "outputs": [
        {
          "output_type": "error",
          "ename": "FileNotFoundError",
          "evalue": "[Errno 2] No such file or directory: 'scores.txt'",
          "traceback": [
            "\u001b[0;31m---------------------------------------------------------------------------\u001b[0m",
            "\u001b[0;31mFileNotFoundError\u001b[0m                         Traceback (most recent call last)",
            "\u001b[0;32m<ipython-input-8-fcaa39517415>\u001b[0m in \u001b[0;36m<cell line: 2>\u001b[0;34m()\u001b[0m\n\u001b[1;32m      1\u001b[0m \u001b[0;32mimport\u001b[0m \u001b[0mpandas\u001b[0m \u001b[0;32mas\u001b[0m \u001b[0mpd\u001b[0m\u001b[0;34m\u001b[0m\u001b[0;34m\u001b[0m\u001b[0m\n\u001b[0;32m----> 2\u001b[0;31m \u001b[0mscores\u001b[0m\u001b[0;34m=\u001b[0m\u001b[0mpd\u001b[0m\u001b[0;34m.\u001b[0m\u001b[0mread_csv\u001b[0m\u001b[0;34m(\u001b[0m\u001b[0;34m'scores.txt'\u001b[0m\u001b[0;34m)\u001b[0m\u001b[0;34m\u001b[0m\u001b[0;34m\u001b[0m\u001b[0m\n\u001b[0m\u001b[1;32m      3\u001b[0m \u001b[0msubject\u001b[0m \u001b[0;34m=\u001b[0m \u001b[0;34m[\u001b[0m\u001b[0;34m'Mathametics'\u001b[0m\u001b[0;34m,\u001b[0m\u001b[0;34m'Physics'\u001b[0m\u001b[0;34m,\u001b[0m\u001b[0;34m'Chemistry'\u001b[0m\u001b[0;34m]\u001b[0m\u001b[0;34m\u001b[0m\u001b[0;34m\u001b[0m\u001b[0m\n\u001b[1;32m      4\u001b[0m \u001b[0;32mfor\u001b[0m \u001b[0msub\u001b[0m \u001b[0;32min\u001b[0m \u001b[0msubject\u001b[0m\u001b[0;34m:\u001b[0m\u001b[0;34m\u001b[0m\u001b[0;34m\u001b[0m\u001b[0m\n\u001b[1;32m      5\u001b[0m   \u001b[0mprint\u001b[0m\u001b[0;34m(\u001b[0m\u001b[0;34m'Above 85 in '\u001b[0m\u001b[0;34m,\u001b[0m\u001b[0msub\u001b[0m\u001b[0;34m)\u001b[0m\u001b[0;34m\u001b[0m\u001b[0;34m\u001b[0m\u001b[0m\n",
            "\u001b[0;32m/usr/local/lib/python3.10/dist-packages/pandas/io/parsers/readers.py\u001b[0m in \u001b[0;36mread_csv\u001b[0;34m(filepath_or_buffer, sep, delimiter, header, names, index_col, usecols, dtype, engine, converters, true_values, false_values, skipinitialspace, skiprows, skipfooter, nrows, na_values, keep_default_na, na_filter, verbose, skip_blank_lines, parse_dates, infer_datetime_format, keep_date_col, date_parser, date_format, dayfirst, cache_dates, iterator, chunksize, compression, thousands, decimal, lineterminator, quotechar, quoting, doublequote, escapechar, comment, encoding, encoding_errors, dialect, on_bad_lines, delim_whitespace, low_memory, memory_map, float_precision, storage_options, dtype_backend)\u001b[0m\n\u001b[1;32m    910\u001b[0m     \u001b[0mparse_dates\u001b[0m\u001b[0;34m:\u001b[0m \u001b[0mbool\u001b[0m \u001b[0;34m|\u001b[0m \u001b[0mSequence\u001b[0m\u001b[0;34m[\u001b[0m\u001b[0mHashable\u001b[0m\u001b[0;34m]\u001b[0m \u001b[0;34m|\u001b[0m \u001b[0;32mNone\u001b[0m \u001b[0;34m=\u001b[0m \u001b[0;32mNone\u001b[0m\u001b[0;34m,\u001b[0m\u001b[0;34m\u001b[0m\u001b[0;34m\u001b[0m\u001b[0m\n\u001b[1;32m    911\u001b[0m     \u001b[0minfer_datetime_format\u001b[0m\u001b[0;34m:\u001b[0m \u001b[0mbool\u001b[0m \u001b[0;34m|\u001b[0m \u001b[0mlib\u001b[0m\u001b[0;34m.\u001b[0m\u001b[0mNoDefault\u001b[0m \u001b[0;34m=\u001b[0m \u001b[0mlib\u001b[0m\u001b[0;34m.\u001b[0m\u001b[0mno_default\u001b[0m\u001b[0;34m,\u001b[0m\u001b[0;34m\u001b[0m\u001b[0;34m\u001b[0m\u001b[0m\n\u001b[0;32m--> 912\u001b[0;31m     \u001b[0mkeep_date_col\u001b[0m\u001b[0;34m:\u001b[0m \u001b[0mbool\u001b[0m \u001b[0;34m|\u001b[0m \u001b[0mlib\u001b[0m\u001b[0;34m.\u001b[0m\u001b[0mNoDefault\u001b[0m \u001b[0;34m=\u001b[0m \u001b[0mlib\u001b[0m\u001b[0;34m.\u001b[0m\u001b[0mno_default\u001b[0m\u001b[0;34m,\u001b[0m\u001b[0;34m\u001b[0m\u001b[0;34m\u001b[0m\u001b[0m\n\u001b[0m\u001b[1;32m    913\u001b[0m     \u001b[0mdate_parser\u001b[0m\u001b[0;34m:\u001b[0m \u001b[0mCallable\u001b[0m \u001b[0;34m|\u001b[0m \u001b[0mlib\u001b[0m\u001b[0;34m.\u001b[0m\u001b[0mNoDefault\u001b[0m \u001b[0;34m=\u001b[0m \u001b[0mlib\u001b[0m\u001b[0;34m.\u001b[0m\u001b[0mno_default\u001b[0m\u001b[0;34m,\u001b[0m\u001b[0;34m\u001b[0m\u001b[0;34m\u001b[0m\u001b[0m\n\u001b[1;32m    914\u001b[0m     \u001b[0mdate_format\u001b[0m\u001b[0;34m:\u001b[0m \u001b[0mstr\u001b[0m \u001b[0;34m|\u001b[0m \u001b[0mdict\u001b[0m\u001b[0;34m[\u001b[0m\u001b[0mHashable\u001b[0m\u001b[0;34m,\u001b[0m \u001b[0mstr\u001b[0m\u001b[0;34m]\u001b[0m \u001b[0;34m|\u001b[0m \u001b[0;32mNone\u001b[0m \u001b[0;34m=\u001b[0m \u001b[0;32mNone\u001b[0m\u001b[0;34m,\u001b[0m\u001b[0;34m\u001b[0m\u001b[0;34m\u001b[0m\u001b[0m\n",
            "\u001b[0;32m/usr/local/lib/python3.10/dist-packages/pandas/io/parsers/readers.py\u001b[0m in \u001b[0;36m_read\u001b[0;34m(filepath_or_buffer, kwds)\u001b[0m\n\u001b[1;32m    575\u001b[0m         \u001b[0;32mif\u001b[0m \u001b[0mlen\u001b[0m\u001b[0;34m(\u001b[0m\u001b[0mnames\u001b[0m\u001b[0;34m)\u001b[0m \u001b[0;34m!=\u001b[0m \u001b[0mlen\u001b[0m\u001b[0;34m(\u001b[0m\u001b[0mset\u001b[0m\u001b[0;34m(\u001b[0m\u001b[0mnames\u001b[0m\u001b[0;34m)\u001b[0m\u001b[0;34m)\u001b[0m\u001b[0;34m:\u001b[0m\u001b[0;34m\u001b[0m\u001b[0;34m\u001b[0m\u001b[0m\n\u001b[1;32m    576\u001b[0m             \u001b[0;32mraise\u001b[0m \u001b[0mValueError\u001b[0m\u001b[0;34m(\u001b[0m\u001b[0;34m\"Duplicate names are not allowed.\"\u001b[0m\u001b[0;34m)\u001b[0m\u001b[0;34m\u001b[0m\u001b[0;34m\u001b[0m\u001b[0m\n\u001b[0;32m--> 577\u001b[0;31m         if not (\n\u001b[0m\u001b[1;32m    578\u001b[0m             \u001b[0mis_list_like\u001b[0m\u001b[0;34m(\u001b[0m\u001b[0mnames\u001b[0m\u001b[0;34m,\u001b[0m \u001b[0mallow_sets\u001b[0m\u001b[0;34m=\u001b[0m\u001b[0;32mFalse\u001b[0m\u001b[0;34m)\u001b[0m \u001b[0;32mor\u001b[0m \u001b[0misinstance\u001b[0m\u001b[0;34m(\u001b[0m\u001b[0mnames\u001b[0m\u001b[0;34m,\u001b[0m \u001b[0mabc\u001b[0m\u001b[0;34m.\u001b[0m\u001b[0mKeysView\u001b[0m\u001b[0;34m)\u001b[0m\u001b[0;34m\u001b[0m\u001b[0;34m\u001b[0m\u001b[0m\n\u001b[1;32m    579\u001b[0m         ):\n",
            "\u001b[0;32m/usr/local/lib/python3.10/dist-packages/pandas/io/parsers/readers.py\u001b[0m in \u001b[0;36m__init__\u001b[0;34m(self, f, engine, **kwds)\u001b[0m\n\u001b[1;32m   1405\u001b[0m     \u001b[0;32mreturn\u001b[0m \u001b[0m_read\u001b[0m\u001b[0;34m(\u001b[0m\u001b[0mfilepath_or_buffer\u001b[0m\u001b[0;34m,\u001b[0m \u001b[0mkwds\u001b[0m\u001b[0;34m)\u001b[0m\u001b[0;34m\u001b[0m\u001b[0;34m\u001b[0m\u001b[0m\n\u001b[1;32m   1406\u001b[0m \u001b[0;34m\u001b[0m\u001b[0m\n\u001b[0;32m-> 1407\u001b[0;31m \u001b[0;34m\u001b[0m\u001b[0m\n\u001b[0m\u001b[1;32m   1408\u001b[0m \u001b[0;34m@\u001b[0m\u001b[0moverload\u001b[0m\u001b[0;34m\u001b[0m\u001b[0;34m\u001b[0m\u001b[0m\n\u001b[1;32m   1409\u001b[0m def read_fwf(\n",
            "\u001b[0;32m/usr/local/lib/python3.10/dist-packages/pandas/io/parsers/readers.py\u001b[0m in \u001b[0;36m_make_engine\u001b[0;34m(self, f, engine)\u001b[0m\n\u001b[1;32m   1659\u001b[0m                     \u001b[0;32melse\u001b[0m\u001b[0;34m:\u001b[0m\u001b[0;34m\u001b[0m\u001b[0;34m\u001b[0m\u001b[0m\n\u001b[1;32m   1660\u001b[0m                         raise ValueError(\n\u001b[0;32m-> 1661\u001b[0;31m                             \u001b[0;34mf\"The {repr(argname)} option is not supported with the \"\u001b[0m\u001b[0;34m\u001b[0m\u001b[0;34m\u001b[0m\u001b[0m\n\u001b[0m\u001b[1;32m   1662\u001b[0m                             \u001b[0;34mf\"{repr(engine)} engine\"\u001b[0m\u001b[0;34m\u001b[0m\u001b[0;34m\u001b[0m\u001b[0m\n\u001b[1;32m   1663\u001b[0m                         )\n",
            "\u001b[0;32m/usr/local/lib/python3.10/dist-packages/pandas/io/common.py\u001b[0m in \u001b[0;36mget_handle\u001b[0;34m(path_or_buf, mode, encoding, compression, memory_map, is_text, errors, storage_options)\u001b[0m\n\u001b[1;32m    857\u001b[0m                 \u001b[0;34m**\u001b[0m\u001b[0mopen_args\u001b[0m\u001b[0;34m,\u001b[0m\u001b[0;34m\u001b[0m\u001b[0;34m\u001b[0m\u001b[0m\n\u001b[1;32m    858\u001b[0m             )\n\u001b[0;32m--> 859\u001b[0;31m \u001b[0;34m\u001b[0m\u001b[0m\n\u001b[0m\u001b[1;32m    860\u001b[0m         \u001b[0;31m# Unrecognized Compression\u001b[0m\u001b[0;34m\u001b[0m\u001b[0;34m\u001b[0m\u001b[0m\n\u001b[1;32m    861\u001b[0m         \u001b[0;32melse\u001b[0m\u001b[0;34m:\u001b[0m\u001b[0;34m\u001b[0m\u001b[0;34m\u001b[0m\u001b[0m\n",
            "\u001b[0;31mFileNotFoundError\u001b[0m: [Errno 2] No such file or directory: 'scores.txt'"
          ]
        }
      ]
    },
    {
      "cell_type": "code",
      "source": [],
      "metadata": {
        "id": "fbD9azDZhdgr"
      },
      "execution_count": null,
      "outputs": []
    },
    {
      "cell_type": "code",
      "source": [
        "import pandas as pd\n",
        "scores = pd.read_csv('scores.txt')\n",
        "subject = ['Mathametics','Physics','Chemistry']\n",
        "for sub in subject:\n",
        "  print('Above 85 in ',sub)\n",
        "  avg = scores[sub].mean()\n",
        "  print(scores[(scores['Gender']=='F') & (scores[sub] > avg)].shape[0])\n",
        "  print(scores[(scores['Gender']=='M') & (scores[sub] > avg)].shape[0])\n",
        "\n",
        "\n",
        "\n",
        "\n"
      ],
      "metadata": {
        "colab": {
          "base_uri": "https://localhost:8080/",
          "height": 373
        },
        "outputId": "92b0fd2e-669e-48f9-a611-99a2d3aa7f04",
        "id": "DzPtLbY0hejE"
      },
      "execution_count": null,
      "outputs": [
        {
          "output_type": "error",
          "ename": "FileNotFoundError",
          "evalue": "[Errno 2] No such file or directory: 'scores.txt'",
          "traceback": [
            "\u001b[0;31m---------------------------------------------------------------------------\u001b[0m",
            "\u001b[0;31mFileNotFoundError\u001b[0m                         Traceback (most recent call last)",
            "\u001b[0;32m<ipython-input-30-782f93c38978>\u001b[0m in \u001b[0;36m<cell line: 2>\u001b[0;34m()\u001b[0m\n\u001b[1;32m      1\u001b[0m \u001b[0;32mimport\u001b[0m \u001b[0mpandas\u001b[0m \u001b[0;32mas\u001b[0m \u001b[0mpd\u001b[0m\u001b[0;34m\u001b[0m\u001b[0;34m\u001b[0m\u001b[0m\n\u001b[0;32m----> 2\u001b[0;31m \u001b[0mscores\u001b[0m \u001b[0;34m=\u001b[0m \u001b[0mpd\u001b[0m\u001b[0;34m.\u001b[0m\u001b[0mread_csv\u001b[0m\u001b[0;34m(\u001b[0m\u001b[0;34m'scores.txt'\u001b[0m\u001b[0;34m)\u001b[0m\u001b[0;34m\u001b[0m\u001b[0;34m\u001b[0m\u001b[0m\n\u001b[0m\u001b[1;32m      3\u001b[0m \u001b[0msubject\u001b[0m \u001b[0;34m=\u001b[0m \u001b[0;34m[\u001b[0m\u001b[0;34m'Mathametics'\u001b[0m\u001b[0;34m,\u001b[0m\u001b[0;34m'Physics'\u001b[0m\u001b[0;34m,\u001b[0m\u001b[0;34m'Chemistry'\u001b[0m\u001b[0;34m]\u001b[0m\u001b[0;34m\u001b[0m\u001b[0;34m\u001b[0m\u001b[0m\n\u001b[1;32m      4\u001b[0m \u001b[0;32mfor\u001b[0m \u001b[0msub\u001b[0m \u001b[0;32min\u001b[0m \u001b[0msubject\u001b[0m\u001b[0;34m:\u001b[0m\u001b[0;34m\u001b[0m\u001b[0;34m\u001b[0m\u001b[0m\n\u001b[1;32m      5\u001b[0m   \u001b[0mprint\u001b[0m\u001b[0;34m(\u001b[0m\u001b[0;34m'Above 85 in '\u001b[0m\u001b[0;34m,\u001b[0m\u001b[0msub\u001b[0m\u001b[0;34m)\u001b[0m\u001b[0;34m\u001b[0m\u001b[0;34m\u001b[0m\u001b[0m\n",
            "\u001b[0;32m/usr/local/lib/python3.10/dist-packages/pandas/io/parsers/readers.py\u001b[0m in \u001b[0;36mread_csv\u001b[0;34m(filepath_or_buffer, sep, delimiter, header, names, index_col, usecols, dtype, engine, converters, true_values, false_values, skipinitialspace, skiprows, skipfooter, nrows, na_values, keep_default_na, na_filter, verbose, skip_blank_lines, parse_dates, infer_datetime_format, keep_date_col, date_parser, date_format, dayfirst, cache_dates, iterator, chunksize, compression, thousands, decimal, lineterminator, quotechar, quoting, doublequote, escapechar, comment, encoding, encoding_errors, dialect, on_bad_lines, delim_whitespace, low_memory, memory_map, float_precision, storage_options, dtype_backend)\u001b[0m\n\u001b[1;32m    910\u001b[0m     \u001b[0mparse_dates\u001b[0m\u001b[0;34m:\u001b[0m \u001b[0mbool\u001b[0m \u001b[0;34m|\u001b[0m \u001b[0mSequence\u001b[0m\u001b[0;34m[\u001b[0m\u001b[0mHashable\u001b[0m\u001b[0;34m]\u001b[0m \u001b[0;34m|\u001b[0m \u001b[0;32mNone\u001b[0m \u001b[0;34m=\u001b[0m \u001b[0;32mNone\u001b[0m\u001b[0;34m,\u001b[0m\u001b[0;34m\u001b[0m\u001b[0;34m\u001b[0m\u001b[0m\n\u001b[1;32m    911\u001b[0m     \u001b[0minfer_datetime_format\u001b[0m\u001b[0;34m:\u001b[0m \u001b[0mbool\u001b[0m \u001b[0;34m|\u001b[0m \u001b[0mlib\u001b[0m\u001b[0;34m.\u001b[0m\u001b[0mNoDefault\u001b[0m \u001b[0;34m=\u001b[0m \u001b[0mlib\u001b[0m\u001b[0;34m.\u001b[0m\u001b[0mno_default\u001b[0m\u001b[0;34m,\u001b[0m\u001b[0;34m\u001b[0m\u001b[0;34m\u001b[0m\u001b[0m\n\u001b[0;32m--> 912\u001b[0;31m     \u001b[0mkeep_date_col\u001b[0m\u001b[0;34m:\u001b[0m \u001b[0mbool\u001b[0m \u001b[0;34m|\u001b[0m \u001b[0mlib\u001b[0m\u001b[0;34m.\u001b[0m\u001b[0mNoDefault\u001b[0m \u001b[0;34m=\u001b[0m \u001b[0mlib\u001b[0m\u001b[0;34m.\u001b[0m\u001b[0mno_default\u001b[0m\u001b[0;34m,\u001b[0m\u001b[0;34m\u001b[0m\u001b[0;34m\u001b[0m\u001b[0m\n\u001b[0m\u001b[1;32m    913\u001b[0m     \u001b[0mdate_parser\u001b[0m\u001b[0;34m:\u001b[0m \u001b[0mCallable\u001b[0m \u001b[0;34m|\u001b[0m \u001b[0mlib\u001b[0m\u001b[0;34m.\u001b[0m\u001b[0mNoDefault\u001b[0m \u001b[0;34m=\u001b[0m \u001b[0mlib\u001b[0m\u001b[0;34m.\u001b[0m\u001b[0mno_default\u001b[0m\u001b[0;34m,\u001b[0m\u001b[0;34m\u001b[0m\u001b[0;34m\u001b[0m\u001b[0m\n\u001b[1;32m    914\u001b[0m     \u001b[0mdate_format\u001b[0m\u001b[0;34m:\u001b[0m \u001b[0mstr\u001b[0m \u001b[0;34m|\u001b[0m \u001b[0mdict\u001b[0m\u001b[0;34m[\u001b[0m\u001b[0mHashable\u001b[0m\u001b[0;34m,\u001b[0m \u001b[0mstr\u001b[0m\u001b[0;34m]\u001b[0m \u001b[0;34m|\u001b[0m \u001b[0;32mNone\u001b[0m \u001b[0;34m=\u001b[0m \u001b[0;32mNone\u001b[0m\u001b[0;34m,\u001b[0m\u001b[0;34m\u001b[0m\u001b[0;34m\u001b[0m\u001b[0m\n",
            "\u001b[0;32m/usr/local/lib/python3.10/dist-packages/pandas/io/parsers/readers.py\u001b[0m in \u001b[0;36m_read\u001b[0;34m(filepath_or_buffer, kwds)\u001b[0m\n\u001b[1;32m    575\u001b[0m         \u001b[0;32mif\u001b[0m \u001b[0mlen\u001b[0m\u001b[0;34m(\u001b[0m\u001b[0mnames\u001b[0m\u001b[0;34m)\u001b[0m \u001b[0;34m!=\u001b[0m \u001b[0mlen\u001b[0m\u001b[0;34m(\u001b[0m\u001b[0mset\u001b[0m\u001b[0;34m(\u001b[0m\u001b[0mnames\u001b[0m\u001b[0;34m)\u001b[0m\u001b[0;34m)\u001b[0m\u001b[0;34m:\u001b[0m\u001b[0;34m\u001b[0m\u001b[0;34m\u001b[0m\u001b[0m\n\u001b[1;32m    576\u001b[0m             \u001b[0;32mraise\u001b[0m \u001b[0mValueError\u001b[0m\u001b[0;34m(\u001b[0m\u001b[0;34m\"Duplicate names are not allowed.\"\u001b[0m\u001b[0;34m)\u001b[0m\u001b[0;34m\u001b[0m\u001b[0;34m\u001b[0m\u001b[0m\n\u001b[0;32m--> 577\u001b[0;31m         if not (\n\u001b[0m\u001b[1;32m    578\u001b[0m             \u001b[0mis_list_like\u001b[0m\u001b[0;34m(\u001b[0m\u001b[0mnames\u001b[0m\u001b[0;34m,\u001b[0m \u001b[0mallow_sets\u001b[0m\u001b[0;34m=\u001b[0m\u001b[0;32mFalse\u001b[0m\u001b[0;34m)\u001b[0m \u001b[0;32mor\u001b[0m \u001b[0misinstance\u001b[0m\u001b[0;34m(\u001b[0m\u001b[0mnames\u001b[0m\u001b[0;34m,\u001b[0m \u001b[0mabc\u001b[0m\u001b[0;34m.\u001b[0m\u001b[0mKeysView\u001b[0m\u001b[0;34m)\u001b[0m\u001b[0;34m\u001b[0m\u001b[0;34m\u001b[0m\u001b[0m\n\u001b[1;32m    579\u001b[0m         ):\n",
            "\u001b[0;32m/usr/local/lib/python3.10/dist-packages/pandas/io/parsers/readers.py\u001b[0m in \u001b[0;36m__init__\u001b[0;34m(self, f, engine, **kwds)\u001b[0m\n\u001b[1;32m   1405\u001b[0m     \u001b[0;32mreturn\u001b[0m \u001b[0m_read\u001b[0m\u001b[0;34m(\u001b[0m\u001b[0mfilepath_or_buffer\u001b[0m\u001b[0;34m,\u001b[0m \u001b[0mkwds\u001b[0m\u001b[0;34m)\u001b[0m\u001b[0;34m\u001b[0m\u001b[0;34m\u001b[0m\u001b[0m\n\u001b[1;32m   1406\u001b[0m \u001b[0;34m\u001b[0m\u001b[0m\n\u001b[0;32m-> 1407\u001b[0;31m \u001b[0;34m\u001b[0m\u001b[0m\n\u001b[0m\u001b[1;32m   1408\u001b[0m \u001b[0;34m@\u001b[0m\u001b[0moverload\u001b[0m\u001b[0;34m\u001b[0m\u001b[0;34m\u001b[0m\u001b[0m\n\u001b[1;32m   1409\u001b[0m def read_fwf(\n",
            "\u001b[0;32m/usr/local/lib/python3.10/dist-packages/pandas/io/parsers/readers.py\u001b[0m in \u001b[0;36m_make_engine\u001b[0;34m(self, f, engine)\u001b[0m\n\u001b[1;32m   1659\u001b[0m                     \u001b[0;32melse\u001b[0m\u001b[0;34m:\u001b[0m\u001b[0;34m\u001b[0m\u001b[0;34m\u001b[0m\u001b[0m\n\u001b[1;32m   1660\u001b[0m                         raise ValueError(\n\u001b[0;32m-> 1661\u001b[0;31m                             \u001b[0;34mf\"The {repr(argname)} option is not supported with the \"\u001b[0m\u001b[0;34m\u001b[0m\u001b[0;34m\u001b[0m\u001b[0m\n\u001b[0m\u001b[1;32m   1662\u001b[0m                             \u001b[0;34mf\"{repr(engine)} engine\"\u001b[0m\u001b[0;34m\u001b[0m\u001b[0;34m\u001b[0m\u001b[0m\n\u001b[1;32m   1663\u001b[0m                         )\n",
            "\u001b[0;32m/usr/local/lib/python3.10/dist-packages/pandas/io/common.py\u001b[0m in \u001b[0;36mget_handle\u001b[0;34m(path_or_buf, mode, encoding, compression, memory_map, is_text, errors, storage_options)\u001b[0m\n\u001b[1;32m    857\u001b[0m                 \u001b[0;34m**\u001b[0m\u001b[0mopen_args\u001b[0m\u001b[0;34m,\u001b[0m\u001b[0;34m\u001b[0m\u001b[0;34m\u001b[0m\u001b[0m\n\u001b[1;32m    858\u001b[0m             )\n\u001b[0;32m--> 859\u001b[0;31m \u001b[0;34m\u001b[0m\u001b[0m\n\u001b[0m\u001b[1;32m    860\u001b[0m         \u001b[0;31m# Unrecognized Compression\u001b[0m\u001b[0;34m\u001b[0m\u001b[0;34m\u001b[0m\u001b[0m\n\u001b[1;32m    861\u001b[0m         \u001b[0;32melse\u001b[0m\u001b[0;34m:\u001b[0m\u001b[0;34m\u001b[0m\u001b[0;34m\u001b[0m\u001b[0m\n",
            "\u001b[0;31mFileNotFoundError\u001b[0m: [Errno 2] No such file or directory: 'scores.txt'"
          ]
        }
      ]
    },
    {
      "cell_type": "code",
      "source": [
        "import pandas as pd\n",
        "scores = pd.read_csv('scores.txt')\n",
        "print(scores.groupby('Gender').groups)"
      ],
      "metadata": {
        "colab": {
          "base_uri": "https://localhost:8080/",
          "height": 339
        },
        "id": "Z42PBxnxnPJT",
        "outputId": "3f8a2b80-36ad-4a88-a239-6df184b955ec"
      },
      "execution_count": null,
      "outputs": [
        {
          "output_type": "error",
          "ename": "FileNotFoundError",
          "evalue": "[Errno 2] No such file or directory: 'scores.txt'",
          "traceback": [
            "\u001b[0;31m---------------------------------------------------------------------------\u001b[0m",
            "\u001b[0;31mFileNotFoundError\u001b[0m                         Traceback (most recent call last)",
            "\u001b[0;32m<ipython-input-31-e350663b0e7f>\u001b[0m in \u001b[0;36m<cell line: 2>\u001b[0;34m()\u001b[0m\n\u001b[1;32m      1\u001b[0m \u001b[0;32mimport\u001b[0m \u001b[0mpandas\u001b[0m \u001b[0;32mas\u001b[0m \u001b[0mpd\u001b[0m\u001b[0;34m\u001b[0m\u001b[0;34m\u001b[0m\u001b[0m\n\u001b[0;32m----> 2\u001b[0;31m \u001b[0mscores\u001b[0m \u001b[0;34m=\u001b[0m \u001b[0mpd\u001b[0m\u001b[0;34m.\u001b[0m\u001b[0mread_csv\u001b[0m\u001b[0;34m(\u001b[0m\u001b[0;34m'scores.txt'\u001b[0m\u001b[0;34m)\u001b[0m\u001b[0;34m\u001b[0m\u001b[0;34m\u001b[0m\u001b[0m\n\u001b[0m\u001b[1;32m      3\u001b[0m \u001b[0mprint\u001b[0m\u001b[0;34m(\u001b[0m\u001b[0mscores\u001b[0m\u001b[0;34m.\u001b[0m\u001b[0mgroupby\u001b[0m\u001b[0;34m(\u001b[0m\u001b[0;34m'Gender'\u001b[0m\u001b[0;34m)\u001b[0m\u001b[0;34m.\u001b[0m\u001b[0mgroups\u001b[0m\u001b[0;34m)\u001b[0m\u001b[0;34m\u001b[0m\u001b[0;34m\u001b[0m\u001b[0m\n",
            "\u001b[0;32m/usr/local/lib/python3.10/dist-packages/pandas/io/parsers/readers.py\u001b[0m in \u001b[0;36mread_csv\u001b[0;34m(filepath_or_buffer, sep, delimiter, header, names, index_col, usecols, dtype, engine, converters, true_values, false_values, skipinitialspace, skiprows, skipfooter, nrows, na_values, keep_default_na, na_filter, verbose, skip_blank_lines, parse_dates, infer_datetime_format, keep_date_col, date_parser, date_format, dayfirst, cache_dates, iterator, chunksize, compression, thousands, decimal, lineterminator, quotechar, quoting, doublequote, escapechar, comment, encoding, encoding_errors, dialect, on_bad_lines, delim_whitespace, low_memory, memory_map, float_precision, storage_options, dtype_backend)\u001b[0m\n\u001b[1;32m    910\u001b[0m     \u001b[0mparse_dates\u001b[0m\u001b[0;34m:\u001b[0m \u001b[0mbool\u001b[0m \u001b[0;34m|\u001b[0m \u001b[0mSequence\u001b[0m\u001b[0;34m[\u001b[0m\u001b[0mHashable\u001b[0m\u001b[0;34m]\u001b[0m \u001b[0;34m|\u001b[0m \u001b[0;32mNone\u001b[0m \u001b[0;34m=\u001b[0m \u001b[0;32mNone\u001b[0m\u001b[0;34m,\u001b[0m\u001b[0;34m\u001b[0m\u001b[0;34m\u001b[0m\u001b[0m\n\u001b[1;32m    911\u001b[0m     \u001b[0minfer_datetime_format\u001b[0m\u001b[0;34m:\u001b[0m \u001b[0mbool\u001b[0m \u001b[0;34m|\u001b[0m \u001b[0mlib\u001b[0m\u001b[0;34m.\u001b[0m\u001b[0mNoDefault\u001b[0m \u001b[0;34m=\u001b[0m \u001b[0mlib\u001b[0m\u001b[0;34m.\u001b[0m\u001b[0mno_default\u001b[0m\u001b[0;34m,\u001b[0m\u001b[0;34m\u001b[0m\u001b[0;34m\u001b[0m\u001b[0m\n\u001b[0;32m--> 912\u001b[0;31m     \u001b[0mkeep_date_col\u001b[0m\u001b[0;34m:\u001b[0m \u001b[0mbool\u001b[0m \u001b[0;34m|\u001b[0m \u001b[0mlib\u001b[0m\u001b[0;34m.\u001b[0m\u001b[0mNoDefault\u001b[0m \u001b[0;34m=\u001b[0m \u001b[0mlib\u001b[0m\u001b[0;34m.\u001b[0m\u001b[0mno_default\u001b[0m\u001b[0;34m,\u001b[0m\u001b[0;34m\u001b[0m\u001b[0;34m\u001b[0m\u001b[0m\n\u001b[0m\u001b[1;32m    913\u001b[0m     \u001b[0mdate_parser\u001b[0m\u001b[0;34m:\u001b[0m \u001b[0mCallable\u001b[0m \u001b[0;34m|\u001b[0m \u001b[0mlib\u001b[0m\u001b[0;34m.\u001b[0m\u001b[0mNoDefault\u001b[0m \u001b[0;34m=\u001b[0m \u001b[0mlib\u001b[0m\u001b[0;34m.\u001b[0m\u001b[0mno_default\u001b[0m\u001b[0;34m,\u001b[0m\u001b[0;34m\u001b[0m\u001b[0;34m\u001b[0m\u001b[0m\n\u001b[1;32m    914\u001b[0m     \u001b[0mdate_format\u001b[0m\u001b[0;34m:\u001b[0m \u001b[0mstr\u001b[0m \u001b[0;34m|\u001b[0m \u001b[0mdict\u001b[0m\u001b[0;34m[\u001b[0m\u001b[0mHashable\u001b[0m\u001b[0;34m,\u001b[0m \u001b[0mstr\u001b[0m\u001b[0;34m]\u001b[0m \u001b[0;34m|\u001b[0m \u001b[0;32mNone\u001b[0m \u001b[0;34m=\u001b[0m \u001b[0;32mNone\u001b[0m\u001b[0;34m,\u001b[0m\u001b[0;34m\u001b[0m\u001b[0;34m\u001b[0m\u001b[0m\n",
            "\u001b[0;32m/usr/local/lib/python3.10/dist-packages/pandas/io/parsers/readers.py\u001b[0m in \u001b[0;36m_read\u001b[0;34m(filepath_or_buffer, kwds)\u001b[0m\n\u001b[1;32m    575\u001b[0m         \u001b[0;32mif\u001b[0m \u001b[0mlen\u001b[0m\u001b[0;34m(\u001b[0m\u001b[0mnames\u001b[0m\u001b[0;34m)\u001b[0m \u001b[0;34m!=\u001b[0m \u001b[0mlen\u001b[0m\u001b[0;34m(\u001b[0m\u001b[0mset\u001b[0m\u001b[0;34m(\u001b[0m\u001b[0mnames\u001b[0m\u001b[0;34m)\u001b[0m\u001b[0;34m)\u001b[0m\u001b[0;34m:\u001b[0m\u001b[0;34m\u001b[0m\u001b[0;34m\u001b[0m\u001b[0m\n\u001b[1;32m    576\u001b[0m             \u001b[0;32mraise\u001b[0m \u001b[0mValueError\u001b[0m\u001b[0;34m(\u001b[0m\u001b[0;34m\"Duplicate names are not allowed.\"\u001b[0m\u001b[0;34m)\u001b[0m\u001b[0;34m\u001b[0m\u001b[0;34m\u001b[0m\u001b[0m\n\u001b[0;32m--> 577\u001b[0;31m         if not (\n\u001b[0m\u001b[1;32m    578\u001b[0m             \u001b[0mis_list_like\u001b[0m\u001b[0;34m(\u001b[0m\u001b[0mnames\u001b[0m\u001b[0;34m,\u001b[0m \u001b[0mallow_sets\u001b[0m\u001b[0;34m=\u001b[0m\u001b[0;32mFalse\u001b[0m\u001b[0;34m)\u001b[0m \u001b[0;32mor\u001b[0m \u001b[0misinstance\u001b[0m\u001b[0;34m(\u001b[0m\u001b[0mnames\u001b[0m\u001b[0;34m,\u001b[0m \u001b[0mabc\u001b[0m\u001b[0;34m.\u001b[0m\u001b[0mKeysView\u001b[0m\u001b[0;34m)\u001b[0m\u001b[0;34m\u001b[0m\u001b[0;34m\u001b[0m\u001b[0m\n\u001b[1;32m    579\u001b[0m         ):\n",
            "\u001b[0;32m/usr/local/lib/python3.10/dist-packages/pandas/io/parsers/readers.py\u001b[0m in \u001b[0;36m__init__\u001b[0;34m(self, f, engine, **kwds)\u001b[0m\n\u001b[1;32m   1405\u001b[0m     \u001b[0;32mreturn\u001b[0m \u001b[0m_read\u001b[0m\u001b[0;34m(\u001b[0m\u001b[0mfilepath_or_buffer\u001b[0m\u001b[0;34m,\u001b[0m \u001b[0mkwds\u001b[0m\u001b[0;34m)\u001b[0m\u001b[0;34m\u001b[0m\u001b[0;34m\u001b[0m\u001b[0m\n\u001b[1;32m   1406\u001b[0m \u001b[0;34m\u001b[0m\u001b[0m\n\u001b[0;32m-> 1407\u001b[0;31m \u001b[0;34m\u001b[0m\u001b[0m\n\u001b[0m\u001b[1;32m   1408\u001b[0m \u001b[0;34m@\u001b[0m\u001b[0moverload\u001b[0m\u001b[0;34m\u001b[0m\u001b[0;34m\u001b[0m\u001b[0m\n\u001b[1;32m   1409\u001b[0m def read_fwf(\n",
            "\u001b[0;32m/usr/local/lib/python3.10/dist-packages/pandas/io/parsers/readers.py\u001b[0m in \u001b[0;36m_make_engine\u001b[0;34m(self, f, engine)\u001b[0m\n\u001b[1;32m   1659\u001b[0m                     \u001b[0;32melse\u001b[0m\u001b[0;34m:\u001b[0m\u001b[0;34m\u001b[0m\u001b[0;34m\u001b[0m\u001b[0m\n\u001b[1;32m   1660\u001b[0m                         raise ValueError(\n\u001b[0;32m-> 1661\u001b[0;31m                             \u001b[0;34mf\"The {repr(argname)} option is not supported with the \"\u001b[0m\u001b[0;34m\u001b[0m\u001b[0;34m\u001b[0m\u001b[0m\n\u001b[0m\u001b[1;32m   1662\u001b[0m                             \u001b[0;34mf\"{repr(engine)} engine\"\u001b[0m\u001b[0;34m\u001b[0m\u001b[0;34m\u001b[0m\u001b[0m\n\u001b[1;32m   1663\u001b[0m                         )\n",
            "\u001b[0;32m/usr/local/lib/python3.10/dist-packages/pandas/io/common.py\u001b[0m in \u001b[0;36mget_handle\u001b[0;34m(path_or_buf, mode, encoding, compression, memory_map, is_text, errors, storage_options)\u001b[0m\n\u001b[1;32m    857\u001b[0m                 \u001b[0;34m**\u001b[0m\u001b[0mopen_args\u001b[0m\u001b[0;34m,\u001b[0m\u001b[0;34m\u001b[0m\u001b[0;34m\u001b[0m\u001b[0m\n\u001b[1;32m    858\u001b[0m             )\n\u001b[0;32m--> 859\u001b[0;31m \u001b[0;34m\u001b[0m\u001b[0m\n\u001b[0m\u001b[1;32m    860\u001b[0m         \u001b[0;31m# Unrecognized Compression\u001b[0m\u001b[0;34m\u001b[0m\u001b[0;34m\u001b[0m\u001b[0m\n\u001b[1;32m    861\u001b[0m         \u001b[0;32melse\u001b[0m\u001b[0;34m:\u001b[0m\u001b[0;34m\u001b[0m\u001b[0;34m\u001b[0m\u001b[0m\n",
            "\u001b[0;31mFileNotFoundError\u001b[0m: [Errno 2] No such file or directory: 'scores.txt'"
          ]
        }
      ]
    },
    {
      "cell_type": "code",
      "source": [
        "import pandas as pd\n",
        "scores = pd.read_csv('scores.txt')\n",
        "subject = ['Mathametics','Physics','Chemistry']\n",
        "for sub in subject:\n",
        "  print('Above 85 in ',sub)\n",
        "  avg = scores[sub].mean()\n",
        "  print(scores[scores[sub]>avg].groupby('Gender').groups)\n",
        "\n",
        "\n",
        "\n",
        "\n",
        "\n"
      ],
      "metadata": {
        "colab": {
          "base_uri": "https://localhost:8080/",
          "height": 373
        },
        "outputId": "c7670c6c-313f-403b-a5f2-c9084917f0df",
        "id": "kKKiv7NEomgk"
      },
      "execution_count": null,
      "outputs": [
        {
          "output_type": "error",
          "ename": "FileNotFoundError",
          "evalue": "[Errno 2] No such file or directory: 'scores.txt'",
          "traceback": [
            "\u001b[0;31m---------------------------------------------------------------------------\u001b[0m",
            "\u001b[0;31mFileNotFoundError\u001b[0m                         Traceback (most recent call last)",
            "\u001b[0;32m<ipython-input-33-4ae041cec7b6>\u001b[0m in \u001b[0;36m<cell line: 2>\u001b[0;34m()\u001b[0m\n\u001b[1;32m      1\u001b[0m \u001b[0;32mimport\u001b[0m \u001b[0mpandas\u001b[0m \u001b[0;32mas\u001b[0m \u001b[0mpd\u001b[0m\u001b[0;34m\u001b[0m\u001b[0;34m\u001b[0m\u001b[0m\n\u001b[0;32m----> 2\u001b[0;31m \u001b[0mscores\u001b[0m \u001b[0;34m=\u001b[0m \u001b[0mpd\u001b[0m\u001b[0;34m.\u001b[0m\u001b[0mread_csv\u001b[0m\u001b[0;34m(\u001b[0m\u001b[0;34m'scores.txt'\u001b[0m\u001b[0;34m)\u001b[0m\u001b[0;34m\u001b[0m\u001b[0;34m\u001b[0m\u001b[0m\n\u001b[0m\u001b[1;32m      3\u001b[0m \u001b[0msubject\u001b[0m \u001b[0;34m=\u001b[0m \u001b[0;34m[\u001b[0m\u001b[0;34m'Mathametics'\u001b[0m\u001b[0;34m,\u001b[0m\u001b[0;34m'Physics'\u001b[0m\u001b[0;34m,\u001b[0m\u001b[0;34m'Chemistry'\u001b[0m\u001b[0;34m]\u001b[0m\u001b[0;34m\u001b[0m\u001b[0;34m\u001b[0m\u001b[0m\n\u001b[1;32m      4\u001b[0m \u001b[0;32mfor\u001b[0m \u001b[0msub\u001b[0m \u001b[0;32min\u001b[0m \u001b[0msubject\u001b[0m\u001b[0;34m:\u001b[0m\u001b[0;34m\u001b[0m\u001b[0;34m\u001b[0m\u001b[0m\n\u001b[1;32m      5\u001b[0m   \u001b[0mprint\u001b[0m\u001b[0;34m(\u001b[0m\u001b[0;34m'Above 85 in '\u001b[0m\u001b[0;34m,\u001b[0m\u001b[0msub\u001b[0m\u001b[0;34m)\u001b[0m\u001b[0;34m\u001b[0m\u001b[0;34m\u001b[0m\u001b[0m\n",
            "\u001b[0;32m/usr/local/lib/python3.10/dist-packages/pandas/io/parsers/readers.py\u001b[0m in \u001b[0;36mread_csv\u001b[0;34m(filepath_or_buffer, sep, delimiter, header, names, index_col, usecols, dtype, engine, converters, true_values, false_values, skipinitialspace, skiprows, skipfooter, nrows, na_values, keep_default_na, na_filter, verbose, skip_blank_lines, parse_dates, infer_datetime_format, keep_date_col, date_parser, date_format, dayfirst, cache_dates, iterator, chunksize, compression, thousands, decimal, lineterminator, quotechar, quoting, doublequote, escapechar, comment, encoding, encoding_errors, dialect, on_bad_lines, delim_whitespace, low_memory, memory_map, float_precision, storage_options, dtype_backend)\u001b[0m\n\u001b[1;32m    910\u001b[0m     \u001b[0mparse_dates\u001b[0m\u001b[0;34m:\u001b[0m \u001b[0mbool\u001b[0m \u001b[0;34m|\u001b[0m \u001b[0mSequence\u001b[0m\u001b[0;34m[\u001b[0m\u001b[0mHashable\u001b[0m\u001b[0;34m]\u001b[0m \u001b[0;34m|\u001b[0m \u001b[0;32mNone\u001b[0m \u001b[0;34m=\u001b[0m \u001b[0;32mNone\u001b[0m\u001b[0;34m,\u001b[0m\u001b[0;34m\u001b[0m\u001b[0;34m\u001b[0m\u001b[0m\n\u001b[1;32m    911\u001b[0m     \u001b[0minfer_datetime_format\u001b[0m\u001b[0;34m:\u001b[0m \u001b[0mbool\u001b[0m \u001b[0;34m|\u001b[0m \u001b[0mlib\u001b[0m\u001b[0;34m.\u001b[0m\u001b[0mNoDefault\u001b[0m \u001b[0;34m=\u001b[0m \u001b[0mlib\u001b[0m\u001b[0;34m.\u001b[0m\u001b[0mno_default\u001b[0m\u001b[0;34m,\u001b[0m\u001b[0;34m\u001b[0m\u001b[0;34m\u001b[0m\u001b[0m\n\u001b[0;32m--> 912\u001b[0;31m     \u001b[0mkeep_date_col\u001b[0m\u001b[0;34m:\u001b[0m \u001b[0mbool\u001b[0m \u001b[0;34m|\u001b[0m \u001b[0mlib\u001b[0m\u001b[0;34m.\u001b[0m\u001b[0mNoDefault\u001b[0m \u001b[0;34m=\u001b[0m \u001b[0mlib\u001b[0m\u001b[0;34m.\u001b[0m\u001b[0mno_default\u001b[0m\u001b[0;34m,\u001b[0m\u001b[0;34m\u001b[0m\u001b[0;34m\u001b[0m\u001b[0m\n\u001b[0m\u001b[1;32m    913\u001b[0m     \u001b[0mdate_parser\u001b[0m\u001b[0;34m:\u001b[0m \u001b[0mCallable\u001b[0m \u001b[0;34m|\u001b[0m \u001b[0mlib\u001b[0m\u001b[0;34m.\u001b[0m\u001b[0mNoDefault\u001b[0m \u001b[0;34m=\u001b[0m \u001b[0mlib\u001b[0m\u001b[0;34m.\u001b[0m\u001b[0mno_default\u001b[0m\u001b[0;34m,\u001b[0m\u001b[0;34m\u001b[0m\u001b[0;34m\u001b[0m\u001b[0m\n\u001b[1;32m    914\u001b[0m     \u001b[0mdate_format\u001b[0m\u001b[0;34m:\u001b[0m \u001b[0mstr\u001b[0m \u001b[0;34m|\u001b[0m \u001b[0mdict\u001b[0m\u001b[0;34m[\u001b[0m\u001b[0mHashable\u001b[0m\u001b[0;34m,\u001b[0m \u001b[0mstr\u001b[0m\u001b[0;34m]\u001b[0m \u001b[0;34m|\u001b[0m \u001b[0;32mNone\u001b[0m \u001b[0;34m=\u001b[0m \u001b[0;32mNone\u001b[0m\u001b[0;34m,\u001b[0m\u001b[0;34m\u001b[0m\u001b[0;34m\u001b[0m\u001b[0m\n",
            "\u001b[0;32m/usr/local/lib/python3.10/dist-packages/pandas/io/parsers/readers.py\u001b[0m in \u001b[0;36m_read\u001b[0;34m(filepath_or_buffer, kwds)\u001b[0m\n\u001b[1;32m    575\u001b[0m         \u001b[0;32mif\u001b[0m \u001b[0mlen\u001b[0m\u001b[0;34m(\u001b[0m\u001b[0mnames\u001b[0m\u001b[0;34m)\u001b[0m \u001b[0;34m!=\u001b[0m \u001b[0mlen\u001b[0m\u001b[0;34m(\u001b[0m\u001b[0mset\u001b[0m\u001b[0;34m(\u001b[0m\u001b[0mnames\u001b[0m\u001b[0;34m)\u001b[0m\u001b[0;34m)\u001b[0m\u001b[0;34m:\u001b[0m\u001b[0;34m\u001b[0m\u001b[0;34m\u001b[0m\u001b[0m\n\u001b[1;32m    576\u001b[0m             \u001b[0;32mraise\u001b[0m \u001b[0mValueError\u001b[0m\u001b[0;34m(\u001b[0m\u001b[0;34m\"Duplicate names are not allowed.\"\u001b[0m\u001b[0;34m)\u001b[0m\u001b[0;34m\u001b[0m\u001b[0;34m\u001b[0m\u001b[0m\n\u001b[0;32m--> 577\u001b[0;31m         if not (\n\u001b[0m\u001b[1;32m    578\u001b[0m             \u001b[0mis_list_like\u001b[0m\u001b[0;34m(\u001b[0m\u001b[0mnames\u001b[0m\u001b[0;34m,\u001b[0m \u001b[0mallow_sets\u001b[0m\u001b[0;34m=\u001b[0m\u001b[0;32mFalse\u001b[0m\u001b[0;34m)\u001b[0m \u001b[0;32mor\u001b[0m \u001b[0misinstance\u001b[0m\u001b[0;34m(\u001b[0m\u001b[0mnames\u001b[0m\u001b[0;34m,\u001b[0m \u001b[0mabc\u001b[0m\u001b[0;34m.\u001b[0m\u001b[0mKeysView\u001b[0m\u001b[0;34m)\u001b[0m\u001b[0;34m\u001b[0m\u001b[0;34m\u001b[0m\u001b[0m\n\u001b[1;32m    579\u001b[0m         ):\n",
            "\u001b[0;32m/usr/local/lib/python3.10/dist-packages/pandas/io/parsers/readers.py\u001b[0m in \u001b[0;36m__init__\u001b[0;34m(self, f, engine, **kwds)\u001b[0m\n\u001b[1;32m   1405\u001b[0m     \u001b[0;32mreturn\u001b[0m \u001b[0m_read\u001b[0m\u001b[0;34m(\u001b[0m\u001b[0mfilepath_or_buffer\u001b[0m\u001b[0;34m,\u001b[0m \u001b[0mkwds\u001b[0m\u001b[0;34m)\u001b[0m\u001b[0;34m\u001b[0m\u001b[0;34m\u001b[0m\u001b[0m\n\u001b[1;32m   1406\u001b[0m \u001b[0;34m\u001b[0m\u001b[0m\n\u001b[0;32m-> 1407\u001b[0;31m \u001b[0;34m\u001b[0m\u001b[0m\n\u001b[0m\u001b[1;32m   1408\u001b[0m \u001b[0;34m@\u001b[0m\u001b[0moverload\u001b[0m\u001b[0;34m\u001b[0m\u001b[0;34m\u001b[0m\u001b[0m\n\u001b[1;32m   1409\u001b[0m def read_fwf(\n",
            "\u001b[0;32m/usr/local/lib/python3.10/dist-packages/pandas/io/parsers/readers.py\u001b[0m in \u001b[0;36m_make_engine\u001b[0;34m(self, f, engine)\u001b[0m\n\u001b[1;32m   1659\u001b[0m                     \u001b[0;32melse\u001b[0m\u001b[0;34m:\u001b[0m\u001b[0;34m\u001b[0m\u001b[0;34m\u001b[0m\u001b[0m\n\u001b[1;32m   1660\u001b[0m                         raise ValueError(\n\u001b[0;32m-> 1661\u001b[0;31m                             \u001b[0;34mf\"The {repr(argname)} option is not supported with the \"\u001b[0m\u001b[0;34m\u001b[0m\u001b[0;34m\u001b[0m\u001b[0m\n\u001b[0m\u001b[1;32m   1662\u001b[0m                             \u001b[0;34mf\"{repr(engine)} engine\"\u001b[0m\u001b[0;34m\u001b[0m\u001b[0;34m\u001b[0m\u001b[0m\n\u001b[1;32m   1663\u001b[0m                         )\n",
            "\u001b[0;32m/usr/local/lib/python3.10/dist-packages/pandas/io/common.py\u001b[0m in \u001b[0;36mget_handle\u001b[0;34m(path_or_buf, mode, encoding, compression, memory_map, is_text, errors, storage_options)\u001b[0m\n\u001b[1;32m    857\u001b[0m                 \u001b[0;34m**\u001b[0m\u001b[0mopen_args\u001b[0m\u001b[0;34m,\u001b[0m\u001b[0;34m\u001b[0m\u001b[0;34m\u001b[0m\u001b[0m\n\u001b[1;32m    858\u001b[0m             )\n\u001b[0;32m--> 859\u001b[0;31m \u001b[0;34m\u001b[0m\u001b[0m\n\u001b[0m\u001b[1;32m    860\u001b[0m         \u001b[0;31m# Unrecognized Compression\u001b[0m\u001b[0;34m\u001b[0m\u001b[0;34m\u001b[0m\u001b[0m\n\u001b[1;32m    861\u001b[0m         \u001b[0;32melse\u001b[0m\u001b[0;34m:\u001b[0m\u001b[0;34m\u001b[0m\u001b[0;34m\u001b[0m\u001b[0m\n",
            "\u001b[0;31mFileNotFoundError\u001b[0m: [Errno 2] No such file or directory: 'scores.txt'"
          ]
        }
      ]
    }
  ]
}