{
  "nbformat": 4,
  "nbformat_minor": 0,
  "metadata": {
    "colab": {
      "provenance": [],
      "authorship_tag": "ABX9TyOxBPBFH0YQp4ZnERops80q",
      "include_colab_link": true
    },
    "kernelspec": {
      "name": "python3",
      "display_name": "Python 3"
    },
    "language_info": {
      "name": "python"
    }
  },
  "cells": [
    {
      "cell_type": "markdown",
      "metadata": {
        "id": "view-in-github",
        "colab_type": "text"
      },
      "source": [
        "<a href=\"https://colab.research.google.com/github/MrSantoshkumar/PYTHON-IITM/blob/main/Week11.ipynb\" target=\"_parent\"><img src=\"https://colab.research.google.com/assets/colab-badge.svg\" alt=\"Open In Colab\"/></a>"
      ]
    },
    {
      "cell_type": "markdown",
      "source": [
        "# L11.1 | Introduction"
      ],
      "metadata": {
        "id": "q-rbFgd1A2gf"
      }
    },
    {
      "cell_type": "code",
      "source": [],
      "metadata": {
        "id": "UYLuY-dBA5yG"
      },
      "execution_count": null,
      "outputs": []
    },
    {
      "cell_type": "markdown",
      "source": [
        "# L11.2 | Exception handling"
      ],
      "metadata": {
        "id": "9Lvf3jvoBsr2"
      }
    },
    {
      "cell_type": "code",
      "source": [
        "a = int(input())\n",
        "b = int(input())\n",
        "try:\n",
        "   c = a/b\n",
        "   print(c)\n",
        "   f = open('abc.txt', 'r')\n",
        "except ZeroDivisionError:\n",
        "  print('Invalid input,divisor can not be zero')\n",
        "except NameError:\n",
        "  print('Variable not defined')\n",
        "except FileNotFoundError:\n",
        "  print('Invalid file name. Please check again')\n",
        "except:\n",
        "  print('Something went wrong')\n"
      ],
      "metadata": {
        "id": "t24f3ae7B9O3",
        "colab": {
          "base_uri": "https://localhost:8080/"
        },
        "outputId": "cc26b9ec-6262-4634-8169-5ee707828b19"
      },
      "execution_count": null,
      "outputs": [
        {
          "output_type": "stream",
          "name": "stdout",
          "text": [
            "20\n",
            "4\n",
            "5.0\n",
            "Invalid file name. Please check again\n"
          ]
        }
      ]
    },
    {
      "cell_type": "code",
      "source": [
        "a = int(input())\n",
        "b = int(input())\n",
        "try\n",
        "   f = open('abc.txt', 'r')\n",
        "   c = a/b\n",
        "   print(c)\n",
        "except ZeroDivisionError:\n",
        "  print('Invalid input,divisor can not be zero')\n",
        "except FileNotFoundError:\n",
        "  print('Invalid file name. Please check again')\n",
        "except:\n",
        "  print('Something went wrong')\n"
      ],
      "metadata": {
        "colab": {
          "base_uri": "https://localhost:8080/",
          "height": 106
        },
        "id": "EWUo6_CUrdJ_",
        "outputId": "4d41702c-39db-4a32-e965-69d55cab0a61"
      },
      "execution_count": null,
      "outputs": [
        {
          "output_type": "error",
          "ename": "SyntaxError",
          "evalue": "expected ':' (<ipython-input-12-1a93c4e6ea59>, line 3)",
          "traceback": [
            "\u001b[0;36m  File \u001b[0;32m\"<ipython-input-12-1a93c4e6ea59>\"\u001b[0;36m, line \u001b[0;32m3\u001b[0m\n\u001b[0;31m    try\u001b[0m\n\u001b[0m       ^\u001b[0m\n\u001b[0;31mSyntaxError\u001b[0m\u001b[0;31m:\u001b[0m expected ':'\n"
          ]
        }
      ]
    },
    {
      "cell_type": "code",
      "source": [
        "a = int(input())\n",
        "b = int(input())\n",
        "try:\n",
        "   f = open('abc.txt', 'r')\n",
        "   c = a/b\n",
        "   print(c)\n",
        "except ZeroDivisionError:\n",
        "  print('Invalid input,divisor can not be zero')\n",
        "except FileNotFoundError:\n",
        "  print('Invalid file name. Please check again')\n",
        "except:\n",
        "  print('Something went wrong')\n",
        "finally:\n",
        "  f.close()\n",
        "  print('From finally block')"
      ],
      "metadata": {
        "colab": {
          "base_uri": "https://localhost:8080/",
          "height": 245
        },
        "id": "VlhbarlVuRam",
        "outputId": "f1b122ac-32f8-4b35-d73f-ad73c5ccedf8"
      },
      "execution_count": null,
      "outputs": [
        {
          "output_type": "stream",
          "name": "stdout",
          "text": [
            "40\n",
            "5\n",
            "Invalid file name. Please check again\n"
          ]
        },
        {
          "output_type": "error",
          "ename": "NameError",
          "evalue": "name 'f' is not defined",
          "traceback": [
            "\u001b[0;31m---------------------------------------------------------------------------\u001b[0m",
            "\u001b[0;31mNameError\u001b[0m                                 Traceback (most recent call last)",
            "\u001b[0;32m<ipython-input-13-305da75531a0>\u001b[0m in \u001b[0;36m<cell line: 3>\u001b[0;34m()\u001b[0m\n\u001b[1;32m     12\u001b[0m   \u001b[0mprint\u001b[0m\u001b[0;34m(\u001b[0m\u001b[0;34m'Something went wrong'\u001b[0m\u001b[0;34m)\u001b[0m\u001b[0;34m\u001b[0m\u001b[0;34m\u001b[0m\u001b[0m\n\u001b[1;32m     13\u001b[0m \u001b[0;32mfinally\u001b[0m\u001b[0;34m:\u001b[0m\u001b[0;34m\u001b[0m\u001b[0;34m\u001b[0m\u001b[0m\n\u001b[0;32m---> 14\u001b[0;31m   \u001b[0mf\u001b[0m\u001b[0;34m.\u001b[0m\u001b[0mclose\u001b[0m\u001b[0;34m(\u001b[0m\u001b[0;34m)\u001b[0m\u001b[0;34m\u001b[0m\u001b[0;34m\u001b[0m\u001b[0m\n\u001b[0m\u001b[1;32m     15\u001b[0m   \u001b[0mprint\u001b[0m\u001b[0;34m(\u001b[0m\u001b[0;34m'From finally block'\u001b[0m\u001b[0;34m)\u001b[0m\u001b[0;34m\u001b[0m\u001b[0;34m\u001b[0m\u001b[0m\n",
            "\u001b[0;31mNameError\u001b[0m: name 'f' is not defined"
          ]
        }
      ]
    },
    {
      "cell_type": "code",
      "source": [
        "a = int(input())\n",
        "if a < 18:\n",
        "   raise Exception( 'You are underage, can not vote')             # user defined exception"
      ],
      "metadata": {
        "colab": {
          "base_uri": "https://localhost:8080/",
          "height": 193
        },
        "id": "74Uy35mzw8f-",
        "outputId": "bccb7206-559a-4b35-9be7-389463e8e032"
      },
      "execution_count": null,
      "outputs": [
        {
          "name": "stdout",
          "output_type": "stream",
          "text": [
            "3\n"
          ]
        },
        {
          "output_type": "error",
          "ename": "Exception",
          "evalue": "You are underage, can not vote",
          "traceback": [
            "\u001b[0;31m---------------------------------------------------------------------------\u001b[0m",
            "\u001b[0;31mException\u001b[0m                                 Traceback (most recent call last)",
            "\u001b[0;32m<ipython-input-14-8f315d6fbe7c>\u001b[0m in \u001b[0;36m<cell line: 2>\u001b[0;34m()\u001b[0m\n\u001b[1;32m      1\u001b[0m \u001b[0ma\u001b[0m \u001b[0;34m=\u001b[0m \u001b[0mint\u001b[0m\u001b[0;34m(\u001b[0m\u001b[0minput\u001b[0m\u001b[0;34m(\u001b[0m\u001b[0;34m)\u001b[0m\u001b[0;34m)\u001b[0m\u001b[0;34m\u001b[0m\u001b[0;34m\u001b[0m\u001b[0m\n\u001b[1;32m      2\u001b[0m \u001b[0;32mif\u001b[0m \u001b[0ma\u001b[0m \u001b[0;34m<\u001b[0m \u001b[0;36m18\u001b[0m\u001b[0;34m:\u001b[0m\u001b[0;34m\u001b[0m\u001b[0;34m\u001b[0m\u001b[0m\n\u001b[0;32m----> 3\u001b[0;31m    \u001b[0;32mraise\u001b[0m \u001b[0mException\u001b[0m\u001b[0;34m(\u001b[0m \u001b[0;34m'You are underage, can not vote'\u001b[0m\u001b[0;34m)\u001b[0m             \u001b[0;31m# user defined exception\u001b[0m\u001b[0;34m\u001b[0m\u001b[0;34m\u001b[0m\u001b[0m\n\u001b[0m",
            "\u001b[0;31mException\u001b[0m: You are underage, can not vote"
          ]
        }
      ]
    },
    {
      "cell_type": "markdown",
      "source": [
        "# L11.3| Functional Programming (Part 1)"
      ],
      "metadata": {
        "id": "iwhZFjdlxM3f"
      }
    },
    {
      "cell_type": "code",
      "source": [
        "fruits = ['mango','apple','banana','orange','pineapple','watermelon','guava','kiwi']\n",
        "for fruit in fruits:\n",
        "  print(fruit)\n"
      ],
      "metadata": {
        "colab": {
          "base_uri": "https://localhost:8080/"
        },
        "id": "kkwThpsdx-G-",
        "outputId": "9715a1b8-f682-4966-c1ee-b9c7c2defcfd"
      },
      "execution_count": null,
      "outputs": [
        {
          "output_type": "stream",
          "name": "stdout",
          "text": [
            "mango\n",
            "apple\n",
            "banana\n",
            "orange\n",
            "pineapple\n",
            "watermelon\n",
            "guava\n",
            "kiwi\n"
          ]
        }
      ]
    },
    {
      "cell_type": "code",
      "source": [
        "fruits = ['mango','apple','banana','orange','pineapple','watermelon','guava','kiwi']\n",
        "for fruit in fruits:\n",
        "\n",
        " bascket = iter(fruits)            # bascket is iterator\n",
        "print((bascket))"
      ],
      "metadata": {
        "colab": {
          "base_uri": "https://localhost:8080/"
        },
        "id": "jA7P41F89Bm4",
        "outputId": "43a13ad2-a346-4fde-fd46-33f82fc6e6f3"
      },
      "execution_count": null,
      "outputs": [
        {
          "output_type": "stream",
          "name": "stdout",
          "text": [
            "<list_iterator object at 0x7ba86d068400>\n"
          ]
        }
      ]
    },
    {
      "cell_type": "code",
      "source": [
        "fruits = ['mango','apple','banana','orange','pineapple','watermelon','guava','kiwi']\n",
        "\n",
        "bascket = iter(fruits)            # bascket is iterator\n",
        "print(next(bascket))\n",
        "print(next(bascket))\n",
        "print(next(bascket))\n",
        "print(next(bascket))\n",
        "print(next(bascket))"
      ],
      "metadata": {
        "colab": {
          "base_uri": "https://localhost:8080/"
        },
        "id": "RN-MqEz07-Ow",
        "outputId": "df71c9c9-5e5b-4c3e-a643-05cd2c9f3f7c"
      },
      "execution_count": null,
      "outputs": [
        {
          "output_type": "stream",
          "name": "stdout",
          "text": [
            "mango\n",
            "apple\n",
            "banana\n",
            "orange\n",
            "pineapple\n"
          ]
        }
      ]
    },
    {
      "cell_type": "code",
      "source": [
        "fruits = ['mango','apple','banana','orange','pineapple','watermelon','guava','kiwi']\n",
        "\n",
        "bascket = iter(fruits)            # bascket is iterator\n",
        "print(next(bascket))\n",
        "print(next(bascket))\n",
        "print(next(bascket))\n",
        "print(next(bascket))\n",
        "print(next(bascket))"
      ],
      "metadata": {
        "colab": {
          "base_uri": "https://localhost:8080/"
        },
        "id": "WAvZQais-UuY",
        "outputId": "8291b90d-520f-4992-9131-7ea1274698d1"
      },
      "execution_count": null,
      "outputs": [
        {
          "output_type": "stream",
          "name": "stdout",
          "text": [
            "mango\n",
            "apple\n",
            "banana\n",
            "orange\n",
            "pineapple\n"
          ]
        }
      ]
    },
    {
      "cell_type": "code",
      "source": [
        "def square(Limit):                  # this function is called generator\n",
        "  x = 0\n",
        "  while x < Limit:\n",
        "    yield x**2\n",
        "    yield x*x*x\n",
        "    x += 1\n",
        "\n",
        "a = square(5)                         # a is an iterator\n",
        "print(next(a),next(a))\n",
        "print(next(a),next(a))\n",
        "print(next(a),next(a))\n",
        "print(next(a),next(a))"
      ],
      "metadata": {
        "colab": {
          "base_uri": "https://localhost:8080/"
        },
        "id": "kKhZTeCm-5kJ",
        "outputId": "14741fd2-35a2-4767-867d-748ecadaf659"
      },
      "execution_count": null,
      "outputs": [
        {
          "output_type": "stream",
          "name": "stdout",
          "text": [
            "0 0\n",
            "1 1\n",
            "4 8\n",
            "9 27\n"
          ]
        }
      ]
    },
    {
      "cell_type": "markdown",
      "source": [
        "# L11.4| Functional Programming (Part 2)"
      ],
      "metadata": {
        "id": "OTZIiVcNA__Z"
      }
    },
    {
      "cell_type": "code",
      "source": [
        "a = 10\n",
        "b = 20\n",
        "\n",
        "'''if a < b:\n",
        "  small = a\n",
        "else:\n",
        "  small = b '''\n",
        "\n",
        "small = a if a < b else b\n",
        "print(small)"
      ],
      "metadata": {
        "colab": {
          "base_uri": "https://localhost:8080/"
        },
        "id": "piVsSpZgBH74",
        "outputId": "ba24198c-bd99-4d2f-950f-1dd34cf1ff4a"
      },
      "execution_count": null,
      "outputs": [
        {
          "output_type": "stream",
          "name": "stdout",
          "text": [
            "10\n"
          ]
        }
      ]
    },
    {
      "cell_type": "code",
      "source": [
        "a = 5\n",
        "while a>0:\n",
        "  print(a)\n",
        "  a -= 1\n"
      ],
      "metadata": {
        "colab": {
          "base_uri": "https://localhost:8080/"
        },
        "id": "pWJTNz8Rhra-",
        "outputId": "37a1a035-c414-481a-877f-b41c815dee82"
      },
      "execution_count": null,
      "outputs": [
        {
          "output_type": "stream",
          "name": "stdout",
          "text": [
            "5\n",
            "4\n",
            "3\n",
            "2\n",
            "1\n"
          ]
        }
      ]
    },
    {
      "cell_type": "code",
      "source": [
        "a = 5\n",
        "while a>0: print(a);a -= 1\n"
      ],
      "metadata": {
        "colab": {
          "base_uri": "https://localhost:8080/"
        },
        "id": "_fj3aPOJiAnF",
        "outputId": "76f24c03-0fd6-4af3-8520-4127e06a9152"
      },
      "execution_count": null,
      "outputs": [
        {
          "output_type": "stream",
          "name": "stdout",
          "text": [
            "5\n",
            "4\n",
            "3\n",
            "2\n",
            "1\n"
          ]
        }
      ]
    },
    {
      "cell_type": "code",
      "source": [
        "fruits = ['mango','apple','banana','orange','pineapple','watermelon','guava','kiwi']\n",
        "for fruit in fruits:\n",
        "\n",
        "  newList = []\n",
        "  for fruit in fruits:\n",
        "    if 'n' in fruit:\n",
        "      newList.append(fruit)\n",
        "print(newList)"
      ],
      "metadata": {
        "colab": {
          "base_uri": "https://localhost:8080/"
        },
        "id": "qHcBl5iAisSt",
        "outputId": "ceaf24af-706d-4465-808c-a7dce5151ea3"
      },
      "execution_count": null,
      "outputs": [
        {
          "output_type": "stream",
          "name": "stdout",
          "text": [
            "['mango', 'banana', 'orange', 'pineapple', 'watermelon']\n"
          ]
        }
      ]
    },
    {
      "cell_type": "code",
      "source": [
        "fruits = ['mango','apple','banana','orange','pineapple','watermelon','guava','kiwi']\n",
        "for fruit in fruits:\n",
        "\n",
        "  newList = []\n",
        "  for fruit in fruits:\n",
        "    if 'n' in fruit:\n",
        "      newList.append(fruit.capitalize())\n",
        "print(newList)"
      ],
      "metadata": {
        "colab": {
          "base_uri": "https://localhost:8080/"
        },
        "id": "QLsEcZAkjfld",
        "outputId": "fe6715e1-2a74-47ef-aea6-2b4df18db293"
      },
      "execution_count": null,
      "outputs": [
        {
          "output_type": "stream",
          "name": "stdout",
          "text": [
            "['Mango', 'Banana', 'Orange', 'Pineapple', 'Watermelon']\n"
          ]
        }
      ]
    },
    {
      "cell_type": "code",
      "source": [
        "\n",
        "newList = [fruit.capitalize() for fruit in fruits  if 'n' in fruit]\n",
        "print(newList)"
      ],
      "metadata": {
        "colab": {
          "base_uri": "https://localhost:8080/"
        },
        "id": "0O9zm19Gj6i9",
        "outputId": "82fb9fbc-e274-4a03-a5f3-7c2f9fa4a873"
      },
      "execution_count": null,
      "outputs": [
        {
          "output_type": "stream",
          "name": "stdout",
          "text": [
            "['Mango', 'Banana', 'Orange', 'Pineapple', 'Watermelon']\n"
          ]
        }
      ]
    },
    {
      "cell_type": "markdown",
      "source": [
        "# L11.5| Functional Programming (Part 3)"
      ],
      "metadata": {
        "id": "Eq4t2_htlnrt"
      }
    },
    {
      "cell_type": "code",
      "source": [
        "def add(x,y):\n",
        "  return x+y\n",
        "\n",
        "def sub(x,y):\n",
        "  return x-y\n",
        "\n",
        "def mul(x,y):\n",
        "  return x*y\n",
        "\n",
        "def div(x,y):\n",
        "  return x/y\n",
        "\n",
        "print(add(10,20))\n",
        "print(sub(10,20))\n",
        "print(mul(10,20))\n",
        "print(div(10,20))"
      ],
      "metadata": {
        "id": "tGSISUbflsGW",
        "colab": {
          "base_uri": "https://localhost:8080/"
        },
        "outputId": "b839c9aa-9145-4405-e944-e6fa94dcdb21"
      },
      "execution_count": null,
      "outputs": [
        {
          "output_type": "stream",
          "name": "stdout",
          "text": [
            "30\n",
            "-10\n",
            "200\n",
            "0.5\n"
          ]
        }
      ]
    },
    {
      "cell_type": "markdown",
      "source": [
        "# Lambda function"
      ],
      "metadata": {
        "id": "wf1XIgvHTVMk"
      }
    },
    {
      "cell_type": "code",
      "source": [
        "add = lambda x,y: x+y\n",
        "sub = lambda x,y: x-y\n",
        "mul = lambda x,y: x*y\n",
        "div = lambda x,y: x/y\n",
        "\n",
        "\n",
        "print(add(10,20))\n",
        "print(sub(10,20))\n",
        "print(mul(10,20))\n",
        "print(div(10,20))"
      ],
      "metadata": {
        "colab": {
          "base_uri": "https://localhost:8080/"
        },
        "id": "qSUUZAFhSPt9",
        "outputId": "262dbd55-48f9-4d8b-9c8d-4d6d8cc86e59"
      },
      "execution_count": null,
      "outputs": [
        {
          "output_type": "stream",
          "name": "stdout",
          "text": [
            "30\n",
            "-10\n",
            "200\n",
            "0.5\n"
          ]
        }
      ]
    },
    {
      "cell_type": "code",
      "source": [
        "print(type(add))"
      ],
      "metadata": {
        "colab": {
          "base_uri": "https://localhost:8080/"
        },
        "id": "UCJf9kGiTOD1",
        "outputId": "518f2d77-574d-468d-8a76-529ea5600abf"
      },
      "execution_count": null,
      "outputs": [
        {
          "output_type": "stream",
          "name": "stdout",
          "text": [
            "<class 'function'>\n"
          ]
        }
      ]
    },
    {
      "cell_type": "markdown",
      "source": [
        "# Enumerate function"
      ],
      "metadata": {
        "id": "87gzGIe2TiIs"
      }
    },
    {
      "cell_type": "code",
      "source": [
        "fruits = ['mango','apple','banana','orange','pineapple','watermelon','guava','kiwi']\n",
        "\n",
        "for fruit in fruits:\n",
        "  print(fruit)\n",
        "\n",
        "\n",
        "for i in range(len(fruits)):\n",
        "  print(i, fruits[i])\n"
      ],
      "metadata": {
        "colab": {
          "base_uri": "https://localhost:8080/"
        },
        "id": "cdJpBU6qTreV",
        "outputId": "7af43c69-7321-400b-bc09-9dfba8a5152f"
      },
      "execution_count": null,
      "outputs": [
        {
          "output_type": "stream",
          "name": "stdout",
          "text": [
            "mango\n",
            "apple\n",
            "banana\n",
            "orange\n",
            "pineapple\n",
            "watermelon\n",
            "guava\n",
            "kiwi\n",
            "0 mango\n",
            "1 apple\n",
            "2 banana\n",
            "3 orange\n",
            "4 pineapple\n",
            "5 watermelon\n",
            "6 guava\n",
            "7 kiwi\n"
          ]
        }
      ]
    },
    {
      "cell_type": "code",
      "source": [
        "fruits = ['mango','apple','banana','orange','pineapple','watermelon','guava','kiwi']\n",
        "\n",
        "for fruit in enumerate(fruits):\n",
        "  print(fruit)"
      ],
      "metadata": {
        "colab": {
          "base_uri": "https://localhost:8080/"
        },
        "id": "58vC2s-oVFN9",
        "outputId": "5324d3d3-c499-427f-d409-e1109dddb779"
      },
      "execution_count": null,
      "outputs": [
        {
          "output_type": "stream",
          "name": "stdout",
          "text": [
            "(0, 'mango')\n",
            "(1, 'apple')\n",
            "(2, 'banana')\n",
            "(3, 'orange')\n",
            "(4, 'pineapple')\n",
            "(5, 'watermelon')\n",
            "(6, 'guava')\n",
            "(7, 'kiwi')\n"
          ]
        }
      ]
    },
    {
      "cell_type": "code",
      "source": [
        "fruits = ['mango','apple','banana','orange','pineapple','watermelon','guava','kiwi']\n",
        "\n",
        "size = [5,5,6,6,9,10,5,4]\n",
        "\n",
        "print(zip(fruit,size))"
      ],
      "metadata": {
        "colab": {
          "base_uri": "https://localhost:8080/"
        },
        "id": "yHoa0aIhVmE9",
        "outputId": "f2a8d21a-623a-40fb-fc9b-82b79c5f7ca8"
      },
      "execution_count": null,
      "outputs": [
        {
          "output_type": "stream",
          "name": "stdout",
          "text": [
            "<zip object at 0x7e686a21ef40>\n"
          ]
        }
      ]
    },
    {
      "cell_type": "code",
      "source": [
        "fruits = ['mango','apple','banana','orange','pineapple','watermelon','guava','kiwi']\n",
        "\n",
        "size = [5,5,6,6,9,10,5,4]\n",
        "\n",
        "print(list(zip(fruits,size)))"
      ],
      "metadata": {
        "colab": {
          "base_uri": "https://localhost:8080/"
        },
        "id": "Vn7q_iKyWf-F",
        "outputId": "53341b71-e50f-41cd-f3fd-a36766a281fa"
      },
      "execution_count": null,
      "outputs": [
        {
          "output_type": "stream",
          "name": "stdout",
          "text": [
            "[('mango', 5), ('apple', 5), ('banana', 6), ('orange', 6), ('pineapple', 9), ('watermelon', 10), ('guava', 5), ('kiwi', 4)]\n"
          ]
        }
      ]
    },
    {
      "cell_type": "code",
      "source": [
        "fruits = ['mango','apple','banana','orange','pineapple','watermelon','guava','kiwi']\n",
        "\n",
        "size = [5,5,6,6,9,10,5,4]\n",
        "\n",
        "print(dict(zip(fruits,size)))"
      ],
      "metadata": {
        "colab": {
          "base_uri": "https://localhost:8080/"
        },
        "id": "TqrUVVTzW-ZU",
        "outputId": "40193471-dc8a-4f45-b1e9-edc3a2064bec"
      },
      "execution_count": null,
      "outputs": [
        {
          "output_type": "stream",
          "name": "stdout",
          "text": [
            "{'mango': 5, 'apple': 5, 'banana': 6, 'orange': 6, 'pineapple': 9, 'watermelon': 10, 'guava': 5, 'kiwi': 4}\n"
          ]
        }
      ]
    },
    {
      "cell_type": "markdown",
      "source": [
        "# Map function"
      ],
      "metadata": {
        "id": "mLRd7EwvXmat"
      }
    },
    {
      "cell_type": "code",
      "source": [
        "a = [10,20,30,40,50,60]\n",
        "b = [5,10,15,20,25,30]\n",
        "c = a-b\n",
        "print(c)"
      ],
      "metadata": {
        "colab": {
          "base_uri": "https://localhost:8080/",
          "height": 193
        },
        "id": "OZssRgD9XWi9",
        "outputId": "09c9dca7-6145-4bc6-8ecc-b4e5d9f1c339"
      },
      "execution_count": null,
      "outputs": [
        {
          "output_type": "error",
          "ename": "TypeError",
          "evalue": "unsupported operand type(s) for -: 'list' and 'list'",
          "traceback": [
            "\u001b[0;31m---------------------------------------------------------------------------\u001b[0m",
            "\u001b[0;31mTypeError\u001b[0m                                 Traceback (most recent call last)",
            "\u001b[0;32m<ipython-input-17-dc92d7f13cfb>\u001b[0m in \u001b[0;36m<cell line: 3>\u001b[0;34m()\u001b[0m\n\u001b[1;32m      1\u001b[0m \u001b[0ma\u001b[0m \u001b[0;34m=\u001b[0m \u001b[0;34m[\u001b[0m\u001b[0;36m10\u001b[0m\u001b[0;34m,\u001b[0m\u001b[0;36m20\u001b[0m\u001b[0;34m,\u001b[0m\u001b[0;36m30\u001b[0m\u001b[0;34m,\u001b[0m\u001b[0;36m40\u001b[0m\u001b[0;34m,\u001b[0m\u001b[0;36m50\u001b[0m\u001b[0;34m,\u001b[0m\u001b[0;36m60\u001b[0m\u001b[0;34m]\u001b[0m\u001b[0;34m\u001b[0m\u001b[0;34m\u001b[0m\u001b[0m\n\u001b[1;32m      2\u001b[0m \u001b[0mb\u001b[0m \u001b[0;34m=\u001b[0m \u001b[0;34m[\u001b[0m\u001b[0;36m5\u001b[0m\u001b[0;34m,\u001b[0m\u001b[0;36m10\u001b[0m\u001b[0;34m,\u001b[0m\u001b[0;36m15\u001b[0m\u001b[0;34m,\u001b[0m\u001b[0;36m20\u001b[0m\u001b[0;34m,\u001b[0m\u001b[0;36m25\u001b[0m\u001b[0;34m,\u001b[0m\u001b[0;36m30\u001b[0m\u001b[0;34m]\u001b[0m\u001b[0;34m\u001b[0m\u001b[0;34m\u001b[0m\u001b[0m\n\u001b[0;32m----> 3\u001b[0;31m \u001b[0mc\u001b[0m \u001b[0;34m=\u001b[0m \u001b[0ma\u001b[0m\u001b[0;34m-\u001b[0m\u001b[0mb\u001b[0m\u001b[0;34m\u001b[0m\u001b[0;34m\u001b[0m\u001b[0m\n\u001b[0m\u001b[1;32m      4\u001b[0m \u001b[0mprint\u001b[0m\u001b[0;34m(\u001b[0m\u001b[0mc\u001b[0m\u001b[0;34m)\u001b[0m\u001b[0;34m\u001b[0m\u001b[0;34m\u001b[0m\u001b[0m\n",
            "\u001b[0;31mTypeError\u001b[0m: unsupported operand type(s) for -: 'list' and 'list'"
          ]
        }
      ]
    },
    {
      "cell_type": "code",
      "source": [
        "a = [10,20,30,40,50,60]\n",
        "b = [5,10,15,20,25,30]\n",
        "c = a[0]-b[0]\n",
        "print(c)"
      ],
      "metadata": {
        "colab": {
          "base_uri": "https://localhost:8080/"
        },
        "id": "uXeLCvbHX-JV",
        "outputId": "65138336-a3f2-4d90-cd7d-e4d20362cb43"
      },
      "execution_count": null,
      "outputs": [
        {
          "output_type": "stream",
          "name": "stdout",
          "text": [
            "5\n"
          ]
        }
      ]
    },
    {
      "cell_type": "code",
      "source": [
        "a = [10,20,30,40,50,60]\n",
        "b = [5,10,15,20,25,30]\n",
        "\n",
        "def sub(x,y):\n",
        "  return x-y\n",
        "\n",
        "c = map(sub,a,b)\n",
        "print(c)"
      ],
      "metadata": {
        "colab": {
          "base_uri": "https://localhost:8080/"
        },
        "id": "tyntsBWXYP4m",
        "outputId": "89c75315-2d52-4fc7-dfe7-57dac27edfef"
      },
      "execution_count": null,
      "outputs": [
        {
          "output_type": "stream",
          "name": "stdout",
          "text": [
            "<map object at 0x7e68375e8c70>\n"
          ]
        }
      ]
    },
    {
      "cell_type": "code",
      "source": [
        "a = [10,20,30,40,50,60]\n",
        "b = [5,10,15,20,25,30]\n",
        "\n",
        "def sub(x,y):\n",
        "  return x-y\n",
        "\n",
        "c = map(sub,a,b)\n",
        "print(list(c))"
      ],
      "metadata": {
        "colab": {
          "base_uri": "https://localhost:8080/"
        },
        "id": "qZgSVldtY4Dt",
        "outputId": "065a1395-0af5-4e6b-f742-e25a6a4429be"
      },
      "execution_count": null,
      "outputs": [
        {
          "output_type": "stream",
          "name": "stdout",
          "text": [
            "[5, 10, 15, 20, 25, 30]\n"
          ]
        }
      ]
    },
    {
      "cell_type": "code",
      "source": [
        "a = [10,20,30,40,50,60]\n",
        "b = [5,10,15,20,25,30]\n",
        "#c = a + 1\n",
        "\n",
        "def sub(x,y):\n",
        "  return x-y\n",
        "def incr(x):\n",
        "  return x+1\n",
        "\n",
        "c = map(sub,a,b)\n",
        "c = map(incr, a)\n",
        "print(list(c))"
      ],
      "metadata": {
        "colab": {
          "base_uri": "https://localhost:8080/"
        },
        "id": "8omWsUHxZdJV",
        "outputId": "378a6385-5342-4a2c-f22f-4437b401d32a"
      },
      "execution_count": null,
      "outputs": [
        {
          "output_type": "stream",
          "name": "stdout",
          "text": [
            "[11, 21, 31, 41, 51, 61]\n"
          ]
        }
      ]
    },
    {
      "cell_type": "code",
      "source": [
        "import math\n",
        "\n",
        "a = [25,-16,9,81,-100]\n",
        "\n",
        "def square_root(n):\n",
        "  return math.sqrt(n)\n",
        "\n",
        "c = map(square_root,a)\n",
        "print(list(c))"
      ],
      "metadata": {
        "colab": {
          "base_uri": "https://localhost:8080/",
          "height": 297
        },
        "id": "eOetUM_2a70-",
        "outputId": "1d52a158-bb74-44ae-8a7e-96bde6aeee3d"
      },
      "execution_count": null,
      "outputs": [
        {
          "output_type": "error",
          "ename": "ValueError",
          "evalue": "math domain error",
          "traceback": [
            "\u001b[0;31m---------------------------------------------------------------------------\u001b[0m",
            "\u001b[0;31mValueError\u001b[0m                                Traceback (most recent call last)",
            "\u001b[0;32m<ipython-input-26-a40b9dd49118>\u001b[0m in \u001b[0;36m<cell line: 9>\u001b[0;34m()\u001b[0m\n\u001b[1;32m      7\u001b[0m \u001b[0;34m\u001b[0m\u001b[0m\n\u001b[1;32m      8\u001b[0m \u001b[0mc\u001b[0m \u001b[0;34m=\u001b[0m \u001b[0mmap\u001b[0m\u001b[0;34m(\u001b[0m\u001b[0msquare_root\u001b[0m\u001b[0;34m,\u001b[0m\u001b[0ma\u001b[0m\u001b[0;34m)\u001b[0m\u001b[0;34m\u001b[0m\u001b[0;34m\u001b[0m\u001b[0m\n\u001b[0;32m----> 9\u001b[0;31m \u001b[0mprint\u001b[0m\u001b[0;34m(\u001b[0m\u001b[0mlist\u001b[0m\u001b[0;34m(\u001b[0m\u001b[0mc\u001b[0m\u001b[0;34m)\u001b[0m\u001b[0;34m)\u001b[0m\u001b[0;34m\u001b[0m\u001b[0;34m\u001b[0m\u001b[0m\n\u001b[0m",
            "\u001b[0;32m<ipython-input-26-a40b9dd49118>\u001b[0m in \u001b[0;36msquare_root\u001b[0;34m(n)\u001b[0m\n\u001b[1;32m      4\u001b[0m \u001b[0;34m\u001b[0m\u001b[0m\n\u001b[1;32m      5\u001b[0m \u001b[0;32mdef\u001b[0m \u001b[0msquare_root\u001b[0m\u001b[0;34m(\u001b[0m\u001b[0mn\u001b[0m\u001b[0;34m)\u001b[0m\u001b[0;34m:\u001b[0m\u001b[0;34m\u001b[0m\u001b[0;34m\u001b[0m\u001b[0m\n\u001b[0;32m----> 6\u001b[0;31m   \u001b[0;32mreturn\u001b[0m \u001b[0mmath\u001b[0m\u001b[0;34m.\u001b[0m\u001b[0msqrt\u001b[0m\u001b[0;34m(\u001b[0m\u001b[0mn\u001b[0m\u001b[0;34m)\u001b[0m\u001b[0;34m\u001b[0m\u001b[0;34m\u001b[0m\u001b[0m\n\u001b[0m\u001b[1;32m      7\u001b[0m \u001b[0;34m\u001b[0m\u001b[0m\n\u001b[1;32m      8\u001b[0m \u001b[0mc\u001b[0m \u001b[0;34m=\u001b[0m \u001b[0mmap\u001b[0m\u001b[0;34m(\u001b[0m\u001b[0msquare_root\u001b[0m\u001b[0;34m,\u001b[0m\u001b[0ma\u001b[0m\u001b[0;34m)\u001b[0m\u001b[0;34m\u001b[0m\u001b[0;34m\u001b[0m\u001b[0m\n",
            "\u001b[0;31mValueError\u001b[0m: math domain error"
          ]
        }
      ]
    },
    {
      "cell_type": "markdown",
      "source": [
        "# filter function"
      ],
      "metadata": {
        "id": "O5AjXiqPcVVu"
      }
    },
    {
      "cell_type": "code",
      "source": [
        "import math\n",
        "\n",
        "a = [25,-16,9,81,-100]\n",
        "\n",
        "def square_root(n):\n",
        "  return math.sqrt(n)\n",
        "\n",
        "def is_positive(n):\n",
        "   if  n>= 0:\n",
        "     return n\n",
        "\n",
        "c = map(square_root,filter(is_positive,a))\n",
        "print(list(c))"
      ],
      "metadata": {
        "colab": {
          "base_uri": "https://localhost:8080/"
        },
        "id": "yMiW12d8cHkW",
        "outputId": "2bf59711-3e8d-4f91-b62a-dffc85e661ae"
      },
      "execution_count": null,
      "outputs": [
        {
          "output_type": "stream",
          "name": "stdout",
          "text": [
            "[5.0, 3.0, 9.0]\n"
          ]
        }
      ]
    }
  ]
}