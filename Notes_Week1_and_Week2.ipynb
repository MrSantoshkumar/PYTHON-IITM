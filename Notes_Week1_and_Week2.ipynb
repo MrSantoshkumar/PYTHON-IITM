{
  "nbformat": 4,
  "nbformat_minor": 0,
  "metadata": {
    "colab": {
      "provenance": [],
      "include_colab_link": true
    },
    "kernelspec": {
      "name": "python3",
      "display_name": "Python 3"
    },
    "language_info": {
      "name": "python"
    }
  },
  "cells": [
    {
      "cell_type": "markdown",
      "metadata": {
        "id": "view-in-github",
        "colab_type": "text"
      },
      "source": [
        "<a href=\"https://colab.research.google.com/github/MrSantoshkumar/PYTHON-IITM/blob/main/Notes_Week1_and_Week2.ipynb\" target=\"_parent\"><img src=\"https://colab.research.google.com/assets/colab-badge.svg\" alt=\"Open In Colab\"/></a>"
      ]
    },
    {
      "cell_type": "markdown",
      "source": [
        "#Week-1"
      ],
      "metadata": {
        "id": "d5MgsF5766Z9"
      }
    },
    {
      "cell_type": "markdown",
      "metadata": {
        "id": "p0_6AX29Dajh"
      },
      "source": [
        "##Incrementation\n"
      ]
    },
    {
      "cell_type": "code",
      "execution_count": null,
      "metadata": {
        "colab": {
          "base_uri": "https://localhost:8080/"
        },
        "id": "PA33aPvLDR7X",
        "outputId": "7cb9b605-e174-4041-eedd-5fff86710b1d"
      },
      "outputs": [
        {
          "name": "stdout",
          "output_type": "stream",
          "text": [
            "Enter a number:10\n",
            "11\n"
          ]
        }
      ],
      "source": [
        "x=int(input(\"Enter a number:\"))\n",
        "x=x+1\n",
        "print(x)"
      ]
    },
    {
      "cell_type": "markdown",
      "metadata": {
        "id": "Fe-H0WhOENn8"
      },
      "source": [
        "##Accepting an input"
      ]
    },
    {
      "cell_type": "code",
      "execution_count": null,
      "metadata": {
        "colab": {
          "base_uri": "https://localhost:8080/"
        },
        "id": "CEqe8rUpEjqy",
        "outputId": "06a39654-478e-4d5b-f892-40be7a6e4d85"
      },
      "outputs": [
        {
          "name": "stdout",
          "output_type": "stream",
          "text": [
            "Enter your name:Dipanshu\n",
            "Enter your location:Bhopal \n",
            "Hello Dipanshu how's the weather in Bhopal \n",
            "Nice \n",
            "Great! btw how old are you?\n",
            "19\n",
            "Nice to know you are 19 years old.\n"
          ]
        }
      ],
      "source": [
        "name=str(input(\"Enter your name:\"))\n",
        "place=str(input(\"Enter your location:\"))\n",
        "print(\"Hello\", name, \"how's the weather in\",place)\n",
        "a=str(input())\n",
        "print(\"Great! btw how old are you?\")\n",
        "age=int(input())\n",
        "print(\"Nice to know you are\", age, \"years old.\")\n"
      ]
    },
    {
      "cell_type": "markdown",
      "metadata": {
        "id": "cmalWTIZF1xd"
      },
      "source": [
        "## Eg. area of circle"
      ]
    },
    {
      "cell_type": "code",
      "execution_count": null,
      "metadata": {
        "colab": {
          "base_uri": "https://localhost:8080/"
        },
        "id": "E5odZX1SGOkv",
        "outputId": "cc089665-ccf4-4b74-80ad-9a67b223935e"
      },
      "outputs": [
        {
          "name": "stdout",
          "output_type": "stream",
          "text": [
            "Enter the radius of circle7\n",
            "The area of circle with radius 7 is 153.86 sq. units.\n"
          ]
        }
      ],
      "source": [
        "r=int(input(\"Enter the radius of circle\"))\n",
        "area=3.14*r*r\n",
        "print(\"The area of circle with radius\", r, \"is\", area, \"sq. units.\")"
      ]
    },
    {
      "cell_type": "markdown",
      "metadata": {
        "id": "Id64Lr7ZHZS4"
      },
      "source": [
        "## Data types/classes"
      ]
    },
    {
      "cell_type": "code",
      "execution_count": null,
      "metadata": {
        "colab": {
          "base_uri": "https://localhost:8080/"
        },
        "id": "eYP-OXDUMQRy",
        "outputId": "8679477a-fa7e-4b47-ec63-d84c89b4b693"
      },
      "outputs": [
        {
          "name": "stdout",
          "output_type": "stream",
          "text": [
            "10\n",
            "2.7\n",
            "rahul\n",
            "[10, 20, 30]\n",
            "True\n",
            "The i is of type: <class 'int'>\n",
            "The f is of type: <class 'float'>\n",
            "The s is of type: <class 'str'>\n",
            "The l is of type: <class 'list'>\n",
            "The b is of type: <class 'bool'>\n"
          ]
        }
      ],
      "source": [
        "i=10\n",
        "f=2.7\n",
        "s='rahul'\n",
        "l=[10,20,30]\n",
        "b=True\n",
        "\n",
        "print(i)\n",
        "print(f)\n",
        "print(s)\n",
        "print(l)\n",
        "print(b)\n",
        "\n",
        "print(\"The i is of type:\", type(i))\n",
        "\n",
        "#anything more than an integer computer stores it as floating point integer.\n",
        "#for any arithmetic operation, even if one of the operands is float, the resulting value is a float.\n",
        "print(\"The f is of type:\", type(f))\n",
        "\n",
        "print(\"The s is of type:\", type(s))\n",
        "\n",
        "print(\"The l is of type:\", type(l))\n",
        "\n",
        "#boolean takes only two values True and False (first letter compulsarily has to be capital.)\n",
        "print(\"The b is of type:\", type(b))\n"
      ]
    },
    {
      "cell_type": "markdown",
      "metadata": {
        "id": "1ALQUq0FOfuq"
      },
      "source": [
        "## More about list data type"
      ]
    },
    {
      "cell_type": "code",
      "execution_count": null,
      "metadata": {
        "colab": {
          "base_uri": "https://localhost:8080/"
        },
        "id": "iOFvMKVxOl2m",
        "outputId": "4c1b46bb-f869-49c5-d7d4-9e39680fea20"
      },
      "outputs": [
        {
          "name": "stdout",
          "output_type": "stream",
          "text": [
            "[10, 20, 30]\n",
            "10\n",
            "20\n",
            "30\n",
            "60\n"
          ]
        }
      ],
      "source": [
        "l=[10,20,30]\n",
        "print(l)\n",
        "\n",
        "#the elements of list are assigned from '0'.\n",
        "print(l[0])\n",
        "print(l[1])\n",
        "print(l[2])\n",
        "\n",
        "sum= l[0]+l[1]+l[2]\n",
        "print(sum)"
      ]
    },
    {
      "cell_type": "markdown",
      "metadata": {
        "id": "qzh_IOfmQwwN"
      },
      "source": [
        "## Type conversion/ Type casting"
      ]
    },
    {
      "cell_type": "code",
      "execution_count": null,
      "metadata": {
        "colab": {
          "base_uri": "https://localhost:8080/"
        },
        "id": "kyhYBxZNRf8U",
        "outputId": "db211078-2dcd-4e5f-ab22-ea6b2f1c4dfe"
      },
      "outputs": [
        {
          "name": "stdout",
          "output_type": "stream",
          "text": [
            "5 <class 'int'>\n",
            "10 <class 'int'>\n"
          ]
        }
      ],
      "source": [
        "#coverting str and float data type into int data type\n",
        "a=int(5.7)\n",
        "b=int('10')\n",
        "\n",
        "print(a, type(a))\n",
        "print(b, type(b))\n"
      ]
    },
    {
      "cell_type": "code",
      "execution_count": null,
      "metadata": {
        "colab": {
          "base_uri": "https://localhost:8080/"
        },
        "id": "d6oEO7IUSYq-",
        "outputId": "bf2b4733-0890-45b5-fa9d-931f01b0bf2f"
      },
      "outputs": [
        {
          "name": "stdout",
          "output_type": "stream",
          "text": [
            "5.0 <class 'float'>\n",
            "10.4 <class 'float'>\n"
          ]
        }
      ],
      "source": [
        "#converting str and int data type into float data type\n",
        "a=float(5)\n",
        "b=float('10.4')\n",
        "\n",
        "print(a, type(a))\n",
        "print(b, type(b))\n"
      ]
    },
    {
      "cell_type": "code",
      "execution_count": null,
      "metadata": {
        "colab": {
          "base_uri": "https://localhost:8080/"
        },
        "id": "LnOG07U903gw",
        "outputId": "51588516-7f7a-4f51-f86e-41f8ee35dfa1"
      },
      "outputs": [
        {
          "name": "stdout",
          "output_type": "stream",
          "text": [
            "10 <class 'str'>\n",
            "4.5 <class 'str'>\n"
          ]
        }
      ],
      "source": [
        "#converting int and float data type into str data type\n",
        "a=str(10)\n",
        "b=str(4.5)\n",
        "\n",
        "print(a, type(a))\n",
        "print(b, type(b))\n"
      ]
    },
    {
      "cell_type": "code",
      "execution_count": null,
      "metadata": {
        "colab": {
          "base_uri": "https://localhost:8080/"
        },
        "id": "b_42NC8s2e4i",
        "outputId": "5f36eb4f-5326-4753-ac60-b718176fb49a"
      },
      "outputs": [
        {
          "name": "stdout",
          "output_type": "stream",
          "text": [
            "True <class 'bool'>\n",
            "False <class 'bool'>\n",
            "True <class 'bool'>\n"
          ]
        }
      ],
      "source": [
        "#converting int data type into boolean data type\n",
        "a=bool(10)\n",
        "b=bool(0)\n",
        "c=bool(-10)\n",
        "\n",
        "#any integer other than 0 gives the value true and 0 gives false.\n",
        "\n",
        "print(a, type(a))\n",
        "print(b, type(b))\n",
        "print(c, type(c))\n"
      ]
    },
    {
      "cell_type": "code",
      "execution_count": null,
      "metadata": {
        "colab": {
          "base_uri": "https://localhost:8080/"
        },
        "id": "FSXrpasz3Kz6",
        "outputId": "d3833110-eee4-41bb-f84d-e42e3379b85c"
      },
      "outputs": [
        {
          "name": "stdout",
          "output_type": "stream",
          "text": [
            "True <class 'bool'>\n",
            "False <class 'bool'>\n",
            "True <class 'bool'>\n"
          ]
        }
      ],
      "source": [
        "#converting float data type into boolean data type\n",
        "a=bool(1.5)\n",
        "b=bool(0.0)\n",
        "c=bool(-1.5)\n",
        "\n",
        "#any float other than 0.00 or its equivalent gives true and 0.0 and its equivalent gives false.\n",
        "\n",
        "print(a, type(a))\n",
        "print(b, type(b))\n",
        "print(c, type(c))"
      ]
    },
    {
      "cell_type": "code",
      "execution_count": null,
      "metadata": {
        "colab": {
          "base_uri": "https://localhost:8080/"
        },
        "id": "KzTTeqsg4a9O",
        "outputId": "5a1dc1bc-997b-4991-dc8a-76d630caf619"
      },
      "outputs": [
        {
          "name": "stdout",
          "output_type": "stream",
          "text": [
            "True <class 'bool'>\n",
            "True <class 'bool'>\n",
            "True <class 'bool'>\n",
            "True <class 'bool'>\n",
            "True <class 'bool'>\n",
            "False <class 'bool'>\n"
          ]
        }
      ],
      "source": [
        "#converting str data type into boolean data type\n",
        "a=bool(\"Indai\")\n",
        "b=bool(\"10\")\n",
        "c=bool(\"0\")\n",
        "d=bool(\"4.5\")\n",
        "e=bool(\"-2\")\n",
        "\n",
        "f=bool(\"\")\n",
        "\n",
        "#any string will always give true except for one case i.e. empty string which will give false.\n",
        "\n",
        "print(a, type(a))\n",
        "print(b, type(b))\n",
        "print(c, type(c))\n",
        "print(d, type(d))\n",
        "print(e, type(e))\n",
        "print(f, type(f))\n"
      ]
    },
    {
      "cell_type": "markdown",
      "metadata": {
        "id": "lt3L9Tj-6Jzx"
      },
      "source": [
        "## Concatenation"
      ]
    },
    {
      "cell_type": "code",
      "execution_count": null,
      "metadata": {
        "colab": {
          "base_uri": "https://localhost:8080/"
        },
        "id": "wpoeg9CS6lDV",
        "outputId": "85188de2-e9ec-4c0a-d9c4-50d68d0dc276"
      },
      "outputs": [
        {
          "output_type": "stream",
          "name": "stdout",
          "text": [
            "dipanshusingh <class 'str'>\n"
          ]
        }
      ],
      "source": [
        "#concatenation of two strings\n",
        "a='dipanshu'\n",
        "b='singh'\n",
        "\n",
        "#concatenate = to put together.\n",
        "\n",
        "n=a+b\n",
        "print(n, type(n))\n"
      ]
    },
    {
      "cell_type": "code",
      "execution_count": null,
      "metadata": {
        "colab": {
          "base_uri": "https://localhost:8080/"
        },
        "id": "47Arkp-A7k1N",
        "outputId": "6c9816df-458b-48f3-d3c3-b73f9e518b50"
      },
      "outputs": [
        {
          "name": "stdout",
          "output_type": "stream",
          "text": [
            "[1, 2, 3, 3, 4, 5] <class 'list'>\n"
          ]
        }
      ],
      "source": [
        "#concatenation of two lists\n",
        "a=[1,2,3]\n",
        "b=[3,4,5]\n",
        "\n",
        "n=a+b\n",
        "print(n, type(n))"
      ]
    },
    {
      "cell_type": "code",
      "execution_count": null,
      "metadata": {
        "colab": {
          "base_uri": "https://localhost:8080/"
        },
        "id": "KWa_kNCUNXAP",
        "outputId": "d6e9d69e-36ed-4d50-ecbf-81c73f68d5dc"
      },
      "outputs": [
        {
          "name": "stdout",
          "output_type": "stream",
          "text": [
            "4\n",
            "7\n",
            "47\n"
          ]
        }
      ],
      "source": [
        "#important example\n",
        "s=\"0123456789\"\n",
        "a=s[4] #a = '4'\n",
        "b=s[7] #b = '7'\n",
        "print(a)\n",
        "print(b)\n",
        "\n",
        "print(a+b)\n",
        "#the answer will not be 11 because here 4 and 7 are not integers but are strings and if we'll add two strings it will concatenate.\n"
      ]
    },
    {
      "cell_type": "code",
      "execution_count": null,
      "metadata": {
        "colab": {
          "base_uri": "https://localhost:8080/"
        },
        "id": "9j3eCK1rOMNU",
        "outputId": "f970b662-11d3-436a-ff15-58dae8d34f84"
      },
      "outputs": [
        {
          "name": "stdout",
          "output_type": "stream",
          "text": [
            "11\n",
            "47\n"
          ]
        }
      ],
      "source": [
        "#to add them we can convert them into integers\n",
        "s=\"0123456789\"\n",
        "a=int(s[4])\n",
        "b=int(s[7])\n",
        "n=a+b\n",
        "print(n)\n",
        "\n",
        "#but cheak the difference if I put int() at any other place\n",
        "a=s[4]\n",
        "b=s[7]\n",
        "n=int(a+b)\n",
        "print(n)"
      ]
    },
    {
      "cell_type": "markdown",
      "metadata": {
        "id": "JbRv7UPE7Jk8"
      },
      "source": [
        "## Operator precedence"
      ]
    },
    {
      "cell_type": "code",
      "execution_count": null,
      "metadata": {
        "colab": {
          "base_uri": "https://localhost:8080/"
        },
        "id": "NPAXvZHP8iwF",
        "outputId": "2df6e2b8-9ba9-460e-f14f-e8915f54ee05"
      },
      "outputs": [
        {
          "name": "stdout",
          "output_type": "stream",
          "text": [
            "36\n"
          ]
        }
      ],
      "source": [
        "#operator precedence = some operators have precedence (priority) over other operators during excecution of code.\n",
        "a=10+13*2\n",
        "\n",
        "#here answer will be 36 not 46 cuz multiplication is given prefrence over addition.\n",
        "print(a)\n"
      ]
    },
    {
      "cell_type": "code",
      "execution_count": null,
      "metadata": {
        "colab": {
          "base_uri": "https://localhost:8080/"
        },
        "id": "7w64KAILApMK",
        "outputId": "68ff0269-e5bb-4cad-bcce-fc2d1a846cb0"
      },
      "outputs": [
        {
          "output_type": "stream",
          "name": "stdout",
          "text": [
            "46\n"
          ]
        }
      ],
      "source": [
        "#in this case for addition to be operated first you'll have to put brackets.\n",
        "a=(10+13)*2\n",
        "print(a)\n"
      ]
    },
    {
      "cell_type": "markdown",
      "metadata": {
        "id": "JMdm4ejRHya2"
      },
      "source": [
        "## Arithmetic operators\n"
      ]
    },
    {
      "cell_type": "code",
      "execution_count": null,
      "metadata": {
        "colab": {
          "base_uri": "https://localhost:8080/"
        },
        "id": "7XXY5PtlH-j0",
        "outputId": "189977bf-3680-4f32-cb91-200d1d603948"
      },
      "outputs": [
        {
          "name": "stdout",
          "output_type": "stream",
          "text": [
            "sum = 7\n",
            "diff = -1\n",
            "prod= 12\n",
            "quo = 0.75\n",
            "fdiv = 0\n",
            "exp = 64\n"
          ]
        }
      ],
      "source": [
        "a=3\n",
        "b=4\n",
        "#addition\n",
        "sum=a+b\n",
        "print(\"sum =\",sum)\n",
        "#substraction\n",
        "diff=a-b\n",
        "print(\"diff =\", diff)\n",
        "#multiplication\n",
        "prod=a*b\n",
        "print(\"prod=\", prod)\n",
        "#division-in python \"division\" always gives float value.\n",
        "quo=a/b\n",
        "print(\"quo =\", quo)\n",
        "#floor division\n",
        "fdiv=a//b\n",
        "print(\"fdiv =\", fdiv)\n",
        "#exponentiation\n",
        "exp=b**a\n",
        "print(\"exp =\", exp)\n",
        "\n",
        "\n"
      ]
    },
    {
      "cell_type": "code",
      "execution_count": null,
      "metadata": {
        "colab": {
          "base_uri": "https://localhost:8080/"
        },
        "id": "H1oiaYgRB5dV",
        "outputId": "adbadbc7-25e2-43f1-fb7e-697c0162b08e"
      },
      "outputs": [
        {
          "name": "stdout",
          "output_type": "stream",
          "text": [
            "modulo = 1\n"
          ]
        }
      ],
      "source": [
        "#modulo operator (%) gives remainder left after division.\n",
        "\n",
        "a=7\n",
        "b=3\n",
        "print(\"modulo =\", a%b)"
      ]
    },
    {
      "cell_type": "markdown",
      "metadata": {
        "id": "Y5Xrbiy8C_wu"
      },
      "source": [
        "## Relational operators"
      ]
    },
    {
      "cell_type": "markdown",
      "metadata": {
        "id": "z71OvFMrUXCK"
      },
      "source": [
        "relational operators (>,<,>=,<=,==,!=).\n",
        "With respect to relational operators the output is always going to be a boolean value.\n",
        "\n",
        "\n"
      ]
    },
    {
      "cell_type": "code",
      "execution_count": null,
      "metadata": {
        "colab": {
          "base_uri": "https://localhost:8080/"
        },
        "id": "1uKBGC_6DD8E",
        "outputId": "e352b67a-08ef-4f78-f88a-9dae736f95fc"
      },
      "outputs": [
        {
          "name": "stdout",
          "output_type": "stream",
          "text": [
            "False\n",
            "True\n"
          ]
        }
      ],
      "source": [
        "#greater-than and less-than operators\n",
        "print(5>10)\n",
        "print(5<10)\n",
        "\n"
      ]
    },
    {
      "cell_type": "code",
      "execution_count": null,
      "metadata": {
        "colab": {
          "base_uri": "https://localhost:8080/"
        },
        "id": "vJyqe8lgET79",
        "outputId": "e73f4c78-be4b-4e56-e828-fc0e785c71c9"
      },
      "outputs": [
        {
          "name": "stdout",
          "output_type": "stream",
          "text": [
            "True\n",
            "True\n",
            "False\n"
          ]
        }
      ],
      "source": [
        "#greater-than-equal-to and less-than-equal-to operators\n",
        "print(5>=3)\n",
        "print(5>=5)\n",
        "print(5>5)"
      ]
    },
    {
      "cell_type": "markdown",
      "metadata": {
        "id": "XLK_Ev6QfYLi"
      },
      "source": [
        "one should not confuse \"=\" with \"==\" operator. \"=\" is assignment operator and \"==\" is equal-to operator."
      ]
    },
    {
      "cell_type": "code",
      "execution_count": null,
      "metadata": {
        "colab": {
          "base_uri": "https://localhost:8080/"
        },
        "id": "dNv0wRJ1E_DB",
        "outputId": "0cf1964c-8db6-4bcc-c1fd-b462c3e1e445"
      },
      "outputs": [
        {
          "name": "stdout",
          "output_type": "stream",
          "text": [
            "True\n",
            "False\n",
            "False\n",
            "True\n"
          ]
        }
      ],
      "source": [
        "#double-equal-to\n",
        "print(5==5)\n",
        "print(5==6)\n",
        "\n",
        "#not-equal-to\n",
        "print(5!=5)\n",
        "print(5!=6)"
      ]
    },
    {
      "cell_type": "markdown",
      "metadata": {
        "id": "pHEB9Y_7F0d2"
      },
      "source": [
        "## Logical Operators\n"
      ]
    },
    {
      "cell_type": "markdown",
      "metadata": {
        "id": "c_f0Yb2uUuTU"
      },
      "source": [
        "logical operators(and,or,not)"
      ]
    },
    {
      "cell_type": "code",
      "execution_count": null,
      "metadata": {
        "colab": {
          "base_uri": "https://localhost:8080/"
        },
        "id": "lBRpCJ7PF4g-",
        "outputId": "3a1d76c9-999d-4981-ae7c-091bd458b1e0"
      },
      "outputs": [
        {
          "name": "stdout",
          "output_type": "stream",
          "text": [
            "True\n",
            "False\n",
            "False\n",
            "False\n"
          ]
        }
      ],
      "source": [
        "#'and' gives true only when both are true else gives false.\n",
        "\n",
        "print(True and True)\n",
        "print(True and False)\n",
        "print(False and True)\n",
        "print(False and False)"
      ]
    },
    {
      "cell_type": "code",
      "execution_count": null,
      "metadata": {
        "colab": {
          "base_uri": "https://localhost:8080/"
        },
        "id": "2XD51g4yHDad",
        "outputId": "866c6b54-cf57-4e62-fcbc-6b21660ee96e"
      },
      "outputs": [
        {
          "name": "stdout",
          "output_type": "stream",
          "text": [
            "True\n",
            "True\n",
            "True\n",
            "False\n"
          ]
        }
      ],
      "source": [
        "#in case of 'or' operator if any of the value is true it gives true else false i.e. 'or' gives false only when both are false else true.\n",
        "\n",
        "print(True or True)\n",
        "print(True or False)\n",
        "print(False or True)\n",
        "print(False or False)\n"
      ]
    },
    {
      "cell_type": "code",
      "execution_count": null,
      "metadata": {
        "colab": {
          "base_uri": "https://localhost:8080/"
        },
        "id": "JDVpS8PtH6qp",
        "outputId": "96e24a29-d10f-4ec0-af8f-902d55cc8865"
      },
      "outputs": [
        {
          "name": "stdout",
          "output_type": "stream",
          "text": [
            "False\n",
            "True\n",
            "False\n",
            "True\n"
          ]
        }
      ],
      "source": [
        "#'not' operators inverts the boolean value of input.\n",
        "\n",
        "print(not True)\n",
        "print(not False)\n",
        "\n",
        "#'not' operators can be used with or without parenthesis on true or false.\n",
        "\n",
        "print(not (True))\n",
        "print(not (False))"
      ]
    },
    {
      "cell_type": "markdown",
      "metadata": {
        "id": "0m6swAo4LTs4"
      },
      "source": [
        "## String slicing"
      ]
    },
    {
      "cell_type": "code",
      "execution_count": null,
      "metadata": {
        "colab": {
          "base_uri": "https://localhost:8080/"
        },
        "id": "DK8DW1Q4LYHn",
        "outputId": "fcadd675-2a04-47b1-9490-087d6eb2271f"
      },
      "outputs": [
        {
          "name": "stdout",
          "output_type": "stream",
          "text": [
            "c o f f e e\n",
            "of\n"
          ]
        }
      ],
      "source": [
        "a=\"coffee\"\n",
        "\n",
        "print(a[0], a[1], a[2], a[3], a[4], a[5])\n",
        "\n",
        "#string slicing\n",
        "\n",
        "print(a[1:3])\n",
        "#from slicing any string by [n:m] we mean include nth,(n+1)th,....(m-1)th element."
      ]
    },
    {
      "cell_type": "markdown",
      "metadata": {
        "id": "QC6zL9ZdSx-x"
      },
      "source": [
        "## Replication of a string\n",
        "\n",
        "\n"
      ]
    },
    {
      "cell_type": "code",
      "execution_count": null,
      "metadata": {
        "colab": {
          "base_uri": "https://localhost:8080/"
        },
        "id": "qfiYEi-hS11Y",
        "outputId": "7dbe9518-7a42-4441-be13-46b6cd7036ee"
      },
      "outputs": [
        {
          "name": "stdout",
          "output_type": "stream",
          "text": [
            "goodgoodgoodgoodgood\n",
            "ggg\n"
          ]
        }
      ],
      "source": [
        "#replication=string or charecter of a string concatenates itself based on the number we are multiplying it with.\n",
        "s=\"good\"\n",
        "print(s*5)\n",
        "\n",
        "print(s[0]*3)"
      ]
    },
    {
      "cell_type": "markdown",
      "metadata": {
        "id": "YueR337_VJay"
      },
      "source": [
        "##String Comparision"
      ]
    },
    {
      "cell_type": "code",
      "execution_count": null,
      "metadata": {
        "colab": {
          "base_uri": "https://localhost:8080/"
        },
        "id": "zS_m05lQVPoG",
        "outputId": "ad4cc852-a6df-43d5-eaa2-2cc2d7b6912c"
      },
      "outputs": [
        {
          "name": "stdout",
          "output_type": "stream",
          "text": [
            "True\n",
            "False\n"
          ]
        }
      ],
      "source": [
        "#comparision is case sensitive.\n",
        "x=\"India\"\n",
        "\n",
        "print(x==\"India\")\n",
        "print(x==\"india\")"
      ]
    },
    {
      "cell_type": "markdown",
      "metadata": {
        "id": "2vMBG-crV1B0"
      },
      "source": [
        "When it comes to comparision the computer compares string charecter by charecter starting from first charecter."
      ]
    },
    {
      "cell_type": "code",
      "execution_count": null,
      "metadata": {
        "colab": {
          "base_uri": "https://localhost:8080/"
        },
        "id": "K8wg0GMoWB3_",
        "outputId": "4c40ee8a-2268-4d13-ca14-5797466f5cbb"
      },
      "outputs": [
        {
          "name": "stdout",
          "output_type": "stream",
          "text": [
            "False\n",
            "True\n"
          ]
        }
      ],
      "source": [
        "print(\"apple\">\"one\")\n",
        "#here computer will first compare the first charecters of both the strings and since 'a' comes before 'o' hence \"apple\" is less than \"one\".\n",
        "\n",
        "print(\"four\"<\"three\")\n",
        "#since 'f' comes before 't' hence \"four\" is less than \"three\""
      ]
    },
    {
      "cell_type": "markdown",
      "metadata": {
        "id": "r2M09d2L9f43"
      },
      "source": [
        "If comparing with empty string '' then a charecter is always greater than empty string."
      ]
    },
    {
      "cell_type": "code",
      "execution_count": null,
      "metadata": {
        "colab": {
          "base_uri": "https://localhost:8080/"
        },
        "id": "PgdfS-uP9H9B",
        "outputId": "bf8b6987-3540-433e-dd10-9e15efce6949"
      },
      "outputs": [
        {
          "name": "stdout",
          "output_type": "stream",
          "text": [
            "False\n",
            "True\n"
          ]
        }
      ],
      "source": [
        "print(\"a\"<\"\")\n",
        "print(\"abcdef\">\"abcde\")"
      ]
    },
    {
      "cell_type": "markdown",
      "metadata": {
        "id": "pig-CbSZ_pYr"
      },
      "source": [
        "##Negative Indexing of string"
      ]
    },
    {
      "cell_type": "code",
      "execution_count": null,
      "metadata": {
        "colab": {
          "base_uri": "https://localhost:8080/"
        },
        "id": "_6u9A0M6_xdF",
        "outputId": "4631dcc5-c907-46f6-a0a2-3221cdeec43c"
      },
      "outputs": [
        {
          "name": "stdout",
          "output_type": "stream",
          "text": [
            "p\n",
            "y\n",
            "t\n",
            "h\n",
            "o\n",
            "n\n",
            "n\n",
            "o\n",
            "h\n",
            "t\n",
            "y\n",
            "p\n"
          ]
        }
      ],
      "source": [
        "s=\"python\"\n",
        "\n",
        "#positive indexing\n",
        "print(s[0])\n",
        "print(s[1])\n",
        "print(s[2])\n",
        "print(s[3])\n",
        "print(s[4])\n",
        "print(s[5])\n",
        "\n",
        "#negetive indexing\n",
        "print(s[-1])\n",
        "print(s[-2])\n",
        "print(s[-3])\n",
        "print(s[-4])\n",
        "print(s[-5])\n",
        "print(s[-6])\n",
        "\n"
      ]
    },
    {
      "cell_type": "markdown",
      "metadata": {
        "id": "s7RDB4ZPBD1I"
      },
      "source": [
        "## Length of string"
      ]
    },
    {
      "cell_type": "code",
      "execution_count": null,
      "metadata": {
        "colab": {
          "base_uri": "https://localhost:8080/"
        },
        "id": "q9zRcl9SBcOF",
        "outputId": "c37af7c6-d5bd-4710-8b6b-57b94c6c69b3"
      },
      "outputs": [
        {
          "name": "stdout",
          "output_type": "stream",
          "text": [
            "j\n"
          ]
        }
      ],
      "source": [
        "#write a code to print last charecter of a string without using negative indexing.\n",
        "\n",
        "a=\"aldkthaelhlsdkhlshrelghlohdlknawedhsjdhskej\"\n",
        "l=int(len(a))\n",
        "print(a[l-1])\n",
        "#if a string contains n charecters then the nth charecter will be marked as (n-1) because in python the marking starts by assigning '0' to the first charecter.\n"
      ]
    },
    {
      "cell_type": "markdown",
      "metadata": {
        "id": "WE904mIWap69"
      },
      "source": [
        "#Week-2"
      ]
    },
    {
      "cell_type": "markdown",
      "metadata": {
        "id": "3M5moh3tawZb"
      },
      "source": [
        "##Dynamic Typing"
      ]
    },
    {
      "cell_type": "code",
      "execution_count": null,
      "metadata": {
        "colab": {
          "base_uri": "https://localhost:8080/"
        },
        "id": "iDhx4z-satvQ",
        "outputId": "513bec23-47b5-4580-9cc2-80d3556b4237"
      },
      "outputs": [
        {
          "name": "stdout",
          "output_type": "stream",
          "text": [
            "<class 'int'>\n",
            "<class 'str'>\n"
          ]
        }
      ],
      "source": [
        "#dynamic stands for things can change.\n",
        "\n",
        "#in python you can  declare a variable of a particular data and can also change the variable later to whatever you want.\n",
        "\n",
        "a=10\n",
        "print(type(a))\n",
        "\n",
        "a='India'\n",
        "print(type(a))"
      ]
    },
    {
      "cell_type": "code",
      "execution_count": null,
      "metadata": {
        "colab": {
          "base_uri": "https://localhost:8080/"
        },
        "id": "MEVs03O6fbbn",
        "outputId": "f458142c-41bc-4840-95f5-ffac85cb5a54"
      },
      "outputs": [
        {
          "name": "stdout",
          "output_type": "stream",
          "text": [
            "10 <class 'int'>\n",
            "5.0 <class 'float'>\n",
            "20 <class 'int'>\n",
            "20.0 <class 'float'>\n"
          ]
        }
      ],
      "source": [
        "n=10\n",
        "print(n, type(n))\n",
        "n=n/2\n",
        "#the moment division happens it realises that integer might become a real no. and hence it converts the integer data type to float data type.\n",
        "print(n, type(n))\n",
        "\n",
        "#even if you divide by '1' the computer changes integer data type into float data type.\n",
        "a=20\n",
        "print(a, type(a))\n",
        "a=a/1\n",
        "print(a, type(a))"
      ]
    },
    {
      "cell_type": "markdown",
      "metadata": {
        "id": "d0i_kyIah_EE"
      },
      "source": [
        "##Keywords"
      ]
    },
    {
      "cell_type": "code",
      "execution_count": null,
      "metadata": {
        "id": "juvLoNcWiDwX"
      },
      "outputs": [],
      "source": [
        "#keywords-they are special reserved words having specific meanings and purposes and hence can't be used as variable names.\n",
        "\n",
        "#some of the keywords widely used in python are and,or,not,if,else,while,etc.\n",
        "\n",
        "#if you'll use any of such keywords as variable names computer will throw an error.\n",
        "\n",
        "and = 3\n",
        "print(and)\n",
        "\n",
        "#you can't use \"and\" as a variable anme because it is a keyword and is predefined."
      ]
    },
    {
      "cell_type": "markdown",
      "metadata": {
        "id": "nyndxtTDlwvT"
      },
      "source": [
        "##Naming rules for variables"
      ]
    },
    {
      "cell_type": "code",
      "execution_count": null,
      "metadata": {
        "colab": {
          "base_uri": "https://localhost:8080/"
        },
        "id": "MEKJzn35l1xD",
        "outputId": "31e24c6a-b97a-43b5-9499-51fea917f078"
      },
      "outputs": [
        {
          "name": "stdout",
          "output_type": "stream",
          "text": [
            "5 10 20\n"
          ]
        }
      ],
      "source": [
        "#naming rules\n",
        "\n",
        "#1. Keywords can't be used as variable names in python language.\n",
        "\n",
        "#2. Only \"alphanumeric values\" and \"underscore(_)\" can be used in variable names.\n",
        "\n",
        "#3. We can only start a variable name with \"an alphabet or an underscore\". Means a variable name can't be started with a number.\n",
        "\n",
        "#4. Variable names are case sensitive.\n",
        "\n",
        "roll = 5\n",
        "ROLL = 10\n",
        "Roll = 20\n",
        "print(roll, ROLL, Roll)\n",
        "#even though the spelling is same but since python is case sensitive in terms of naming all three are considered as different variable names."
      ]
    },
    {
      "cell_type": "markdown",
      "metadata": {
        "id": "ls3mAOmumKLy"
      },
      "source": [
        "##Multiple Assignment"
      ]
    },
    {
      "cell_type": "code",
      "execution_count": null,
      "metadata": {
        "colab": {
          "base_uri": "https://localhost:8080/"
        },
        "id": "YzHqPAY8mOtc",
        "outputId": "867bcde6-f50b-4b8b-94e5-19fa2ca0cc12"
      },
      "outputs": [
        {
          "name": "stdout",
          "output_type": "stream",
          "text": [
            "20\n",
            "30\n",
            "20 30\n",
            "30\n",
            "20\n",
            "30 20\n"
          ]
        }
      ],
      "source": [
        "#Multiple assignment:assigning values to multiple variables in a single line.\n",
        "\n",
        "x, y = 20, 30\n",
        "print(x)\n",
        "print(y)\n",
        "print(x, y)\n",
        "\n",
        "#in such a case one has to be very careful about sequence of variables and literals because a slight change in sequence will change the values of the variables.\n",
        "\n",
        "x, y = 30, 20\n",
        "print(x)\n",
        "print(y)\n",
        "print(x, y)"
      ]
    },
    {
      "cell_type": "code",
      "execution_count": null,
      "metadata": {
        "colab": {
          "base_uri": "https://localhost:8080/"
        },
        "id": "MUFWhd8Tnsc5",
        "outputId": "153ddbbf-fdbc-4c30-ccfb-6fd67e15851d"
      },
      "outputs": [
        {
          "name": "stdout",
          "output_type": "stream",
          "text": [
            "10\n",
            "10\n",
            "10\n",
            "10 10 10\n"
          ]
        }
      ],
      "source": [
        "#if multiple variables have same value then their values can also be assigned by using 'equal-to' sign.\n",
        "\n",
        "x = y = z = 10\n",
        "print(x)\n",
        "print(y)\n",
        "print(z)\n",
        "print(x, y, z)"
      ]
    },
    {
      "cell_type": "markdown",
      "metadata": {
        "id": "p6AIdbL6okX6"
      },
      "source": [
        "##Deleting a variable"
      ]
    },
    {
      "cell_type": "code",
      "execution_count": null,
      "metadata": {
        "id": "hU-D3n-Soo-B"
      },
      "outputs": [],
      "source": [
        "x = 10\n",
        "print(x)\n",
        "del x\n",
        "print(x)\n",
        "\n",
        "#here the first line of output will show the value '10' but the second line will throw an error(variable 'x' not defined) because the variable 'x' is deleted before the second print statement."
      ]
    },
    {
      "cell_type": "markdown",
      "metadata": {
        "id": "QuZgk889pbfb"
      },
      "source": [
        "##Shorthand Operators"
      ]
    },
    {
      "cell_type": "code",
      "execution_count": null,
      "metadata": {
        "colab": {
          "base_uri": "https://localhost:8080/"
        },
        "id": "7UX5FM17petc",
        "outputId": "91ab8433-4b5a-46f4-9de8-174f29596e50"
      },
      "outputs": [
        {
          "name": "stdout",
          "output_type": "stream",
          "text": [
            "3\n",
            "3\n"
          ]
        }
      ],
      "source": [
        "#shorthand operators are used to remove the need of typing of a variable name repeatedly in a same statement.\n",
        "\n",
        "count = 0\n",
        "count = count + 1\n",
        "count = count + 1\n",
        "count = count + 1\n",
        "print(count)\n",
        "\n",
        "#here it is getting very tidious and unnecessary to type the variable name \"count\" repeatedly. In such a case shorthand operators can save us.\n",
        "\n",
        "count = 0\n",
        "count += 1\n",
        "count += 1\n",
        "count += 1\n",
        "print(count)\n",
        "\n",
        "#here also we're getting the same value but without the need of typing variable name repeatedly.\n",
        "\n",
        "#while reading code such as \"count += 1\" one should read it as \"count equals to count plus one\"."
      ]
    },
    {
      "cell_type": "code",
      "execution_count": null,
      "metadata": {
        "colab": {
          "base_uri": "https://localhost:8080/"
        },
        "id": "Ipf_I9XZv7Dz",
        "outputId": "11bdea6f-838d-4e23-f578-fb0b4d0aeb02"
      },
      "outputs": [
        {
          "name": "stdout",
          "output_type": "stream",
          "text": [
            "8\n",
            "40\n",
            "1.0\n",
            "2\n"
          ]
        }
      ],
      "source": [
        "#shorthand operators can be used with all arithmetic operators.\n",
        "\n",
        "#with substraction(decrementation)\n",
        "count = 10\n",
        "count -= 1\n",
        "count -= 1\n",
        "print(count)\n",
        "\n",
        "#with multiplication\n",
        "count = 10\n",
        "count *= 2\n",
        "count *= 2\n",
        "print(count)\n",
        "\n",
        "#with division\n",
        "count = 100\n",
        "count /= 10\n",
        "count /= 10\n",
        "print(count)\n",
        "\n",
        "#with floor division\n",
        "count = 247\n",
        "count //= 10\n",
        "count //= 10\n",
        "print(count)"
      ]
    },
    {
      "cell_type": "markdown",
      "metadata": {
        "id": "ziV_kehvxeNx"
      },
      "source": [
        "##Chaining Operators"
      ]
    },
    {
      "cell_type": "code",
      "execution_count": null,
      "metadata": {
        "colab": {
          "base_uri": "https://localhost:8080/"
        },
        "id": "VVkyq2lnxirl",
        "outputId": "9ab64fef-23c0-4104-9539-66584fc2c310"
      },
      "outputs": [
        {
          "name": "stdout",
          "output_type": "stream",
          "text": [
            "True\n",
            "False\n",
            "True\n",
            "True\n",
            "True\n"
          ]
        }
      ],
      "source": [
        "#when multiple realtional operators are used in a single statement then it is called as chaining operators.\n",
        "\n",
        "#to get 'true' as ouput in such a case all the conditions provided in that particular statement must be true.\n",
        "\n",
        "x = 5\n",
        "print(1 < x < 10)\n",
        "print(10 < x < 20)\n",
        "print(x < 10 < x*10 < 100)\n",
        "print(10 > x <= 9)\n",
        "print(5 == x > 4)"
      ]
    },
    {
      "cell_type": "markdown",
      "metadata": {
        "id": "zSh0nTUKzsyY"
      },
      "source": [
        "##Escape Charecter"
      ]
    },
    {
      "cell_type": "code",
      "execution_count": null,
      "metadata": {
        "id": "niPFZ6Nc1nDO"
      },
      "outputs": [],
      "source": [
        "#in the following example computer cannot differentiate b/w \"single quote\" and \"apostrophe\" and hence is throwing the syntax error.\n",
        "\n",
        "print('It's a beautiful day.)\n",
        "\n",
        "#to fix such errrs we use 'escape-charecter'."
      ]
    },
    {
      "cell_type": "code",
      "execution_count": null,
      "metadata": {
        "colab": {
          "base_uri": "https://localhost:8080/"
        },
        "id": "pw5CxHNZzvbw",
        "outputId": "b37f04d1-6192-4c1d-b375-01b294b772fd"
      },
      "outputs": [
        {
          "name": "stdout",
          "output_type": "stream",
          "text": [
            "It's a beautiful day.\n"
          ]
        }
      ],
      "source": [
        "#Escape charecter is a mecahnism that allows us to add those specific charecters or symbols in a print statement while printing string which we can't do usually.\n",
        "\n",
        "#Escape charecter is written using a backslash followed by the charecter which you want to insert in that particular string.\n",
        "\n",
        "print('It\\'s a beautiful day.')\n",
        "\n",
        "#here in this example this (\"\\'\") charecter is referred as escape charecter."
      ]
    },
    {
      "cell_type": "code",
      "execution_count": null,
      "metadata": {
        "id": "8Gp6mycO3nii"
      },
      "outputs": [],
      "source": [
        "print(\"We are from \"Bhopal\"\")\n",
        "\n",
        "#again this will throw an error."
      ]
    },
    {
      "cell_type": "code",
      "execution_count": null,
      "metadata": {
        "colab": {
          "base_uri": "https://localhost:8080/"
        },
        "id": "0J8Kdr253qvK",
        "outputId": "af186b92-fd9c-468d-abeb-0928ef60b51b"
      },
      "outputs": [
        {
          "name": "stdout",
          "output_type": "stream",
          "text": [
            "We are from \"Bhopal\"\n"
          ]
        }
      ],
      "source": [
        "#to fix this error we'll again uses escape charecter.\n",
        "\n",
        "print(\"We are from \\\"Bhopal\\\"\")"
      ]
    },
    {
      "cell_type": "markdown",
      "metadata": {
        "id": "KTRQyvQr5Jsc"
      },
      "source": [
        "Tab escape charecter(\\t) used to give space between two words."
      ]
    },
    {
      "cell_type": "code",
      "execution_count": null,
      "metadata": {
        "colab": {
          "base_uri": "https://localhost:8080/"
        },
        "id": "-Q8VLHlb5TZq",
        "outputId": "ec881527-b8f8-4159-82e5-73925cd81044"
      },
      "outputs": [
        {
          "name": "stdout",
          "output_type": "stream",
          "text": [
            "My name is Omkar. I am from Pune.\n",
            "My name is Omkark.\t\t\tI am from Pune.\n"
          ]
        }
      ],
      "source": [
        "print('My name is Omkar. I am from Pune.')\n",
        "print('My name is Omkark.\\t\\t\\tI am from Pune.')"
      ]
    },
    {
      "cell_type": "markdown",
      "metadata": {
        "id": "ZDxe5eQR5VbI"
      },
      "source": [
        "Line-break escape charecter(\\n) used to give line break."
      ]
    },
    {
      "cell_type": "code",
      "execution_count": null,
      "metadata": {
        "colab": {
          "base_uri": "https://localhost:8080/"
        },
        "id": "xSrzoDLc5nsu",
        "outputId": "6b9dc638-1719-4aef-a95e-3f7eeb070ac3"
      },
      "outputs": [
        {
          "name": "stdout",
          "output_type": "stream",
          "text": [
            "My name is Dipanhsu.\n",
            "I'm from Bhopal.\n"
          ]
        }
      ],
      "source": [
        "print(\"My name is Dipanhsu.\\nI'm from Bhopal.\")"
      ]
    },
    {
      "cell_type": "markdown",
      "metadata": {
        "id": "2GosBMoo6M1d"
      },
      "source": [
        "##Type of quotes"
      ]
    },
    {
      "cell_type": "code",
      "execution_count": null,
      "metadata": {
        "colab": {
          "base_uri": "https://localhost:8080/"
        },
        "id": "fcYAsYF86QUe",
        "outputId": "6f8f349b-c340-44d4-bdd6-f10384650701"
      },
      "outputs": [
        {
          "name": "stdout",
          "output_type": "stream",
          "text": [
            "line-1\n",
            "line-2\n",
            "line-3\n",
            "line-4\n",
            "line-5\n"
          ]
        }
      ],
      "source": [
        "#There are three different types of quotes supported by python language: single-quote, double-quote and triple-quote.\n",
        "#Single and Double quotes can be used only when a string is stored in a single line.\n",
        "\n",
        "#But triple-quotes can handle strings stored in a single-line as well as in multiple-lines.\n",
        "\n",
        "print('''line-1\n",
        "line-2\n",
        "line-3\n",
        "line-4\n",
        "line-5''')"
      ]
    },
    {
      "cell_type": "code",
      "execution_count": null,
      "metadata": {
        "id": "0Flq6Jdk8Y1G"
      },
      "outputs": [],
      "source": [
        "#another use of triple quotes.\n",
        "\n",
        "'''We know to that \"#\" is used to comment and is not taken as a part of code while executing the code.\n",
        "But the problem with \"#\" is it can only be used to comment in a single line.\n",
        "If someone wants to comment in multiple lines then he'll has to use \"#\" for each and every line.'''\n",
        "\n",
        "#In such a case if you want to comment in multiple lines without using the \"#\" for each line we can use triple quotes."
      ]
    },
    {
      "cell_type": "markdown",
      "metadata": {
        "id": "R3nIZo2T_KNy"
      },
      "source": [
        "##String Methods"
      ]
    },
    {
      "cell_type": "code",
      "execution_count": null,
      "metadata": {
        "colab": {
          "base_uri": "https://localhost:8080/"
        },
        "id": "puVWaxh-_Nap",
        "outputId": "60c4b17c-9880-4d17-d98b-9eb180f1cbb1"
      },
      "outputs": [
        {
          "name": "stdout",
          "output_type": "stream",
          "text": [
            "python string methods\n",
            "PYTHON STRING METHODS\n",
            "Python string methods\n",
            "Python String Methods\n",
            "PYThOn StRiNG MeTHoDS\n"
          ]
        }
      ],
      "source": [
        "x = \"pytHoN sTrIng mEthOds\"\n",
        "\n",
        "#1.lower() - converts a string to lower case.\n",
        "print(x.lower())\n",
        "\n",
        "#2.upper() - converts a string into upper case.\n",
        "print(x.upper())\n",
        "\n",
        "#3.capitalize() - converts the first charecter to upper case.\n",
        "print(x.capitalize())\n",
        "\n",
        "#4.title() - converts the first charecter of each word to upper case.\n",
        "print(x.title())\n",
        "\n",
        "#5.swapcase()  - swaps cases means lower case becomes upper case and vice versa.\n",
        "print(x.swapcase())"
      ]
    },
    {
      "cell_type": "code",
      "execution_count": null,
      "metadata": {
        "colab": {
          "base_uri": "https://localhost:8080/"
        },
        "id": "W9FK5UG6A3fV",
        "outputId": "1542c45e-9a8c-4821-f41e-0ddf0871d18c"
      },
      "outputs": [
        {
          "name": "stdout",
          "output_type": "stream",
          "text": [
            "True\n",
            "False\n",
            "True\n",
            "False\n",
            "True\n",
            "False\n"
          ]
        }
      ],
      "source": [
        "#1.islower - returns True if all charecters in the string are lower case.\n",
        "x = 'python'\n",
        "print(x.islower())\n",
        "x = 'Python'\n",
        "print(x.islower())\n",
        "\n",
        "#2.isupper() - returns True if all charecters in the string are upper case.\n",
        "x = 'PYTHON'\n",
        "print(x.isupper())\n",
        "x = 'PTHoN'\n",
        "print(x.isupper())\n",
        "\n",
        "#3.istitle() - returns True if the string follows the rules of a title.\n",
        "x = 'Python String Methods'\n",
        "print(x.istitle())\n",
        "x = 'Python string methods'\n",
        "print(x.istitle())"
      ]
    },
    {
      "cell_type": "code",
      "execution_count": null,
      "metadata": {
        "id": "lOWSdjaFCWEF"
      },
      "outputs": [],
      "source": [
        "#1.isdigit() - returns True if all charecters in the string are digits.\n",
        "x = '123'\n",
        "print(x.isdigit())\n",
        "x = '123abc'\n",
        "print(x.isdigit())\n",
        "\n",
        "#2.isalpha() - returns True if all charecters in the string are in alphabets.\n",
        "x = 'abc'\n",
        "print(x.isalpha())\n",
        "x = 'abc123'\n",
        "print(x.isalpha())\n",
        "\n",
        "#3.isalnum() - returns True if all charecters in the string are alpha-numeric.\n",
        "x = 'abc123'\n",
        "print(x.isalnum())\n",
        "x = 'abc123@*#'\n",
        "print(x.isalnum())"
      ]
    },
    {
      "cell_type": "code",
      "execution_count": null,
      "metadata": {
        "colab": {
          "base_uri": "https://localhost:8080/"
        },
        "id": "4VGvXc1ADh0A",
        "outputId": "e08029c9-553c-44ab-dcff-dc43b5adb6d3"
      },
      "outputs": [
        {
          "name": "stdout",
          "output_type": "stream",
          "text": [
            "Python\n",
            "Python----\n",
            "----Python\n",
            "pyt-hon\n"
          ]
        }
      ],
      "source": [
        "x = '----Python----'\n",
        "\n",
        "#1.strip() - returns a trimmed version of the string.\n",
        "print(x.strip('-'))\n",
        "\n",
        "#2.lstrip() - returns a left trim version of the string.\n",
        "print(x.lstrip('-'))\n",
        "\n",
        "#3.rstrip() - returns a right trim version of the string.\n",
        "print(x.rstrip('-'))\n",
        "\n",
        "#but if the particular charecter appears in the middle of the string then it wouldn't be removed.\n",
        "x = '----pyt-hon----'\n",
        "print(x.strip('-'))"
      ]
    },
    {
      "cell_type": "code",
      "execution_count": null,
      "metadata": {
        "colab": {
          "base_uri": "https://localhost:8080/"
        },
        "id": "J5PKP5PcE8JT",
        "outputId": "e5c0d202-8e32-442d-8320-051f468cdbe6"
      },
      "outputs": [
        {
          "name": "stdout",
          "output_type": "stream",
          "text": [
            "True\n",
            "False\n",
            "True\n",
            "False\n"
          ]
        }
      ],
      "source": [
        "x = 'Pyhton'\n",
        "\n",
        "#1.startswith() - returns True if the string starts with the specified value.\n",
        "print(x.startswith('P'))\n",
        "print(x.startswith('p'))\n",
        "\n",
        "#2.endswith() - returns True if the string ends with the specified value.\n",
        "print(x.endswith('n'))\n",
        "print(x.endswith('N'))"
      ]
    },
    {
      "cell_type": "code",
      "execution_count": null,
      "metadata": {
        "colab": {
          "base_uri": "https://localhost:8080/"
        },
        "id": "HY_EMIcHGxGf",
        "outputId": "f1424308-c27e-413c-db67-fef4a1fea03c"
      },
      "outputs": [
        {
          "name": "stdout",
          "output_type": "stream",
          "text": [
            "3\n",
            "1\n",
            "2\n",
            "20\n",
            "Python string methods\n"
          ]
        }
      ],
      "source": [
        "x = 'Python String Methods'\n",
        "\n",
        "#1.count() - returns the number of times a specified value occurs in a string.\n",
        "print(x.count('t'))\n",
        "print(x.count('s'))\n",
        "\n",
        "#2.index() - searches the string for a specified value and returns the position of where it was found 'first'.\n",
        "print(x.index('t'))\n",
        "print(x.index('s'))\n",
        "\n",
        "#3.replace() - returns a string where a specified value is replaced with a specified value.\n",
        "x = x.replace('S', 's')\n",
        "x = x.replace('M', 'm')\n",
        "print(x)"
      ]
    },
    {
      "cell_type": "markdown",
      "metadata": {
        "id": "az1UGiukzBQ_"
      },
      "source": [
        "##Ceaser's Cipher"
      ]
    },
    {
      "cell_type": "code",
      "execution_count": null,
      "metadata": {
        "colab": {
          "base_uri": "https://localhost:8080/"
        },
        "id": "4DUf4Ongy_WK",
        "outputId": "56391aa9-dc01-4840-9b01-0848de76559e"
      },
      "outputs": [
        {
          "name": "stdout",
          "output_type": "stream",
          "text": [
            "difoobj\n"
          ]
        }
      ],
      "source": [
        "word = 'chennai'\n",
        "\n",
        "#we want to shift each letter in 'word' by 'k' places.\n",
        "#eg. if k=1 then : 'chennai' -> 'difoobj'\n",
        "\n",
        "alpha = 'abcdefghijklmnopqrstuvwxyz'\n",
        "\n",
        "#lets take an empty string 't' and we will keep adding/concatenating shifted letters of \"word\" in that string one by one.\n",
        "\n",
        "t = ''\n",
        "\n",
        "i = 0\n",
        "k = 1     #k is taken as 1 in this eg. as we want to shift letters by 1 place. It could be selected according to the need of the question.\n",
        "\n",
        "t = t + alpha[(alpha.index(word[i]) + k)%26]\n",
        "\n",
        "'''here modulo26 is used that because after word[25]=z we will get word[25 + 1]=word[26]\n",
        "that will be out of range of index hence after using modulo26 it will again return to 0 as word[26%26]=word[0]=a'''\n",
        "\n",
        "t = t + alpha[(alpha.index(word[i+1]) + k)%26]\n",
        "t = t + alpha[(alpha.index(word[i+2]) + k)%26]\n",
        "t = t + alpha[(alpha.index(word[i+3]) + k)%26]\n",
        "t = t + alpha[(alpha.index(word[i+4]) + k)%26]\n",
        "t = t + alpha[(alpha.index(word[i+5]) + k)%26]\n",
        "t = t + alpha[(alpha.index(word[i+6]) + k)%26]\n",
        "\n",
        "#here since the word 'chennai' had only 7 letters hence we stopped.\n",
        "\n",
        "print(t)"
      ]
    },
    {
      "cell_type": "markdown",
      "metadata": {
        "id": "aV5OiSAC4IAS"
      },
      "source": [
        "##if-else condition."
      ]
    },
    {
      "cell_type": "code",
      "execution_count": null,
      "metadata": {
        "colab": {
          "base_uri": "https://localhost:8080/"
        },
        "id": "UKhbP8jnfE2A",
        "outputId": "60daaa16-2040-4b31-a7dc-b18c05caaa3b"
      },
      "outputs": [
        {
          "name": "stdout",
          "output_type": "stream",
          "text": [
            "Please enter your year of birth:2004\n",
            "You are old enough to watch Avengers, enjoy!\n",
            "Don't forget to watch the sequels and prequels.\n",
            "Have a nice time.\n"
          ]
        }
      ],
      "source": [
        "#Let us consider the movie \"Avengers\".This is a 13+ movie.\n",
        "\n",
        "birth_year = int(input(\"Please enter your year of birth:\"))\n",
        "\n",
        "current_year = 2024\n",
        "\n",
        "age = current_year = birth_year\n",
        "\n",
        "if (age<13):\n",
        "  print(\"Your are under age, you cannot watch this movie.\")\n",
        "  print(\"Wait until you are old enough to watch this movie.\")\n",
        "else:\n",
        "  print(\"You are old enough to watch Avengers, enjoy!\")\n",
        "  print(\"Don't forget to watch the sequels and prequels.\")\n",
        "\n",
        "#since the below statement is outside the if loop and it will be excecuted in any case.\n",
        "print(\"Have a nice time.\")"
      ]
    },
    {
      "cell_type": "markdown",
      "metadata": {
        "id": "s4cqwT6ppD20"
      },
      "source": [
        "##if-elif-else condition."
      ]
    },
    {
      "cell_type": "code",
      "execution_count": null,
      "metadata": {
        "colab": {
          "base_uri": "https://localhost:8080/"
        },
        "id": "IkB_A554pLI-",
        "outputId": "e67dcdcf-841c-4c4b-ecb2-aa86bd04fcd7"
      },
      "outputs": [
        {
          "name": "stdout",
          "output_type": "stream",
          "text": [
            "You are a toddler.\n"
          ]
        }
      ],
      "source": [
        "#elif (also called else-if) statement is a way of saying \"if the previous conditions were not true, then try this condition.\"\n",
        "\n",
        "#Eg.\n",
        "\n",
        "age = 3\n",
        "\n",
        "if age >= 20:\n",
        "  print(\"You are an adult.\")\n",
        "elif age >= 13:\n",
        "  #here use of elif will make sure age is >= 13 but <20 also.\n",
        "  #as elif will make sure this statement is executed only when all the above statements are false.\n",
        "  print(\"You are a teenager.\")\n",
        "elif age >= 10:\n",
        "  print(\"You are a tween.\")\n",
        "elif age >= 4:\n",
        "  print(\"You are a kid.\")\n",
        "else:\n",
        "  print(\"You are a toddler.\")"
      ]
    },
    {
      "cell_type": "markdown",
      "metadata": {
        "id": "ggxCZx9sgRVv"
      },
      "source": [
        "##Probelms based on if-else and elif conditions:"
      ]
    },
    {
      "cell_type": "markdown",
      "metadata": {
        "id": "1tSSs6QwgkXL"
      },
      "source": [
        "###1.Find whether the given number is even or is odd."
      ]
    },
    {
      "cell_type": "code",
      "execution_count": null,
      "metadata": {
        "colab": {
          "base_uri": "https://localhost:8080/"
        },
        "id": "7eUN-kF8gtN1",
        "outputId": "ba283ffa-b0b7-419e-bb45-3c7db2ca3d54"
      },
      "outputs": [
        {
          "name": "stdout",
          "output_type": "stream",
          "text": [
            "Please enter the number:-10\n",
            "The given number is even.\n"
          ]
        }
      ],
      "source": [
        "'''Test cases:\n",
        "              input : output\n",
        "               4    : even\n",
        "               5    : odd\n",
        "               0    : even\n",
        "              -7    : odd\n",
        "              -10   : odd\n",
        "'''\n",
        "\n",
        "n = int(input(\"Please enter the number:\"))\n",
        "\n",
        "if n%2 == 0:\n",
        "  print(\"The given number is even.\")\n",
        "\n",
        "else:\n",
        "  print(\"The given number is odd.\")"
      ]
    },
    {
      "cell_type": "markdown",
      "metadata": {
        "id": "e7TrFpXNhrXH"
      },
      "source": [
        "###2.Find whether the given number ends with '5', '0' or any other number."
      ]
    },
    {
      "cell_type": "code",
      "execution_count": null,
      "metadata": {
        "colab": {
          "base_uri": "https://localhost:8080/"
        },
        "id": "wjeUhg7ri_49",
        "outputId": "5bafe4d1-e78b-40dc-c1cd-4261195be9a5"
      },
      "outputs": [
        {
          "name": "stdout",
          "output_type": "stream",
          "text": [
            "Enter a number:20\n",
            "0\n"
          ]
        }
      ],
      "source": [
        "'''Test cases:\n",
        "              input : output\n",
        "               20   : 0\n",
        "               14   : other\n",
        "               5    : 5\n",
        "               0    : 0\n",
        "              -27   : other\n",
        "              -10   : 0\n",
        "'''\n",
        "\n",
        "\n",
        "n = int(input(\"Enter a number:\"))\n",
        "\n",
        "if n%5 == 0:\n",
        "  if n%10 == 0:\n",
        "    print(0)\n",
        "  else:\n",
        "    print(5)\n",
        "else:\n",
        "  print('other')"
      ]
    },
    {
      "cell_type": "markdown",
      "metadata": {
        "id": "0Qc7NxTSlZc3"
      },
      "source": [
        "###3.Find the grade of student based on given marks from 0 to 100.![Screenshot 2024-02-12 100336.png](data:image/png;base64,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)\n",
        "\n"
      ]
    },
    {
      "cell_type": "code",
      "execution_count": null,
      "metadata": {
        "colab": {
          "base_uri": "https://localhost:8080/"
        },
        "id": "1yM82fRYlXzZ",
        "outputId": "17d7fc44-0ab9-404c-9b72-d27fe8a153bd"
      },
      "outputs": [
        {
          "name": "stdout",
          "output_type": "stream",
          "text": [
            "Enter your marks:95\n",
            "A\n"
          ]
        }
      ],
      "source": [
        "'''Test cases:\n",
        "              input : output\n",
        "               95   : A\n",
        "               87   : B\n",
        "               70   : C\n",
        "               61   : D\n",
        "               0    : E\n",
        "               100  : A\n",
        "               -5   : Invalid input\n",
        "               110  : Invalid input\n",
        "'''\n",
        "\n",
        "n = int(input(\"Enter your marks:\"))\n",
        "\n",
        "if 0 <= n <= 100:\n",
        "  if n >= 90:\n",
        "    print('A')\n",
        "  if 80 <= n < 90:\n",
        "    print('B')\n",
        "  if 70 <= n < 80:\n",
        "    print('C')\n",
        "  if 60 <= n < 70:\n",
        "    print('D')\n",
        "  if n < 60:\n",
        "    print('E')\n",
        "else:\n",
        "  print(\"Invalid input\")"
      ]
    },
    {
      "cell_type": "code",
      "execution_count": null,
      "metadata": {
        "colab": {
          "base_uri": "https://localhost:8080/"
        },
        "id": "M5NqysGztkhJ",
        "outputId": "cb034abf-04d2-4b06-ab21-8952497f1d09"
      },
      "outputs": [
        {
          "name": "stdout",
          "output_type": "stream",
          "text": [
            "Enter your marks:56\n",
            "E\n"
          ]
        }
      ],
      "source": [
        "#alternate method\n",
        "\n",
        "n = int(input(\"Enter your marks:\"))\n",
        "\n",
        "if 0 <= n <= 100 :\n",
        "  if n >= 90:\n",
        "    print(\"A\")\n",
        "  elif n >= 80:\n",
        "    print(\"B\")\n",
        "  elif n >= 70:\n",
        "    print(\"C\")\n",
        "  elif n >= 60:\n",
        "    print(\"D\")\n",
        "  else:\n",
        "    print(\"E\")\n",
        "else:\n",
        "  print(\"Invalid input\")"
      ]
    },
    {
      "cell_type": "markdown",
      "metadata": {
        "id": "kR079FCxuWxc"
      },
      "source": [
        "###4.Convert the given flowchart into a Python code.![Screenshot 2024-02-12 104201.png](data:image/png;base64,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)"
      ]
    },
    {
      "cell_type": "code",
      "execution_count": null,
      "metadata": {
        "colab": {
          "base_uri": "https://localhost:8080/"
        },
        "id": "S78hhGyyvG54",
        "outputId": "c7a2a3d7-d514-4088-8983-559858e7a4f7"
      },
      "outputs": [
        {
          "name": "stdout",
          "output_type": "stream",
          "text": [
            "Travel from City A to City B\n",
            "Enter the travel time:10\n",
            "Define longer:6\n",
            "Enter the price:10000\n",
            "Definge higher:5000\n",
            "Train\n",
            "Arrive City B\n"
          ]
        }
      ],
      "source": [
        "print(\"Travel from City A to City B\")\n",
        "Time = int(input(\"Enter the travel time:\"))\n",
        "Longer = int(input(\"Define longer:\"))\n",
        "\n",
        "if Time >= Longer:\n",
        "  price = int(input(\"Enter the price:\"))\n",
        "  higher = int(input(\"Definge higher:\"))\n",
        "\n",
        "  if price >= higher:\n",
        "    print(\"Train\")\n",
        "  else:\n",
        "    print(\"Coach\")\n",
        "\n",
        "else:\n",
        "  price = int(input(\"Enter the price:\"))\n",
        "  higher = int(input(\"Define higher:\"))\n",
        "\n",
        "  if price >= higher:\n",
        "    print(\"Daytime flight\")\n",
        "  else:\n",
        "    print(\"Red Eye Flight\")\n",
        "\n",
        "print(\"Arrive City B\")"
      ]
    },
    {
      "cell_type": "markdown",
      "metadata": {
        "id": "tHFm8aFGyPwz"
      },
      "source": [
        "##Introduction to \"import library\""
      ]
    },
    {
      "cell_type": "markdown",
      "metadata": {
        "id": "Q6Bdi9Q40M7G"
      },
      "source": [
        "###math library"
      ]
    },
    {
      "cell_type": "code",
      "execution_count": null,
      "metadata": {
        "colab": {
          "base_uri": "https://localhost:8080/"
        },
        "id": "3HT8q_pIyV24",
        "outputId": "49583cc8-7cc0-440c-c54e-8b3dbcccaa34"
      },
      "outputs": [
        {
          "name": "stdout",
          "output_type": "stream",
          "text": [
            "2.302585092994046\n",
            "1.4142135623730951\n",
            "-0.9880316240928618\n",
            "100.0\n",
            "120\n"
          ]
        }
      ],
      "source": [
        "import math\n",
        "print(math.log(10))\n",
        "print(math.sqrt(2))\n",
        "print(math.sin(30))\n",
        "print(math.pow(10, 2))\n",
        "print(math.factorial(5))"
      ]
    },
    {
      "cell_type": "markdown",
      "metadata": {
        "id": "pBJun1PS0sJq"
      },
      "source": [
        "###random library"
      ]
    },
    {
      "cell_type": "code",
      "execution_count": null,
      "metadata": {
        "colab": {
          "base_uri": "https://localhost:8080/"
        },
        "id": "tWkOB9950vm_",
        "outputId": "9352d789-c163-4cd3-c1c1-8ae49542d029"
      },
      "outputs": [
        {
          "name": "stdout",
          "output_type": "stream",
          "text": [
            "0.31581186566645125\n"
          ]
        }
      ],
      "source": [
        "import random\n",
        "print(random.random())\n",
        "#here this will print random no. between 0 and 1."
      ]
    },
    {
      "cell_type": "code",
      "execution_count": null,
      "metadata": {
        "colab": {
          "base_uri": "https://localhost:8080/"
        },
        "id": "SwQoTsD01EiO",
        "outputId": "43b6c112-9ab5-4a09-a0da-7032a8038ff7"
      },
      "outputs": [
        {
          "name": "stdout",
          "output_type": "stream",
          "text": [
            "49\n"
          ]
        }
      ],
      "source": [
        "import random\n",
        "print(random.randint(1, 100))\n",
        "#here it will print random integers between 1 and 100 (including 1 and 100 both)"
      ]
    },
    {
      "cell_type": "code",
      "execution_count": null,
      "metadata": {
        "colab": {
          "base_uri": "https://localhost:8080/"
        },
        "id": "4sJziRcH1l8q",
        "outputId": "6c02cf33-8d86-47ae-b587-98e2e601b0b2"
      },
      "outputs": [
        {
          "name": "stdout",
          "output_type": "stream",
          "text": [
            "46\n"
          ]
        }
      ],
      "source": [
        "import random\n",
        "print(random.randrange(1,100))\n",
        "#here it will print random integers between 1 to 100 (including 1 but excluding 100)"
      ]
    },
    {
      "cell_type": "code",
      "execution_count": null,
      "metadata": {
        "colab": {
          "base_uri": "https://localhost:8080/"
        },
        "id": "cMRMdWSC2cJJ",
        "outputId": "cfe8ca22-a82b-4609-decf-789a231d376e"
      },
      "outputs": [
        {
          "name": "stdout",
          "output_type": "stream",
          "text": [
            "tails\n"
          ]
        }
      ],
      "source": [
        "#using random library to stimulate a coin toss.\n",
        "\n",
        "import random\n",
        "a = random.randint(0,1)\n",
        "\n",
        "if a == 0:\n",
        "  print(\"heads\")\n",
        "else:\n",
        "  print(\"tails\")"
      ]
    },
    {
      "cell_type": "code",
      "execution_count": null,
      "metadata": {
        "colab": {
          "base_uri": "https://localhost:8080/"
        },
        "id": "uHHxwvYO2_i-",
        "outputId": "e2104be8-71e6-420d-9169-f387572b4e72"
      },
      "outputs": [
        {
          "name": "stdout",
          "output_type": "stream",
          "text": [
            "5\n"
          ]
        }
      ],
      "source": [
        "#using random library to stimulate a dice roll\n",
        "\n",
        "import random\n",
        "print(random.randint(1, 6))"
      ]
    },
    {
      "cell_type": "code",
      "execution_count": null,
      "metadata": {
        "colab": {
          "base_uri": "https://localhost:8080/"
        },
        "id": "A5BfEX1e3YUA",
        "outputId": "a888dc39-df06-4bc0-96a6-21160e89852b"
      },
      "outputs": [
        {
          "name": "stdout",
          "output_type": "stream",
          "text": [
            "The total of your pair of dice is: 12\n"
          ]
        }
      ],
      "source": [
        "#using random library to stimulate rolling of a pair of dice\n",
        "\n",
        "import random\n",
        "\n",
        "dice_1 = random.randint(1, 6)\n",
        "dice_2 = random.randint(1, 6)\n",
        "\n",
        "total = dice_1 + dice_2\n",
        "print(\"The total of your pair of dice is:\", total)"
      ]
    },
    {
      "cell_type": "markdown",
      "metadata": {
        "id": "u5jkFbQC6dBz"
      },
      "source": [
        "###calendar library"
      ]
    },
    {
      "cell_type": "code",
      "execution_count": null,
      "metadata": {
        "colab": {
          "base_uri": "https://localhost:8080/"
        },
        "id": "UcI7wBbj6god",
        "outputId": "283dd710-df30-4987-d558-ef1ee65c73f1"
      },
      "outputs": [
        {
          "name": "stdout",
          "output_type": "stream",
          "text": [
            "    January 2024\n",
            "Mo Tu We Th Fr Sa Su\n",
            " 1  2  3  4  5  6  7\n",
            " 8  9 10 11 12 13 14\n",
            "15 16 17 18 19 20 21\n",
            "22 23 24 25 26 27 28\n",
            "29 30 31\n",
            "\n"
          ]
        }
      ],
      "source": [
        "import calendar\n",
        "print(calendar.month(2024, 1))\n",
        "\n",
        "#here print(calendar.month(y, m)) prints the calendar of 'm' month of year 'y'"
      ]
    },
    {
      "cell_type": "code",
      "execution_count": null,
      "metadata": {
        "colab": {
          "base_uri": "https://localhost:8080/"
        },
        "id": "dAys1w9F7J0m",
        "outputId": "89389d8f-1875-4c9a-c368-8d32235d4d43"
      },
      "outputs": [
        {
          "name": "stdout",
          "output_type": "stream",
          "text": [
            "                                  2024\n",
            "\n",
            "      January                   February                   March\n",
            "Mo Tu We Th Fr Sa Su      Mo Tu We Th Fr Sa Su      Mo Tu We Th Fr Sa Su\n",
            " 1  2  3  4  5  6  7                1  2  3  4                   1  2  3\n",
            " 8  9 10 11 12 13 14       5  6  7  8  9 10 11       4  5  6  7  8  9 10\n",
            "15 16 17 18 19 20 21      12 13 14 15 16 17 18      11 12 13 14 15 16 17\n",
            "22 23 24 25 26 27 28      19 20 21 22 23 24 25      18 19 20 21 22 23 24\n",
            "29 30 31                  26 27 28 29               25 26 27 28 29 30 31\n",
            "\n",
            "       April                      May                       June\n",
            "Mo Tu We Th Fr Sa Su      Mo Tu We Th Fr Sa Su      Mo Tu We Th Fr Sa Su\n",
            " 1  2  3  4  5  6  7             1  2  3  4  5                      1  2\n",
            " 8  9 10 11 12 13 14       6  7  8  9 10 11 12       3  4  5  6  7  8  9\n",
            "15 16 17 18 19 20 21      13 14 15 16 17 18 19      10 11 12 13 14 15 16\n",
            "22 23 24 25 26 27 28      20 21 22 23 24 25 26      17 18 19 20 21 22 23\n",
            "29 30                     27 28 29 30 31            24 25 26 27 28 29 30\n",
            "\n",
            "        July                     August                  September\n",
            "Mo Tu We Th Fr Sa Su      Mo Tu We Th Fr Sa Su      Mo Tu We Th Fr Sa Su\n",
            " 1  2  3  4  5  6  7                1  2  3  4                         1\n",
            " 8  9 10 11 12 13 14       5  6  7  8  9 10 11       2  3  4  5  6  7  8\n",
            "15 16 17 18 19 20 21      12 13 14 15 16 17 18       9 10 11 12 13 14 15\n",
            "22 23 24 25 26 27 28      19 20 21 22 23 24 25      16 17 18 19 20 21 22\n",
            "29 30 31                  26 27 28 29 30 31         23 24 25 26 27 28 29\n",
            "                                                    30\n",
            "\n",
            "      October                   November                  December\n",
            "Mo Tu We Th Fr Sa Su      Mo Tu We Th Fr Sa Su      Mo Tu We Th Fr Sa Su\n",
            "    1  2  3  4  5  6                   1  2  3                         1\n",
            " 7  8  9 10 11 12 13       4  5  6  7  8  9 10       2  3  4  5  6  7  8\n",
            "14 15 16 17 18 19 20      11 12 13 14 15 16 17       9 10 11 12 13 14 15\n",
            "21 22 23 24 25 26 27      18 19 20 21 22 23 24      16 17 18 19 20 21 22\n",
            "28 29 30 31               25 26 27 28 29 30         23 24 25 26 27 28 29\n",
            "                                                    30 31\n",
            "\n"
          ]
        }
      ],
      "source": [
        "import calendar\n",
        "print(calendar.calendar(2024))\n",
        "\n",
        "#here print(calendar.calendar(y)) prints the calendar of entire year 'y'"
      ]
    },
    {
      "cell_type": "markdown",
      "source": [
        "###String library"
      ],
      "metadata": {
        "id": "JqTvZzbjmSHP"
      }
    },
    {
      "cell_type": "code",
      "source": [
        "import string\n",
        "\n",
        "alpha1 = string.ascii_letters\n",
        "#brings all the lowercase and uppercase letters\n",
        "\n",
        "alpha2 = string.ascii_uppercase\n",
        "#brings all the uppercase letters\n",
        "\n",
        "alpha3 = string.ascii_lowercase\n",
        "#brings all the lowercase letters\n",
        "\n",
        "print(alpha1)\n",
        "print(alpha2)\n",
        "print(alpha3)"
      ],
      "metadata": {
        "colab": {
          "base_uri": "https://localhost:8080/"
        },
        "id": "h6yrji1FmU3S",
        "outputId": "bfc10857-7df9-4127-8c70-9eb39576f8b9"
      },
      "execution_count": null,
      "outputs": [
        {
          "output_type": "stream",
          "name": "stdout",
          "text": [
            "abcdefghijklmnopqrstuvwxyzABCDEFGHIJKLMNOPQRSTUVWXYZ\n",
            "ABCDEFGHIJKLMNOPQRSTUVWXYZ\n",
            "abcdefghijklmnopqrstuvwxyz\n"
          ]
        }
      ]
    },
    {
      "cell_type": "markdown",
      "metadata": {
        "id": "XZ5i0aGt6LN9"
      },
      "source": [
        "##Different ways to import a library"
      ]
    },
    {
      "cell_type": "code",
      "execution_count": null,
      "metadata": {
        "colab": {
          "base_uri": "https://localhost:8080/"
        },
        "id": "d_epkcKK6PtI",
        "outputId": "96260be0-d2a0-411e-9a59-00e09ab3b15e"
      },
      "outputs": [
        {
          "name": "stdout",
          "output_type": "stream",
          "text": [
            "120\n"
          ]
        }
      ],
      "source": [
        "#1. Importing the entire library\n",
        "\n",
        "import math\n",
        "\n",
        "print(math.factorial(5))\n",
        "\n",
        "#in such case we have to mention name of library before every function that we are using from that library."
      ]
    },
    {
      "cell_type": "code",
      "execution_count": null,
      "metadata": {
        "colab": {
          "base_uri": "https://localhost:8080/"
        },
        "id": "nn_I_G9E8lO6",
        "outputId": "746e1d56-1cb0-4a0f-bead-d2c19736c4bf"
      },
      "outputs": [
        {
          "name": "stdout",
          "output_type": "stream",
          "text": [
            "120\n"
          ]
        }
      ],
      "source": [
        "#2. Importing library as a varible\n",
        "\n",
        "import math as m\n",
        "\n",
        "print(m.factorial(5))"
      ]
    },
    {
      "cell_type": "code",
      "execution_count": null,
      "metadata": {
        "colab": {
          "base_uri": "https://localhost:8080/"
        },
        "id": "SYAZs0z872xM",
        "outputId": "fa301e87-1ff4-4616-d947-99ec9f5b2f5e"
      },
      "outputs": [
        {
          "name": "stdout",
          "output_type": "stream",
          "text": [
            "120\n"
          ]
        }
      ],
      "source": [
        "#3. Importing the entire 'content' of library\n",
        "\n",
        "from math import *\n",
        "\n",
        "print(factorial(5))\n",
        "\n",
        "#here we don't have to mention the name of library before function"
      ]
    },
    {
      "cell_type": "code",
      "execution_count": null,
      "metadata": {
        "colab": {
          "base_uri": "https://localhost:8080/"
        },
        "id": "sjgfJPU88O16",
        "outputId": "e41d9b9e-0dce-4319-de33-79be67f3781f"
      },
      "outputs": [
        {
          "name": "stdout",
          "output_type": "stream",
          "text": [
            "2.302585092994046\n",
            "0.9092974268256817\n",
            "120\n"
          ]
        }
      ],
      "source": [
        "#4. Importing only relevant features from the library\n",
        "\n",
        "from math import log, sin, factorial\n",
        "\n",
        "print(log(10))\n",
        "print(sin(2))\n",
        "print(factorial(5))"
      ]
    },
    {
      "cell_type": "code",
      "execution_count": null,
      "metadata": {
        "colab": {
          "base_uri": "https://localhost:8080/"
        },
        "id": "bSmfIl2t87Kg",
        "outputId": "1c9effe0-998c-48bc-bae9-c74842d7397c"
      },
      "outputs": [
        {
          "name": "stdout",
          "output_type": "stream",
          "text": [
            "0.9092974268256817\n"
          ]
        }
      ],
      "source": [
        "#5. Importing only relevant features as variable\n",
        "\n",
        "from math import sin as s\n",
        "\n",
        "print(s(2))"
      ]
    }
  ]
}