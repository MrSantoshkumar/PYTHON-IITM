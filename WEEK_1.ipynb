{
  "nbformat": 4,
  "nbformat_minor": 0,
  "metadata": {
    "colab": {
      "provenance": [],
      "authorship_tag": "ABX9TyO07jEKm/mm8PItWFKgMqBH",
      "include_colab_link": true
    },
    "kernelspec": {
      "name": "python3",
      "display_name": "Python 3"
    },
    "language_info": {
      "name": "python"
    }
  },
  "cells": [
    {
      "cell_type": "markdown",
      "metadata": {
        "id": "view-in-github",
        "colab_type": "text"
      },
      "source": [
        "<a href=\"https://colab.research.google.com/github/MrSantoshkumar/PYTHON-IITM/blob/main/WEEK_1.ipynb\" target=\"_parent\"><img src=\"https://colab.research.google.com/assets/colab-badge.svg\" alt=\"Open In Colab\"/></a>"
      ]
    },
    {
      "cell_type": "markdown",
      "source": [],
      "metadata": {
        "id": "wPfyDo7-1p4n"
      }
    },
    {
      "cell_type": "markdown",
      "source": [
        "Hellow"
      ],
      "metadata": {
        "id": "IihB6_v31swf"
      }
    },
    {
      "cell_type": "code",
      "source": [
        "print(\"My name is santosh kumar .I am learning python\",24,1,2024)"
      ],
      "metadata": {
        "colab": {
          "base_uri": "https://localhost:8080/"
        },
        "id": "67xF_jiR10Vf",
        "outputId": "cbf70ba8-f5db-4778-b06e-13610cf06d83"
      },
      "execution_count": null,
      "outputs": [
        {
          "output_type": "stream",
          "name": "stdout",
          "text": [
            "My name is santosh kumar .I am learning python 24 1 2024\n"
          ]
        }
      ]
    },
    {
      "cell_type": "code",
      "source": [
        "print['hellow']"
      ],
      "metadata": {
        "colab": {
          "base_uri": "https://localhost:8080/",
          "height": 175
        },
        "id": "in5vTT3z3FKo",
        "outputId": "af0a021c-7c21-41a4-f19e-76a10ef7f4aa"
      },
      "execution_count": null,
      "outputs": [
        {
          "output_type": "error",
          "ename": "TypeError",
          "evalue": "'builtin_function_or_method' object is not subscriptable",
          "traceback": [
            "\u001b[0;31m---------------------------------------------------------------------------\u001b[0m",
            "\u001b[0;31mTypeError\u001b[0m                                 Traceback (most recent call last)",
            "\u001b[0;32m<ipython-input-9-b619ce381d85>\u001b[0m in \u001b[0;36m<cell line: 1>\u001b[0;34m()\u001b[0m\n\u001b[0;32m----> 1\u001b[0;31m \u001b[0mprint\u001b[0m\u001b[0;34m[\u001b[0m\u001b[0;34m'hellow'\u001b[0m\u001b[0;34m]\u001b[0m\u001b[0;34m\u001b[0m\u001b[0;34m\u001b[0m\u001b[0m\n\u001b[0m",
            "\u001b[0;31mTypeError\u001b[0m: 'builtin_function_or_method' object is not subscriptable"
          ]
        }
      ]
    },
    {
      "cell_type": "code",
      "source": [
        "print{Hellow}"
      ],
      "metadata": {
        "colab": {
          "base_uri": "https://localhost:8080/",
          "height": 140
        },
        "id": "L8A8uXVx3n5Y",
        "outputId": "29be9c1b-2908-4ce8-8f84-b9b2af6b8dac"
      },
      "execution_count": null,
      "outputs": [
        {
          "output_type": "error",
          "ename": "SyntaxError",
          "evalue": "Missing parentheses in call to 'print'. Did you mean print(...)? (<ipython-input-10-d3d7cf5cd5d0>, line 1)",
          "traceback": [
            "\u001b[0;36m  File \u001b[0;32m\"<ipython-input-10-d3d7cf5cd5d0>\"\u001b[0;36m, line \u001b[0;32m1\u001b[0m\n\u001b[0;31m    print{Hellow}\u001b[0m\n\u001b[0m    ^\u001b[0m\n\u001b[0;31mSyntaxError\u001b[0m\u001b[0;31m:\u001b[0m Missing parentheses in call to 'print'. Did you mean print(...)?\n"
          ]
        }
      ]
    },
    {
      "cell_type": "code",
      "source": [
        "print(10)"
      ],
      "metadata": {
        "colab": {
          "base_uri": "https://localhost:8080/"
        },
        "id": "MqlR-dL930ln",
        "outputId": "53b344c0-1daa-410d-b3ad-74aefe639499"
      },
      "execution_count": null,
      "outputs": [
        {
          "output_type": "stream",
          "name": "stdout",
          "text": [
            "10\n"
          ]
        }
      ]
    },
    {
      "cell_type": "code",
      "source": [
        "a=10\n",
        "print(a)\n",
        "b=20\n",
        "print(b)\n",
        "print(a+b)\n",
        "print(a*b)\n",
        "print(a/b)\n",
        "print(a//b)"
      ],
      "metadata": {
        "colab": {
          "base_uri": "https://localhost:8080/"
        },
        "id": "4EgBlXJp4kzm",
        "outputId": "1f9f6afb-1e76-4438-8270-34c98573b1b5"
      },
      "execution_count": null,
      "outputs": [
        {
          "output_type": "stream",
          "name": "stdout",
          "text": [
            "10\n",
            "20\n",
            "30\n",
            "200\n",
            "0.5\n",
            "0\n"
          ]
        }
      ]
    },
    {
      "cell_type": "code",
      "source": [
        "a=10\n",
        "print(a)\n",
        "a=a+1\n",
        "print(a)"
      ],
      "metadata": {
        "colab": {
          "base_uri": "https://localhost:8080/"
        },
        "id": "ylnBNICk4F1W",
        "outputId": "171df2ab-bd47-445e-f109-5b839061b543"
      },
      "execution_count": null,
      "outputs": [
        {
          "output_type": "stream",
          "name": "stdout",
          "text": [
            "10\n",
            "11\n"
          ]
        }
      ]
    },
    {
      "cell_type": "code",
      "source": [
        "print('inter a number:')\n",
        "n=int(input())\n",
        "print(n)\n",
        "print(n+1)\n",
        "print(n+2)"
      ],
      "metadata": {
        "colab": {
          "base_uri": "https://localhost:8080/"
        },
        "id": "75xRUlpB65U_",
        "outputId": "2eca3d29-a081-410a-ec5d-54c6726e7777"
      },
      "execution_count": null,
      "outputs": [
        {
          "output_type": "stream",
          "name": "stdout",
          "text": [
            "inter a number:\n",
            "125\n",
            "125\n",
            "126\n",
            "127\n"
          ]
        }
      ]
    },
    {
      "cell_type": "code",
      "source": [
        "print('Hellow,type in your name:')\n",
        "n=str(input())\n",
        "print('hellow',n,'How are you?')\n",
        "\n",
        "print('Which place you live')\n",
        "p=str(input())\n",
        "\n",
        "print('Hellow',n,'how in weather in',p)"
      ],
      "metadata": {
        "colab": {
          "base_uri": "https://localhost:8080/"
        },
        "id": "_tst02js8Un_",
        "outputId": "20a2aa7d-8700-4ffd-e58c-482baa1be8b1"
      },
      "execution_count": null,
      "outputs": [
        {
          "output_type": "stream",
          "name": "stdout",
          "text": [
            "Hellow,type in your name:\n",
            "santosh kumar\n",
            "hellow santosh kumar How are you?\n",
            "Which place you live\n",
            "alwar,rajasthan\n",
            "Hellow santosh kumar how in weather in alwar,rajasthan\n"
          ]
        }
      ]
    },
    {
      "cell_type": "code",
      "source": [
        "name=santosh kumar\n",
        "name= rinku\n",
        "name= reversed\n",
        "number =10\n",
        "number=20\n",
        "number=40\n",
        "number=number+1\n"
      ],
      "metadata": {
        "id": "t10z_5gEAuLd"
      },
      "execution_count": null,
      "outputs": []
    },
    {
      "cell_type": "code",
      "source": [
        "r=int(input('Enter radius of circle:'))\n",
        "area=3.14*r*r\n",
        "print('area of circle with radius ',r, 'is',area)"
      ],
      "metadata": {
        "colab": {
          "base_uri": "https://localhost:8080/"
        },
        "id": "p2QpwHSBBKrd",
        "outputId": "ad7c1b14-c468-4d9d-af59-6e2d5e8d4e68"
      },
      "execution_count": null,
      "outputs": [
        {
          "output_type": "stream",
          "name": "stdout",
          "text": [
            "Enter radius of circle:15\n",
            "area of circle with radius  15 is 706.5\n"
          ]
        }
      ]
    },
    {
      "cell_type": "markdown",
      "source": [
        " Data type 1"
      ],
      "metadata": {
        "id": "cv-0zdo6DWcN"
      }
    },
    {
      "cell_type": "code",
      "source": [
        "n=10\n",
        "print(n)\n",
        "r=6.5\n",
        "s='santosh'\n",
        "print(s)\n",
        "\n",
        "print('n is type of : ', type(n))\n",
        "print('r is type of : ', type(r))\n",
        "print('s is type of: ', type(s))"
      ],
      "metadata": {
        "colab": {
          "base_uri": "https://localhost:8080/"
        },
        "id": "N7VxwTDuDgAF",
        "outputId": "5685eb2f-e18b-4202-9ac9-cbd9d7ad69c6"
      },
      "execution_count": null,
      "outputs": [
        {
          "output_type": "stream",
          "name": "stdout",
          "text": [
            "10\n",
            "santosh\n",
            "n is type of :  <class 'int'>\n",
            "r is type of :  <class 'float'>\n",
            "s is type of:  <class 'str'>\n"
          ]
        }
      ]
    },
    {
      "cell_type": "code",
      "source": [
        "from binascii import b2a_qp\n",
        "l1=[10,20,30,40,50,60,70]\n",
        "l2={10,20,30,40,50,60,70}\n",
        "l3=(10,20,30,40,50,60,70)\n",
        "b1=True\n",
        "b2=False\n",
        "print(type(l1))\n",
        "print(type(l2))\n",
        "print(type(l3))\n",
        "print(type(b1))\n",
        "print(type(b2))"
      ],
      "metadata": {
        "colab": {
          "base_uri": "https://localhost:8080/"
        },
        "id": "CdKdRXUYHe-E",
        "outputId": "ea48b7a8-269d-479d-c8af-32fe753ce130"
      },
      "execution_count": null,
      "outputs": [
        {
          "output_type": "stream",
          "name": "stdout",
          "text": [
            "<class 'list'>\n",
            "<class 'set'>\n",
            "<class 'tuple'>\n",
            "<class 'bool'>\n",
            "<class 'bool'>\n"
          ]
        }
      ]
    },
    {
      "cell_type": "code",
      "source": [],
      "metadata": {
        "id": "h8gLCzb6Jixr"
      },
      "execution_count": null,
      "outputs": []
    },
    {
      "cell_type": "code",
      "source": [
        "a=int(5.7)\n",
        "b=int(6)\n",
        "print(a,type(a))\n",
        "print(b,type(b))"
      ],
      "metadata": {
        "colab": {
          "base_uri": "https://localhost:8080/"
        },
        "id": "8CX63HTRJkK6",
        "outputId": "670b8e8c-00dd-4765-cb0d-29cd73079f4a"
      },
      "execution_count": null,
      "outputs": [
        {
          "output_type": "stream",
          "name": "stdout",
          "text": [
            "5 <class 'int'>\n",
            "6 <class 'int'>\n"
          ]
        }
      ]
    },
    {
      "cell_type": "code",
      "source": [
        "a=bool(10)\n",
        "b=bool(0)\n",
        "c=bool(-10)\n",
        "d=bool(12)\n",
        "print(a,type(a))\n",
        "print(b,type(b))\n",
        "print(c,type(c))\n",
        "print(d,type(d))"
      ],
      "metadata": {
        "colab": {
          "base_uri": "https://localhost:8080/"
        },
        "id": "CKxOeZ2jKq16",
        "outputId": "80197c3b-19f1-4d76-9051-536d43f7e6cf"
      },
      "execution_count": null,
      "outputs": [
        {
          "output_type": "stream",
          "name": "stdout",
          "text": [
            "True <class 'bool'>\n",
            "False <class 'bool'>\n",
            "True <class 'bool'>\n",
            "True <class 'bool'>\n"
          ]
        }
      ]
    },
    {
      "cell_type": "code",
      "source": [
        "a=bool('india')\n",
        "b=bool('10')\n",
        "c=bool('0')\n",
        "d=bool('-10')\n",
        "e=bool(\"\")\n",
        "\n",
        "print(a,type(a))\n",
        "print(b,type(b))\n",
        "print(c,type(c))\n",
        "print(d,type(d))\n",
        "print(e,type(e))"
      ],
      "metadata": {
        "colab": {
          "base_uri": "https://localhost:8080/"
        },
        "id": "kAbPnfK2LyZa",
        "outputId": "94d95f03-d2f0-4088-9e7a-ab3498fd5b42"
      },
      "execution_count": null,
      "outputs": [
        {
          "output_type": "stream",
          "name": "stdout",
          "text": [
            "True <class 'bool'>\n",
            "True <class 'bool'>\n",
            "True <class 'bool'>\n",
            "True <class 'bool'>\n",
            "False <class 'bool'>\n"
          ]
        }
      ]
    },
    {
      "cell_type": "markdown",
      "source": [
        "Oprators and **Expressions**"
      ],
      "metadata": {
        "id": "x4-rG8ivNh2q"
      }
    },
    {
      "cell_type": "code",
      "source": [
        "a=5\n",
        "b=54\n",
        "c=a*b\n",
        "print(c)"
      ],
      "metadata": {
        "colab": {
          "base_uri": "https://localhost:8080/"
        },
        "id": "inhP05td12Fz",
        "outputId": "7540026b-9f4f-44ab-9d2a-5919998c50ea"
      },
      "execution_count": null,
      "outputs": [
        {
          "output_type": "stream",
          "name": "stdout",
          "text": [
            "270\n"
          ]
        }
      ]
    },
    {
      "cell_type": "code",
      "source": [
        "a=\"ram\"\n",
        "b=\"seeta\"\n",
        "c=a*b\n",
        "d=a+b\n",
        "\n",
        "print(c)\n",
        "print(d)"
      ],
      "metadata": {
        "colab": {
          "base_uri": "https://localhost:8080/",
          "height": 245
        },
        "id": "f8HztWtt2D7e",
        "outputId": "fde7da70-6a24-4ce4-cc97-dcb167809dc7"
      },
      "execution_count": null,
      "outputs": [
        {
          "output_type": "error",
          "ename": "TypeError",
          "evalue": "can't multiply sequence by non-int of type 'str'",
          "traceback": [
            "\u001b[0;31m---------------------------------------------------------------------------\u001b[0m",
            "\u001b[0;31mTypeError\u001b[0m                                 Traceback (most recent call last)",
            "\u001b[0;32m<ipython-input-3-cb14516e6cb2>\u001b[0m in \u001b[0;36m<cell line: 3>\u001b[0;34m()\u001b[0m\n\u001b[1;32m      1\u001b[0m \u001b[0ma\u001b[0m\u001b[0;34m=\u001b[0m\u001b[0;34m\"ram\"\u001b[0m\u001b[0;34m\u001b[0m\u001b[0;34m\u001b[0m\u001b[0m\n\u001b[1;32m      2\u001b[0m \u001b[0mb\u001b[0m\u001b[0;34m=\u001b[0m\u001b[0;34m\"seeta\"\u001b[0m\u001b[0;34m\u001b[0m\u001b[0;34m\u001b[0m\u001b[0m\n\u001b[0;32m----> 3\u001b[0;31m \u001b[0mc\u001b[0m\u001b[0;34m=\u001b[0m\u001b[0ma\u001b[0m\u001b[0;34m*\u001b[0m\u001b[0mb\u001b[0m\u001b[0;34m\u001b[0m\u001b[0;34m\u001b[0m\u001b[0m\n\u001b[0m\u001b[1;32m      4\u001b[0m \u001b[0md\u001b[0m\u001b[0;34m=\u001b[0m\u001b[0ma\u001b[0m\u001b[0;34m+\u001b[0m\u001b[0mb\u001b[0m\u001b[0;34m\u001b[0m\u001b[0;34m\u001b[0m\u001b[0m\n\u001b[1;32m      5\u001b[0m \u001b[0;34m\u001b[0m\u001b[0m\n",
            "\u001b[0;31mTypeError\u001b[0m: can't multiply sequence by non-int of type 'str'"
          ]
        }
      ]
    },
    {
      "cell_type": "code",
      "source": [
        "a='ram'\n",
        "b='seeta'\n",
        "c=a+b\n",
        "print(c)"
      ],
      "metadata": {
        "colab": {
          "base_uri": "https://localhost:8080/"
        },
        "id": "nT3V2zxB23sU",
        "outputId": "1287c86d-0c2c-4bd8-9fa4-03063a6f2261"
      },
      "execution_count": null,
      "outputs": [
        {
          "output_type": "stream",
          "name": "stdout",
          "text": [
            "ramseeta\n"
          ]
        }
      ]
    },
    {
      "cell_type": "code",
      "source": [
        "a=[1,2,3,4,5,6,7]\n",
        "\n",
        "b=[7,6,5,4,3,2,1]\n",
        "c=a+b\n",
        "print(c)"
      ],
      "metadata": {
        "colab": {
          "base_uri": "https://localhost:8080/"
        },
        "id": "1m4kjMdA3dpo",
        "outputId": "0f8d5f9a-2e09-47ea-8f07-2d56bee9ae41"
      },
      "execution_count": null,
      "outputs": [
        {
          "output_type": "stream",
          "name": "stdout",
          "text": [
            "[1, 2, 3, 4, 5, 6, 7, 7, 6, 5, 4, 3, 2, 1]\n"
          ]
        }
      ]
    },
    {
      "cell_type": "code",
      "source": [
        "a=10 + 13*2\n",
        "b=(10+13)*2\n",
        "print(a,b)"
      ],
      "metadata": {
        "colab": {
          "base_uri": "https://localhost:8080/"
        },
        "id": "Oxo8S3aU5S8K",
        "outputId": "ad5d0184-6edb-4e21-ecf3-885e41bc735c"
      },
      "execution_count": null,
      "outputs": [
        {
          "output_type": "stream",
          "name": "stdout",
          "text": [
            "36 46\n"
          ]
        }
      ]
    },
    {
      "cell_type": "markdown",
      "source": [
        "# Arithmatic operators (+,-,*,/,//,%,** )"
      ],
      "metadata": {
        "id": "6sXqTXpp5oGT"
      }
    },
    {
      "cell_type": "code",
      "source": [
        "print(\"addition\",2+4)\n",
        "print(\"subtructiion\",2-4)\n",
        "print(\"multiplication\",2*4)\n",
        "print(\"divison\",7/3)\n",
        "print(\"floor divison\",7//3)\n",
        "print(\"modulo\",7%3)\n",
        "print(\"exponent\",2**4)\n"
      ],
      "metadata": {
        "colab": {
          "base_uri": "https://localhost:8080/"
        },
        "id": "WoANdKCS6wyi",
        "outputId": "a1ebfde0-3148-43de-cfd8-ca6b4836e288"
      },
      "execution_count": null,
      "outputs": [
        {
          "output_type": "stream",
          "name": "stdout",
          "text": [
            "addition 6\n",
            "subtructiion -2\n",
            "multiplication 8\n",
            "divison 2.3333333333333335\n",
            "floor divison 2\n",
            "modulo 1\n",
            "exponent 16\n"
          ]
        }
      ]
    },
    {
      "cell_type": "markdown",
      "source": [
        "# Relational (<,>,<=,>=,==,=!)"
      ],
      "metadata": {
        "id": "XXkMxW0b9VgF"
      }
    },
    {
      "cell_type": "code",
      "source": [
        "print(5<4)\n",
        "print(5<4)\n",
        "print(5<=4)\n",
        "print(5>=4)\n",
        "print(5==4)\n",
        "print(5!=4)"
      ],
      "metadata": {
        "colab": {
          "base_uri": "https://localhost:8080/"
        },
        "id": "nIUV_Ssx9u5E",
        "outputId": "b05ccf5d-373a-41d9-f192-46cd4448b48b"
      },
      "execution_count": null,
      "outputs": [
        {
          "output_type": "stream",
          "name": "stdout",
          "text": [
            "False\n",
            "False\n",
            "False\n",
            "True\n",
            "False\n",
            "True\n"
          ]
        }
      ]
    },
    {
      "cell_type": "markdown",
      "source": [
        "Logical (And,Or,not)"
      ],
      "metadata": {
        "id": "Rk-Ahs6z-69z"
      }
    },
    {
      "cell_type": "code",
      "source": [
        "print(True and True)\n",
        "print(True and False)\n",
        "print(False and True)\n",
        "print(False and False)"
      ],
      "metadata": {
        "colab": {
          "base_uri": "https://localhost:8080/"
        },
        "id": "ecShaxEM-_b7",
        "outputId": "4cd70dca-b1f5-4ac5-aac4-be81145a39c2"
      },
      "execution_count": null,
      "outputs": [
        {
          "output_type": "stream",
          "name": "stdout",
          "text": [
            "True\n",
            "False\n",
            "False\n",
            "False\n"
          ]
        }
      ]
    },
    {
      "cell_type": "markdown",
      "source": [
        "String"
      ],
      "metadata": {
        "id": "RvbfOXn7Az1g"
      }
    },
    {
      "cell_type": "code",
      "source": [
        "a=\"santosh\"\n",
        "b=\"Kumar\"\n",
        "print(a[0])\n",
        "print(a[1])\n",
        "print(a[0:3])"
      ],
      "metadata": {
        "colab": {
          "base_uri": "https://localhost:8080/"
        },
        "id": "2NRe_7M8A4mn",
        "outputId": "4fbb27b1-ef68-46c3-cd16-eb944c638ff7"
      },
      "execution_count": null,
      "outputs": [
        {
          "output_type": "stream",
          "name": "stdout",
          "text": [
            "s\n",
            "a\n",
            "san\n"
          ]
        }
      ]
    },
    {
      "cell_type": "code",
      "source": [
        "a=\"santosh\"\n",
        "b=\"kumar\"\n",
        "print(a+b)"
      ],
      "metadata": {
        "colab": {
          "base_uri": "https://localhost:8080/"
        },
        "id": "GGhQNFojCJcj",
        "outputId": "a89d1e01-5ace-4982-b983-4bfec0b17fa0"
      },
      "execution_count": null,
      "outputs": [
        {
          "output_type": "stream",
          "name": "stdout",
          "text": [
            "santoshkumar\n"
          ]
        }
      ]
    },
    {
      "cell_type": "code",
      "source": [
        "a=\"santosh\"\n",
        "b=\"kumar\"\n",
        "print(a-b)"
      ],
      "metadata": {
        "colab": {
          "base_uri": "https://localhost:8080/",
          "height": 210
        },
        "id": "wSuaakdyCaML",
        "outputId": "f3c998b7-ded3-42a7-ba59-118e4ca51557"
      },
      "execution_count": null,
      "outputs": [
        {
          "output_type": "error",
          "ename": "TypeError",
          "evalue": "unsupported operand type(s) for -: 'str' and 'str'",
          "traceback": [
            "\u001b[0;31m---------------------------------------------------------------------------\u001b[0m",
            "\u001b[0;31mTypeError\u001b[0m                                 Traceback (most recent call last)",
            "\u001b[0;32m<ipython-input-19-02222afd3e27>\u001b[0m in \u001b[0;36m<cell line: 3>\u001b[0;34m()\u001b[0m\n\u001b[1;32m      1\u001b[0m \u001b[0ma\u001b[0m\u001b[0;34m=\u001b[0m\u001b[0;34m\"santosh\"\u001b[0m\u001b[0;34m\u001b[0m\u001b[0;34m\u001b[0m\u001b[0m\n\u001b[1;32m      2\u001b[0m \u001b[0mb\u001b[0m\u001b[0;34m=\u001b[0m\u001b[0;34m\"kumar\"\u001b[0m\u001b[0;34m\u001b[0m\u001b[0;34m\u001b[0m\u001b[0m\n\u001b[0;32m----> 3\u001b[0;31m \u001b[0mprint\u001b[0m\u001b[0;34m(\u001b[0m\u001b[0ma\u001b[0m\u001b[0;34m-\u001b[0m\u001b[0mb\u001b[0m\u001b[0;34m)\u001b[0m\u001b[0;34m\u001b[0m\u001b[0;34m\u001b[0m\u001b[0m\n\u001b[0m",
            "\u001b[0;31mTypeError\u001b[0m: unsupported operand type(s) for -: 'str' and 'str'"
          ]
        }
      ]
    },
    {
      "cell_type": "code",
      "source": [
        "s=\"99298622236\"\n",
        "a = s[4]\n",
        "b = s[7]\n",
        "print(a)\n",
        "print(b)\n",
        "print(a+b)"
      ],
      "metadata": {
        "colab": {
          "base_uri": "https://localhost:8080/"
        },
        "id": "KOthR_4sDLgk",
        "outputId": "cd68c9a4-fe13-4e7f-b0ff-267bdf431d12"
      },
      "execution_count": null,
      "outputs": [
        {
          "output_type": "stream",
          "name": "stdout",
          "text": [
            "8\n",
            "2\n",
            "82\n"
          ]
        }
      ]
    },
    {
      "cell_type": "code",
      "source": [
        "s= \"9929862236\"\n",
        "a=int(s[4])\n",
        "b=int(s[7])\n",
        "print(a)\n",
        "print(b)\n",
        "print(a+b)"
      ],
      "metadata": {
        "colab": {
          "base_uri": "https://localhost:8080/"
        },
        "id": "NuoZwtPvD_tP",
        "outputId": "19cd3b4e-de80-488e-c996-8d4fe67f42a8"
      },
      "execution_count": null,
      "outputs": [
        {
          "output_type": "stream",
          "name": "stdout",
          "text": [
            "8\n",
            "2\n",
            "10\n"
          ]
        }
      ]
    },
    {
      "cell_type": "code",
      "source": [
        "s=\"good\"\n",
        "print(s[0]*5)\n",
        "print(s*5)"
      ],
      "metadata": {
        "colab": {
          "base_uri": "https://localhost:8080/"
        },
        "id": "QJ_ik2GtFfJT",
        "outputId": "81cfa8c1-01d7-4ce8-ad55-1f544097f8af"
      },
      "execution_count": null,
      "outputs": [
        {
          "output_type": "stream",
          "name": "stdout",
          "text": [
            "ggggg\n",
            "goodgoodgoodgoodgood\n"
          ]
        }
      ]
    },
    {
      "cell_type": "code",
      "source": [
        "x=\"India\"\n",
        "print(x==\"India\")\n",
        "print(x==\"india\")"
      ],
      "metadata": {
        "colab": {
          "base_uri": "https://localhost:8080/"
        },
        "id": "Wu48pGv1F_-q",
        "outputId": "6967ce25-2e93-4c14-d4ba-e2ec359ec5f6"
      },
      "execution_count": null,
      "outputs": [
        {
          "output_type": "stream",
          "name": "stdout",
          "text": [
            "True\n",
            "False\n"
          ]
        }
      ]
    },
    {
      "cell_type": "code",
      "source": [
        "print(\"apple\">'one')\n",
        "print(\"four\"<\"ten\")"
      ],
      "metadata": {
        "colab": {
          "base_uri": "https://localhost:8080/"
        },
        "id": "RueT7_VnGsZu",
        "outputId": "d7e9c8a8-0589-463d-d246-041968ad3aa6"
      },
      "execution_count": null,
      "outputs": [
        {
          "output_type": "stream",
          "name": "stdout",
          "text": [
            "False\n",
            "True\n"
          ]
        }
      ]
    },
    {
      "cell_type": "code",
      "source": [
        "s=\"python\"\n",
        "print(s[0])\n",
        "print(s[1])\n",
        "print(s[2])\n",
        "print(s[-1])\n",
        "print(s[-2])\n",
        "print(s[-3])\n",
        "\n",
        "\n",
        "print(len(s))"
      ],
      "metadata": {
        "colab": {
          "base_uri": "https://localhost:8080/"
        },
        "id": "21m1EbzhIdy-",
        "outputId": "f2a5b758-bec3-4c43-cd5d-cd5d7ebfcbb1"
      },
      "execution_count": null,
      "outputs": [
        {
          "output_type": "stream",
          "name": "stdout",
          "text": [
            "p\n",
            "y\n",
            "t\n",
            "n\n",
            "o\n",
            "h\n",
            "6\n"
          ]
        }
      ]
    },
    {
      "cell_type": "code",
      "source": [
        "print(13%5//2*30**5)"
      ],
      "metadata": {
        "colab": {
          "base_uri": "https://localhost:8080/"
        },
        "id": "FPw1nKh_8YjI",
        "outputId": "f9933323-e64a-45cd-9001-90db332bcf45"
      },
      "execution_count": null,
      "outputs": [
        {
          "output_type": "stream",
          "name": "stdout",
          "text": [
            "24300000\n"
          ]
        }
      ]
    },
    {
      "cell_type": "code",
      "source": [
        "2**3**0"
      ],
      "metadata": {
        "colab": {
          "base_uri": "https://localhost:8080/"
        },
        "id": "htX5kGAz966J",
        "outputId": "e62757f6-30f6-45d3-a876-88ccb3e9080f"
      },
      "execution_count": null,
      "outputs": [
        {
          "output_type": "execute_result",
          "data": {
            "text/plain": [
              "2"
            ]
          },
          "metadata": {},
          "execution_count": 4
        }
      ]
    }
  ]
}