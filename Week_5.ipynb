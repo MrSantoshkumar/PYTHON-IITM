{
  "nbformat": 4,
  "nbformat_minor": 0,
  "metadata": {
    "colab": {
      "provenance": [],
      "authorship_tag": "ABX9TyMT8ia5Das5M5V4KNadNdpb",
      "include_colab_link": true
    },
    "kernelspec": {
      "name": "python3",
      "display_name": "Python 3"
    },
    "language_info": {
      "name": "python"
    }
  },
  "cells": [
    {
      "cell_type": "markdown",
      "metadata": {
        "id": "view-in-github",
        "colab_type": "text"
      },
      "source": [
        "<a href=\"https://colab.research.google.com/github/MrSantoshkumar/PYTHON-IITM/blob/main/Week_5.ipynb\" target=\"_parent\"><img src=\"https://colab.research.google.com/assets/colab-badge.svg\" alt=\"Open In Colab\"/></a>"
      ]
    },
    {
      "cell_type": "markdown",
      "source": [
        "## L5.1| Intoduction to Functions"
      ],
      "metadata": {
        "id": "51SjTpY9b8NP"
      }
    },
    {
      "cell_type": "code",
      "source": [
        "def add(a,b):\n",
        "   ans=a+b\n",
        "   print(ans)"
      ],
      "metadata": {
        "id": "5hQOnZfYcLR3"
      },
      "execution_count": null,
      "outputs": []
    },
    {
      "cell_type": "code",
      "source": [
        "add(1,6)"
      ],
      "metadata": {
        "colab": {
          "base_uri": "https://localhost:8080/"
        },
        "id": "XZ7N9h71cr4f",
        "outputId": "1433f37b-b7a3-48f0-9267-337b32bcbd81"
      },
      "execution_count": null,
      "outputs": [
        {
          "output_type": "stream",
          "name": "stdout",
          "text": [
            "7\n"
          ]
        }
      ]
    },
    {
      "cell_type": "code",
      "source": [
        "add(10,72)"
      ],
      "metadata": {
        "colab": {
          "base_uri": "https://localhost:8080/"
        },
        "id": "tJzynWIucxLf",
        "outputId": "4122db37-e387-4887-a57f-3e8aea667dcf"
      },
      "execution_count": null,
      "outputs": [
        {
          "output_type": "stream",
          "name": "stdout",
          "text": [
            "82\n"
          ]
        }
      ]
    },
    {
      "cell_type": "code",
      "source": [
        "def sub(a,b):\n",
        "  ans=a-b\n",
        "  print(ans)\n"
      ],
      "metadata": {
        "id": "TZXGrBUYc_s3"
      },
      "execution_count": null,
      "outputs": []
    },
    {
      "cell_type": "code",
      "source": [
        "sub(10,8)"
      ],
      "metadata": {
        "colab": {
          "base_uri": "https://localhost:8080/"
        },
        "id": "1r2DkHj5dPwm",
        "outputId": "1bee83e1-9da5-48b3-8304-b94ea9400141"
      },
      "execution_count": null,
      "outputs": [
        {
          "output_type": "stream",
          "name": "stdout",
          "text": [
            "2\n"
          ]
        }
      ]
    },
    {
      "cell_type": "code",
      "source": [
        "add(2,3)"
      ],
      "metadata": {
        "colab": {
          "base_uri": "https://localhost:8080/"
        },
        "id": "7EbYiQlLdbb3",
        "outputId": "ed9119e1-30a2-4093-f264-e308e503f207"
      },
      "execution_count": null,
      "outputs": [
        {
          "output_type": "stream",
          "name": "stdout",
          "text": [
            "5\n"
          ]
        }
      ]
    },
    {
      "cell_type": "code",
      "source": [
        "def discount(cost,d):\n",
        "  ans=cost-(cost*(d/100))\n",
        "  print(ans)\n"
      ],
      "metadata": {
        "id": "mR-85UTXdmve"
      },
      "execution_count": null,
      "outputs": []
    },
    {
      "cell_type": "code",
      "source": [
        "discount(100,8)"
      ],
      "metadata": {
        "colab": {
          "base_uri": "https://localhost:8080/"
        },
        "id": "BsWQ3L6veWZP",
        "outputId": "c12df439-b194-4a40-c348-86011eef51a4"
      },
      "execution_count": null,
      "outputs": [
        {
          "output_type": "stream",
          "name": "stdout",
          "text": [
            "92.0\n"
          ]
        }
      ]
    },
    {
      "cell_type": "code",
      "source": [
        "discount(100,10)"
      ],
      "metadata": {
        "colab": {
          "base_uri": "https://localhost:8080/"
        },
        "id": "wNv0MVxPeby3",
        "outputId": "14e9059b-d695-42b6-853b-dc88a512093f"
      },
      "execution_count": null,
      "outputs": [
        {
          "output_type": "stream",
          "name": "stdout",
          "text": [
            "90.0\n"
          ]
        }
      ]
    },
    {
      "cell_type": "code",
      "source": [
        "add(17,5)+sub(100,3)+discount(1500,5)"
      ],
      "metadata": {
        "colab": {
          "base_uri": "https://localhost:8080/",
          "height": 176
        },
        "id": "NSLBsgqLevVm",
        "outputId": "8b316f73-9eef-4729-b628-137f48a7b258"
      },
      "execution_count": null,
      "outputs": [
        {
          "output_type": "stream",
          "name": "stdout",
          "text": [
            "22\n",
            "97\n"
          ]
        },
        {
          "output_type": "error",
          "ename": "TypeError",
          "evalue": "unsupported operand type(s) for +: 'NoneType' and 'NoneType'",
          "traceback": [
            "\u001b[0;31m---------------------------------------------------------------------------\u001b[0m",
            "\u001b[0;31mTypeError\u001b[0m                                 Traceback (most recent call last)",
            "\u001b[0;32m<ipython-input-11-ff0d5689ea6a>\u001b[0m in \u001b[0;36m<cell line: 1>\u001b[0;34m()\u001b[0m\n\u001b[0;32m----> 1\u001b[0;31m \u001b[0madd\u001b[0m\u001b[0;34m(\u001b[0m\u001b[0;36m17\u001b[0m\u001b[0;34m,\u001b[0m\u001b[0;36m5\u001b[0m\u001b[0;34m)\u001b[0m\u001b[0;34m+\u001b[0m\u001b[0msub\u001b[0m\u001b[0;34m(\u001b[0m\u001b[0;36m100\u001b[0m\u001b[0;34m,\u001b[0m\u001b[0;36m3\u001b[0m\u001b[0;34m)\u001b[0m\u001b[0;34m+\u001b[0m\u001b[0mdiscount\u001b[0m\u001b[0;34m(\u001b[0m\u001b[0;36m1500\u001b[0m\u001b[0;34m,\u001b[0m\u001b[0;36m5\u001b[0m\u001b[0;34m)\u001b[0m\u001b[0;34m\u001b[0m\u001b[0;34m\u001b[0m\u001b[0m\n\u001b[0m",
            "\u001b[0;31mTypeError\u001b[0m: unsupported operand type(s) for +: 'NoneType' and 'NoneType'"
          ]
        }
      ]
    },
    {
      "cell_type": "code",
      "source": [
        "(17+5)+(100-3)"
      ],
      "metadata": {
        "colab": {
          "base_uri": "https://localhost:8080/"
        },
        "id": "IFKuP0zRfTc3",
        "outputId": "48e25427-4b92-4a5e-f168-9b6eaa50dff7"
      },
      "execution_count": null,
      "outputs": [
        {
          "output_type": "execute_result",
          "data": {
            "text/plain": [
              "119"
            ]
          },
          "metadata": {},
          "execution_count": 12
        }
      ]
    },
    {
      "cell_type": "code",
      "source": [
        "def add(a,b):\n",
        "  ans=a+b\n",
        "  return ans"
      ],
      "metadata": {
        "id": "kx_OFH37fnry"
      },
      "execution_count": null,
      "outputs": []
    },
    {
      "cell_type": "code",
      "source": [
        "a=3\n",
        "b=19\n",
        "print(add(a,b))"
      ],
      "metadata": {
        "colab": {
          "base_uri": "https://localhost:8080/"
        },
        "id": "iEgWbTRIf613",
        "outputId": "8afe6130-d7e0-4793-c918-66da15d071fa"
      },
      "execution_count": null,
      "outputs": [
        {
          "output_type": "stream",
          "name": "stdout",
          "text": [
            "22\n"
          ]
        }
      ]
    },
    {
      "cell_type": "code",
      "source": [
        "a=2\n",
        "b=15\n",
        "ans=add(a,b)+10\n",
        "print(ans)"
      ],
      "metadata": {
        "colab": {
          "base_uri": "https://localhost:8080/"
        },
        "id": "H17Ct5xZgZPe",
        "outputId": "efe6464e-f528-43bd-c67a-e7193f835ec0"
      },
      "execution_count": null,
      "outputs": [
        {
          "output_type": "stream",
          "name": "stdout",
          "text": [
            "27\n"
          ]
        }
      ]
    },
    {
      "cell_type": "code",
      "source": [
        "def add(a,b):\n",
        "   ans=a+b\n",
        "   print(ans)"
      ],
      "metadata": {
        "id": "MCOT7bjEgsRv"
      },
      "execution_count": null,
      "outputs": []
    },
    {
      "cell_type": "code",
      "source": [
        "a=2\n",
        "b=15\n",
        "ans=add(a,b)+10\n",
        "print(ans)"
      ],
      "metadata": {
        "colab": {
          "base_uri": "https://localhost:8080/",
          "height": 211
        },
        "id": "CiK7HK0_g8BX",
        "outputId": "6df2f25c-2117-4c3a-f902-fa8132dd422a"
      },
      "execution_count": null,
      "outputs": [
        {
          "output_type": "stream",
          "name": "stdout",
          "text": [
            "17\n"
          ]
        },
        {
          "output_type": "error",
          "ename": "TypeError",
          "evalue": "unsupported operand type(s) for +: 'NoneType' and 'int'",
          "traceback": [
            "\u001b[0;31m---------------------------------------------------------------------------\u001b[0m",
            "\u001b[0;31mTypeError\u001b[0m                                 Traceback (most recent call last)",
            "\u001b[0;32m<ipython-input-17-4f227314528f>\u001b[0m in \u001b[0;36m<cell line: 3>\u001b[0;34m()\u001b[0m\n\u001b[1;32m      1\u001b[0m \u001b[0ma\u001b[0m\u001b[0;34m=\u001b[0m\u001b[0;36m2\u001b[0m\u001b[0;34m\u001b[0m\u001b[0;34m\u001b[0m\u001b[0m\n\u001b[1;32m      2\u001b[0m \u001b[0mb\u001b[0m\u001b[0;34m=\u001b[0m\u001b[0;36m15\u001b[0m\u001b[0;34m\u001b[0m\u001b[0;34m\u001b[0m\u001b[0m\n\u001b[0;32m----> 3\u001b[0;31m \u001b[0mans\u001b[0m\u001b[0;34m=\u001b[0m\u001b[0madd\u001b[0m\u001b[0;34m(\u001b[0m\u001b[0ma\u001b[0m\u001b[0;34m,\u001b[0m\u001b[0mb\u001b[0m\u001b[0;34m)\u001b[0m\u001b[0;34m+\u001b[0m\u001b[0;36m10\u001b[0m\u001b[0;34m\u001b[0m\u001b[0;34m\u001b[0m\u001b[0m\n\u001b[0m\u001b[1;32m      4\u001b[0m \u001b[0mprint\u001b[0m\u001b[0;34m(\u001b[0m\u001b[0mans\u001b[0m\u001b[0;34m)\u001b[0m\u001b[0;34m\u001b[0m\u001b[0;34m\u001b[0m\u001b[0m\n",
            "\u001b[0;31mTypeError\u001b[0m: unsupported operand type(s) for +: 'NoneType' and 'int'"
          ]
        }
      ]
    },
    {
      "cell_type": "code",
      "source": [
        "def discount(cost,d):\n",
        "  ans=cost-(cost*(d/100))\n",
        "  return(ans)"
      ],
      "metadata": {
        "id": "s4ukQGF0hkEX"
      },
      "execution_count": null,
      "outputs": []
    },
    {
      "cell_type": "code",
      "source": [
        "print(\"Enter the cost\")\n",
        "c=int(input())\n",
        "print(\"Enter the discount\")\n",
        "disc=int(input())\n",
        "print(\"The finall discount is :\",discount(c,disc))"
      ],
      "metadata": {
        "colab": {
          "base_uri": "https://localhost:8080/"
        },
        "id": "06B-LOfeh9wH",
        "outputId": "fda47078-03c4-47c9-fed2-d6ab57d31579"
      },
      "execution_count": null,
      "outputs": [
        {
          "output_type": "stream",
          "name": "stdout",
          "text": [
            "Enter the cost\n",
            "100\n",
            "Enter the discount\n",
            "20\n",
            "The finall discount is : 80.0\n"
          ]
        }
      ]
    },
    {
      "cell_type": "code",
      "source": [
        "\n",
        "print(\"The final discount is :\",discount(x,y))"
      ],
      "metadata": {
        "colab": {
          "base_uri": "https://localhost:8080/",
          "height": 141
        },
        "id": "GEjfEmQjjJI3",
        "outputId": "6481fc36-42e1-46f6-837c-fc0c7347ced9"
      },
      "execution_count": null,
      "outputs": [
        {
          "output_type": "error",
          "ename": "NameError",
          "evalue": "name 'x' is not defined",
          "traceback": [
            "\u001b[0;31m---------------------------------------------------------------------------\u001b[0m",
            "\u001b[0;31mNameError\u001b[0m                                 Traceback (most recent call last)",
            "\u001b[0;32m<ipython-input-29-48e42801b862>\u001b[0m in \u001b[0;36m<cell line: 1>\u001b[0;34m()\u001b[0m\n\u001b[0;32m----> 1\u001b[0;31m \u001b[0mprint\u001b[0m\u001b[0;34m(\u001b[0m\u001b[0;34m\"The final discount is :\"\u001b[0m\u001b[0;34m,\u001b[0m\u001b[0mdiscount\u001b[0m\u001b[0;34m(\u001b[0m\u001b[0mx\u001b[0m\u001b[0;34m,\u001b[0m\u001b[0my\u001b[0m\u001b[0;34m)\u001b[0m\u001b[0;34m)\u001b[0m\u001b[0;34m\u001b[0m\u001b[0;34m\u001b[0m\u001b[0m\n\u001b[0m",
            "\u001b[0;31mNameError\u001b[0m: name 'x' is not defined"
          ]
        }
      ]
    },
    {
      "cell_type": "markdown",
      "source": [
        "## **L5.2|More Example on Functions**"
      ],
      "metadata": {
        "id": "cnw8IHuSlCq_"
      }
    },
    {
      "cell_type": "markdown",
      "source": [
        "#Let us write a few functions on lists."
      ],
      "metadata": {
        "id": "vUGNCttFoy5o"
      }
    },
    {
      "cell_type": "code",
      "source": [
        "def first_element(l):\n",
        "  return l[0]"
      ],
      "metadata": {
        "id": "7U78TVXKo_5n"
      },
      "execution_count": null,
      "outputs": []
    },
    {
      "cell_type": "code",
      "source": [
        "x=[1,2,3]\n",
        "first_element(x)"
      ],
      "metadata": {
        "colab": {
          "base_uri": "https://localhost:8080/"
        },
        "id": "uAWL01m_psNu",
        "outputId": "df9e904f-e9c0-4778-8db0-5788790106d4"
      },
      "execution_count": null,
      "outputs": [
        {
          "output_type": "execute_result",
          "data": {
            "text/plain": [
              "1"
            ]
          },
          "metadata": {},
          "execution_count": 31
        }
      ]
    },
    {
      "cell_type": "code",
      "source": [
        "def second_element(l):\n",
        "    return l[1]"
      ],
      "metadata": {
        "id": "UZNzapRNqDKm"
      },
      "execution_count": null,
      "outputs": []
    },
    {
      "cell_type": "code",
      "source": [
        "second_element(x)"
      ],
      "metadata": {
        "colab": {
          "base_uri": "https://localhost:8080/"
        },
        "id": "oO_IyJx4p5g3",
        "outputId": "db2d6b7d-b554-4c7a-bf1d-eb00b5f85dfa"
      },
      "execution_count": null,
      "outputs": [
        {
          "output_type": "execute_result",
          "data": {
            "text/plain": [
              "2"
            ]
          },
          "metadata": {},
          "execution_count": 36
        }
      ]
    },
    {
      "cell_type": "code",
      "source": [
        "def list_min(l):\n",
        "    mini=l[0]\n",
        "    for i in range(len(l)):\n",
        "      if(l[i]<mini):\n",
        "        mini=l[i]\n",
        "    return mini"
      ],
      "metadata": {
        "id": "p87F4nTkq4UH"
      },
      "execution_count": null,
      "outputs": []
    },
    {
      "cell_type": "code",
      "source": [
        "def list_maxi(l):\n",
        "    maxi=l[0]\n",
        "    for i in range(len(l)):\n",
        "       if(l[i]>maxi):\n",
        "          maxi=l[i]\n",
        "    return maxi"
      ],
      "metadata": {
        "id": "RmV5JfSzsfRP"
      },
      "execution_count": null,
      "outputs": []
    },
    {
      "cell_type": "code",
      "source": [
        "def list_appendbefore(l,z):\n",
        "  newl=[]\n",
        "  for i in range(len(z)):\n",
        "      newl.append(z[i])\n",
        "  for i in range(len(l)):\n",
        "      newl.append(l[i])\n",
        "  return newl\n"
      ],
      "metadata": {
        "id": "lx9zAC2buEjn"
      },
      "execution_count": null,
      "outputs": []
    },
    {
      "cell_type": "code",
      "source": [
        "def list_appendend(l,z):\n",
        "  newl=[]\n",
        "  for i in range(len(l)):\n",
        "      newl.append(l[i])\n",
        "  for i in range(len(z)):\n",
        "      newl.append(z[i])\n",
        "  return newl\n"
      ],
      "metadata": {
        "id": "_2UvI7PEw6lv"
      },
      "execution_count": null,
      "outputs": []
    },
    {
      "cell_type": "code",
      "source": [
        "def list_average(l):\n",
        "    sum=0\n",
        "    for i in range(len(l)):\n",
        "      sum=sum+l[i]\n",
        "    ans=sum/len(l)\n",
        "    return ans"
      ],
      "metadata": {
        "id": "M8MgkFEqybfH"
      },
      "execution_count": null,
      "outputs": []
    },
    {
      "cell_type": "code",
      "source": [
        "l=[1,2,3,4,5,-10,6,4,10000000]\n",
        "print(list_min(l))\n",
        "print(list_maxi(l))\n",
        "z=[10,20,30,40,50]\n",
        "print(list_appendbefore(l,z))\n",
        "print(list_appendend(l,z))\n",
        "print(list_average(l))"
      ],
      "metadata": {
        "colab": {
          "base_uri": "https://localhost:8080/"
        },
        "id": "05Eu86PGruZP",
        "outputId": "3f56ced4-e49e-4e70-e17f-c40ef54c14ce"
      },
      "execution_count": null,
      "outputs": [
        {
          "output_type": "stream",
          "name": "stdout",
          "text": [
            "-10\n",
            "10000000\n",
            "[10, 20, 30, 40, 50, 1, 2, 3, 4, 5, -10, 6, 4, 10000000]\n",
            "[1, 2, 3, 4, 5, -10, 6, 4, 10000000, 10, 20, 30, 40, 50]\n",
            "1111112.7777777778\n"
          ]
        }
      ]
    },
    {
      "cell_type": "code",
      "source": [
        "list_maxi([1,-1,10,6,-2])"
      ],
      "metadata": {
        "colab": {
          "base_uri": "https://localhost:8080/"
        },
        "id": "775LZlgPzyV3",
        "outputId": "7b7941a4-d78e-4648-d9fd-1e8277a72353"
      },
      "execution_count": null,
      "outputs": [
        {
          "output_type": "execute_result",
          "data": {
            "text/plain": [
              "10"
            ]
          },
          "metadata": {},
          "execution_count": 71
        }
      ]
    },
    {
      "cell_type": "markdown",
      "source": [
        "# L5.3|Sorting using Function"
      ],
      "metadata": {
        "id": "odS9qJxT1rII"
      }
    },
    {
      "cell_type": "markdown",
      "source": [
        "#find out the minimum most element in the list.\n",
        "#append to a new list x.\n",
        "#remove the minimun form the original list."
      ],
      "metadata": {
        "id": "ce6Kyj9uE2cm"
      }
    },
    {
      "cell_type": "code",
      "source": [
        "#find out the minimum most element in the list l\n",
        "def min_list(l):\n",
        "  mini=l[0]\n",
        "  for i in range(len(l)):\n",
        "       if(l[i]<mini):\n",
        "         mini=l[i]\n",
        "  return mini\n",
        "\n",
        "def obvious_sort1(l):\n",
        "    x=[]\n",
        "    while(len(l)>0):\n",
        "        mini=min_list(l)\n",
        "        x.append(mini)\n",
        "        l.remove(mini)\n",
        "    return x\n",
        "\n",
        "\n",
        "# we just learnt that breaking our problem in to smaller modules and solving them makes it easy on our mind (ability to break a program in to small chanks )\n",
        "\n",
        "\n",
        "\n",
        "\n",
        "def obvious_sort(l):\n",
        "\n",
        "   x=[]\n",
        "   while(len(l)>0):\n",
        "       mini=l[0]\n",
        "       for i in range(len(l)):\n",
        "         if(l[i]<mini):\n",
        "           mini=l[i]\n",
        "       x.append(mini)\n",
        "       l.remove(mini)\n",
        "   return x\n"
      ],
      "metadata": {
        "id": "EJi1EZXC18Ff"
      },
      "execution_count": null,
      "outputs": []
    },
    {
      "cell_type": "code",
      "source": [
        "l=[90,23,97,88,5,1]\n",
        "print(obvious_sort1(l))"
      ],
      "metadata": {
        "id": "7PCAeJLVHqLC",
        "colab": {
          "base_uri": "https://localhost:8080/"
        },
        "outputId": "dad77399-6846-4384-a85f-b01c8a1eec80"
      },
      "execution_count": null,
      "outputs": [
        {
          "output_type": "stream",
          "name": "stdout",
          "text": [
            "[1, 5, 23, 88, 90, 97]\n"
          ]
        }
      ]
    },
    {
      "cell_type": "markdown",
      "source": [
        "**L5.4|Matrix Multiplication using Functions**(*Functional approch programming* )"
      ],
      "metadata": {
        "id": "eZ4fDIrHQ-Rn"
      }
    },
    {
      "cell_type": "code",
      "source": [
        "# initialise  C to zero\n",
        "# I need to consider two matrices A and B\n",
        "# I need to find the dot product of two lists\n",
        "# I need to pick ith row and jth column in a matrix .\n",
        "\n",
        "def initialize_mat(dim):\n",
        "# Code verified , works perfectly fine on the test cases\n",
        "  C=[]\n",
        "  for i in range(dim):\n",
        "    C.append([])\n",
        "  for i in range(dim):\n",
        "      for j in range(dim):\n",
        "       C[i].append(0)\n",
        "  return C\n",
        "print(initialize_mat(4))\n",
        "\n"
      ],
      "metadata": {
        "colab": {
          "base_uri": "https://localhost:8080/"
        },
        "id": "vg-jfqVARTff",
        "outputId": "3c21ce2b-b2cb-4bbe-ef9b-7b80943d33a4"
      },
      "execution_count": null,
      "outputs": [
        {
          "output_type": "stream",
          "name": "stdout",
          "text": [
            "[[0, 0, 0, 0], [0, 0, 0, 0], [0, 0, 0, 0], [0, 0, 0, 0]]\n"
          ]
        }
      ]
    },
    {
      "cell_type": "markdown",
      "source": [
        "Dot product"
      ],
      "metadata": {
        "id": "cxk7QD3LlZGq"
      }
    },
    {
      "cell_type": "code",
      "source": [
        "def dot_product(u,v):\n",
        "  dim=len(u)\n",
        "  ans=0\n",
        "  for i in range(dim):\n",
        "      ans=ans+(u[i]*v[i])\n",
        "  return ans\n",
        "\n",
        "def row(M,i):\n",
        "    dim=len(M)\n",
        "    l=[]\n",
        "    for k in range(dim):\n",
        "        l.append(M[i][k])\n",
        "    return l\n",
        "\n",
        "def column(M,j):\n",
        "    dim=len(M)\n",
        "    l=[]\n",
        "    for k in range(dim):\n",
        "        l.append(M[k][j])\n",
        "    return l\n",
        "\n",
        "def mat_mul(A,B):\n",
        "    dim=len(A)     # len(A)=len(B)\n",
        "    C=initialize_mat(dim)\n",
        "    for i in range(dim):\n",
        "        for j in range(dim):\n",
        "            #C[i][j]=ith row of A * jth col of B\n",
        "            C[i][j]=dot_product(row(A,i),column(B,j))\n",
        "    return C\n"
      ],
      "metadata": {
        "id": "OG5rjI68jo5i"
      },
      "execution_count": null,
      "outputs": []
    },
    {
      "cell_type": "code",
      "source": [
        "x=[1,2,3]\n",
        "y=[7,1,2]\n",
        "dot_product(x,y)"
      ],
      "metadata": {
        "colab": {
          "base_uri": "https://localhost:8080/"
        },
        "id": "1Z_4-oWdlCLb",
        "outputId": "f870fdcf-1698-456d-8c86-c68187b6a8bc"
      },
      "execution_count": null,
      "outputs": [
        {
          "output_type": "execute_result",
          "data": {
            "text/plain": [
              "15"
            ]
          },
          "metadata": {},
          "execution_count": 98
        }
      ]
    },
    {
      "cell_type": "code",
      "source": [
        "column(A,0)"
      ],
      "metadata": {
        "colab": {
          "base_uri": "https://localhost:8080/"
        },
        "id": "hObeIdd7p9vL",
        "outputId": "1f866b00-e5e7-465f-969e-8d6f0d1cc5cd"
      },
      "execution_count": null,
      "outputs": [
        {
          "output_type": "execute_result",
          "data": {
            "text/plain": [
              "[1, 4, 7]"
            ]
          },
          "metadata": {},
          "execution_count": 113
        }
      ]
    },
    {
      "cell_type": "code",
      "source": [
        "column(A,1)"
      ],
      "metadata": {
        "colab": {
          "base_uri": "https://localhost:8080/"
        },
        "id": "Lp-qDKKdqLqd",
        "outputId": "db36b632-ef2f-4323-e767-d10e1242de14"
      },
      "execution_count": null,
      "outputs": [
        {
          "output_type": "execute_result",
          "data": {
            "text/plain": [
              "[2, 5, 8]"
            ]
          },
          "metadata": {},
          "execution_count": 114
        }
      ]
    },
    {
      "cell_type": "code",
      "source": [
        "column(A,2)"
      ],
      "metadata": {
        "colab": {
          "base_uri": "https://localhost:8080/"
        },
        "id": "5AoUpebhqRSG",
        "outputId": "9e4eaca1-2171-4f9d-fa7d-901347bb1c78"
      },
      "execution_count": null,
      "outputs": [
        {
          "output_type": "execute_result",
          "data": {
            "text/plain": [
              "[3, 6, 9]"
            ]
          },
          "metadata": {},
          "execution_count": 115
        }
      ]
    },
    {
      "cell_type": "code",
      "source": [
        "A=[[1,2,3],[4,5,6],[7,8,9]]\n",
        "row(A,0)"
      ],
      "metadata": {
        "colab": {
          "base_uri": "https://localhost:8080/"
        },
        "id": "qAGhYEp_n7yz",
        "outputId": "98427ad3-f51d-4bb5-b2ee-dbe11d4185aa"
      },
      "execution_count": null,
      "outputs": [
        {
          "output_type": "execute_result",
          "data": {
            "text/plain": [
              "[7, 8, 9]"
            ]
          },
          "metadata": {},
          "execution_count": 107
        }
      ]
    },
    {
      "cell_type": "code",
      "source": [
        "row(A,1)"
      ],
      "metadata": {
        "colab": {
          "base_uri": "https://localhost:8080/"
        },
        "id": "wdTH8HLxoy_8",
        "outputId": "fbf14521-41ec-42e5-c743-bd215f8ae878"
      },
      "execution_count": null,
      "outputs": [
        {
          "output_type": "execute_result",
          "data": {
            "text/plain": [
              "[4, 5, 6]"
            ]
          },
          "metadata": {},
          "execution_count": 108
        }
      ]
    },
    {
      "cell_type": "code",
      "source": [
        "row(A,2)"
      ],
      "metadata": {
        "colab": {
          "base_uri": "https://localhost:8080/"
        },
        "id": "6-7tA4Rlo3Az",
        "outputId": "76efab08-718e-4212-d955-7446fc556224"
      },
      "execution_count": null,
      "outputs": [
        {
          "output_type": "execute_result",
          "data": {
            "text/plain": [
              "[7, 8, 9]"
            ]
          },
          "metadata": {},
          "execution_count": 109
        }
      ]
    },
    {
      "cell_type": "code",
      "source": [
        "# (1*7)+(2*1)+(3*2)\n",
        "dot_product([1,2,3],[7,1,2])"
      ],
      "metadata": {
        "colab": {
          "base_uri": "https://localhost:8080/"
        },
        "id": "9OPgkdPvluNN",
        "outputId": "7606b4b1-c867-4eb3-9f51-d3faf43c71a5"
      },
      "execution_count": null,
      "outputs": [
        {
          "output_type": "execute_result",
          "data": {
            "text/plain": [
              "15"
            ]
          },
          "metadata": {},
          "execution_count": 99
        }
      ]
    },
    {
      "cell_type": "code",
      "source": [
        "C=[[0,0,0],[0,0,0],[0,0,0]]\n",
        "print(C)"
      ],
      "metadata": {
        "colab": {
          "base_uri": "https://localhost:8080/"
        },
        "id": "O7yW59Uid79y",
        "outputId": "dd08cfe7-1506-4ba9-bf3e-368951e8aced"
      },
      "execution_count": null,
      "outputs": [
        {
          "output_type": "stream",
          "name": "stdout",
          "text": [
            "[[0, 0, 0], [0, 0, 0], [0, 0, 0]]\n"
          ]
        }
      ]
    },
    {
      "cell_type": "code",
      "source": [
        "C=[[],[],[]]\n",
        "C[0].append([0,0,0])\n",
        "print(C)"
      ],
      "metadata": {
        "colab": {
          "base_uri": "https://localhost:8080/"
        },
        "id": "qMRdlisbezHa",
        "outputId": "55e7853f-5a3f-403e-eda1-3568bb4457a5"
      },
      "execution_count": null,
      "outputs": [
        {
          "output_type": "stream",
          "name": "stdout",
          "text": [
            "[[[0, 0, 0]], [], []]\n"
          ]
        }
      ]
    },
    {
      "cell_type": "code",
      "source": [
        "A"
      ],
      "metadata": {
        "colab": {
          "base_uri": "https://localhost:8080/"
        },
        "id": "zCpYcmYktiEF",
        "outputId": "c24ef882-d9c4-4c7f-c755-fa3abf8dafcd"
      },
      "execution_count": null,
      "outputs": [
        {
          "output_type": "execute_result",
          "data": {
            "text/plain": [
              "[[1, 2, 3], [4, 5, 6], [7, 8, 9]]"
            ]
          },
          "metadata": {},
          "execution_count": 117
        }
      ]
    },
    {
      "cell_type": "code",
      "source": [
        "B=[[1,2,1],[3,1,7],[6,2,3]]"
      ],
      "metadata": {
        "id": "XvV-qSEQtqlz"
      },
      "execution_count": null,
      "outputs": []
    },
    {
      "cell_type": "code",
      "source": [
        "mat_mul(A,B)"
      ],
      "metadata": {
        "colab": {
          "base_uri": "https://localhost:8080/"
        },
        "id": "nHgsafSOuHij",
        "outputId": "6342beca-5bbc-4461-c619-b394124dc3bc"
      },
      "execution_count": null,
      "outputs": [
        {
          "output_type": "execute_result",
          "data": {
            "text/plain": [
              "[[25, 10, 24], [55, 25, 57], [85, 40, 90]]"
            ]
          },
          "metadata": {},
          "execution_count": 130
        }
      ]
    },
    {
      "cell_type": "code",
      "source": [
        "import numpy\n",
        "A=numpy.mat(A)\n",
        "B=numpy.mat(B)\n",
        "C=A*B\n",
        "print(C)"
      ],
      "metadata": {
        "colab": {
          "base_uri": "https://localhost:8080/"
        },
        "id": "cbxD2pWEvJuj",
        "outputId": "b36b381d-4f98-4d95-fc28-8b66bafb897f"
      },
      "execution_count": null,
      "outputs": [
        {
          "output_type": "stream",
          "name": "stdout",
          "text": [
            "[[25 10 24]\n",
            " [55 25 57]\n",
            " [85 40 90]]\n"
          ]
        }
      ]
    },
    {
      "cell_type": "markdown",
      "source": [
        "# L**5.5|Theortical Introduction to Recursion**"
      ],
      "metadata": {
        "id": "CuyrrPHEwe2L"
      }
    },
    {
      "cell_type": "markdown",
      "source": [
        "# L5.6 | Recursion Illustration"
      ],
      "metadata": {
        "id": "WlsoPZV2hIlJ"
      }
    },
    {
      "cell_type": "code",
      "source": [
        "n=1000000000\n",
        "ans=0\n",
        "for i in range(n):\n",
        "  ans=ans+(i+1)\n",
        "print(ans)"
      ],
      "metadata": {
        "colab": {
          "base_uri": "https://localhost:8080/"
        },
        "id": "2D7ApA5khWo4",
        "outputId": "3fafccd1-3000-498f-b47d-f699b1eec1ae"
      },
      "execution_count": null,
      "outputs": [
        {
          "output_type": "stream",
          "name": "stdout",
          "text": [
            "500000000500000000\n"
          ]
        }
      ]
    },
    {
      "cell_type": "code",
      "source": [
        "def sum(n):\n",
        "  ans=0\n",
        "  for i in range(n):\n",
        "      ans = ans+(i+1)\n",
        "  return ans"
      ],
      "metadata": {
        "id": "DPSh6_oFjdz4"
      },
      "execution_count": null,
      "outputs": []
    },
    {
      "cell_type": "code",
      "source": [
        "sum(100)"
      ],
      "metadata": {
        "colab": {
          "base_uri": "https://localhost:8080/"
        },
        "id": "Dm4WAMnjkHQh",
        "outputId": "4e25a8ad-9abd-4b6d-b9b7-9fcb8e5b3466"
      },
      "execution_count": null,
      "outputs": [
        {
          "output_type": "execute_result",
          "data": {
            "text/plain": [
              "5050"
            ]
          },
          "metadata": {},
          "execution_count": 16
        }
      ]
    },
    {
      "cell_type": "markdown",
      "source": [
        "# Recursion in Python"
      ],
      "metadata": {
        "id": "wBhcuTxVkWgJ"
      }
    },
    {
      "cell_type": "code",
      "source": [
        "def sum(n):\n",
        "  if(n==1):\n",
        "      return 1\n",
        "  else:\n",
        "    return n+sum(n-1)\n",
        "    #python lets you call the same function within the function."
      ],
      "metadata": {
        "id": "f2vjKNUFkeCB"
      },
      "execution_count": null,
      "outputs": []
    },
    {
      "cell_type": "code",
      "source": [
        "print(sum(100))"
      ],
      "metadata": {
        "colab": {
          "base_uri": "https://localhost:8080/"
        },
        "id": "nw9bqyfCltZJ",
        "outputId": "d4e5a79b-2bfe-46c6-9cdc-993f3c120cdb"
      },
      "execution_count": null,
      "outputs": [
        {
          "output_type": "stream",
          "name": "stdout",
          "text": [
            "5050\n"
          ]
        }
      ]
    },
    {
      "cell_type": "code",
      "source": [
        "# compute compound interest by assuming the interest to be 10%\n",
        "def comp(p,n):\n",
        "    if(n==1):\n",
        "      return p*(1.1)\n",
        "    else:\n",
        "      return (comp(p,n-1))*1.1"
      ],
      "metadata": {
        "id": "gkuf775Zl5Rp"
      },
      "execution_count": null,
      "outputs": []
    },
    {
      "cell_type": "code",
      "source": [
        "print(comp(10000,10))"
      ],
      "metadata": {
        "colab": {
          "base_uri": "https://localhost:8080/"
        },
        "id": "1iTDrnJJotHt",
        "outputId": "ab9e603d-0d00-4b1b-b49b-3d1817a74ca6"
      },
      "execution_count": null,
      "outputs": [
        {
          "output_type": "stream",
          "name": "stdout",
          "text": [
            "25937.424601000024\n"
          ]
        }
      ]
    },
    {
      "cell_type": "code",
      "source": [
        "def fact(n):\n",
        "   if(n==1):\n",
        "      return 1\n",
        "   else:\n",
        "       return (fact(n-1))*n"
      ],
      "metadata": {
        "id": "-z95jQmYpa4T"
      },
      "execution_count": null,
      "outputs": []
    },
    {
      "cell_type": "code",
      "source": [
        "fact(100)"
      ],
      "metadata": {
        "colab": {
          "base_uri": "https://localhost:8080/"
        },
        "id": "Xwy-OQnbp4tq",
        "outputId": "32ef6249-cc3d-4bdc-e8cf-6771e00dc220"
      },
      "execution_count": null,
      "outputs": [
        {
          "output_type": "execute_result",
          "data": {
            "text/plain": [
              "93326215443944152681699238856266700490715968264381621468592963895217599993229915608941463976156518286253697920827223758251185210916864000000000000000000000000"
            ]
          },
          "metadata": {},
          "execution_count": 31
        }
      ]
    },
    {
      "cell_type": "markdown",
      "source": [
        "# **L5.7|Type of Function Arguments**"
      ],
      "metadata": {
        "id": "ik_h0YAVrPjT"
      }
    },
    {
      "cell_type": "code",
      "source": [
        "def add(a,b,c):\n",
        "    return (a+b-c)\n",
        "print(add(20,30,40))"
      ],
      "metadata": {
        "colab": {
          "base_uri": "https://localhost:8080/"
        },
        "id": "JsdVx10Kre6T",
        "outputId": "57a58ec0-f1a0-4b56-a88f-2f832c2c08ef"
      },
      "execution_count": null,
      "outputs": [
        {
          "output_type": "stream",
          "name": "stdout",
          "text": [
            "10\n"
          ]
        }
      ]
    },
    {
      "cell_type": "code",
      "source": [
        "print(add(a=20,b=30,c=40))"
      ],
      "metadata": {
        "colab": {
          "base_uri": "https://localhost:8080/"
        },
        "id": "j6VhnH2W9rKp",
        "outputId": "90cd92c6-08b8-4cb0-a283-8eb3b4918791"
      },
      "execution_count": null,
      "outputs": [
        {
          "output_type": "stream",
          "name": "stdout",
          "text": [
            "10\n"
          ]
        }
      ]
    },
    {
      "cell_type": "code",
      "source": [
        "def add(c,a=20,b=30):\n",
        "  return(a+b-c)"
      ],
      "metadata": {
        "id": "URKd34z4-K66"
      },
      "execution_count": null,
      "outputs": []
    },
    {
      "cell_type": "code",
      "source": [
        "print(add(40))\n",
        "print(add(40,10))\n",
        "print(add(40,10,50))\n",
        "print(add(40,b=10,a=50))"
      ],
      "metadata": {
        "colab": {
          "base_uri": "https://localhost:8080/"
        },
        "id": "2-QbR6et-Zmo",
        "outputId": "926e13b1-fe5f-4d44-e628-49b1192bebc0"
      },
      "execution_count": null,
      "outputs": [
        {
          "output_type": "stream",
          "name": "stdout",
          "text": [
            "10\n",
            "0\n",
            "20\n",
            "20\n"
          ]
        }
      ]
    },
    {
      "cell_type": "markdown",
      "source": [
        "# L 5.8|Scope of Variables"
      ],
      "metadata": {
        "id": "UHWOIo1oAZ3x"
      }
    },
    {
      "cell_type": "code",
      "source": [
        "def myFunction1(x):\n",
        "  global x\n",
        "  x=x*2\n",
        "  print(\"Value of x in function 1 \",x)\n",
        "\n",
        "def myFunction2(x):\n",
        "  global x\n",
        "  x=x*3\n",
        "  print(\"Value of x in function 2\",x)\n",
        "\n",
        "x=5\n",
        "print(\"Value of x before function call\",x)\n",
        "myFunction1(x)\n",
        "myFunction2(x)\n",
        "print(\"Value of x after fuction call\",x)"
      ],
      "metadata": {
        "id": "Y-aKOXHLAm0w",
        "colab": {
          "base_uri": "https://localhost:8080/",
          "height": 106
        },
        "outputId": "2baa66a5-f3ba-4c8a-d63f-3e1222603b1d"
      },
      "execution_count": null,
      "outputs": [
        {
          "output_type": "error",
          "ename": "SyntaxError",
          "evalue": "name 'x' is parameter and global (<ipython-input-10-31919a929199>, line 2)",
          "traceback": [
            "\u001b[0;36m  File \u001b[0;32m\"<ipython-input-10-31919a929199>\"\u001b[0;36m, line \u001b[0;32m2\u001b[0m\n\u001b[0;31m    global x\u001b[0m\n\u001b[0m    ^\u001b[0m\n\u001b[0;31mSyntaxError\u001b[0m\u001b[0;31m:\u001b[0m name 'x' is parameter and global\n"
          ]
        }
      ]
    },
    {
      "cell_type": "markdown",
      "source": [
        "# L5.9|Type of Functions"
      ],
      "metadata": {
        "id": "BKxNE-1AX5K5"
      }
    },
    {
      "cell_type": "code",
      "source": [
        "#Inbuild function\n",
        "print(), input(),len()\n",
        "# Library function\n",
        "math.log(), math.sqrt() , math.random(), random.randrange() , calender() ,calendar.month()\n",
        "\n",
        "#Srting methods (functions)\n",
        "upper(),  lower(),  strip(), count(),  index(), replace()"
      ],
      "metadata": {
        "id": "JTu0JoxAYDPo"
      },
      "execution_count": null,
      "outputs": []
    },
    {
      "cell_type": "code",
      "source": [
        "#uder defined functions\n",
        "def square(x):\n",
        "  sqr=x**2\n",
        "  return sqr"
      ],
      "metadata": {
        "id": "PuUYOQV8bh_J"
      },
      "execution_count": null,
      "outputs": []
    },
    {
      "cell_type": "code",
      "source": [
        "print(square(5))"
      ],
      "metadata": {
        "colab": {
          "base_uri": "https://localhost:8080/"
        },
        "id": "vcNoA1tbbxya",
        "outputId": "d189612a-aa99-46a7-feaf-ec0408e147a0"
      },
      "execution_count": null,
      "outputs": [
        {
          "output_type": "stream",
          "name": "stdout",
          "text": [
            "25\n"
          ]
        }
      ]
    },
    {
      "cell_type": "markdown",
      "source": [
        "# L5.10|Tutorial on functions"
      ],
      "metadata": {
        "id": "GFuTWu1_fAL6"
      }
    },
    {
      "cell_type": "markdown",
      "source": [
        "Problem 1: Write a python code using functions which calculates the number of upper case letters,lower case letters, total number of characters and number of words"
      ],
      "metadata": {
        "id": "Mqyitn1-o-6j"
      }
    },
    {
      "cell_type": "code",
      "source": [
        "def upper(s):\n",
        "  upper=0\n",
        "  for c in s:\n",
        "      if(c.isupper()):\n",
        "          upper +=1\n",
        "  return(upper)\n",
        "\n",
        "def lower(s):\n",
        "    lower=0\n",
        "    for c in s:\n",
        "        if(c.islower()):\n",
        "             lower+=1\n",
        "    return (lower)\n",
        "\n",
        "def characters(s):\n",
        "    chars=0\n",
        "    for c in s:\n",
        "        chars +=1\n",
        "    return (chars)\n",
        "\n",
        "def words(s):\n",
        "    words = 1\n",
        "    for c in s:\n",
        "        if(c==' '):\n",
        "            words += 1\n",
        "    return(words)\n",
        "\n",
        "sentence=input(\"Enter the sentence:\")\n",
        "uLetters = upper(sentence)\n",
        "print(f'\\nTotal number of upper case characters:{uLetters}')\n",
        "lLetters=lower(sentence)\n",
        "print(f'\\nTotal number of lower case characters:{lLetters}')\n",
        "chars=characters(sentence)\n",
        "print(f'\n",
        "\n",
        "f\\nTotal number of characters:{chars}')\n",
        "words=words(sentence)\n",
        "print(f'\\nTotal number of words:{words}')\n"
      ],
      "metadata": {
        "colab": {
          "base_uri": "https://localhost:8080/"
        },
        "id": "E4FJ5ll1pqy0",
        "outputId": "406f219a-2b8d-4a31-cdce-091caec5ca43"
      },
      "execution_count": null,
      "outputs": [
        {
          "output_type": "stream",
          "name": "stdout",
          "text": [
            "Enter the sentence:Functions Could Have Multiple Returns Statements,But The Moment The First Return Is Executed,Control Exits \n",
            "\n",
            "Total number of upper case characters:16\n",
            "\n",
            "Total number of lower case characters:75\n",
            "\n",
            "Total number of characters:107\n",
            "\n",
            "Total number of words:15\n"
          ]
        }
      ]
    },
    {
      "cell_type": "markdown",
      "source": [
        "Problem 2:Write a Python code using functions to calculate area and perimeter of circle and rectangle"
      ],
      "metadata": {
        "id": "24e8PGwgI07V"
      }
    },
    {
      "cell_type": "code",
      "source": [
        "''' Approch 1:Standard code'''\n",
        "PI = 22/7\n",
        "def circle_area(r):\n",
        "     return(PI*r*r)\n",
        "\n",
        "def circle_perimeter(r):\n",
        "     return(2*PI*r)\n",
        "\n",
        "def rectangle_area(l,b):\n",
        "     return (l*b)\n",
        "\n",
        "def rectangle_perimeter(l,b):\n",
        "     return(2*(l+b))\n",
        "\n",
        "r=float(input('\\nEnter the radius of the circle:'))\n",
        "cArea=circle_area(r)\n",
        "print(f'\\nArea of circle with radius {r} = {cArea} as sq.units')\n",
        "cPerimeter=circle_perimeter(r)\n",
        "print(f'\\nPerimeter of circle with radius {r} = {cPerimeter}units')\n",
        "l=float(input('\\nEnter the length of the rectangle:'))\n",
        "b=float(input('\\nEnter the breadth of the rectangle:'))\n",
        "rArea = rectangle_area(l,b)\n",
        "print(f'\\nArea of rectangle with  length {l} and breadth {b}={rArea} sq units ')\n",
        "rPerimeter = rectangle_area(l,b)\n",
        "print(f'\\nPerimeter of rectangle with length {l} and breath {b} = rPerimeter')"
      ],
      "metadata": {
        "colab": {
          "base_uri": "https://localhost:8080/"
        },
        "id": "CA5GM1bgJNrq",
        "outputId": "857fd6b1-adb7-48f5-cfd1-f50e2e8219d2"
      },
      "execution_count": null,
      "outputs": [
        {
          "output_type": "stream",
          "name": "stdout",
          "text": [
            "\n",
            "Enter the radius of the circle:7\n",
            "\n",
            "Area of circle with radius 7.0 = 154.0 as sq.units\n",
            "\n",
            "Perimeter of circle with radius 7.0 = 44.0units\n",
            "\n",
            "Enter the length of the rectangle:7\n",
            "\n",
            "Enter the breadth of the rectangle:12\n",
            "\n",
            "Area of rectangle with  length 7.0 and breadth 12.0=84.0 sq units \n",
            "\n",
            "Perimeter of rectangle with length 7.0 and breath 12.0 = rPerimeter\n"
          ]
        }
      ]
    },
    {
      "cell_type": "markdown",
      "source": [
        "Problem 3: Write a Python code using functions which checks whether the input coordinates form a triangle or not"
      ],
      "metadata": {
        "id": "iQ_JHO7PFBIA"
      }
    },
    {
      "cell_type": "code",
      "source": [
        "def distance(xi,yi,xj,yj):\n",
        "   return(((xj-xi)**2) + ((yj-yi)**2))**0.5\n",
        "\n",
        "x1=float(input('Enter x coordinate of 1st point:'))\n",
        "y1=float(input('Enter y coordinate of 1st point:'))\n",
        "x2=float(input('Enter x coordinate of 2nd point:'))\n",
        "y2=float(input('Enter y coordinate of 2nd point:'))\n",
        "x3=float(input('Enter x coordinate of 3rd point:'))\n",
        "y3=float(input('Enter y coordinate of 3rd point:'))\n",
        "d1 = distance(x1,y1,x2,y2)\n",
        "print(f'\\nDistance between points ({x1},{y1}) and ({x2},{y2}={d1})')\n",
        "d2 = distance(x2,y2,x3,y3)\n",
        "print(f'\\nDistance between points ({x2},{y2}) and ({x3},{y3})={d2} ')\n",
        "d3 = distance(x3,y3,x1,y1)\n",
        "print(f'\\nDistance between points ({x3},{y3}) and ({x1},{y1})= {d3}')\n",
        "\n",
        "if(d1>d2):\n",
        "    if(d1>d3):\n",
        "       isTriangle(d1,d2,d3)\n",
        "    else:\n",
        "      isTriangle(d3,d1,d2)\n",
        "elif(d2 > d3):\n",
        "   isTriangle(d2,d1,d3)\n",
        "else:\n",
        "    isTriangle(d3 ,d1,d2)\n"
      ],
      "metadata": {
        "colab": {
          "base_uri": "https://localhost:8080/",
          "height": 384
        },
        "id": "T1bqa1oYFe2v",
        "outputId": "625ea229-8544-47f4-e9d7-7aeb3caf2060"
      },
      "execution_count": null,
      "outputs": [
        {
          "output_type": "stream",
          "name": "stdout",
          "text": [
            "Enter x coordinate of 1st point:1\n",
            "Enter y coordinate of 1st point:2\n",
            "Enter x coordinate of 2nd point:3\n",
            "Enter y coordinate of 2nd point:4\n",
            "Enter x coordinate of 3rd point:5\n",
            "Enter y coordinate of 3rd point:6\n",
            "\n",
            "Distance between points (1.0,2.0) and (3.0,4.0=2.8284271247461903)\n",
            "\n",
            "Distance between points (3.0,4.0) and (5.0,6.0)=2.8284271247461903 \n",
            "\n",
            "Distance between points (5.0,6.0) and (1.0,2.0)= 5.656854249492381\n"
          ]
        },
        {
          "output_type": "error",
          "ename": "NameError",
          "evalue": "name 'isTriangle' is not defined",
          "traceback": [
            "\u001b[0;31m---------------------------------------------------------------------------\u001b[0m",
            "\u001b[0;31mNameError\u001b[0m                                 Traceback (most recent call last)",
            "\u001b[0;32m<ipython-input-13-faac387fb801>\u001b[0m in \u001b[0;36m<cell line: 17>\u001b[0;34m()\u001b[0m\n\u001b[1;32m     23\u001b[0m    \u001b[0misTriangle\u001b[0m\u001b[0;34m(\u001b[0m\u001b[0md2\u001b[0m\u001b[0;34m,\u001b[0m\u001b[0md1\u001b[0m\u001b[0;34m,\u001b[0m\u001b[0md3\u001b[0m\u001b[0;34m)\u001b[0m\u001b[0;34m\u001b[0m\u001b[0;34m\u001b[0m\u001b[0m\n\u001b[1;32m     24\u001b[0m \u001b[0;32melse\u001b[0m\u001b[0;34m:\u001b[0m\u001b[0;34m\u001b[0m\u001b[0;34m\u001b[0m\u001b[0m\n\u001b[0;32m---> 25\u001b[0;31m     \u001b[0misTriangle\u001b[0m\u001b[0;34m(\u001b[0m\u001b[0md3\u001b[0m \u001b[0;34m,\u001b[0m\u001b[0md1\u001b[0m\u001b[0;34m,\u001b[0m\u001b[0md2\u001b[0m\u001b[0;34m)\u001b[0m\u001b[0;34m\u001b[0m\u001b[0;34m\u001b[0m\u001b[0m\n\u001b[0m",
            "\u001b[0;31mNameError\u001b[0m: name 'isTriangle' is not defined"
          ]
        }
      ]
    },
    {
      "cell_type": "code",
      "source": [
        "import math\n",
        "\n",
        "def slope(xi,yi,xj,yj):\n",
        "     if(xi==xj):\n",
        "         return(math.inf)\n",
        "     else:\n",
        "        return((yj-yi)/(xj-xi))\n",
        "\n",
        "\n",
        "\n",
        "x1=float(input('Enter x coordinate of 1st point:'))\n",
        "y1=float(input('Enter y coordinate of 1st point:'))\n",
        "x2=float(input('Enter x coordinate of 2nd point:'))\n",
        "y2=float(input('Enter y coordinate of 2nd point:'))\n",
        "x3=float(input('Enter x coordinate of 3rd point:'))\n",
        "y3=float(input('Enter y coordinate of 3rd point:'))\n",
        "s1=slope(x1,y1,x2,y2)\n",
        "print(f'\\nSlope of the line connecting points ({x1},{y1}) and ({x2},{y2}={d1})')\n",
        "s2 = slope(x2,y2,x3,y3)\n",
        "print(f'\\nSlope of the line connecting points ({x2},{y2}) and ({x3},{y3})={d2} ')\n",
        "s3 = slope(x3,y3,x1,y1)\n",
        "print(f'\\nSlope of the line connecting6 points ({x3},{y3}) and ({x1},{y1})= {d3}')\n",
        "\n",
        "if(s1!=s2):\n",
        "   print('\\nTriangle')\n",
        "else:\n",
        "   print('\\nNot a triangle')\n",
        "\n"
      ],
      "metadata": {
        "colab": {
          "base_uri": "https://localhost:8080/"
        },
        "outputId": "6f526de8-08b9-432a-d2a1-45f4dd60b2a5",
        "id": "T-YqKahWVNFI"
      },
      "execution_count": null,
      "outputs": [
        {
          "output_type": "stream",
          "name": "stdout",
          "text": [
            "Enter x coordinate of 1st point:0\n",
            "Enter y coordinate of 1st point:0\n",
            "Enter x coordinate of 2nd point:0\n",
            "Enter y coordinate of 2nd point:1\n",
            "Enter x coordinate of 3rd point:1\n",
            "Enter y coordinate of 3rd point:0\n",
            "\n",
            "Slope of the line connecting points (0.0,0.0) and (0.0,1.0=2.8284271247461903)\n",
            "\n",
            "Slope of the line connecting points (0.0,1.0) and (1.0,0.0)=2.8284271247461903 \n",
            "\n",
            "Slope of the line connecting6 points (1.0,0.0) and (0.0,0.0)= 5.656854249492381\n",
            "\n",
            "Triangle\n"
          ]
        }
      ]
    }
  ]
}