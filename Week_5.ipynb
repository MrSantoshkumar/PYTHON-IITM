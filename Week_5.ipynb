{
  "nbformat": 4,
  "nbformat_minor": 0,
  "metadata": {
    "colab": {
      "provenance": [],
      "include_colab_link": true
    },
    "kernelspec": {
      "name": "python3",
      "display_name": "Python 3"
    },
    "language_info": {
      "name": "python"
    }
  },
  "cells": [
    {
      "cell_type": "markdown",
      "metadata": {
        "id": "view-in-github",
        "colab_type": "text"
      },
      "source": [
        "<a href=\"https://colab.research.google.com/github/MrSantoshkumar/PYTHON-IITM/blob/main/Week_5.ipynb\" target=\"_parent\"><img src=\"https://colab.research.google.com/assets/colab-badge.svg\" alt=\"Open In Colab\"/></a>"
      ]
    },
    {
      "cell_type": "markdown",
      "source": [
        "*Dictionary*: Key value pairs"
      ],
      "metadata": {
        "id": "F7LQdmsVEu-Y"
      }
    },
    {
      "cell_type": "markdown",
      "source": [
        "1.How to define an empty dictionary?"
      ],
      "metadata": {
        "id": "LGQBR9cWFHtN"
      }
    },
    {
      "cell_type": "code",
      "execution_count": null,
      "metadata": {
        "colab": {
          "base_uri": "https://localhost:8080/"
        },
        "id": "m4USLC4NEsFH",
        "outputId": "569892df-4bbb-418e-9eaf-f67973730ca7"
      },
      "outputs": [
        {
          "output_type": "stream",
          "name": "stdout",
          "text": [
            "{}\n"
          ]
        }
      ],
      "source": [
        "D = {}\n",
        "print(D)"
      ]
    },
    {
      "cell_type": "code",
      "source": [
        "D = dict()\n",
        "print(D)"
      ],
      "metadata": {
        "colab": {
          "base_uri": "https://localhost:8080/"
        },
        "id": "SjnuFdZ_FY0P",
        "outputId": "f9afbc88-d92b-45c5-89a3-8e998b90323b"
      },
      "execution_count": null,
      "outputs": [
        {
          "output_type": "stream",
          "name": "stdout",
          "text": [
            "{}\n"
          ]
        }
      ]
    },
    {
      "cell_type": "markdown",
      "source": [
        "3.How to create a simple dictionary?"
      ],
      "metadata": {
        "id": "tSiqtFwtFexm"
      }
    },
    {
      "cell_type": "code",
      "source": [
        "D = {'Amritha':14, 'Babu':15, 'Kavita':16}\n",
        "print(D)"
      ],
      "metadata": {
        "colab": {
          "base_uri": "https://localhost:8080/"
        },
        "id": "t55zP5p0H-Jz",
        "outputId": "6b278ea3-909d-4720-d3a3-e4d1bef15ba8"
      },
      "execution_count": null,
      "outputs": [
        {
          "output_type": "stream",
          "name": "stdout",
          "text": [
            "{'Amritha': 14, 'Babu': 15, 'Kavita': 16}\n"
          ]
        }
      ]
    },
    {
      "cell_type": "markdown",
      "source": [
        "4.How to add a key-value pair to an existing dictionary?"
      ],
      "metadata": {
        "id": "UykSouSFIckK"
      }
    },
    {
      "cell_type": "code",
      "source": [
        "D = {'Amritha':14, 'Babu':15, 'Kavita':16}\n",
        "D['Livin'] = 22\n",
        "print(D)\n",
        "D['Livin'] = 45\n",
        "print(D)\n",
        "D['Livin'] = 14\n",
        "print(D)\n",
        "#keys should be unique\n",
        "D['Amritha'] = 56\n",
        "D['Babu'] = 67\n",
        "print(D)"
      ],
      "metadata": {
        "colab": {
          "base_uri": "https://localhost:8080/"
        },
        "id": "txOlo4yLIduN",
        "outputId": "dec84299-9816-40c4-f33d-e07db250f438"
      },
      "execution_count": null,
      "outputs": [
        {
          "output_type": "stream",
          "name": "stdout",
          "text": [
            "{'Amritha': 14, 'Babu': 15, 'Kavita': 16, 'Livin': 22}\n",
            "{'Amritha': 14, 'Babu': 15, 'Kavita': 16, 'Livin': 45}\n",
            "{'Amritha': 14, 'Babu': 15, 'Kavita': 16, 'Livin': 14}\n",
            "{'Amritha': 56, 'Babu': 67, 'Kavita': 16, 'Livin': 14}\n"
          ]
        }
      ]
    },
    {
      "cell_type": "markdown",
      "source": [
        "5.How to update a key-value pair to an existing dictionary?"
      ],
      "metadata": {
        "id": "wQA4yDU_It86"
      }
    },
    {
      "cell_type": "code",
      "source": [
        "D = {0: 0, 1:1, 2: 2}\n",
        "print(D[0])\n",
        "'''keys ,cannot be duplicate,keys should be unique\n",
        "integer\n",
        "str\n",
        "tuple\n",
        "float\n",
        "values: anything,can be duplicate\n",
        "'''"
      ],
      "metadata": {
        "colab": {
          "base_uri": "https://localhost:8080/",
          "height": 217
        },
        "id": "eJuYefI2ItLH",
        "outputId": "722a0d26-647f-4c0b-cc76-fc8152682fdf"
      },
      "execution_count": null,
      "outputs": [
        {
          "output_type": "error",
          "ename": "KeyError",
          "evalue": "3",
          "traceback": [
            "\u001b[0;31m---------------------------------------------------------------------------\u001b[0m",
            "\u001b[0;31mKeyError\u001b[0m                                  Traceback (most recent call last)",
            "\u001b[0;32m<ipython-input-41-3e9ca9e6ff01>\u001b[0m in \u001b[0;36m<cell line: 2>\u001b[0;34m()\u001b[0m\n\u001b[1;32m      1\u001b[0m \u001b[0mD\u001b[0m \u001b[0;34m=\u001b[0m \u001b[0;34m{\u001b[0m\u001b[0;36m0\u001b[0m\u001b[0;34m:\u001b[0m \u001b[0;36m0\u001b[0m\u001b[0;34m,\u001b[0m \u001b[0;36m1\u001b[0m\u001b[0;34m:\u001b[0m\u001b[0;36m1\u001b[0m\u001b[0;34m,\u001b[0m \u001b[0;36m2\u001b[0m\u001b[0;34m:\u001b[0m \u001b[0;36m2\u001b[0m\u001b[0;34m}\u001b[0m\u001b[0;34m\u001b[0m\u001b[0;34m\u001b[0m\u001b[0m\n\u001b[0;32m----> 2\u001b[0;31m \u001b[0mprint\u001b[0m\u001b[0;34m(\u001b[0m\u001b[0mD\u001b[0m\u001b[0;34m[\u001b[0m\u001b[0;36m3\u001b[0m\u001b[0;34m]\u001b[0m\u001b[0;34m)\u001b[0m\u001b[0;34m\u001b[0m\u001b[0;34m\u001b[0m\u001b[0m\n\u001b[0m\u001b[1;32m      3\u001b[0m \u001b[0;31m#keys ,cannot be duplicate,keys shoukd be unique\u001b[0m\u001b[0;34m\u001b[0m\u001b[0;34m\u001b[0m\u001b[0m\n\u001b[1;32m      4\u001b[0m \u001b[0;31m#integer\u001b[0m\u001b[0;34m\u001b[0m\u001b[0;34m\u001b[0m\u001b[0m\n\u001b[1;32m      5\u001b[0m \u001b[0;31m#str\u001b[0m\u001b[0;34m\u001b[0m\u001b[0;34m\u001b[0m\u001b[0m\n",
            "\u001b[0;31mKeyError\u001b[0m: 3"
          ]
        }
      ]
    },
    {
      "cell_type": "markdown",
      "source": [
        "6.How to check if a key is present in a dictionary?"
      ],
      "metadata": {
        "id": "qOhrZG2PI11-"
      }
    },
    {
      "cell_type": "code",
      "source": [
        "D = {'Babu':14, 'Babu':15, 'Kavita':16}\n",
        "print(D)\n",
        "if 'Babu' in D:\n",
        "    print(D['Babu'])"
      ],
      "metadata": {
        "colab": {
          "base_uri": "https://localhost:8080/"
        },
        "id": "01Sn-mryIbws",
        "outputId": "13bcca79-726b-4da1-eef9-f81636c41312"
      },
      "execution_count": null,
      "outputs": [
        {
          "output_type": "stream",
          "name": "stdout",
          "text": [
            "{'Babu': 15, 'Kavita': 16}\n",
            "15\n"
          ]
        }
      ]
    },
    {
      "cell_type": "markdown",
      "source": [
        "7.How to delete a key-value pair from a dictionary?"
      ],
      "metadata": {
        "id": "NNxAb8fwJGKe"
      }
    },
    {
      "cell_type": "code",
      "source": [
        "D = {'Amritha':14, 'Babu':15, 'Kavita':16}\n",
        "del D['Amritha'],D['Babu']\n",
        "print(D)"
      ],
      "metadata": {
        "colab": {
          "base_uri": "https://localhost:8080/"
        },
        "id": "a0aSXPAbJHnd",
        "outputId": "6198dd97-b34b-41d8-ae82-9ef5bb87d998"
      },
      "execution_count": null,
      "outputs": [
        {
          "output_type": "stream",
          "name": "stdout",
          "text": [
            "{'Kavita': 16}\n"
          ]
        }
      ]
    },
    {
      "cell_type": "code",
      "source": [
        "D = {'Amritha':14, 'Babu':15, 'Kavita':16}\n",
        "D.pop('Babu')  # return the value that it deleted\n",
        "#D.popitem() #last one\n",
        "print(D)"
      ],
      "metadata": {
        "colab": {
          "base_uri": "https://localhost:8080/"
        },
        "id": "TIfi3nzIKeXS",
        "outputId": "9a4a75a3-316c-4f40-fc7e-4120a080b315"
      },
      "execution_count": null,
      "outputs": [
        {
          "output_type": "stream",
          "name": "stdout",
          "text": [
            "{'Amritha': 14, 'Kavita': 16}\n"
          ]
        }
      ]
    },
    {
      "cell_type": "markdown",
      "source": [
        "8.How to iterate through the keys of a dictionary?"
      ],
      "metadata": {
        "id": "xK4FqAzbKfD2"
      }
    },
    {
      "cell_type": "code",
      "source": [
        "D = {'Amritha':14, 'Babu':15, 'Kavita':16}\n",
        "# print(list(D.keys()))\n",
        "# print(list(D.values()))\n",
        "# print(list(D.items()))\n",
        "for key in D:\n",
        "    print(key)\n",
        "for key in D.keys():\n",
        "    print(key)\n",
        "\n",
        "\n"
      ],
      "metadata": {
        "colab": {
          "base_uri": "https://localhost:8080/"
        },
        "id": "LCodPC4VKi54",
        "outputId": "531f2d04-499c-4400-d6d2-ee1d830ecb57"
      },
      "execution_count": null,
      "outputs": [
        {
          "output_type": "stream",
          "name": "stdout",
          "text": [
            "Amritha\n",
            "Babu\n",
            "Kavita\n",
            "Amritha\n",
            "Babu\n",
            "Kavita\n"
          ]
        }
      ]
    },
    {
      "cell_type": "markdown",
      "source": [
        "9.How to iterate through the values  of a dictionary?\n"
      ],
      "metadata": {
        "id": "eU7t84zRKvIN"
      }
    },
    {
      "cell_type": "code",
      "source": [
        "D = {'Amritha':14, 'Babu':15, 'Kavita':16}\n",
        "for key in D:\n",
        "    print(D[key])\n",
        "\n",
        "for key in D.keys():\n",
        "    print(D[key])"
      ],
      "metadata": {
        "colab": {
          "base_uri": "https://localhost:8080/"
        },
        "id": "HsfSNTecK4Q_",
        "outputId": "25e4d0cd-7dbf-4418-e799-5afd85f01cde"
      },
      "execution_count": null,
      "outputs": [
        {
          "output_type": "stream",
          "name": "stdout",
          "text": [
            "14\n",
            "15\n",
            "16\n",
            "14\n",
            "15\n",
            "16\n"
          ]
        }
      ]
    },
    {
      "cell_type": "markdown",
      "source": [
        "10.How to iterate through the key value pairs\n",
        " of a dictionary?\n"
      ],
      "metadata": {
        "id": "QI7TorIxLU-O"
      }
    },
    {
      "cell_type": "code",
      "source": [
        "D = {'Amritha':14, 'Babu':15, 'Kavita':16}\n",
        "print(D.items())\n",
        "for item in D.items():\n",
        "    print(item)\n",
        "del D\n",
        "print(D)\n",
        "\n"
      ],
      "metadata": {
        "colab": {
          "base_uri": "https://localhost:8080/",
          "height": 270
        },
        "id": "-tqGBBqyLimj",
        "outputId": "a109bc0c-1aae-478a-86a8-c86073fc323c"
      },
      "execution_count": null,
      "outputs": [
        {
          "output_type": "stream",
          "name": "stdout",
          "text": [
            "dict_items([('Amritha', 14), ('Babu', 15), ('Kavita', 16)])\n",
            "('Amritha', 14)\n",
            "('Babu', 15)\n",
            "('Kavita', 16)\n"
          ]
        },
        {
          "output_type": "error",
          "ename": "NameError",
          "evalue": "name 'D' is not defined",
          "traceback": [
            "\u001b[0;31m---------------------------------------------------------------------------\u001b[0m",
            "\u001b[0;31mNameError\u001b[0m                                 Traceback (most recent call last)",
            "\u001b[0;32m<ipython-input-84-f7eb6e694486>\u001b[0m in \u001b[0;36m<cell line: 6>\u001b[0;34m()\u001b[0m\n\u001b[1;32m      4\u001b[0m     \u001b[0mprint\u001b[0m\u001b[0;34m(\u001b[0m\u001b[0mitem\u001b[0m\u001b[0;34m)\u001b[0m\u001b[0;34m\u001b[0m\u001b[0;34m\u001b[0m\u001b[0m\n\u001b[1;32m      5\u001b[0m \u001b[0;32mdel\u001b[0m \u001b[0mD\u001b[0m\u001b[0;34m\u001b[0m\u001b[0;34m\u001b[0m\u001b[0m\n\u001b[0;32m----> 6\u001b[0;31m \u001b[0mprint\u001b[0m\u001b[0;34m(\u001b[0m\u001b[0mD\u001b[0m\u001b[0;34m)\u001b[0m\u001b[0;34m\u001b[0m\u001b[0;34m\u001b[0m\u001b[0m\n\u001b[0m\u001b[1;32m      7\u001b[0m \u001b[0;34m\u001b[0m\u001b[0m\n",
            "\u001b[0;31mNameError\u001b[0m: name 'D' is not defined"
          ]
        }
      ]
    },
    {
      "cell_type": "markdown",
      "source": [
        "11.What types can the keys of the dictionary assume?\n",
        "#immutable ,key should be unique and immutable\n",
        "#tuple\n",
        "#string\n",
        "#integer\n",
        "#float"
      ],
      "metadata": {
        "id": "hNECEtZMLi56"
      }
    },
    {
      "cell_type": "markdown",
      "source": [
        "1.How to create a matrix of numbers?"
      ],
      "metadata": {
        "id": "BgLKntsjOOaD"
      }
    },
    {
      "cell_type": "code",
      "source": [],
      "metadata": {
        "id": "XsgSh_Btxpbl"
      },
      "execution_count": null,
      "outputs": []
    },
    {
      "cell_type": "markdown",
      "source": [
        "2.How to find the dimensions of a matrix?\n"
      ],
      "metadata": {
        "id": "2GN02a9Wxl7q"
      }
    },
    {
      "cell_type": "code",
      "source": [],
      "metadata": {
        "id": "Fitv8DJ1x0Ts"
      },
      "execution_count": null,
      "outputs": []
    },
    {
      "cell_type": "markdown",
      "source": [
        "3.How to add two matrices?"
      ],
      "metadata": {
        "id": "3avBFQAYLwCN"
      }
    },
    {
      "cell_type": "code",
      "source": [
        "# prompt: How to add two matrices?\n",
        "\n",
        "def add_matrices(matrix1, matrix2):\n",
        "    \"\"\"Adds two matrices if they have the same dimensions.\n",
        "\n",
        "    Args:\n",
        "      matrix1: A list of lists representing the first matrix.\n",
        "      matrix2: A list of lists representing the second matrix.\n",
        "\n",
        "    Returns:\n",
        "      A new matrix representing the sum of the two input matrices,\n",
        "      or None if the matrices have incompatible dimensions.\n",
        "    \"\"\"\n",
        "\n",
        "    rows1 = len(matrix1)\n",
        "    cols1 = len(matrix1[0]) if rows1 > 0 else 0\n",
        "    rows2 = len(matrix2)\n",
        "    cols2 = len(matrix2[0]) if rows2 > 0 else 0\n",
        "\n",
        "    if rows1 != rows2 or cols1 != cols2:\n",
        "        print(\"Matrices have incompatible dimensions for addition.\")\n",
        "        return None  # Indicate incompatible dimensions\n",
        "\n",
        "    result_matrix = []\n",
        "    for i in range(rows1):\n",
        "        row = []\n",
        "        for j in range(cols1):\n",
        "            row.append(matrix1[i][j] + matrix2[i][j])\n",
        "        result_matrix.append(row)\n",
        "\n",
        "    return result_matrix"
      ],
      "metadata": {
        "id": "bYfsupnOSQ66"
      },
      "execution_count": null,
      "outputs": []
    },
    {
      "cell_type": "markdown",
      "source": [
        "4.How to accept a matrix as input?"
      ],
      "metadata": {
        "id": "1GaGz1I7ycpL"
      }
    },
    {
      "cell_type": "code",
      "source": [
        "# prompt: .How to accept a matrix as input?\n",
        "\n",
        "def get_matrix_input():\n",
        "    \"\"\"Gets a matrix as input from the user.\"\"\"\n",
        "\n",
        "    rows = int(input(\"Enter the number of rows: \"))\n",
        "    cols = int(input(\"Enter the number of columns: \"))\n",
        "\n",
        "    matrix = []\n",
        "    print(\"Enter the matrix elements row by row:\")\n",
        "    for i in range(rows):\n",
        "        row = []\n",
        "        elements = input(f\"Enter elements for row {i+1} separated by spaces: \").split()\n",
        "        if len(elements) != cols:\n",
        "            print(f\"Error: Expected {cols} elements for row {i+1}, but got {len(elements)}\")\n",
        "            return None # or handle the error differently\n",
        "        for element in elements:\n",
        "            try:\n",
        "                row.append(int(element)) # or float(element) if you want float values\n",
        "            except ValueError:\n",
        "                print(f\"Invalid input: '{element}' is not a number.\")\n",
        "                return None  # or handle the error differently\n",
        "        matrix.append(row)\n",
        "\n",
        "    return matrix\n",
        "\n",
        "# Example usage\n",
        "matrix1 = get_matrix_input()\n",
        "\n",
        "if matrix1:\n",
        "  print(\"Matrix 1:\")\n",
        "  for row in matrix1:\n",
        "    print(row) # Indented this line to be inside the for loop"
      ],
      "metadata": {
        "id": "LSbjatbvUxEK",
        "outputId": "9119fc39-6a69-42cb-bb2e-0c86bdf8dca3",
        "colab": {
          "base_uri": "https://localhost:8080/"
        }
      },
      "execution_count": 6,
      "outputs": [
        {
          "output_type": "stream",
          "name": "stdout",
          "text": [
            "Enter the number of rows: 4\n",
            "Enter the number of columns: 4\n",
            "Enter the matrix elements row by row:\n",
            "Enter elements for row 1 separated by spaces: 2 0 0 0\n",
            "Enter elements for row 2 separated by spaces: 0 2 0 0\n",
            "Enter elements for row 3 separated by spaces: 0 0 2 0\n",
            "Enter elements for row 4 separated by spaces: 0 0 0 2\n",
            "Matrix 1:\n",
            "[2, 0, 0, 0]\n",
            "[0, 2, 0, 0]\n",
            "[0, 0, 2, 0]\n",
            "[0, 0, 0, 2]\n"
          ]
        }
      ]
    },
    {
      "cell_type": "code",
      "source": [
        "import ast\n",
        "\n",
        "def get_matrix_input():\n",
        "    \"\"\"Gets a matrix as input from the user in a single line.\"\"\"\n",
        "    matrix_str = input(\"Enter the matrix as a list of lists (e.g., [[1, 2], [3, 4]]): \")\n",
        "    try:\n",
        "        matrix = ast.literal_eval(matrix_str)\n",
        "        if not isinstance(matrix, list) or not all(isinstance(row, list) for row in matrix):\n",
        "            raise ValueError(\"Invalid input format. Please provide a list of lists.\")\n",
        "        return matrix\n",
        "    except (SyntaxError, ValueError) as e:\n",
        "        print(f\"Invalid input: {e}\")\n",
        "        return None\n",
        "\n",
        "# Example usage\n",
        "matrix = get_matrix_input()\n",
        "\n",
        "if matrix:\n",
        "    print(\"Matrix:\")\n",
        "    for row in matrix:\n",
        "        print(row) # Indented this line to be inside the for loop"
      ],
      "metadata": {
        "id": "epnbuz72Wi3i",
        "outputId": "2605b5cc-8bce-4723-83e6-dc6613e512db",
        "colab": {
          "base_uri": "https://localhost:8080/"
        }
      },
      "execution_count": 10,
      "outputs": [
        {
          "output_type": "stream",
          "name": "stdout",
          "text": [
            "Enter the matrix as a list of lists (e.g., [[1, 2], [3, 4]]): [[2,0,0,0],[0,2,0,0],[0,0,2,0],[0,0,0,2]]\n",
            "Matrix:\n",
            "[2, 0, 0, 0]\n",
            "[0, 2, 0, 0]\n",
            "[0, 0, 2, 0]\n",
            "[0, 0, 0, 2]\n"
          ]
        }
      ]
    },
    {
      "cell_type": "markdown",
      "source": [
        "5.How to print a matrix with comma separated values in each row?"
      ],
      "metadata": {
        "id": "qQIoKOLpcWq4"
      }
    },
    {
      "cell_type": "code",
      "source": [
        "# prompt: How to print a matrix with comma separated values in each row?\n",
        "matrix=[[2,0,0,0],[0,2,0,0],[0,0,2,0],[0,0,0,2]]\n",
        "\n",
        "def print_matrix_comma_separated(matrix):\n",
        "    \"\"\"Prints a matrix with comma-separated values in each row.\"\"\"\n",
        "    for row in matrix:\n",
        "        print(\",\".join(map(str, row)))\n",
        "print_matrix_comma_separated(matrix)"
      ],
      "metadata": {
        "id": "izRifrZLcV00",
        "outputId": "d474fde8-e79e-408b-c4e9-05e874e159bc",
        "colab": {
          "base_uri": "https://localhost:8080/"
        }
      },
      "execution_count": 13,
      "outputs": [
        {
          "output_type": "stream",
          "name": "stdout",
          "text": [
            "2,0,0,0\n",
            "0,2,0,0\n",
            "0,0,2,0\n",
            "0,0,0,2\n"
          ]
        }
      ]
    },
    {
      "cell_type": "code",
      "source": [
        "matrix=[[2,0,0,0],[0,2,0,0],[0,0,2,0],[0,0,0,2]]\n",
        "\n",
        "def print_matrix_comma_separated(matrix):\n",
        "    \"\"\"Prints a matrix with comma-separated values in each row.\"\"\"\n",
        "    for row in matrix:\n",
        "        print(\",\".join(map(str, row)))\n",
        "print_matrix_comma_separated(matrix)"
      ],
      "metadata": {
        "id": "ri5Rh9zqYWRS",
        "outputId": "f026b0c6-47f6-421b-e33f-8bd2d6d3ad70",
        "colab": {
          "base_uri": "https://localhost:8080/"
        }
      },
      "execution_count": 16,
      "outputs": [
        {
          "output_type": "stream",
          "name": "stdout",
          "text": [
            "2,0,0,0\n",
            "0,2,0,0\n",
            "0,0,2,0\n",
            "0,0,0,2\n"
          ]
        }
      ]
    }
  ]
}